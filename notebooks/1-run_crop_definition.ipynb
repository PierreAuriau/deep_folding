{
 "cells": [
  {
   "cell_type": "markdown",
   "metadata": {},
   "source": [
    "# Determines bounding boxes for each sulcus"
   ]
  },
  {
   "cell_type": "markdown",
   "metadata": {},
   "source": [
    "This notebook determines bounding box around a sulcus. It uses a supervised database, in which each sulcus has been manually labelled.\n",
    "\n",
    "The notebook illustrates the different ways in which the program can be called:"
   ]
  },
  {
   "cell_type": "markdown",
   "metadata": {},
   "source": [
    "# Imports"
   ]
  },
  {
   "cell_type": "code",
   "execution_count": 1,
   "metadata": {},
   "outputs": [],
   "source": [
    "import sys\n",
    "import os\n",
    "import json\n",
    "import inspect"
   ]
  },
  {
   "cell_type": "markdown",
   "metadata": {},
   "source": [
    "The following line permits to import deep_folding even if this notebook is executed from the notebooks subfolder (and no install has been launched):\n",
    "\n",
    " /deep_folding/__init__.py"
   ]
  },
  {
   "cell_type": "code",
   "execution_count": 2,
   "metadata": {},
   "outputs": [
    {
     "name": "stdout",
     "output_type": "stream",
     "text": [
      "/host/volatile/jc225751/Runs/30_clean_deep_folding/Program/deep_folding/deep_folding/__init__.py\n"
     ]
    }
   ],
   "source": [
    "# Adds this in case you have not launched pip install -e . (not recommended)\n",
    "# sys.path.append((os.path.abspath('../')))\n",
    "import deep_folding\n",
    "print(inspect.getfile(deep_folding))"
   ]
  },
  {
   "cell_type": "markdown",
   "metadata": {},
   "source": [
    "# User-specific variables"
   ]
  },
  {
   "cell_type": "code",
   "execution_count": 3,
   "metadata": {},
   "outputs": [],
   "source": [
    "sulcus = 'S.T.s.ter.asc.ant.'"
   ]
  },
  {
   "cell_type": "code",
   "execution_count": 4,
   "metadata": {},
   "outputs": [],
   "source": [
    "side = 'L'"
   ]
  },
  {
   "cell_type": "code",
   "execution_count": 24,
   "metadata": {},
   "outputs": [],
   "source": [
    "out_voxel_size = 1"
   ]
  },
  {
   "cell_type": "markdown",
   "metadata": {},
   "source": [
    "We now assign path names and other user-specific variables."
   ]
  },
  {
   "cell_type": "markdown",
   "metadata": {},
   "source": [
    "The source directory is where the database lies. It contains the morphologist analysis subfolder ANALYSIS/3T_morphologist\n"
   ]
  },
  {
   "cell_type": "code",
   "execution_count": 5,
   "metadata": {},
   "outputs": [
    {
     "name": "stdout",
     "output_type": "stream",
     "text": [
      "src_dir = /host/volatile/jc225751/Runs/30_clean_deep_folding/Program/deep_folding/data/source/supervised\n"
     ]
    }
   ],
   "source": [
    "src_dir = os.path.join(os.getcwd(), '../data/source/supervised')\n",
    "src_dir = os.path.abspath(src_dir)\n",
    "print((\"src_dir = \" + src_dir))"
   ]
  },
  {
   "cell_type": "markdown",
   "metadata": {},
   "source": [
    "The target directory bbox_dir is where the files will be saved"
   ]
  },
  {
   "cell_type": "code",
   "execution_count": 6,
   "metadata": {},
   "outputs": [
    {
     "name": "stdout",
     "output_type": "stream",
     "text": [
      "bbox_dir = /host/volatile/jc225751/Runs/30_clean_deep_folding/Program/deep_folding/data/target/bbox\n"
     ]
    }
   ],
   "source": [
    "bbox_dir = os.path.join(os.getcwd(), '../data/target/bbox')\n",
    "bbox_dir = os.path.abspath(bbox_dir)\n",
    "print((\"bbox_dir = \" + bbox_dir))"
   ]
  },
  {
   "cell_type": "code",
   "execution_count": 7,
   "metadata": {},
   "outputs": [
    {
     "name": "stdout",
     "output_type": "stream",
     "text": [
      "ref_dir = /host/volatile/jc225751/Runs/30_clean_deep_folding/Program/deep_folding/data/reference/bbox\n"
     ]
    }
   ],
   "source": [
    "ref_dir = os.path.join(os.getcwd(), '../data/reference/bbox')\n",
    "ref_dir = os.path.abspath(ref_dir)\n",
    "print((\"ref_dir = \" + ref_dir))"
   ]
  },
  {
   "cell_type": "code",
   "execution_count": 8,
   "metadata": {},
   "outputs": [
    {
     "name": "stdout",
     "output_type": "stream",
     "text": [
      "['/usr/local/lib/python3.6/dist-packages/ipykernel_launcher.py', '-f', '/casa/home/.local/share/jupyter/runtime/kernel-e0274f3e-7bc8-471d-81ef-9f95848c8b63.json']\n"
     ]
    }
   ],
   "source": [
    "print((sys.argv))"
   ]
  },
  {
   "cell_type": "markdown",
   "metadata": {},
   "source": [
    "# Illustration of main program uses"
   ]
  },
  {
   "cell_type": "markdown",
   "metadata": {},
   "source": [
    "We will first use the program with no effect by using number of subjects set to 0, or by calling the help function"
   ]
  },
  {
   "cell_type": "markdown",
   "metadata": {},
   "source": [
    "### Using external calls"
   ]
  },
  {
   "cell_type": "code",
   "execution_count": 9,
   "metadata": {},
   "outputs": [],
   "source": [
    "!python ../deep_folding/anatomist_tools/crop_definition.py -n 0"
   ]
  },
  {
   "cell_type": "code",
   "execution_count": 10,
   "metadata": {},
   "outputs": [
    {
     "name": "stdout",
     "output_type": "stream",
     "text": [
      "usage: mask.py [-h] [-s SRC_DIR [SRC_DIR ...]] [-t BBOX_DIR] [-m MASK_DIR]\r\n",
      "               [-u SULCUS] [-i SIDE] [-p PATH_TO_GRAPH] [-n NB_SUBJECTS]\r\n",
      "               [-v OUT_VOXEL_SIZE]\r\n",
      "\r\n",
      "Computes mask and bounding box around the named sulcus\r\n",
      "\r\n",
      "optional arguments:\r\n",
      "  -h, --help            show this help message and exit\r\n",
      "  -s SRC_DIR [SRC_DIR ...], --src_dir SRC_DIR [SRC_DIR ...]\r\n",
      "                        Source directory where the MRI data lies. If there are\r\n",
      "                        several directories, add all directories one after the\r\n",
      "                        other. Example: -s DIR_1 DIR_2. Default is :\r\n",
      "                        /neurospin/dico/data/bv_databases/human/pclean/all\r\n",
      "  -t BBOX_DIR, --bbox_dir BBOX_DIR\r\n",
      "                        Target directory where to store the output bbox json\r\n",
      "                        files. Default is :\r\n",
      "                        /neurospin/dico/data/deep_folding/test/bbox\r\n",
      "  -m MASK_DIR, --mask_dir MASK_DIR\r\n",
      "                        Target directory where to store the output mask files.\r\n",
      "                        Default is :\r\n",
      "                        /neurospin/dico/data/deep_folding/test/mask\r\n",
      "  -u SULCUS, --sulcus SULCUS\r\n",
      "                        Sulcus name around which we determine the bounding\r\n",
      "                        box. Default is : S.T.s.ter.asc.ant.\r\n",
      "  -i SIDE, --side SIDE  Hemisphere side. Default is : L\r\n",
      "  -p PATH_TO_GRAPH, --path_to_graph PATH_TO_GRAPH\r\n",
      "                        Relative path to manually labelled graph. Default is\r\n",
      "                        t1mri/t1/default_analysis/folds/3.3/base2018_manual\r\n",
      "  -n NB_SUBJECTS, --nb_subjects NB_SUBJECTS\r\n",
      "                        Number of subjects to take into account, or 'all'. 0\r\n",
      "                        subject is allowed, for debug purpose. Default is :\r\n",
      "                        all\r\n",
      "  -v OUT_VOXEL_SIZE, --out_voxel_size OUT_VOXEL_SIZE\r\n",
      "                        Voxel size of of bounding box. Default is : None\r\n"
     ]
    }
   ],
   "source": [
    "!python ../deep_folding/anatomist_tools/crop_definition.py --help"
   ]
  },
  {
   "cell_type": "markdown",
   "metadata": {},
   "source": [
    "### By using the main function call"
   ]
  },
  {
   "cell_type": "code",
   "execution_count": 14,
   "metadata": {},
   "outputs": [
    {
     "name": "stdout",
     "output_type": "stream",
     "text": [
      "/host/volatile/jc225751/Runs/30_clean_deep_folding/Program/deep_folding/deep_folding/anatomist_tools/crop_definition.py\n"
     ]
    }
   ],
   "source": [
    "from deep_folding.anatomist_tools import crop_definition\n",
    "print(inspect.getfile(crop_definition))"
   ]
  },
  {
   "cell_type": "code",
   "execution_count": 15,
   "metadata": {},
   "outputs": [],
   "source": [
    "args = \"-n 0\"\n",
    "argv = args.split(' ')"
   ]
  },
  {
   "cell_type": "code",
   "execution_count": 16,
   "metadata": {},
   "outputs": [],
   "source": [
    "crop_definition.main(argv)"
   ]
  },
  {
   "cell_type": "code",
   "execution_count": 17,
   "metadata": {},
   "outputs": [],
   "source": [
    "args = \"--help\"\n",
    "argv = args.split(' ')"
   ]
  },
  {
   "cell_type": "code",
   "execution_count": 18,
   "metadata": {},
   "outputs": [
    {
     "name": "stdout",
     "output_type": "stream",
     "text": [
      "usage: mask.py [-h] [-s SRC_DIR [SRC_DIR ...]] [-t BBOX_DIR] [-m MASK_DIR]\n",
      "               [-u SULCUS] [-i SIDE] [-p PATH_TO_GRAPH] [-n NB_SUBJECTS]\n",
      "               [-v OUT_VOXEL_SIZE]\n",
      "\n",
      "Computes mask and bounding box around the named sulcus\n",
      "\n",
      "optional arguments:\n",
      "  -h, --help            show this help message and exit\n",
      "  -s SRC_DIR [SRC_DIR ...], --src_dir SRC_DIR [SRC_DIR ...]\n",
      "                        Source directory where the MRI data lies. If there are\n",
      "                        several directories, add all directories one after the\n",
      "                        other. Example: -s DIR_1 DIR_2. Default is :\n",
      "                        /neurospin/dico/data/bv_databases/human/pclean/all\n",
      "  -t BBOX_DIR, --bbox_dir BBOX_DIR\n",
      "                        Target directory where to store the output bbox json\n",
      "                        files. Default is :\n",
      "                        /neurospin/dico/data/deep_folding/test/bbox\n",
      "  -m MASK_DIR, --mask_dir MASK_DIR\n",
      "                        Target directory where to store the output mask files.\n",
      "                        Default is :\n",
      "                        /neurospin/dico/data/deep_folding/test/mask\n",
      "  -u SULCUS, --sulcus SULCUS\n",
      "                        Sulcus name around which we determine the bounding\n",
      "                        box. Default is : S.T.s.ter.asc.ant.\n",
      "  -i SIDE, --side SIDE  Hemisphere side. Default is : L\n",
      "  -p PATH_TO_GRAPH, --path_to_graph PATH_TO_GRAPH\n",
      "                        Relative path to manually labelled graph. Default is\n",
      "                        t1mri/t1/default_analysis/folds/3.3/base2018_manual\n",
      "  -n NB_SUBJECTS, --nb_subjects NB_SUBJECTS\n",
      "                        Number of subjects to take into account, or 'all'. 0\n",
      "                        subject is allowed, for debug purpose. Default is :\n",
      "                        all\n",
      "  -v OUT_VOXEL_SIZE, --out_voxel_size OUT_VOXEL_SIZE\n",
      "                        Voxel size of of bounding box. Default is : None\n"
     ]
    }
   ],
   "source": [
    "crop_definition.main(argv)"
   ]
  },
  {
   "cell_type": "markdown",
   "metadata": {},
   "source": [
    "### By using the API function call"
   ]
  },
  {
   "cell_type": "code",
   "execution_count": 26,
   "metadata": {},
   "outputs": [
    {
     "data": {
      "text/plain": [
       "(0, 0, <soma.aims.Volume_FLOAT at 0x7f94dcb3dca8>)"
      ]
     },
     "execution_count": 26,
     "metadata": {},
     "output_type": "execute_result"
    }
   ],
   "source": [
    "crop_definition.bounding_box(src_dir=src_dir,\n",
    "                          bbox_dir=bbox_dir,\n",
    "                          sulcus=sulcus,\n",
    "                          side=side,\n",
    "                          out_voxel_size=out_voxel_size,\n",
    "                          number_subjects=0)"
   ]
  },
  {
   "cell_type": "markdown",
   "metadata": {},
   "source": [
    "# Test example"
   ]
  },
  {
   "cell_type": "code",
   "execution_count": 49,
   "metadata": {},
   "outputs": [
    {
     "name": "stdout",
     "output_type": "stream",
     "text": [
      "{'subject': 'sujet01', 'side': 'L', 'dir': '/host/volatile/jc225751/Runs/30_clean_deep_folding/Program/deep_folding/data/source/supervised', 'graph_file': 'sujet01/t1mri/t1/default_analysis/folds/3.3/base2018_manual/Lsujet01*.arg'}\n",
      "/neurospin/dico/data/deep_folding/test/mask/L/S.T.s.ter.asc.ant._left.nii.gz\n",
      "{'subject': 'sujet01', 'side': 'L', 'dir': '/host/volatile/jc225751/Runs/30_clean_deep_folding/Program/deep_folding/data/source/supervised', 'graph_file': 'sujet01/t1mri/t1/default_analysis/folds/3.3/base2018_manual/Lsujet01*.arg'}\n",
      "box (MNI 152) min: [129.86412145 151.36165187  60.7140839 ]\n",
      "box (MNI 152) max: [154.77748948 168.99963329 107.75398868]\n",
      "box (AIMS Talairach) min: [34.063088432523074, 61.7344393738619, -54.79035146878189]\n",
      "box (AIMS Talairach) max: [60.66335687670315, 75.71952983264742, -4.598121985840422]\n",
      "box (voxel): min =  [130 151  61]\n",
      "box (voxel): max =  [155 169 108]\n"
     ]
    },
    {
     "data": {
      "text/plain": [
       "(array([130, 151,  61]),\n",
       " array([155, 169, 108]),\n",
       " <soma.aims.Volume_FLOAT at 0x7f94dcb14678>)"
      ]
     },
     "execution_count": 49,
     "metadata": {},
     "output_type": "execute_result"
    }
   ],
   "source": [
    "crop_definition.bounding_box(src_dir=src_dir,\n",
    "                          bbox_dir=bbox_dir,\n",
    "                          sulcus=sulcus,\n",
    "                          side=side,\n",
    "                          number_subjects=crop_definition._ALL_SUBJECTS,\n",
    "                          out_voxel_size=out_voxel_size)"
   ]
  },
  {
   "cell_type": "markdown",
   "metadata": {},
   "source": [
    "# Result analysis"
   ]
  },
  {
   "cell_type": "markdown",
   "metadata": {},
   "source": [
    "Prints the list of files of the target directory"
   ]
  },
  {
   "cell_type": "code",
   "execution_count": 50,
   "metadata": {},
   "outputs": [
    {
     "name": "stdout",
     "output_type": "stream",
     "text": [
      "S.T.s.ter.asc.ant._left.json\n"
     ]
    }
   ],
   "source": [
    "bbox_dir_side = os.path.join(bbox_dir, side)\n",
    "print(('\\n'.join(os.listdir(bbox_dir_side))))"
   ]
  },
  {
   "cell_type": "markdown",
   "metadata": {},
   "source": [
    "Expected output (we read the bounding_box file from the reference directory):"
   ]
  },
  {
   "cell_type": "code",
   "execution_count": 51,
   "metadata": {},
   "outputs": [
    {
     "name": "stdout",
     "output_type": "stream",
     "text": [
      "ref_file =  S.T.s.ter.asc.ant._left.json \n",
      "\n",
      "{\n",
      "    \"bbmax_AIMS_Talairach\": [\n",
      "        60.66335687670315,\n",
      "        75.71952983264742,\n",
      "        -4.598121985840422\n",
      "    ],\n",
      "    \"bbmax_MNI152\": [\n",
      "        154.77748948253384,\n",
      "        168.99963329321318,\n",
      "        107.75398867525428\n",
      "    ],\n",
      "    \"bbmax_voxel\": [\n",
      "        155,\n",
      "        169,\n",
      "        108\n",
      "    ],\n",
      "    \"bbmin_AIMS_Talairach\": [\n",
      "        34.063088432523074,\n",
      "        61.7344393738619,\n",
      "        -54.79035146878189\n",
      "    ],\n",
      "    \"bbmin_MNI152\": [\n",
      "        129.86412144733617,\n",
      "        151.3616518724251,\n",
      "        60.714083900903006\n",
      "    ],\n",
      "    \"bbmin_voxel\": [\n",
      "        130,\n",
      "        151,\n",
      "        61\n",
      "    ],\n",
      "    \"bbox_dir\": \"/host/volatile/jc225751/Runs/30_clean_deep_folding/Program/deep_folding/data/target/bbox\",\n",
      "    \"date\": \"2022-01-12 11:11:54\",\n",
      "    \"git_sha\": \"d6adf051fa8eab17cc2be3942ad05e4e15341cb8\",\n",
      "    \"is_git\": true,\n",
      "    \"nb_subjects\": 1,\n",
      "    \"out_voxel_size\": 1,\n",
      "    \"repo_working_dir\": \"/host/volatile/jc225751/Runs/30_clean_deep_folding/Program/deep_folding\",\n",
      "    \"side\": \"L\",\n",
      "    \"src_dir\": [\n",
      "        \"/host/volatile/jc225751/Runs/30_clean_deep_folding/Program/deep_folding/data/source/supervised\"\n",
      "    ],\n",
      "    \"sulcus\": \"S.T.s.ter.asc.ant._left\",\n",
      "    \"timestamp\": 1641982314.3755722\n",
      "}\n"
     ]
    }
   ],
   "source": [
    "ref_dir_side = os.path.join(ref_dir, side)\n",
    "ref_file = os.listdir(ref_dir_side)[0]\n",
    "print(\"ref_file = \", ref_file, '\\n')\n",
    "with open(os.path.join(ref_dir_side,ref_file), 'r') as f:\n",
    "    data_ref = json.load(f)\n",
    "    print((json.dumps(data_ref, sort_keys=True, indent=4)))\n",
    "    box_ref = {k: data_ref[k] for k in ('bbmin_voxel', 'bbmax_voxel', 'bbmin_MNI152', 'bbmax_MNI152', 'bbmin_AIMS_Talairach', 'bbmax_AIMS_Talairach')}"
   ]
  },
  {
   "cell_type": "markdown",
   "metadata": {},
   "source": [
    "Obtained output (we read the bounding_box file from the target directory):"
   ]
  },
  {
   "cell_type": "code",
   "execution_count": 52,
   "metadata": {
    "scrolled": true
   },
   "outputs": [
    {
     "name": "stdout",
     "output_type": "stream",
     "text": [
      "bbox_file =  S.T.s.ter.asc.ant._left.json \n",
      "\n",
      "{\n",
      "    \"bbmax_AIMS_Talairach\": [\n",
      "        60.66335687670315,\n",
      "        75.71952983264742,\n",
      "        -4.598121985840422\n",
      "    ],\n",
      "    \"bbmax_MNI152\": [\n",
      "        154.77748948253384,\n",
      "        168.99963329321318,\n",
      "        107.75398867525428\n",
      "    ],\n",
      "    \"bbmax_voxel\": [\n",
      "        155,\n",
      "        169,\n",
      "        108\n",
      "    ],\n",
      "    \"bbmin_AIMS_Talairach\": [\n",
      "        34.063088432523074,\n",
      "        61.7344393738619,\n",
      "        -54.79035146878189\n",
      "    ],\n",
      "    \"bbmin_MNI152\": [\n",
      "        129.86412144733617,\n",
      "        151.3616518724251,\n",
      "        60.714083900903006\n",
      "    ],\n",
      "    \"bbmin_voxel\": [\n",
      "        130,\n",
      "        151,\n",
      "        61\n",
      "    ],\n",
      "    \"bbox_dir\": \"/host/volatile/jc225751/Runs/30_clean_deep_folding/Program/deep_folding/data/target/bbox\",\n",
      "    \"date\": \"2022-01-12 11:19:22\",\n",
      "    \"git_sha\": \"d6adf051fa8eab17cc2be3942ad05e4e15341cb8\",\n",
      "    \"is_git\": true,\n",
      "    \"nb_subjects\": 1,\n",
      "    \"out_voxel_size\": 1,\n",
      "    \"repo_working_dir\": \"/host/volatile/jc225751/Runs/30_clean_deep_folding/Program/deep_folding\",\n",
      "    \"side\": \"L\",\n",
      "    \"src_dir\": [\n",
      "        \"/host/volatile/jc225751/Runs/30_clean_deep_folding/Program/deep_folding/data/source/supervised\"\n",
      "    ],\n",
      "    \"sulcus\": \"S.T.s.ter.asc.ant._left\",\n",
      "    \"timestamp\": 1641982762.2476296\n",
      "}\n"
     ]
    }
   ],
   "source": [
    "bbox_file = os.listdir(bbox_dir_side)[0]\n",
    "print(\"bbox_file = \", bbox_file, '\\n')\n",
    "with open(os.path.join(bbox_dir_side,bbox_file), 'r') as f:\n",
    "    data_target = json.load(f)\n",
    "    print((json.dumps(data_target, sort_keys=True, indent=4)))\n",
    "    box_target = {k: data_target[k] for k in ('bbmin_voxel', 'bbmax_voxel', 'bbmin_MNI152', 'bbmax_MNI152', 'bbmin_AIMS_Talairach', 'bbmax_AIMS_Talairach')}"
   ]
  },
  {
   "cell_type": "code",
   "execution_count": 53,
   "metadata": {},
   "outputs": [
    {
     "data": {
      "text/plain": [
       "{'bbmin_voxel': [130, 151, 61],\n",
       " 'bbmax_voxel': [155, 169, 108],\n",
       " 'bbmin_MNI152': [129.86412144733617, 151.3616518724251, 60.714083900903006],\n",
       " 'bbmax_MNI152': [154.77748948253384, 168.99963329321318, 107.75398867525428],\n",
       " 'bbmin_AIMS_Talairach': [34.063088432523074,\n",
       "  61.7344393738619,\n",
       "  -54.79035146878189],\n",
       " 'bbmax_AIMS_Talairach': [60.66335687670315,\n",
       "  75.71952983264742,\n",
       "  -4.598121985840422]}"
      ]
     },
     "execution_count": 53,
     "metadata": {},
     "output_type": "execute_result"
    }
   ],
   "source": [
    "box_ref"
   ]
  },
  {
   "cell_type": "code",
   "execution_count": 54,
   "metadata": {},
   "outputs": [
    {
     "data": {
      "text/plain": [
       "{'bbmin_voxel': [130, 151, 61],\n",
       " 'bbmax_voxel': [155, 169, 108],\n",
       " 'bbmin_MNI152': [129.86412144733617, 151.3616518724251, 60.714083900903006],\n",
       " 'bbmax_MNI152': [154.77748948253384, 168.99963329321318, 107.75398867525428],\n",
       " 'bbmin_AIMS_Talairach': [34.063088432523074,\n",
       "  61.7344393738619,\n",
       "  -54.79035146878189],\n",
       " 'bbmax_AIMS_Talairach': [60.66335687670315,\n",
       "  75.71952983264742,\n",
       "  -4.598121985840422]}"
      ]
     },
     "execution_count": 54,
     "metadata": {},
     "output_type": "execute_result"
    }
   ],
   "source": [
    "box_target"
   ]
  },
  {
   "cell_type": "code",
   "execution_count": 55,
   "metadata": {},
   "outputs": [
    {
     "data": {
      "text/plain": [
       "True"
      ]
     },
     "execution_count": 55,
     "metadata": {},
     "output_type": "execute_result"
    }
   ],
   "source": [
    "box_target == box_ref"
   ]
  },
  {
   "cell_type": "code",
   "execution_count": null,
   "metadata": {},
   "outputs": [],
   "source": []
  },
  {
   "cell_type": "code",
   "execution_count": null,
   "metadata": {},
   "outputs": [],
   "source": []
  }
 ],
 "metadata": {
  "kernelspec": {
   "display_name": "Run_30_python3",
   "language": "python",
   "name": "run_30_python3"
  },
  "language_info": {
   "codemirror_mode": {
    "name": "ipython",
    "version": 3
   },
   "file_extension": ".py",
   "mimetype": "text/x-python",
   "name": "python",
   "nbconvert_exporter": "python",
   "pygments_lexer": "ipython3",
   "version": "3.6.9"
  },
  "metadata": {
   "interpreter": {
    "hash": "48b4ceb43fcd227fa9631603fe4213f72a454aacd235a8d4a85c8c2d31727ea2"
   }
  }
 },
 "nbformat": 4,
 "nbformat_minor": 2
}
