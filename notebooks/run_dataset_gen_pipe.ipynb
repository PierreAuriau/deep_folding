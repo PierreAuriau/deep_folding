{
 "cells": [
  {
   "cell_type": "markdown",
   "metadata": {},
   "source": [
    "# Generates crops ad pickle file using dataset_gen_pipe"
   ]
  },
  {
   "cell_type": "markdown",
   "metadata": {},
   "source": [
    "This notebook crops images according to bounding box coordinates (one per sulcus)"
   ]
  },
  {
   "cell_type": "markdown",
   "metadata": {},
   "source": [
    "# Imports"
   ]
  },
  {
   "cell_type": "code",
   "execution_count": 1,
   "metadata": {},
   "outputs": [
    {
     "name": "stdout",
     "output_type": "stream",
     "text": [
      "3.6.9 (default, Jan 26 2021, 15:33:00) \n",
      "[GCC 8.4.0]\n"
     ]
    }
   ],
   "source": [
    "import sys\n",
    "import os\n",
    "import glob\n",
    "import json\n",
    "import numpy as np\n",
    "import pandas as pd\n",
    "import matplotlib.pyplot as plt\n",
    "\n",
    "# Import the aims module\n",
    "from soma import aims\n",
    "# the brainplot package\n",
    "import colorado as cld\n",
    "\n",
    "print((sys.version))"
   ]
  },
  {
   "cell_type": "code",
   "execution_count": 2,
   "metadata": {},
   "outputs": [
    {
     "name": "stdout",
     "output_type": "stream",
     "text": [
      "VirtualGL found.\n",
      "global modules: /casa/host/build/share/anatomist-5.1/python_plugins\n",
      "home   modules: /casa/home/.anatomist/python_plugins\n",
      "loading module meshsplit\n",
      "loading module palettecontrols\n",
      "loading module volumepalettes\n",
      "loading module save_resampled\n",
      "loading module profilewindow\n",
      "loading module anacontrolmenu\n",
      "loading module foldsplit\n",
      "loading module simple_controls\n",
      "Anatomist started.\n",
      "loading module histogram\n",
      "loading module ana_image_math\n",
      "loading module modelGraphs\n",
      "loading module paletteViewer\n",
      "loading module bsa_proba\n",
      "loading module gradientpalette\n",
      "loading module selection\n",
      "all python modules loaded\n",
      "Anatomist started.\n",
      "{'xvfb': <subprocess.Popen object at 0x7f4299707128>, 'original_display': ':1', 'display': 2, 'glx': 2, 'virtualgl': None, 'headless': True, 'mesa': False, 'qtapp': None}\n"
     ]
    }
   ],
   "source": [
    "import anatomist.notebook as ana\n",
    "a = ana.Anatomist()\n",
    "print(a.headless_info.__dict__)"
   ]
  },
  {
   "cell_type": "markdown",
   "metadata": {},
   "source": [
    "The following line permits to import deep_folding even if this notebook is executed from the notebooks subfolder (and no install has been launched):\n",
    "\n",
    " /notebooks/use_transform.ipynb  \n",
    " /deep_folding/__init__.py"
   ]
  },
  {
   "cell_type": "code",
   "execution_count": 3,
   "metadata": {},
   "outputs": [
    {
     "name": "stdout",
     "output_type": "stream",
     "text": [
      "/volatile/jc225751/Runs/19_generate_crops/Program/deep_folding/deep_folding\n"
     ]
    }
   ],
   "source": [
    "sys.path.append((os.path.abspath('../')))\n",
    "import deep_folding\n",
    "print((os.path.dirname(deep_folding.__file__)))"
   ]
  },
  {
   "cell_type": "code",
   "execution_count": 4,
   "metadata": {},
   "outputs": [],
   "source": [
    "_ALL_SUBJECTS = -1"
   ]
  },
  {
   "cell_type": "markdown",
   "metadata": {},
   "source": [
    "# User-specific variables"
   ]
  },
  {
   "cell_type": "code",
   "execution_count": 5,
   "metadata": {},
   "outputs": [],
   "source": [
    "sulcus = 'S.T.s.ter.asc.ant._left'"
   ]
  },
  {
   "cell_type": "code",
   "execution_count": 6,
   "metadata": {},
   "outputs": [],
   "source": [
    "side = 'L'"
   ]
  },
  {
   "cell_type": "markdown",
   "metadata": {},
   "source": [
    "We now assign path names and other user-specific variables."
   ]
  },
  {
   "cell_type": "markdown",
   "metadata": {},
   "source": [
    "The source directory is where the database lies. It contains the morphologist analysis subfolder ANALYSIS/3T_morphologist\n"
   ]
  },
  {
   "cell_type": "code",
   "execution_count": 7,
   "metadata": {},
   "outputs": [
    {
     "name": "stdout",
     "output_type": "stream",
     "text": [
      "src_dir = /volatile/jc225751/Runs/19_generate_crops/Program/deep_folding/data/source/unsupervised\n"
     ]
    }
   ],
   "source": [
    "src_dir = os.path.join(os.getcwd(), '../data/source/unsupervised')\n",
    "src_dir = os.path.abspath(src_dir)\n",
    "print((\"src_dir = \" + src_dir))"
   ]
  },
  {
   "cell_type": "code",
   "execution_count": 8,
   "metadata": {},
   "outputs": [
    {
     "name": "stdout",
     "output_type": "stream",
     "text": [
      "tgt_dir = /volatile/jc225751/Runs/19_generate_crops/Program/deep_folding/data/target\n"
     ]
    }
   ],
   "source": [
    "tgt_dir = os.path.join(os.getcwd(), '../data/target')\n",
    "tgt_dir = os.path.abspath(tgt_dir)\n",
    "print((\"tgt_dir = \" + tgt_dir))"
   ]
  },
  {
   "cell_type": "markdown",
   "metadata": {},
   "source": [
    "The target directory tgt_dir is where the files will be saved"
   ]
  },
  {
   "cell_type": "code",
   "execution_count": 9,
   "metadata": {},
   "outputs": [
    {
     "name": "stdout",
     "output_type": "stream",
     "text": [
      "transform_dir = /volatile/jc225751/Runs/19_generate_crops/Program/deep_folding/data/reference/transform\n"
     ]
    }
   ],
   "source": [
    "transform_dir = os.path.join(os.getcwd(), '../data/reference/transform')\n",
    "transform_dir = os.path.abspath(transform_dir)\n",
    "print((\"transform_dir = \" + transform_dir))"
   ]
  },
  {
   "cell_type": "code",
   "execution_count": 10,
   "metadata": {},
   "outputs": [
    {
     "name": "stdout",
     "output_type": "stream",
     "text": [
      "bbox_dir = /volatile/jc225751/Runs/19_generate_crops/Program/deep_folding/data/reference/bbox\n"
     ]
    }
   ],
   "source": [
    "bbox_dir = os.path.join(os.getcwd(), '../data/reference/bbox')\n",
    "bbox_dir = os.path.abspath(bbox_dir)\n",
    "print((\"bbox_dir = \" + bbox_dir))"
   ]
  },
  {
   "cell_type": "code",
   "execution_count": 11,
   "metadata": {},
   "outputs": [
    {
     "name": "stdout",
     "output_type": "stream",
     "text": [
      "mask_dir = /volatile/jc225751/Runs/19_generate_crops/Program/deep_folding/data/target/mask\n"
     ]
    }
   ],
   "source": [
    "mask_dir = os.path.join(os.getcwd(), '../data/target/mask')\n",
    "mask_dir = os.path.abspath(mask_dir)\n",
    "print((\"mask_dir = \" + mask_dir))"
   ]
  },
  {
   "cell_type": "code",
   "execution_count": 12,
   "metadata": {},
   "outputs": [
    {
     "name": "stdout",
     "output_type": "stream",
     "text": [
      "['anatomist']\n"
     ]
    }
   ],
   "source": [
    "print((sys.argv))"
   ]
  },
  {
   "cell_type": "markdown",
   "metadata": {},
   "source": [
    "# Illustration of main program uses"
   ]
  },
  {
   "cell_type": "markdown",
   "metadata": {},
   "source": [
    "We will first use the program with no effect by using number of subjects set to 0, or by calling the help function"
   ]
  },
  {
   "cell_type": "markdown",
   "metadata": {},
   "source": [
    "### Using external calls"
   ]
  },
  {
   "cell_type": "code",
   "execution_count": 13,
   "metadata": {},
   "outputs": [],
   "source": [
    "!python ../deep_folding/anatomist_tools/dataset_gen_pipe.py -n 0 -t tgt_local_dir"
   ]
  },
  {
   "cell_type": "code",
   "execution_count": 14,
   "metadata": {},
   "outputs": [],
   "source": [
    "# Clean\n",
    "!rm -rf tgt_local_dir"
   ]
  },
  {
   "cell_type": "code",
   "execution_count": 15,
   "metadata": {},
   "outputs": [
    {
     "name": "stdout",
     "output_type": "stream",
     "text": [
      "python: can't open file '../deep_folding/anatomist_tools/bounding_box.py': [Errno 2] No such file or directory\r\n"
     ]
    }
   ],
   "source": [
    "!python ../deep_folding/anatomist_tools/bounding_box.py --help"
   ]
  },
  {
   "cell_type": "markdown",
   "metadata": {},
   "source": [
    "### By using the main function call"
   ]
  },
  {
   "cell_type": "code",
   "execution_count": 16,
   "metadata": {},
   "outputs": [
    {
     "name": "stdout",
     "output_type": "stream",
     "text": [
      "/volatile/jc225751/Runs/19_generate_crops/Program/deep_folding/deep_folding/anatomist_tools/dataset_gen_pipe.py\n"
     ]
    }
   ],
   "source": [
    "from deep_folding.anatomist_tools import dataset_gen_pipe\n",
    "print((dataset_gen_pipe.__file__))"
   ]
  },
  {
   "cell_type": "code",
   "execution_count": 17,
   "metadata": {},
   "outputs": [],
   "source": [
    "args = \"-n 0 -t \" + tgt_dir\n",
    "argv = args.split(' ')"
   ]
  },
  {
   "cell_type": "code",
   "execution_count": 18,
   "metadata": {},
   "outputs": [],
   "source": [
    "dataset_gen_pipe.main(argv)"
   ]
  },
  {
   "cell_type": "code",
   "execution_count": 19,
   "metadata": {},
   "outputs": [],
   "source": [
    "args = \"--help\"\n",
    "argv = args.split(' ')"
   ]
  },
  {
   "cell_type": "code",
   "execution_count": 20,
   "metadata": {},
   "outputs": [
    {
     "name": "stdout",
     "output_type": "stream",
     "text": [
      "usage: dataset_gen_pipe.py [-h] [-s SRC_DIR] [-t TGT_DIR] [-a MASK_DIR]\n",
      "                           [-b BBOX_DIR] [-m MORPHOLOGIST_DIR]\n",
      "                           [-u SULCUS [SULCUS ...]] [-i SIDE] [-n NB_SUBJECTS]\n",
      "                           [-e INTERP] [-p RESAMPLING] [-c CROPPING]\n",
      "                           [-v OUT_VOXEL_SIZE [OUT_VOXEL_SIZE ...]]\n",
      "\n",
      "Generates cropped and pickle files\n",
      "\n",
      "optional arguments:\n",
      "  -h, --help            show this help message and exit\n",
      "  -s SRC_DIR, --src_dir SRC_DIR\n",
      "                        Source directory where the MRI data lies. Default is :\n",
      "                        /neurospin/hcp\n",
      "  -t TGT_DIR, --tgt_dir TGT_DIR\n",
      "                        Target directory where to store the cropped and pickle\n",
      "                        files. Default is :\n",
      "                        /neurospin/dico/data/deep_folding/test\n",
      "  -a MASK_DIR, --mask_dir MASK_DIR\n",
      "                        masking directory where mask has been stored. Default\n",
      "                        is : /neurospin/dico/data/deep_folding/data/mask\n",
      "  -b BBOX_DIR, --bbox_dir BBOX_DIR\n",
      "                        Bounding box directory where json files containing\n",
      "                        bounding box coordinates have been stored. Default is\n",
      "                        : /neurospin/dico/data/deep_folding/data/bbox\n",
      "  -m MORPHOLOGIST_DIR, --morphologist_dir MORPHOLOGIST_DIR\n",
      "                        Directory where subjects to be processed are stored\n",
      "  -u SULCUS [SULCUS ...], --sulcus SULCUS [SULCUS ...]\n",
      "                        Sulcus name around which we determine the bounding\n",
      "                        box. If there are several sulci, add all sulci one\n",
      "                        after the other. Example: -u sulcus_1 sulcus_2 Default\n",
      "                        is : S.T.s.ter.asc.ant.\n",
      "  -i SIDE, --side SIDE  Hemisphere side (either L or R). Default is : L\n",
      "  -n NB_SUBJECTS, --nb_subjects NB_SUBJECTS\n",
      "                        Number of subjects to take into account, or 'all'. 0\n",
      "                        subject is allowed, for debug purpose.Default is : all\n",
      "  -e INTERP, --interp INTERP\n",
      "                        Same interpolation type as for AimsApplyTransform.\n",
      "                        Type of interpolation used for Volumes: n[earest],\n",
      "                        l[inear], q[uadratic], c[cubic], quartic, quintic,\n",
      "                        six[thorder], seven[thorder]. Modes may also be\n",
      "                        specified as order number: 0=nearest, 1=linear...\n",
      "  -p RESAMPLING, --resampling RESAMPLING\n",
      "                        Method of resampling to perform. Type of resampling:\n",
      "                        s[ulcus] for sulcus-based methodIf None,\n",
      "                        AimsApplyTransform is used.Default is : None\n",
      "  -c CROPPING, --cropping CROPPING\n",
      "                        Method of to select and crop the image. Type of\n",
      "                        cropping: bbox: for bounding box croppingmask:\n",
      "                        selection based on a maskDefault is : bbox\n",
      "  -v OUT_VOXEL_SIZE [OUT_VOXEL_SIZE ...], --out_voxel_size OUT_VOXEL_SIZE [OUT_VOXEL_SIZE ...]\n",
      "                        Voxel size of output imagesDefault is : 1 1 1\n"
     ]
    }
   ],
   "source": [
    "dataset_gen_pipe.main(argv)"
   ]
  },
  {
   "cell_type": "markdown",
   "metadata": {},
   "source": [
    "### By using the API function call"
   ]
  },
  {
   "cell_type": "code",
   "execution_count": 21,
   "metadata": {},
   "outputs": [],
   "source": [
    "dataset_gen_pipe.dataset_gen_pipe(src_dir=src_dir,\n",
    "                                  tgt_dir=tgt_dir,\n",
    "                                  bbox_dir=bbox_dir,\n",
    "                                  cropping='bbox',\n",
    "                                  list_sulci=sulcus,\n",
    "                                  side=side,\n",
    "                                  number_subjects=0)"
   ]
  },
  {
   "cell_type": "code",
   "execution_count": 22,
   "metadata": {},
   "outputs": [],
   "source": [
    "def are_arrays_almost_equal(arr1, arr2, epsilon, max_number_different_pixels):\n",
    "    \"\"\"Returns True if at most max_number_different_pixels pixels of arrays arr1 and arr2 \n",
    "    differ by more than epsilon\n",
    "    \n",
    "    \"\"\"\n",
    "    difference = (abs(arr1-arr2) >= epsilon)\n",
    "    number_different_pixels = np.count_nonzero(difference)\n",
    "    return number_different_pixels <= max_number_different_pixels, number_different_pixels"
   ]
  },
  {
   "cell_type": "markdown",
   "metadata": {},
   "source": [
    "# Crops with mask and with nearest-neighbour interpolation"
   ]
  },
  {
   "cell_type": "markdown",
   "metadata": {},
   "source": [
    "## Main program"
   ]
  },
  {
   "cell_type": "code",
   "execution_count": 23,
   "metadata": {},
   "outputs": [
    {
     "name": "stdout",
     "output_type": "stream",
     "text": [
      "tgt_dir = /volatile/jc225751/Runs/19_generate_crops/Program/deep_folding/data/target/crops/nearest\n"
     ]
    }
   ],
   "source": [
    "tgt_dir_nearest = os.path.join(os.getcwd(), '../data/target/crops/nearest')\n",
    "tgt_dir_nearest = os.path.abspath(tgt_dir_nearest)\n",
    "print((\"tgt_dir = \" + tgt_dir_nearest))"
   ]
  },
  {
   "cell_type": "code",
   "execution_count": 24,
   "metadata": {},
   "outputs": [
    {
     "data": {
      "text/plain": [
       "'/volatile/jc225751/Runs/19_generate_crops/Program/deep_folding/data/source/unsupervised'"
      ]
     },
     "execution_count": 24,
     "metadata": {},
     "output_type": "execute_result"
    }
   ],
   "source": [
    "src_dir"
   ]
  },
  {
   "cell_type": "code",
   "execution_count": 25,
   "metadata": {},
   "outputs": [
    {
     "name": "stdout",
     "output_type": "stream",
     "text": [
      "['100206']\n",
      "mask\n",
      "mask\n"
     ]
    }
   ],
   "source": [
    "interp = 'nearest'\n",
    "dataset_gen_pipe.dataset_gen_pipe(src_dir=src_dir,\n",
    "                                  tgt_dir=tgt_dir_nearest,\n",
    "                                  mask_dir=mask_dir,\n",
    "                                  cropping=\"mask\",\n",
    "                                  list_sulci=sulcus,\n",
    "                                  side=side,\n",
    "                                  interp=interp,\n",
    "                                  number_subjects=1)"
   ]
  },
  {
   "cell_type": "markdown",
   "metadata": {},
   "source": [
    "## Result analysis"
   ]
  },
  {
   "cell_type": "markdown",
   "metadata": {},
   "source": [
    "### Analysis of the inputs"
   ]
  },
  {
   "cell_type": "code",
   "execution_count": 26,
   "metadata": {},
   "outputs": [
    {
     "name": "stdout",
     "output_type": "stream",
     "text": [
      "shape of source skeleton =  (1, 260, 311, 260)\n"
     ]
    }
   ],
   "source": [
    "# Gets source file as numpy array\n",
    "skeleton_dir = os.path.join(src_dir, \"ANALYSIS/3T_morphologist/100206/t1mri/default_acquisition/default_analysis/segmentation\")\n",
    "vol_source_file = glob.glob(skeleton_dir + '/' + side + '*.nii.gz')[0]\n",
    "vol_source = aims.read(vol_source_file)\n",
    "arr_source = vol_source.arraydata()\n",
    "print(\"shape of source skeleton = \", arr_source.shape)"
   ]
  },
  {
   "cell_type": "code",
   "execution_count": 27,
   "metadata": {},
   "outputs": [
    {
     "data": {
      "text/plain": [
       "array([ 0, 10, 11, 30, 40, 60, 80], dtype=int16)"
      ]
     },
     "execution_count": 27,
     "metadata": {},
     "output_type": "execute_result"
    }
   ],
   "source": [
    "np.unique(arr_source)"
   ]
  },
  {
   "cell_type": "code",
   "execution_count": 30,
   "metadata": {
    "scrolled": true
   },
   "outputs": [
    {
     "data": {
      "text/plain": [
       "11    18832738\n",
       "0      2012736\n",
       "60      163069\n",
       "30        9634\n",
       "80        5330\n",
       "40          87\n",
       "10           6\n",
       "dtype: int64"
      ]
     },
     "execution_count": 30,
     "metadata": {},
     "output_type": "execute_result"
    }
   ],
   "source": [
    "pd.value_counts(np.resize(arr_source, arr_source.size))"
   ]
  },
  {
   "cell_type": "code",
   "execution_count": 31,
   "metadata": {},
   "outputs": [
    {
     "name": "stdout",
     "output_type": "stream",
     "text": [
      "shape of mask =  (1, 193, 229, 193)\n"
     ]
    }
   ],
   "source": [
    "mask_file = glob.glob(mask_dir + '/' + side + '/*.nii.gz')[0]\n",
    "vol_mask = aims.read(mask_file)\n",
    "arr_mask = vol_mask.arraydata()\n",
    "print(\"shape of mask = \", arr_mask.shape)"
   ]
  },
  {
   "cell_type": "code",
   "execution_count": 32,
   "metadata": {},
   "outputs": [
    {
     "data": {
      "text/plain": [
       "array([0, 1], dtype=int16)"
      ]
     },
     "execution_count": 32,
     "metadata": {},
     "output_type": "execute_result"
    }
   ],
   "source": [
    "np.unique(arr_mask)"
   ]
  },
  {
   "cell_type": "markdown",
   "metadata": {},
   "source": [
    "### Analysis of the outputs"
   ]
  },
  {
   "cell_type": "markdown",
   "metadata": {},
   "source": [
    "Prints the list of files of the target directory"
   ]
  },
  {
   "cell_type": "code",
   "execution_count": 33,
   "metadata": {},
   "outputs": [
    {
     "name": "stdout",
     "output_type": "stream",
     "text": [
      "Files in crops target directory:\n",
      "/volatile/jc225751/Runs/19_generate_crops/Program/deep_folding/data/target/crops/nearest\n",
      "100206_normalized.nii.gz\n",
      "100206_normalized.nii.gz.minf\n"
     ]
    }
   ],
   "source": [
    "print(\"Files in crops target directory:\")\n",
    "print(tgt_dir_nearest)\n",
    "print(('\\n'.join(os.listdir(tgt_dir_nearest + '/' + side + 'crops'))))"
   ]
  },
  {
   "cell_type": "code",
   "execution_count": 34,
   "metadata": {},
   "outputs": [
    {
     "name": "stdout",
     "output_type": "stream",
     "text": [
      "tgt_json_file =  /volatile/jc225751/Runs/19_generate_crops/Program/deep_folding/data/target/crops/nearest/Ldataset.json \n",
      "\n",
      "{\n",
      "    \"bbmax\": [\n",
      "        157,\n",
      "        171,\n",
      "        110,\n",
      "        1\n",
      "    ],\n",
      "    \"bbmin\": [\n",
      "        129,\n",
      "        150,\n",
      "        60,\n",
      "        0\n",
      "    ],\n",
      "    \"bbox_dir\": \"/neurospin/dico/data/deep_folding/data/bbox\",\n",
      "    \"cropped_dir\": \"/volatile/jc225751/Runs/19_generate_crops/Program/deep_folding/data/target/crops/nearest/Lcrops\",\n",
      "    \"date\": \"2021-10-22 15:27:01\",\n",
      "    \"git_sha\": \"242ee19dcda179fb4ce54f357f430b4a260b17b5\",\n",
      "    \"interp\": \"nearest\",\n",
      "    \"is_git\": true,\n",
      "    \"list_sulci\": [\n",
      "        \"S.T.s.ter.asc.ant._left\"\n",
      "    ],\n",
      "    \"mask_dir\": \"/volatile/jc225751/Runs/19_generate_crops/Program/deep_folding/data/target/mask\",\n",
      "    \"nb_subjects\": 1,\n",
      "    \"out_voxel_size\": [\n",
      "        1,\n",
      "        1,\n",
      "        1\n",
      "    ],\n",
      "    \"repo_working_dir\": \"/volatile/jc225751/Runs/19_generate_crops/Program/deep_folding\",\n",
      "    \"resampling_type\": \"AimsApplyTransform\",\n",
      "    \"side\": \"L\",\n",
      "    \"src_dir\": \"/volatile/jc225751/Runs/19_generate_crops/Program/deep_folding/data/source/unsupervised\",\n",
      "    \"tgt_dir\": \"/volatile/jc225751/Runs/19_generate_crops/Program/deep_folding/data/target/crops/nearest\",\n",
      "    \"timestamp\": 1634909221.6753843\n",
      "}\n"
     ]
    }
   ],
   "source": [
    "tgt_json_file = glob.glob(tgt_dir_nearest + '/*.json')[0]\n",
    "print(\"tgt_json_file = \", tgt_json_file, '\\n')\n",
    "with open(os.path.join(tgt_dir_nearest, tgt_json_file), 'r') as f:\n",
    "    data_tgt = json.load(f)\n",
    "    print((json.dumps(data_tgt, sort_keys=True, indent=4)))"
   ]
  },
  {
   "cell_type": "markdown",
   "metadata": {},
   "source": [
    "Obtained output (we read the cropped file from the target directory):"
   ]
  },
  {
   "cell_type": "code",
   "execution_count": 35,
   "metadata": {},
   "outputs": [
    {
     "name": "stdout",
     "output_type": "stream",
     "text": [
      "shape of target cropped image =  (1, 50, 21, 28)\n"
     ]
    }
   ],
   "source": [
    "# Gets target crop as numpy array\n",
    "cropped_target_dir = os.path.join(tgt_dir_nearest, side+'crops')\n",
    "vol_target_file = glob.glob(cropped_target_dir + '/' + '*.nii.gz')\n",
    "vol_target = aims.read(vol_target_file[0])\n",
    "arr_target = vol_target.arraydata()\n",
    "print(\"shape of target cropped image = \", arr_target.shape)"
   ]
  },
  {
   "cell_type": "code",
   "execution_count": 36,
   "metadata": {},
   "outputs": [
    {
     "data": {
      "text/plain": [
       "array([ 0, 11, 30, 60, 80], dtype=int16)"
      ]
     },
     "execution_count": 36,
     "metadata": {},
     "output_type": "execute_result"
    }
   ],
   "source": [
    "np.unique(arr_target)"
   ]
  },
  {
   "cell_type": "markdown",
   "metadata": {},
   "source": [
    "The scope here is to compare the different numbers present on the target array and on the source array:"
   ]
  },
  {
   "cell_type": "code",
   "execution_count": 37,
   "metadata": {},
   "outputs": [
    {
     "data": {
      "text/plain": [
       "0     98.9\n",
       "60     0.6\n",
       "11     0.3\n",
       "30     0.1\n",
       "80     0.0\n",
       "dtype: float64"
      ]
     },
     "execution_count": 37,
     "metadata": {},
     "output_type": "execute_result"
    }
   ],
   "source": [
    "np.around(pd.value_counts(np.resize(arr_target, arr_target.size))/arr_target.size*100, 1)"
   ]
  },
  {
   "cell_type": "code",
   "execution_count": 38,
   "metadata": {},
   "outputs": [
    {
     "data": {
      "text/plain": [
       "11    89.6\n",
       "0      9.6\n",
       "60     0.8\n",
       "30     0.0\n",
       "80     0.0\n",
       "40     0.0\n",
       "10     0.0\n",
       "dtype: float64"
      ]
     },
     "execution_count": 38,
     "metadata": {},
     "output_type": "execute_result"
    }
   ],
   "source": [
    "np.around(pd.value_counts(np.resize(arr_source, arr_source.size))/arr_source.size*100, 1)"
   ]
  },
  {
   "cell_type": "markdown",
   "metadata": {},
   "source": [
    "### Visualization"
   ]
  },
  {
   "cell_type": "code",
   "execution_count": 39,
   "metadata": {},
   "outputs": [
    {
     "name": "stdout",
     "output_type": "stream",
     "text": [
      "Files in crops nearest target directory:\n",
      "100206_normalized.nii.gz\n",
      "100206_normalized.nii.gz.minf\n"
     ]
    }
   ],
   "source": [
    "print(\"Files in crops nearest target directory:\")\n",
    "print(('\\n'.join(os.listdir(tgt_dir_nearest + '/' + side + 'crops'))))"
   ]
  },
  {
   "cell_type": "code",
   "execution_count": 40,
   "metadata": {},
   "outputs": [
    {
     "name": "stdout",
     "output_type": "stream",
     "text": [
      "/volatile/jc225751/Runs/19_generate_crops/Program/deep_folding/data/target/crops/nearest/Lcrops/100206_normalized.nii.gz\n"
     ]
    }
   ],
   "source": [
    "target_file_dir = tgt_dir_nearest + '/' + side + 'crops'\n",
    "target_file_nearest = glob.glob(target_file_dir + \"/*.nii.gz\")[0]\n",
    "print(target_file_nearest)"
   ]
  },
  {
   "cell_type": "code",
   "execution_count": 41,
   "metadata": {},
   "outputs": [
    {
     "data": {
      "application/vnd.jupyter.widget-view+json": {
       "model_id": "68a9eb7272f3487880aa2c4832b76824",
       "version_major": 2,
       "version_minor": 0
      },
      "text/plain": [
       "AnatomistInteractiveWidget(height=479, layout=Layout(height='auto', width='auto'), width=424)"
      ]
     },
     "metadata": {},
     "output_type": "display_data"
    }
   ],
   "source": [
    "# load source skeleton data (the SliceableObject)\n",
    "object_anat = a.loadObject(target_file_nearest)\n",
    "\n",
    "# create an Axial window in anatomist\n",
    "w = a.createWindow('Axial')\n",
    "w.addObjects(object_anat)"
   ]
  },
  {
   "cell_type": "code",
   "execution_count": 42,
   "metadata": {},
   "outputs": [
    {
     "name": "stdout",
     "output_type": "stream",
     "text": [
      "/volatile/jc225751/Runs/19_generate_crops/Program/deep_folding/data/source/unsupervised/ANALYSIS/3T_morphologist/100206/t1mri/default_acquisition/default_analysis/segmentation/Lskeleton_100206.nii.gz\n",
      "<anatomist.cpp.anatomist.SliceableObject object at 0x7f40d6743ca8>\n"
     ]
    },
    {
     "data": {
      "application/vnd.jupyter.widget-view+json": {
       "model_id": "dfc0e3cd9b2546c2be9819a91a3a99e1",
       "version_major": 2,
       "version_minor": 0
      },
      "text/plain": [
       "AnatomistInteractiveWidget(height=479, layout=Layout(height='auto', width='auto'), width=424)"
      ]
     },
     "metadata": {},
     "output_type": "display_data"
    }
   ],
   "source": [
    "print(vol_source_file)\n",
    "# load source skeleton data (the SliceableObject)\n",
    "a_source = a.loadObject(vol_source_file)\n",
    "print(a_source)\n",
    "# create an Axial window in anatomist\n",
    "w1 = a.createWindow(\"Axial\")\n",
    "w1.addObjects(a_source)"
   ]
  },
  {
   "cell_type": "code",
   "execution_count": null,
   "metadata": {},
   "outputs": [],
   "source": []
  },
  {
   "cell_type": "code",
   "execution_count": null,
   "metadata": {},
   "outputs": [],
   "source": []
  }
 ],
 "metadata": {
  "kernelspec": {
   "display_name": "venv-true-python3",
   "language": "python",
   "name": "venv-true-python3"
  },
  "language_info": {
   "codemirror_mode": {
    "name": "ipython",
    "version": 3
   },
   "file_extension": ".py",
   "mimetype": "text/x-python",
   "name": "python",
   "nbconvert_exporter": "python",
   "pygments_lexer": "ipython3",
   "version": "3.6.9"
  }
 },
 "nbformat": 4,
 "nbformat_minor": 2
}
