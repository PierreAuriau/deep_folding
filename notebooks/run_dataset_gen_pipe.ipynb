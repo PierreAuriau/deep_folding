{
 "cells": [
  {
   "cell_type": "markdown",
   "metadata": {},
   "source": [
    "# Generates crops ad pickle file using dataset_gen_pipe"
   ]
  },
  {
   "cell_type": "markdown",
   "metadata": {},
   "source": [
    "This notebook crops images according to bounding box coordinates (one per sulcus)"
   ]
  },
  {
   "cell_type": "markdown",
   "metadata": {},
   "source": [
    "# Imports"
   ]
  },
  {
   "cell_type": "code",
   "execution_count": 62,
   "metadata": {},
   "outputs": [
    {
     "name": "stdout",
     "output_type": "stream",
     "text": [
      "3.6.9 (default, Jan 26 2021, 15:33:00) \n",
      "[GCC 8.4.0]\n"
     ]
    }
   ],
   "source": [
    "import sys\n",
    "import os\n",
    "import glob\n",
    "import json\n",
    "import numpy as np\n",
    "import pandas as pd\n",
    "import matplotlib.pyplot as plt\n",
    "\n",
    "# Import the aims module\n",
    "from soma import aims\n",
    "# the brainplot package\n",
    "import colorado as cld\n",
    "\n",
    "print((sys.version))"
   ]
  },
  {
   "cell_type": "markdown",
   "metadata": {},
   "source": [
    "The following line permits to import deep_folding even if this notebook is executed from the notebooks subfolder (and no install has been launched):\n",
    "\n",
    " /notebooks/use_transform.ipynb  \n",
    " /deep_folding/__init__.py"
   ]
  },
  {
   "cell_type": "code",
   "execution_count": 63,
   "metadata": {},
   "outputs": [
    {
     "name": "stdout",
     "output_type": "stream",
     "text": [
      "/home/jc225751/Runs/18_test_visualization_marco/Program/deep_folding/deep_folding\n"
     ]
    }
   ],
   "source": [
    "sys.path.append((os.path.abspath('../')))\n",
    "import deep_folding\n",
    "print((os.path.dirname(deep_folding.__file__)))"
   ]
  },
  {
   "cell_type": "code",
   "execution_count": 64,
   "metadata": {},
   "outputs": [],
   "source": [
    "_ALL_SUBJECTS = -1"
   ]
  },
  {
   "cell_type": "markdown",
   "metadata": {},
   "source": [
    "# User-specific variables"
   ]
  },
  {
   "cell_type": "code",
   "execution_count": 65,
   "metadata": {},
   "outputs": [],
   "source": [
    "sulcus = 'S.T.s.ter.asc.ant._left'"
   ]
  },
  {
   "cell_type": "code",
   "execution_count": 66,
   "metadata": {},
   "outputs": [],
   "source": [
    "side = 'L'"
   ]
  },
  {
   "cell_type": "markdown",
   "metadata": {},
   "source": [
    "We now assign path names and other user-specific variables."
   ]
  },
  {
   "cell_type": "markdown",
   "metadata": {},
   "source": [
    "The source directory is where the database lies. It contains the morphologist analysis subfolder ANALYSIS/3T_morphologist\n"
   ]
  },
  {
   "cell_type": "code",
   "execution_count": 67,
   "metadata": {},
   "outputs": [
    {
     "name": "stdout",
     "output_type": "stream",
     "text": [
      "src_dir = /home/jc225751/Runs/18_test_visualization_marco/Program/deep_folding/data/source/unsupervised\n"
     ]
    }
   ],
   "source": [
    "src_dir = os.path.join(os.getcwd(), '../data/source/unsupervised')\n",
    "src_dir = os.path.abspath(src_dir)\n",
    "print((\"src_dir = \" + src_dir))"
   ]
  },
  {
   "cell_type": "markdown",
   "metadata": {},
   "source": [
    "The target directory tgt_dir is where the files will be saved"
   ]
  },
  {
   "cell_type": "code",
   "execution_count": 68,
   "metadata": {},
   "outputs": [
    {
     "name": "stdout",
     "output_type": "stream",
     "text": [
      "tgt_dir = /home/jc225751/Runs/18_test_visualization_marco/Program/deep_folding/data/target/data/linear\n"
     ]
    }
   ],
   "source": [
    "tgt_dir = os.path.join(os.getcwd(), '../data/target/data/linear')\n",
    "tgt_dir = os.path.abspath(tgt_dir)\n",
    "print((\"tgt_dir = \" + tgt_dir))"
   ]
  },
  {
   "cell_type": "markdown",
   "metadata": {},
   "source": [
    "The reference directory is where the equivalent reference file has been saved"
   ]
  },
  {
   "cell_type": "code",
   "execution_count": 69,
   "metadata": {},
   "outputs": [
    {
     "name": "stdout",
     "output_type": "stream",
     "text": [
      "ref_dir = /home/jc225751/Runs/18_test_visualization_marco/Program/deep_folding/data/reference/data/linear\n"
     ]
    }
   ],
   "source": [
    "ref_dir = os.path.join(os.getcwd(), '../data/reference/data/linear')\n",
    "ref_dir = os.path.abspath(ref_dir)\n",
    "print((\"ref_dir = \" + ref_dir))"
   ]
  },
  {
   "cell_type": "code",
   "execution_count": 70,
   "metadata": {},
   "outputs": [
    {
     "name": "stdout",
     "output_type": "stream",
     "text": [
      "transform_dir = /home/jc225751/Runs/18_test_visualization_marco/Program/deep_folding/data/reference/transform\n"
     ]
    }
   ],
   "source": [
    "transform_dir = os.path.join(os.getcwd(), '../data/reference/transform')\n",
    "transform_dir = os.path.abspath(transform_dir)\n",
    "print((\"transform_dir = \" + transform_dir))"
   ]
  },
  {
   "cell_type": "code",
   "execution_count": 71,
   "metadata": {},
   "outputs": [
    {
     "name": "stdout",
     "output_type": "stream",
     "text": [
      "bbox_dir = /home/jc225751/Runs/18_test_visualization_marco/Program/deep_folding/data/reference/bbox\n"
     ]
    }
   ],
   "source": [
    "bbox_dir = os.path.join(os.getcwd(), '../data/reference/bbox')\n",
    "bbox_dir = os.path.abspath(bbox_dir)\n",
    "print((\"bbox_dir = \" + bbox_dir))"
   ]
  },
  {
   "cell_type": "code",
   "execution_count": 72,
   "metadata": {},
   "outputs": [
    {
     "name": "stdout",
     "output_type": "stream",
     "text": [
      "mask_dir = /home/jc225751/Runs/18_test_visualization_marco/Program/deep_folding/data/reference/mask\n"
     ]
    }
   ],
   "source": [
    "mask_dir = os.path.join(os.getcwd(), '../data/reference/mask')\n",
    "mask_dir = os.path.abspath(mask_dir)\n",
    "print((\"mask_dir = \" + mask_dir))"
   ]
  },
  {
   "cell_type": "code",
   "execution_count": 73,
   "metadata": {},
   "outputs": [
    {
     "name": "stdout",
     "output_type": "stream",
     "text": [
      "['anatomist']\n"
     ]
    }
   ],
   "source": [
    "print((sys.argv))"
   ]
  },
  {
   "cell_type": "markdown",
   "metadata": {},
   "source": [
    "# Illustration of main program uses"
   ]
  },
  {
   "cell_type": "markdown",
   "metadata": {},
   "source": [
    "We will first use the program with no effect by using number of subjects set to 0, or by calling the help function"
   ]
  },
  {
   "cell_type": "markdown",
   "metadata": {},
   "source": [
    "### Using external calls"
   ]
  },
  {
   "cell_type": "code",
   "execution_count": 74,
   "metadata": {},
   "outputs": [],
   "source": [
    "!python ../deep_folding/anatomist_tools/dataset_gen_pipe.py -n 0 -t tgt_local_dir"
   ]
  },
  {
   "cell_type": "code",
   "execution_count": 75,
   "metadata": {},
   "outputs": [],
   "source": [
    "# Clean\n",
    "!rm -rf tgt_local_dir"
   ]
  },
  {
   "cell_type": "code",
   "execution_count": 76,
   "metadata": {},
   "outputs": [
    {
     "name": "stdout",
     "output_type": "stream",
     "text": [
      "usage: bounding_box.py [-h] [-s SRC_DIR [SRC_DIR ...]] [-t TGT_DIR]\r\n",
      "                       [-u SULCUS] [-i SIDE] [-m IMAGE_NORMALIZED_SPM]\r\n",
      "                       [-p PATH_TO_GRAPH] [-n NB_SUBJECTS] [-v OUT_VOXEL_SIZE]\r\n",
      "\r\n",
      "Computes bounding box around the named sulcus\r\n",
      "\r\n",
      "optional arguments:\r\n",
      "  -h, --help            show this help message and exit\r\n",
      "  -s SRC_DIR [SRC_DIR ...], --src_dir SRC_DIR [SRC_DIR ...]\r\n",
      "                        Source directory where the MRI data lies. If there are\r\n",
      "                        several directories, add all directories one after the\r\n",
      "                        other. Example: -s DIR_1 DIR_2. Default is :\r\n",
      "                        /neurospin/lnao/PClean/database_learnclean/all/\r\n",
      "  -t TGT_DIR, --tgt_dir TGT_DIR\r\n",
      "                        Target directory where to store the output bbox json\r\n",
      "                        files. Default is :\r\n",
      "                        /neurospin/dico/data/deep_folding/test/bbox\r\n",
      "  -u SULCUS, --sulcus SULCUS\r\n",
      "                        Sulcus name around which we determine the bounding\r\n",
      "                        box. Default is : S.T.s.ter.asc.ant.\r\n",
      "  -i SIDE, --side SIDE  Hemisphere side. Default is : L\r\n",
      "  -m IMAGE_NORMALIZED_SPM, --image_normalized_SPM IMAGE_NORMALIZED_SPM\r\n",
      "                        Name (with path) of normalized SPM image. It is used\r\n",
      "                        to determine voxel size. Default is : /neurospin/hcp/A\r\n",
      "                        NALYSIS/3T_morphologist/100206/t1mri/default_acquisiti\r\n",
      "                        on/normalized_SPM_100206.nii\r\n",
      "  -p PATH_TO_GRAPH, --path_to_graph PATH_TO_GRAPH\r\n",
      "                        Relative path to manually labelled graph. Default is\r\n",
      "                        t1mri/t1/default_analysis/folds/3.3/base2018_manual\r\n",
      "  -n NB_SUBJECTS, --nb_subjects NB_SUBJECTS\r\n",
      "                        Number of subjects to take into account, or 'all'. 0\r\n",
      "                        subject is allowed, for debug purpose. Default is :\r\n",
      "                        all\r\n",
      "  -v OUT_VOXEL_SIZE, --out_voxel_size OUT_VOXEL_SIZE\r\n",
      "                        Voxel size of of bounding box. Default is : None\r\n"
     ]
    }
   ],
   "source": [
    "!python ../deep_folding/anatomist_tools/bounding_box.py --help"
   ]
  },
  {
   "cell_type": "markdown",
   "metadata": {},
   "source": [
    "### By using the main function call"
   ]
  },
  {
   "cell_type": "code",
   "execution_count": 77,
   "metadata": {},
   "outputs": [
    {
     "name": "stdout",
     "output_type": "stream",
     "text": [
      "/home/jc225751/Runs/18_test_visualization_marco/Program/deep_folding/deep_folding/anatomist_tools/dataset_gen_pipe.py\n"
     ]
    }
   ],
   "source": [
    "from deep_folding.anatomist_tools import dataset_gen_pipe\n",
    "print((dataset_gen_pipe.__file__))"
   ]
  },
  {
   "cell_type": "code",
   "execution_count": 78,
   "metadata": {},
   "outputs": [],
   "source": [
    "args = \"-n 0 -t \" + tgt_dir\n",
    "argv = args.split(' ')"
   ]
  },
  {
   "cell_type": "code",
   "execution_count": 79,
   "metadata": {},
   "outputs": [],
   "source": [
    "dataset_gen_pipe.main(argv)"
   ]
  },
  {
   "cell_type": "code",
   "execution_count": 80,
   "metadata": {},
   "outputs": [],
   "source": [
    "args = \"--help\"\n",
    "argv = args.split(' ')"
   ]
  },
  {
   "cell_type": "code",
   "execution_count": 81,
   "metadata": {},
   "outputs": [
    {
     "name": "stdout",
     "output_type": "stream",
     "text": [
      "usage: dataset_gen_pipe.py [-h] [-s SRC_DIR] [-t TGT_DIR] [-a MASK_DIR]\n",
      "                           [-b BBOX_DIR] [-m MORPHOLOGIST_DIR]\n",
      "                           [-u SULCUS [SULCUS ...]] [-i SIDE] [-n NB_SUBJECTS]\n",
      "                           [-e INTERP] [-p RESAMPLING] [-c CROPPING]\n",
      "                           [-v OUT_VOXEL_SIZE [OUT_VOXEL_SIZE ...]]\n",
      "\n",
      "Generates cropped and pickle files\n",
      "\n",
      "optional arguments:\n",
      "  -h, --help            show this help message and exit\n",
      "  -s SRC_DIR, --src_dir SRC_DIR\n",
      "                        Source directory where the MRI data lies. Default is :\n",
      "                        /neurospin/hcp\n",
      "  -t TGT_DIR, --tgt_dir TGT_DIR\n",
      "                        Target directory where to store the cropped and pickle\n",
      "                        files. Default is :\n",
      "                        /neurospin/dico/data/deep_folding/test\n",
      "  -a MASK_DIR, --mask_dir MASK_DIR\n",
      "                        masking directory where mask has been stored. Default\n",
      "                        is : /neurospin/dico/data/deep_folding/data/mask\n",
      "  -b BBOX_DIR, --bbox_dir BBOX_DIR\n",
      "                        Bounding box directory where json files containing\n",
      "                        bounding box coordinates have been stored. Default is\n",
      "                        : /neurospin/dico/data/deep_folding/data/bbox\n",
      "  -m MORPHOLOGIST_DIR, --morphologist_dir MORPHOLOGIST_DIR\n",
      "                        Directory where subjects to be processed are stored\n",
      "  -u SULCUS [SULCUS ...], --sulcus SULCUS [SULCUS ...]\n",
      "                        Sulcus name around which we determine the bounding\n",
      "                        box. If there are several sulci, add all sulci one\n",
      "                        after the other. Example: -u sulcus_1 sulcus_2 Default\n",
      "                        is : S.T.s.ter.asc.ant.\n",
      "  -i SIDE, --side SIDE  Hemisphere side (either L or R). Default is : L\n",
      "  -n NB_SUBJECTS, --nb_subjects NB_SUBJECTS\n",
      "                        Number of subjects to take into account, or 'all'. 0\n",
      "                        subject is allowed, for debug purpose.Default is : all\n",
      "  -e INTERP, --interp INTERP\n",
      "                        Same interpolation type as for AimsApplyTransform.\n",
      "                        Type of interpolation used for Volumes: n[earest],\n",
      "                        l[inear], q[uadratic], c[cubic], quartic, quintic,\n",
      "                        six[thorder], seven[thorder]. Modes may also be\n",
      "                        specified as order number: 0=nearest, 1=linear...\n",
      "  -p RESAMPLING, --resampling RESAMPLING\n",
      "                        Method of resampling to perform. Type of resampling:\n",
      "                        s[ulcus] for sulcus-based methodIf None,\n",
      "                        AimsApplyTransform is used.Default is : None\n",
      "  -c CROPPING, --cropping CROPPING\n",
      "                        Method of to select and crop the image. Type of\n",
      "                        cropping: bbox: for bounding box croppingmask:\n",
      "                        selection based on a maskDefault is : bbox\n",
      "  -v OUT_VOXEL_SIZE [OUT_VOXEL_SIZE ...], --out_voxel_size OUT_VOXEL_SIZE [OUT_VOXEL_SIZE ...]\n",
      "                        Voxel size of output imagesDefault is : 1 1 1\n"
     ]
    }
   ],
   "source": [
    "dataset_gen_pipe.main(argv)"
   ]
  },
  {
   "cell_type": "markdown",
   "metadata": {},
   "source": [
    "### By using the API function call"
   ]
  },
  {
   "cell_type": "code",
   "execution_count": 82,
   "metadata": {},
   "outputs": [],
   "source": [
    "dataset_gen_pipe.dataset_gen_pipe(src_dir=src_dir,\n",
    "                                  tgt_dir=tgt_dir,\n",
    "                                  bbox_dir=bbox_dir,\n",
    "                                  cropping='bbox',\n",
    "                                  list_sulci=sulcus,\n",
    "                                  side=side,\n",
    "                                  number_subjects=0)"
   ]
  },
  {
   "cell_type": "markdown",
   "metadata": {},
   "source": [
    "# Crops with linear interpolation"
   ]
  },
  {
   "cell_type": "markdown",
   "metadata": {},
   "source": [
    "## Main program"
   ]
  },
  {
   "cell_type": "code",
   "execution_count": 83,
   "metadata": {},
   "outputs": [],
   "source": [
    "interp = 'linear'"
   ]
  },
  {
   "cell_type": "code",
   "execution_count": 84,
   "metadata": {},
   "outputs": [
    {
     "name": "stdout",
     "output_type": "stream",
     "text": [
      "['100206']\n"
     ]
    }
   ],
   "source": [
    "dataset_gen_pipe.dataset_gen_pipe(src_dir=src_dir,\n",
    "                                  tgt_dir=tgt_dir,\n",
    "                                  bbox_dir=bbox_dir,\n",
    "                                  cropping='bbox',\n",
    "                                  list_sulci=sulcus,\n",
    "                                  side=side,\n",
    "                                  interp=interp,\n",
    "                                  number_subjects=1)"
   ]
  },
  {
   "cell_type": "markdown",
   "metadata": {},
   "source": [
    "## Result analysis"
   ]
  },
  {
   "cell_type": "markdown",
   "metadata": {},
   "source": [
    "### Analysis of the inputs"
   ]
  },
  {
   "cell_type": "code",
   "execution_count": 85,
   "metadata": {},
   "outputs": [
    {
     "name": "stdout",
     "output_type": "stream",
     "text": [
      "shape of source skeleton =  (1, 260, 311, 260)\n"
     ]
    }
   ],
   "source": [
    "# Gets source file as numpy array\n",
    "skeleton_dir = os.path.join(src_dir, \"ANALYSIS/3T_morphologist/100206/t1mri/default_acquisition/default_analysis/segmentation\")\n",
    "vol_source_file = glob.glob(skeleton_dir + '/' + side + '*.nii.gz')\n",
    "vol_source = aims.read(vol_source_file[0])\n",
    "arr_source = vol_source.arraydata()\n",
    "print(\"shape of source skeleton = \", arr_source.shape)"
   ]
  },
  {
   "cell_type": "code",
   "execution_count": 86,
   "metadata": {},
   "outputs": [
    {
     "data": {
      "text/plain": [
       "array([ 0, 10, 11, 30, 40, 60, 80], dtype=int16)"
      ]
     },
     "execution_count": 86,
     "metadata": {},
     "output_type": "execute_result"
    }
   ],
   "source": [
    "np.unique(arr_source)"
   ]
  },
  {
   "cell_type": "code",
   "execution_count": 87,
   "metadata": {},
   "outputs": [
    {
     "data": {
      "text/plain": [
       "11    18832738\n",
       "0      2012736\n",
       "60      163069\n",
       "30        9634\n",
       "80        5330\n",
       "40          87\n",
       "10           6\n",
       "dtype: int64"
      ]
     },
     "execution_count": 87,
     "metadata": {},
     "output_type": "execute_result"
    }
   ],
   "source": [
    "pd.value_counts(np.resize(arr_source, arr_source.size))"
   ]
  },
  {
   "cell_type": "markdown",
   "metadata": {},
   "source": [
    "### Analysis of the outputs"
   ]
  },
  {
   "cell_type": "markdown",
   "metadata": {},
   "source": [
    "Prints the list of files of the target directory"
   ]
  },
  {
   "cell_type": "code",
   "execution_count": 88,
   "metadata": {},
   "outputs": [
    {
     "name": "stdout",
     "output_type": "stream",
     "text": [
      "Files in target directory:\n",
      "Ldataset.json\n",
      "Lskeleton.pkl\n",
      "Lcrops\n"
     ]
    }
   ],
   "source": [
    "print(\"Files in target directory:\")\n",
    "print(('\\n'.join(os.listdir(tgt_dir))))"
   ]
  },
  {
   "cell_type": "code",
   "execution_count": 89,
   "metadata": {},
   "outputs": [
    {
     "name": "stdout",
     "output_type": "stream",
     "text": [
      "Files in crops target directory:\n",
      "100206_normalized.nii.gz\n",
      "100206_normalized.nii.gz.minf\n"
     ]
    }
   ],
   "source": [
    "print(\"Files in crops target directory:\")\n",
    "print(('\\n'.join(os.listdir(tgt_dir + '/' + side + 'crops'))))"
   ]
  },
  {
   "cell_type": "code",
   "execution_count": 90,
   "metadata": {},
   "outputs": [
    {
     "name": "stdout",
     "output_type": "stream",
     "text": [
      "tgt_json_file =  /home/jc225751/Runs/18_test_visualization_marco/Program/deep_folding/data/target/data/linear/Ldataset.json \n",
      "\n",
      "{\n",
      "    \"bbmax\": [\n",
      "        137,\n",
      "        153,\n",
      "        78\n",
      "    ],\n",
      "    \"bbmin\": [\n",
      "        112,\n",
      "        129,\n",
      "        33\n",
      "    ],\n",
      "    \"bbox_dir\": \"/home/jc225751/Runs/18_test_visualization_marco/Program/deep_folding/data/reference/bbox\",\n",
      "    \"cropped_dir\": \"/home/jc225751/Runs/18_test_visualization_marco/Program/deep_folding/data/target/data/linear/Lcrops\",\n",
      "    \"date\": \"2021-10-15 22:07:16\",\n",
      "    \"git_sha\": \"c2104f396c5437b55ccc3799d9992de134d3f8c8\",\n",
      "    \"interp\": \"linear\",\n",
      "    \"is_git\": true,\n",
      "    \"list_sulci\": [\n",
      "        \"S.T.s.ter.asc.ant._left\"\n",
      "    ],\n",
      "    \"mask_dir\": \"/neurospin/dico/data/deep_folding/data/mask\",\n",
      "    \"nb_subjects\": 1,\n",
      "    \"out_voxel_size\": [\n",
      "        1,\n",
      "        1,\n",
      "        1\n",
      "    ],\n",
      "    \"repo_working_dir\": \"/home/jc225751/Runs/18_test_visualization_marco/Program/deep_folding\",\n",
      "    \"resampling_type\": \"AimsApplyTransform\",\n",
      "    \"side\": \"L\",\n",
      "    \"src_dir\": \"/home/jc225751/Runs/18_test_visualization_marco/Program/deep_folding/data/source/unsupervised\",\n",
      "    \"tgt_dir\": \"/home/jc225751/Runs/18_test_visualization_marco/Program/deep_folding/data/target/data/linear\",\n",
      "    \"timestamp\": 1634328436.0167503\n",
      "}\n"
     ]
    }
   ],
   "source": [
    "tgt_json_file = glob.glob(tgt_dir + '/*.json')[0]\n",
    "print(\"tgt_json_file = \", tgt_json_file, '\\n')\n",
    "with open(os.path.join(tgt_dir, tgt_json_file), 'r') as f:\n",
    "    data_tgt = json.load(f)\n",
    "    print((json.dumps(data_tgt, sort_keys=True, indent=4)))"
   ]
  },
  {
   "cell_type": "markdown",
   "metadata": {},
   "source": [
    "Obtained output (we read the cropped file from the target directory):"
   ]
  },
  {
   "cell_type": "code",
   "execution_count": 91,
   "metadata": {},
   "outputs": [
    {
     "name": "stdout",
     "output_type": "stream",
     "text": [
      "shape of target cropped image =  (1, 46, 25, 26)\n"
     ]
    }
   ],
   "source": [
    "# Gets target crop as numpy array\n",
    "cropped_target_dir = os.path.join(tgt_dir, side+'crops')\n",
    "vol_target_file = glob.glob(cropped_target_dir + '/' + '*.nii.gz')\n",
    "vol_target = aims.read(vol_target_file[0])\n",
    "arr_target = vol_target.arraydata()\n",
    "print(\"shape of target cropped image = \", arr_target.shape)"
   ]
  },
  {
   "cell_type": "code",
   "execution_count": 92,
   "metadata": {},
   "outputs": [
    {
     "data": {
      "text/plain": [
       "array([ 0,  1,  2,  3,  4,  5,  6,  7,  8,  9, 10, 11, 12, 13, 14, 15, 16,\n",
       "       17, 18, 19, 20, 21, 22, 23, 24, 25, 26, 27, 28, 29, 30, 31, 32, 33,\n",
       "       34, 35, 36, 37, 38, 39, 40, 41, 42, 43, 44, 45, 46, 47, 48, 49, 50,\n",
       "       51, 52, 53, 54, 55, 56, 57, 58, 59, 60, 61, 68, 69], dtype=int16)"
      ]
     },
     "execution_count": 92,
     "metadata": {},
     "output_type": "execute_result"
    }
   ],
   "source": [
    "np.unique(arr_target)"
   ]
  },
  {
   "cell_type": "code",
   "execution_count": 93,
   "metadata": {},
   "outputs": [
    {
     "name": "stdout",
     "output_type": "stream",
     "text": [
      "(array([ 0,  1,  2,  3,  4,  5,  6,  7,  8,  9, 10, 11, 12, 13, 14, 15, 16,\n",
      "       17, 18, 19, 20, 21, 22, 23, 24, 25, 26, 27, 28, 29, 30, 31, 32, 33,\n",
      "       34, 35, 36, 37, 38, 39, 40, 41, 42, 43, 44, 45, 46, 47, 48, 49, 50,\n",
      "       51, 52, 53, 54, 55, 56, 57, 58, 59, 60, 61, 68, 69], dtype=int16), array([22026,   229,   171,   141,   129,   126,   111,    92,    98,\n",
      "          85,    83,  3552,   118,   110,    95,   101,    84,    92,\n",
      "         105,    86,    79,    79,    86,    86,    72,    95,    85,\n",
      "          84,    93,   106,    86,   106,    92,   107,    74,    71,\n",
      "          69,    57,    55,    58,    40,    43,    45,    49,    40,\n",
      "          35,    41,    25,    36,    30,    28,    35,    22,    25,\n",
      "          22,    22,    21,    21,    21,    12,     5,     4,     2,\n",
      "           2]))\n"
     ]
    }
   ],
   "source": [
    "unique_target = np.unique(arr_target, return_counts=True)\n",
    "print(unique_target)"
   ]
  },
  {
   "cell_type": "code",
   "execution_count": 94,
   "metadata": {},
   "outputs": [
    {
     "data": {
      "text/plain": [
       "0     22026\n",
       "11     3552\n",
       "1       229\n",
       "2       171\n",
       "3       141\n",
       "dtype: int64"
      ]
     },
     "execution_count": 94,
     "metadata": {},
     "output_type": "execute_result"
    }
   ],
   "source": [
    "pd.value_counts(np.resize(arr_target, arr_target.size)).head()"
   ]
  },
  {
   "cell_type": "markdown",
   "metadata": {},
   "source": [
    "Expected output (we read the cropped file from the reference directory):"
   ]
  },
  {
   "cell_type": "code",
   "execution_count": 95,
   "metadata": {},
   "outputs": [
    {
     "name": "stdout",
     "output_type": "stream",
     "text": [
      "shape of reference cropped image =  (1, 46, 25, 26)\n"
     ]
    }
   ],
   "source": [
    "cropped_ref_dir = os.path.join(ref_dir, side+'crops')\n",
    "vol_ref_file = glob.glob(cropped_ref_dir + '/' + '*.nii.gz')\n",
    "vol_ref = aims.read(vol_ref_file[0])\n",
    "arr_ref = vol_ref.arraydata()\n",
    "print(\"shape of reference cropped image = \", arr_ref.shape)"
   ]
  },
  {
   "cell_type": "code",
   "execution_count": 96,
   "metadata": {},
   "outputs": [
    {
     "data": {
      "text/plain": [
       "0     21572\n",
       "11     3336\n",
       "1       252\n",
       "3       184\n",
       "2       174\n",
       "dtype: int64"
      ]
     },
     "execution_count": 96,
     "metadata": {},
     "output_type": "execute_result"
    }
   ],
   "source": [
    "pd.value_counts(np.resize(arr_ref, arr_ref.size)).head()"
   ]
  },
  {
   "cell_type": "code",
   "execution_count": 97,
   "metadata": {},
   "outputs": [
    {
     "data": {
      "text/plain": [
       "False"
      ]
     },
     "execution_count": 97,
     "metadata": {},
     "output_type": "execute_result"
    }
   ],
   "source": [
    "np.array_equal(arr_target, arr_ref)"
   ]
  },
  {
   "cell_type": "code",
   "execution_count": 98,
   "metadata": {},
   "outputs": [
    {
     "name": "stdout",
     "output_type": "stream",
     "text": [
      "Number of different pixels :  10576\n",
      "Index of different pixels :  (array([0, 0, 0, ..., 0, 0, 0]), array([ 0,  0,  0, ..., 45, 45, 45]), array([ 0,  0,  0, ..., 24, 24, 24]), array([ 0,  1,  2, ..., 23, 24, 25]))\n"
     ]
    }
   ],
   "source": [
    "epsilon = 1\n",
    "difference = (abs(arr_ref-arr_target) >= epsilon)\n",
    "number_differences = np.count_nonzero(difference)\n",
    "index_of_differences = np.where(difference)\n",
    "print(\"Number of different pixels : \", number_differences)\n",
    "print(\"Index of different pixels : \", index_of_differences)"
   ]
  },
  {
   "cell_type": "code",
   "execution_count": 99,
   "metadata": {},
   "outputs": [
    {
     "name": "stdout",
     "output_type": "stream",
     "text": [
      "[(15, 21), (16, 0), (17, 0), (19, 0), (37, 0), (57, 6), (48, 30), (46, 0), (28, 0), (11, 0), (11, 0), (11, 0), (11, 0), (11, 0), (11, 0), (11, 4), (11, 30), (11, 0), (11, 0), (11, 0), (11, 0), (11, 0), (11, 0), (11, 37), (11, 13), (32, 19), (53, 29), (55, 5), (57, 0), (59, 0), (59, 8), (58, 27), (56, 0), (16, 0), (11, 0), (11, 0), (11, 0), (11, 0), (11, 0), (11, 0), (11, 0), (11, 1), (11, 0), (11, 0), (11, 0), (11, 0), (11, 0), (11, 15), (11, 27), (49, 0), (11, 16), (53, 29), (54, 26), (56, 7), (58, 10), (60, 25), (51, 0), (11, 0), (11, 0), (11, 0), (11, 0), (11, 0), (11, 0), (11, 0), (11, 0), (11, 0), (11, 0), (11, 0), (11, 0), (11, 0), (11, 0), (11, 35), (11, 16), (10, 0), (6, 0), (50, 0), (52, 14), (34, 37), (51, 35), (29, 7), (17, 0), (11, 0), (11, 0), (11, 0), (11, 0), (11, 0), (11, 0), (11, 0), (11, 0), (11, 0), (11, 0), (11, 0), (11, 0), (11, 0), (11, 3), (11, 44), (1, 0), (28, 0), (49, 0), (39, 43), (17, 6), (14, 0), (11, 0), (11, 0), (11, 0), (11, 0), (11, 0), (11, 0), (11, 0), (11, 0), (11, 0), (11, 0), (11, 0), (11, 0), (11, 0), (11, 0), (11, 42), (11, 14), (23, 0), (47, 0), (19, 42), (12, 0), (11, 0), (11, 0), (11, 0), (11, 0), (11, 0), (11, 0), (11, 0), (11, 0), (11, 0), (11, 0), (11, 0), (11, 0), (11, 0), (11, 0), (11, 13), (11, 30), (2, 0), (36, 0), (30, 5), (12, 33), (11, 0), (11, 0), (11, 0), (11, 0), (11, 0), (11, 0), (11, 0), (11, 0), (11, 0), (11, 0), (11, 0), (11, 0), (11, 0), (11, 0), (11, 0), (11, 21), (11, 24), (6, 0), (34, 0), (23, 14), (11, 22), (11, 0), (11, 0), (11, 0), (11, 0), (11, 0), (11, 0), (11, 0), (11, 0), (11, 0), (11, 0), (11, 0), (11, 0), (11, 0), (11, 0), (11, 22), (11, 26), (11, 12), (10, 0), (35, 0), (31, 0), (13, 21), (11, 16), (11, 0), (11, 0), (11, 0), (11, 0), (11, 0), (11, 0), (11, 0), (11, 0), (11, 0), (11, 0), (11, 0), (11, 0), (11, 0), (11, 18), (11, 31), (19, 0), (33, 0), (22, 0), (11, 47), (11, 0), (11, 0), (11, 0), (11, 0), (11, 0), (11, 0), (11, 0), (11, 0), (11, 0), (11, 0), (11, 6), (11, 6), (11, 29), (11, 29), (11, 12), (30, 0), (35, 0), (11, 0), (11, 48), (11, 0), (11, 0), (11, 0), (11, 0), (11, 0), (11, 0), (11, 0), (11, 0), (11, 0), (11, 0), (11, 0), (11, 18), (11, 51), (11, 15), (38, 11), (15, 10), (11, 6), (11, 47), (11, 0), (11, 0), (11, 0), (11, 0), (11, 0), (11, 0), (11, 0), (11, 0), (11, 0), (11, 0), (11, 0), (11, 13), (11, 30), (37, 40), (12, 43), (11, 47), (11, 51), (11, 0), (11, 0), (11, 0), (11, 0), (11, 0), (11, 0), (11, 0), (11, 0), (11, 0), (11, 0), (11, 0), (11, 19), (11, 27), (26, 33), (11, 32), (11, 30), (11, 37), (11, 15), (11, 0), (11, 0), (11, 0), (11, 0), (11, 0), (11, 0), (11, 0), (11, 0), (11, 0), (11, 9), (11, 41), (11, 0), (11, 0), (11, 0), (11, 6), (11, 31), (11, 1), (11, 0), (11, 0), (11, 0), (11, 0), (11, 0), (11, 0), (11, 0), (11, 9), (11, 32), (11, 0), (11, 0), (11, 0), (11, 7), (11, 33), (11, 28), (11, 20), (11, 1), (11, 0), (11, 21), (11, 40), (11, 45), (11, 49), (11, 42), (11, 12), (11, 0), (11, 0), (11, 0), (11, 46), (11, 5), (11, 6), (11, 23), (11, 24), (11, 50), (11, 50), (11, 15), (11, 13), (11, 0), (11, 1), (11, 37), (11, 0), (11, 0), (11, 0), (11, 15), (11, 38), (11, 18), (11, 15), (11, 0), (11, 21), (11, 17), (11, 0), (11, 12), (11, 29), (11, 38), (11, 17), (11, 22), (11, 25), (11, 0), (11, 3), (11, 36), (11, 36), (11, 27), (11, 14), (11, 37), (11, 0), (11, 0), (11, 31), (11, 33), (11, 32), (11, 25), (11, 17), (11, 3), (11, 23), (11, 29), (11, 35), (11, 33), (11, 25), (11, 23), (11, 27), (11, 26), (11, 30), (11, 24), (11, 45), (11, 37), (11, 39), (11, 37), (11, 14), (11, 34), (11, 45), (11, 24), (37, 32), (39, 13), (40, 0), (41, 0), (23, 0), (0, 12), (10, 23), (11, 0), (36, 0), (42, 0), (16, 0), (12, 0), (11, 0), (11, 0), (11, 0), (11, 16), (11, 5), (11, 0), (11, 0), (11, 0), (11, 0), (11, 0), (11, 0), (11, 0), (11, 46), (11, 13), (24, 1), (0, 31), (0, 59), (0, 2), (0, 17), (0, 19), (39, 0), (51, 0), (20, 0), (14, 0), (11, 0), (11, 0), (11, 0), (11, 1), (11, 1), (11, 0), (11, 0), (11, 0), (11, 0), (11, 0), (11, 2), (11, 28), (11, 21), (0, 30), (0, 8), (0, 53), (0, 17), (4, 0), (46, 0), (31, 0), (17, 0), (11, 0), (11, 0), (11, 0), (11, 0), (11, 0), (11, 0), (11, 0), (11, 0), (11, 0), (11, 0), (11, 0), (11, 9), (11, 32), (0, 2), (15, 58), (4, 1), (21, 15), (36, 23), (31, 0), (19, 0), (11, 0), (11, 0), (11, 0), (11, 0), (11, 0), (11, 0), (11, 0), (11, 0), (11, 0), (11, 0), (11, 0), (11, 0), (11, 33), (11, 18), (0, 8), (16, 31), (33, 0), (36, 0), (27, 0), (11, 0), (11, 0), (11, 0), (11, 0), (11, 0), (11, 0), (11, 0), (11, 0), (11, 0), (11, 0), (11, 0), (11, 0), (11, 0), (11, 9), (11, 31), (11, 15), (0, 20), (32, 16), (33, 0), (30, 0), (15, 0), (11, 0), (11, 0), (11, 0), (11, 0), (11, 0), (11, 0), (11, 0), (11, 0), (11, 0), (11, 0), (11, 0), (11, 0), (11, 0), (11, 20), (11, 32), (16, 21), (35, 16), (35, 0), (14, 0), (11, 0), (11, 0), (11, 0), (11, 0), (11, 0), (11, 0), (11, 0), (11, 0), (11, 0), (11, 0), (11, 0), (11, 0), (11, 0), (11, 2), (11, 43), (11, 0), (26, 37), (37, 4), (17, 0), (11, 0), (11, 0), (11, 0), (11, 0), (11, 0), (11, 0), (11, 0), (11, 0), (11, 0), (11, 0), (11, 0), (11, 0), (11, 0), (11, 0), (11, 20), (11, 24), (15, 14), (39, 34), (19, 0), (11, 0), (11, 0), (11, 0), (11, 0), (11, 0), (11, 0), (11, 0), (11, 0), (11, 8), (11, 4), (11, 0), (11, 0), (11, 0), (11, 0), (11, 15), (11, 33), (0, 9), (14, 6), (29, 16), (16, 33), (11, 0), (11, 0), (11, 0), (11, 0), (11, 0), (11, 0), (11, 0), (11, 0), (11, 0), (11, 0), (11, 38), (11, 36), (11, 17), (11, 4), (11, 28), (11, 31), (2, 26), (13, 23), (42, 22), (14, 32), (11, 0), (11, 0), (11, 0), (11, 0), (11, 0), (11, 0), (11, 0), (11, 0), (11, 0), (11, 0), (11, 0), (11, 4), (11, 17), (11, 60), (11, 17), (8, 31), (40, 33), (34, 38), (11, 25), (11, 0), (11, 0), (11, 0), (11, 0), (11, 0), (11, 0), (11, 0), (11, 0), (11, 0), (11, 0), (11, 0), (11, 1), (11, 35), (52, 8), (30, 8), (11, 31), (11, 9), (11, 0), (11, 0), (11, 0), (11, 0), (11, 0), (11, 0), (11, 0), (11, 0), (11, 0), (11, 0), (11, 9), (11, 32), (32, 0), (55, 0), (29, 0), (11, 7), (11, 27), (11, 0), (11, 0), (11, 0), (11, 0), (11, 0), (11, 0), (11, 0), (11, 0), (11, 0), (11, 0), (11, 9), (11, 31), (59, 0), (58, 0), (11, 0), (11, 1), (11, 37), (11, 25), (11, 0), (11, 0), (11, 0), (11, 0), (11, 0), (11, 0), (11, 0), (11, 5), (11, 19), (11, 34), (11, 12), (59, 0), (60, 0), (28, 0), (11, 15), (11, 22), (11, 20), (11, 29), (11, 15), (11, 0), (11, 0), (11, 0), (11, 0), (11, 26), (11, 41), (11, 26), (11, 12), (56, 0), (58, 0), (45, 14), (11, 34), (11, 0), (11, 0), (11, 6), (11, 25), (11, 20), (11, 0), (11, 37), (11, 56), (11, 29), (54, 0), (42, 10), (31, 27), (12, 0), (11, 0), (11, 0), (11, 0), (11, 6), (11, 41), (11, 42), (11, 22), (27, 0), (18, 41), (15, 4), (12, 0), (11, 0), (11, 0), (11, 5), (11, 31), (11, 16), (11, 36), (11, 9), (15, 0), (12, 0), (11, 0), (11, 1), (11, 23), (11, 33), (11, 15), (11, 0), (11, 0), (11, 0), (11, 3), (11, 17), (11, 26), (11, 21), (11, 1), (11, 0), (11, 0), (11, 0), (11, 12), (11, 15), (11, 37), (11, 0), (11, 0), (11, 1), (11, 0), (11, 26), (11, 27), (11, 1), (11, 2), (11, 4), (11, 4), (11, 34), (11, 19), (11, 17), (11, 0), (11, 32), (11, 51), (24, 4), (0, 27), (0, 27), (0, 4), (0, 8), (0, 40), (14, 0), (37, 0), (35, 0), (26, 0), (17, 0), (11, 0), (11, 2), (11, 0), (11, 0), (11, 0), (11, 0), (11, 0), (11, 0), (11, 0), (11, 0), (11, 23), (11, 25), (0, 4), (0, 7), (0, 32), (0, 13), (0, 40), (33, 0), (35, 0), (28, 0), (12, 0), (11, 0), (11, 0), (11, 0), (11, 0), (11, 0), (11, 0), (11, 0), (11, 0), (11, 0), (11, 2), (11, 28), (11, 21), (0, 12), (0, 36), (0, 37), (0, 31), (18, 0), (33, 0), (30, 0), (14, 0), (11, 0), (11, 0), (11, 0), (11, 0), (11, 0), (11, 0), (11, 0), (11, 0), (11, 0), (11, 0), (11, 13), (11, 39), (0, 18), (0, 19), (0, 23), (15, 0), (31, 0), (35, 0), (16, 0), (11, 0), (11, 0), (11, 0), (11, 0), (11, 0), (11, 0), (11, 0), (11, 0), (11, 0), (11, 0), (11, 3), (11, 36), (0, 27), (0, 10), (4, 0), (20, 0), (40, 0), (38, 0), (14, 0), (11, 0), (11, 0), (11, 0), (11, 0), (11, 0), (11, 0), (11, 0), (11, 0), (11, 0), (11, 0), (11, 0), (11, 9), (11, 31), (0, 38), (1, 3), (13, 0), (19, 0), (38, 0), (29, 0), (11, 0), (11, 0), (11, 0), (11, 0), (11, 0), (11, 0), (11, 0), (11, 0), (11, 0), (11, 0), (11, 0), (11, 0), (11, 0), (11, 19), (11, 26), (0, 25), (0, 23), (9, 0), (14, 0), (40, 0), (30, 0), (11, 0), (11, 0), (11, 0), (11, 0), (11, 0), (11, 0), (11, 0), (11, 0), (11, 0), (11, 0), (11, 0), (11, 0), (11, 0), (11, 12), (11, 37), (0, 27), (0, 22), (10, 0), (41, 0), (49, 0), (23, 0), (11, 0), (11, 0), (11, 0), (11, 0), (11, 0), (11, 4), (11, 3), (11, 0), (11, 0), (11, 0), (11, 0), (11, 0), (11, 32), (0, 32), (0, 13), (0, 27), (4, 0), (37, 0), (53, 0), (25, 0), (11, 0), (11, 0), (11, 0), (11, 0), (11, 0), (11, 0), (11, 4), (11, 30), (11, 34), (11, 2), (11, 0), (11, 0), (11, 0), (11, 44), (0, 35), (0, 37), (0, 27), (44, 0), (57, 0), (25, 0), (11, 0), (11, 0), (11, 0), (11, 0), (11, 0), (11, 0), (11, 0), (11, 0), (11, 0), (11, 9), (11, 26), (11, 3), (11, 18), (11, 38), (11, 12), (0, 17), (0, 22), (6, 47), (53, 0), (33, 0), (11, 0), (11, 0), (11, 0), (11, 0), (11, 0), (11, 0), (11, 0), (11, 0), (11, 0), (11, 0), (11, 0), (11, 10), (11, 48), (11, 26), (11, 13), (0, 1), (23, 14), (57, 38), (12, 0), (11, 0), (11, 0), (11, 0), (11, 0), (11, 0), (11, 0), (11, 0), (11, 0), (11, 0), (11, 0), (11, 0), (11, 2), (11, 54), (25, 0), (55, 20), (14, 20), (11, 0), (11, 0), (11, 0), (11, 0), (11, 0), (11, 0), (11, 0), (11, 0), (11, 0), (11, 0), (11, 0), (11, 30), (11, 17), (32, 0), (52, 7), (36, 30), (12, 13), (11, 0), (11, 0), (11, 0), (11, 0), (11, 0), (11, 0), (11, 0), (11, 0), (11, 0), (11, 5), (11, 33), (48, 0), (50, 4), (42, 32), (13, 23), (11, 21), (11, 0), (11, 0), (11, 0), (11, 0), (11, 0), (11, 0), (11, 0), (11, 0), (11, 14), (11, 28), (32, 1), (47, 43), (20, 5), (14, 0), (11, 24), (11, 23), (11, 12), (11, 0), (11, 0), (11, 0), (11, 0), (11, 24), (11, 43), (11, 32), (11, 13), (14, 39), (44, 3), (22, 0), (15, 0), (11, 0), (11, 12), (11, 24), (11, 15), (11, 0), (11, 37), (11, 58), (11, 30), (9, 12), (21, 22), (42, 0), (22, 0), (11, 0), (11, 0), (11, 0), (11, 7), (11, 45), (11, 43), (11, 22), (22, 10), (38, 0), (33, 0), (13, 0), (11, 0), (11, 0), (11, 4), (11, 36), (11, 21), (33, 25), (33, 0), (34, 0), (28, 0), (11, 0), (11, 0), (11, 0), (11, 7), (11, 43), (16, 0), (21, 0), (19, 0), (13, 0), (11, 0), (11, 0), (11, 1), (11, 40), (11, 0), (11, 0), (11, 0), (11, 0), (11, 0), (11, 0), (11, 13), (11, 27), (11, 0), (11, 0), (11, 0), (11, 0), (11, 0), (11, 0), (11, 24), (11, 22), (11, 0), (11, 0), (11, 0), (11, 0), (11, 13), (11, 41), (11, 22), (11, 0), (11, 0), (11, 0), (11, 1), (11, 37), (11, 12), (25, 0), (13, 11), (0, 30), (0, 31), (0, 32), (8, 0), (25, 0), (35, 0), (37, 0), (23, 0), (11, 0), (11, 0), (11, 0), (11, 0), (11, 0), (11, 0), (11, 0), (11, 0), (11, 6), (11, 33), (0, 6), (0, 15), (0, 59), (7, 0), (22, 0), (38, 0), (39, 0), (12, 0), (11, 0), (11, 0), (11, 0), (11, 0), (11, 0), (11, 0), (11, 0), (11, 0), (11, 7), (11, 33), (0, 18), (0, 26), (0, 37), (0, 21), (1, 0), (19, 0), (39, 0), (41, 0), (19, 0), (11, 0), (11, 0), (11, 0), (11, 0), (11, 0), (11, 0), (11, 0), (11, 0), (11, 0), (11, 10), (11, 32), (0, 32), (0, 6), (0, 2), (3, 0), (13, 0), (39, 0), (46, 0), (19, 0), (11, 0), (11, 0), (11, 0), (11, 0), (11, 0), (11, 0), (11, 0), (11, 0), (11, 0), (11, 0), (11, 51), (0, 3), (0, 37), (6, 0), (8, 0), (45, 0), (37, 0), (11, 0), (11, 0), (11, 0), (11, 0), (11, 0), (11, 0), (11, 0), (11, 0), (11, 0), (11, 0), (11, 0), (11, 12), (11, 40), (0, 39), (0, 12), (2, 0), (21, 0), (55, 0), (38, 0), (11, 0), (11, 0), (11, 0), (11, 0), (11, 0), (11, 0), (11, 0), (11, 0), (11, 0), (11, 0), (11, 0), (11, 8), (11, 31), (0, 20), (0, 18), (24, 0), (58, 0), (42, 0), (12, 0), (11, 0), (11, 0), (11, 4), (11, 1), (11, 0), (11, 0), (11, 0), (11, 0), (11, 0), (11, 0), (11, 0), (11, 17), (11, 27), (0, 15), (0, 32), (0, 16), (36, 0), (51, 0), (11, 0), (11, 0), (11, 0), (11, 0), (11, 6), (11, 26), (11, 4), (11, 2), (11, 0), (11, 0), (11, 0), (11, 0), (11, 23), (11, 29), (0, 19), (0, 46), (0, 4), (30, 0), (43, 0), (14, 0), (12, 0), (11, 0), (11, 0), (11, 0), (11, 0), (11, 12), (11, 30), (11, 22), (11, 0), (11, 0), (11, 0), (11, 17), (11, 25), (0, 2), (0, 21), (0, 21), (30, 0), (47, 0), (17, 0), (15, 0), (11, 0), (11, 0), (11, 0), (11, 0), (11, 0), (11, 0), (11, 0), (11, 19), (11, 26), (11, 6), (11, 15), (11, 34), (0, 15), (0, 33), (20, 0), (46, 0), (36, 0), (17, 0), (11, 0), (11, 0), (11, 0), (11, 0), (11, 0), (11, 0), (11, 0), (11, 0), (11, 0), (11, 15), (11, 45), (11, 26), (0, 41), (42, 6), (44, 0), (22, 0), (12, 0), (11, 0), (11, 0), (11, 0), (11, 0), (11, 0), (11, 0), (11, 0), (11, 0), (11, 0), (11, 59), (0, 11), (39, 24), (32, 0), (21, 0), (11, 0), (11, 0), (11, 0), (11, 0), (11, 0), (11, 0), (11, 0), (11, 0), (11, 0), (11, 6), (11, 50), (0, 1), (20, 43), (32, 47), (11, 9), (11, 0), (11, 0), (11, 0), (11, 0), (11, 0), (11, 0), (11, 0), (11, 0), (11, 0), (11, 31), (11, 14), (0, 33), (7, 10), (33, 0), (11, 27), (11, 8), (11, 0), (11, 0), (11, 0), (11, 0), (11, 0), (11, 0), (11, 0), (11, 14), (11, 29), (0, 38), (0, 2), (32, 0), (33, 0), (22, 0), (11, 38), (11, 15), (11, 7), (11, 0), (11, 0), (11, 0), (11, 28), (11, 36), (11, 29), (11, 13), (0, 7), (0, 31), (29, 0), (33, 0), (33, 0), (11, 0), (11, 18), (11, 33), (11, 0), (11, 23), (11, 55), (11, 17), (0, 36), (0, 4), (28, 0), (31, 0), (11, 0), (11, 0), (11, 0), (11, 0), (11, 60), (11, 31), (0, 19), (0, 26), (11, 0), (37, 0), (24, 0), (11, 0), (11, 0), (11, 5), (11, 35), (11, 27), (13, 20), (16, 0), (1, 0), (17, 0), (34, 0), (11, 0), (11, 0), (11, 0), (11, 7), (11, 32), (32, 0), (30, 0), (32, 0), (28, 0), (11, 0), (11, 0), (11, 0), (11, 0), (11, 46), (11, 15), (14, 0), (15, 0), (13, 0), (11, 0), (11, 0), (11, 0), (11, 0), (11, 25), (11, 25), (11, 16), (11, 0), (11, 0), (11, 0), (11, 0), (11, 0), (11, 0), (11, 2), (11, 29), (11, 19), (11, 0), (11, 0), (11, 0), (11, 0), (11, 0), (11, 17), (11, 26), (11, 21), (11, 0), (11, 0), (11, 0), (11, 0), (11, 33), (11, 26), (31, 0), (16, 0), (1, 9), (0, 39), (0, 3), (7, 0), (11, 0), (35, 0), (48, 0), (32, 0), (11, 0), (11, 0), (11, 0), (11, 0), (11, 0), (11, 0), (11, 0), (11, 17), (14, 0), (0, 28), (0, 50), (0, 30), (5, 0), (9, 0), (45, 0), (50, 0), (18, 0), (11, 0), (11, 0), (11, 0), (11, 0), (11, 0), (11, 0), (11, 0), (11, 28), (0, 36), (0, 2), (0, 16), (0, 26), (2, 0), (6, 0), (39, 0), (42, 0), (11, 0), (11, 0), (11, 0), (11, 0), (11, 0), (11, 0), (11, 0), (11, 0), (11, 5), (11, 34), (0, 28), (0, 18), (0, 1), (39, 0), (40, 0), (11, 0), (11, 0), (11, 0), (11, 0), (11, 0), (11, 0), (11, 0), (11, 0), (11, 0), (11, 4), (11, 34), (0, 54), (0, 2), (15, 0), (56, 0), (57, 0), (31, 0), (11, 0), (11, 0), (11, 0), (11, 0), (11, 0), (11, 0), (11, 0), (11, 0), (11, 0), (11, 18), (11, 28), (0, 29), (0, 6), (13, 0), (53, 0), (43, 0), (14, 1), (12, 0), (11, 0), (11, 0), (11, 0), (11, 0), (11, 0), (11, 0), (11, 0), (11, 0), (11, 15), (11, 36), (0, 9), (0, 29), (0, 1), (14, 0), (46, 0), (44, 0), (19, 0), (16, 7), (13, 22), (11, 0), (11, 0), (11, 0), (11, 0), (11, 0), (11, 0), (11, 0), (11, 7), (11, 32), (0, 42), (0, 39), (0, 2), (3, 0), (44, 0), (42, 0), (19, 0), (17, 0), (11, 0), (11, 14), (11, 31), (11, 5), (11, 0), (11, 0), (11, 0), (11, 0), (11, 9), (11, 31), (11, 15), (0, 26), (0, 9), (9, 0), (39, 0), (38, 0), (26, 0), (11, 0), (11, 0), (11, 0), (11, 0), (11, 14), (11, 28), (11, 22), (11, 0), (11, 0), (11, 6), (11, 33), (11, 13), (0, 50), (4, 0), (33, 0), (37, 0), (28, 0), (14, 0), (11, 0), (11, 0), (11, 0), (11, 0), (11, 0), (11, 0), (11, 18), (11, 22), (11, 3), (11, 29), (11, 17), (0, 19), (0, 31), (10, 0), (33, 0), (32, 0), (27, 0), (13, 0), (11, 0), (11, 0), (11, 0), (11, 0), (11, 0), (11, 0), (11, 1), (11, 33), (11, 36), (11, 19), (0, 12), (0, 24), (0, 2), (29, 0), (35, 0), (34, 0), (13, 0), (11, 0), (11, 0), (11, 0), (11, 0), (11, 0), (11, 0), (11, 0), (11, 12), (11, 32), (0, 7), (0, 38), (16, 34), (28, 5), (35, 0), (13, 0), (11, 0), (11, 0), (11, 0), (11, 0), (11, 0), (11, 0), (11, 0), (11, 0), (11, 59), (0, 23), (0, 17), (14, 0), (41, 31), (26, 5), (11, 0), (11, 0), (11, 0), (11, 0), (11, 0), (11, 0), (11, 0), (11, 0), (11, 2), (11, 56), (0, 18), (0, 32), (12, 0), (43, 7), (28, 31), (11, 7), (11, 0), (11, 0), (11, 0), (11, 0), (11, 0), (11, 0), (11, 14), (11, 51), (11, 12), (0, 6), (0, 29), (0, 5), (10, 0), (33, 0), (37, 0), (14, 34), (11, 15), (11, 3), (11, 0), (11, 0), (11, 7), (11, 29), (11, 30), (0, 19), (0, 16), (8, 0), (16, 0), (46, 0), (44, 3), (11, 19), (11, 35), (11, 5), (11, 42), (11, 44), (11, 16), (0, 17), (0, 24), (0, 3), (1, 0), (17, 0), (49, 0), (34, 0), (15, 0), (11, 0), (11, 0), (11, 51), (11, 17), (0, 25), (5, 0), (33, 0), (22, 0), (11, 0), (11, 0), (11, 0), (11, 34), (11, 22), (0, 2), (14, 0), (29, 0), (11, 0), (11, 0), (11, 0), (11, 19), (11, 29), (31, 0), (3, 0), (19, 0), (54, 0), (11, 0), (11, 0), (11, 0), (11, 4), (11, 33), (11, 12), (19, 0), (43, 0), (47, 0), (29, 0), (13, 0), (11, 0), (11, 0), (11, 0), (11, 23), (11, 33), (11, 12), (11, 0), (11, 0), (15, 0), (12, 0), (11, 0), (11, 0), (11, 0), (11, 2), (11, 29), (11, 20), (11, 0), (11, 0), (11, 0), (11, 0), (11, 0), (11, 0), (11, 3), (11, 27), (11, 21), (11, 0), (11, 0), (11, 0), (11, 0), (11, 0), (11, 12), (11, 55), (11, 23), (22, 0), (31, 0), (10, 5), (0, 33), (0, 3), (31, 0), (59, 0), (40, 0), (11, 0), (11, 0), (11, 0), (11, 0), (11, 0), (11, 0), (37, 0), (2, 0), (0, 5), (0, 34), (0, 36), (0, 43), (0, 17), (41, 0), (59, 0), (26, 0), (11, 0), (11, 0), (11, 0), (11, 0), (11, 0), (11, 0), (0, 7), (0, 47), (0, 14), (9, 0), (53, 0), (45, 0), (14, 0), (12, 0), (11, 0), (11, 0), (11, 0), (11, 0), (11, 0), (11, 22), (0, 1), (0, 16), (0, 27), (15, 0), (48, 0), (42, 0), (19, 0), (15, 0), (11, 0), (11, 0), (11, 0), (11, 0), (11, 0), (11, 0), (11, 31), (0, 2), (0, 30), (0, 3), (24, 0), (45, 0), (21, 0), (19, 0), (11, 0), (11, 0), (11, 0), (11, 0), (11, 0), (11, 0), (11, 5), (11, 31), (0, 25), (0, 20), (8, 0), (39, 0), (38, 0), (25, 0), (21, 0), (12, 0), (11, 0), (11, 0), (11, 0), (11, 0), (11, 0), (11, 0), (11, 43), (11, 16), (0, 55), (0, 6), (6, 0), (32, 0), (37, 0), (33, 15), (27, 20), (11, 0), (11, 0), (11, 0), (11, 0), (11, 0), (11, 0), (11, 0), (11, 36), (0, 2), (0, 32), (0, 1), (2, 0), (32, 0), (34, 0), (32, 0), (24, 0), (12, 19), (11, 17), (11, 0), (11, 0), (11, 0), (11, 0), (11, 0), (11, 25), (11, 22), (0, 26), (0, 9), (4, 0), (24, 0), (46, 0), (39, 0), (19, 0), (25, 0), (11, 0), (11, 23), (11, 26), (11, 0), (11, 0), (11, 0), (11, 33), (11, 20), (0, 49), (0, 2), (20, 0), (37, 0), (39, 0), (20, 0), (11, 0), (11, 0), (31, 0), (32, 0), (21, 8), (11, 30), (11, 0), (11, 22), (11, 22), (0, 12), (0, 35), (2, 0), (17, 0), (22, 0), (40, 0), (25, 0), (11, 0), (11, 0), (11, 0), (18, 0), (34, 0), (32, 0), (28, 16), (19, 38), (11, 27), (0, 16), (0, 44), (0, 29), (1, 16), (11, 1), (15, 0), (42, 0), (24, 0), (11, 0), (11, 0), (11, 0), (11, 0), (11, 0), (11, 0), (23, 0), (33, 24), (21, 23), (0, 33), (0, 19), (0, 14), (1, 30), (12, 19), (47, 0), (46, 0), (18, 0), (11, 0), (11, 0), (11, 0), (11, 0), (11, 0), (11, 0), (11, 13), (34, 31), (13, 11), (0, 24), (0, 21), (0, 1), (6, 12), (30, 29), (52, 3), (38, 0), (11, 0), (11, 0), (11, 0), (11, 0), (11, 0), (11, 0), (11, 0), (11, 56), (11, 12), (0, 3), (0, 40), (3, 0), (29, 11), (54, 27), (40, 6), (11, 0), (11, 0), (11, 0), (11, 0), (11, 0), (11, 0), (11, 34), (11, 12), (0, 17), (0, 19), (1, 0), (17, 0), (53, 6), (33, 29), (18, 8), (11, 0), (11, 0), (11, 0), (11, 16), (11, 35), (11, 22), (0, 38), (0, 3), (7, 0), (55, 8), (11, 21), (11, 20), (11, 46), (11, 29), (11, 13), (0, 23), (0, 22), (16, 0), (52, 0), (11, 0), (11, 0), (11, 30), (11, 37), (0, 15), (34, 0), (55, 0), (31, 0), (12, 0), (11, 29), (11, 13), (27, 0), (48, 0), (36, 0), (15, 0), (11, 0), (11, 20), (11, 29), (4, 0), (5, 0), (40, 0), (22, 0), (13, 0), (11, 0), (11, 9), (11, 44), (28, 0), (24, 0), (21, 0), (49, 0), (19, 0), (11, 0), (11, 0), (11, 0), (11, 25), (11, 21), (20, 0), (30, 0), (39, 0), (33, 0), (11, 0), (11, 0), (11, 0), (11, 0), (11, 2), (11, 31), (11, 13), (11, 0), (11, 0), (18, 0), (11, 0), (11, 0), (11, 0), (11, 0), (11, 2), (11, 32), (11, 20), (11, 0), (11, 0), (11, 0), (11, 0), (11, 0), (11, 0), (11, 12), (11, 54), (11, 12), (32, 0), (29, 37), (0, 19), (0, 7), (0, 2), (14, 0), (33, 0), (15, 0), (11, 0), (11, 0), (11, 0), (11, 0), (37, 0), (9, 6), (0, 29), (0, 27), (0, 27), (0, 29), (0, 7), (30, 0), (22, 0), (11, 0), (11, 0), (11, 0), (11, 0), (11, 0), (10, 0), (0, 30), (0, 6), (5, 0), (39, 0), (31, 0), (19, 0), (11, 0), (11, 0), (11, 0), (11, 0), (11, 2), (0, 10), (0, 25), (0, 1), (8, 0), (32, 0), (35, 0), (21, 0), (11, 0), (11, 0), (11, 0), (11, 0), (11, 0), (11, 6), (0, 36), (0, 12), (30, 0), (32, 0), (32, 0), (17, 0), (11, 0), (11, 0), (11, 0), (11, 0), (11, 0), (11, 30), (0, 22), (4, 19), (25, 4), (29, 0), (35, 0), (29, 0), (11, 0), (11, 0), (11, 0), (11, 0), (11, 0), (11, 4), (11, 32), (0, 59), (11, 0), (23, 28), (29, 12), (32, 0), (11, 0), (11, 0), (11, 0), (11, 0), (11, 0), (11, 0), (11, 51), (11, 12), (0, 6), (0, 32), (46, 0), (43, 0), (54, 0), (52, 0), (53, 2), (42, 31), (26, 11), (11, 0), (11, 0), (11, 0), (11, 0), (11, 3), (11, 35), (0, 18), (0, 24), (42, 0), (14, 0), (15, 0), (32, 0), (26, 0), (44, 0), (44, 0), (42, 28), (32, 16), (11, 0), (11, 0), (11, 0), (11, 38), (11, 16), (0, 1), (0, 50), (48, 0), (8, 0), (35, 0), (50, 0), (49, 0), (19, 0), (17, 0), (33, 1), (43, 23), (30, 16), (11, 12), (11, 49), (0, 37), (0, 25), (0, 24), (0, 25), (0, 2), (36, 0), (34, 0), (54, 0), (35, 0), (51, 0), (35, 0), (15, 0), (17, 0), (26, 0), (35, 24), (37, 48), (11, 18), (0, 39), (0, 17), (0, 15), (0, 29), (0, 42), (0, 5), (33, 0), (61, 0), (34, 0), (11, 0), (31, 0), (51, 0), (50, 0), (28, 0), (16, 13), (32, 47), (44, 16), (0, 11), (0, 35), (0, 10), (0, 27), (0, 30), (2, 0), (47, 0), (43, 0), (11, 0), (11, 0), (11, 0), (31, 0), (52, 0), (50, 1), (15, 34), (42, 25), (46, 11), (0, 45), (0, 1), (0, 11), (0, 33), (17, 1), (39, 0), (13, 0), (11, 0), (11, 0), (11, 0), (11, 0), (23, 0), (52, 18), (51, 29), (49, 11), (48, 11), (0, 2), (0, 41), (0, 13), (18, 26), (56, 0), (15, 0), (13, 0), (11, 0), (11, 0), (11, 0), (45, 36), (53, 11), (52, 11), (29, 11), (0, 20), (0, 16), (35, 8), (48, 42), (33, 2), (15, 0), (13, 0), (12, 4), (11, 23), (51, 34), (57, 11), (55, 11), (35, 11), (0, 41), (46, 0), (33, 7), (50, 27), (34, 3), (16, 19), (18, 39), (13, 21), (60, 11), (50, 11), (40, 11), (26, 11), (0, 20), (0, 23), (15, 0), (55, 0), (46, 0), (36, 5), (19, 66), (18, 36), (34, 11), (40, 11), (27, 11), (17, 11), (0, 15), (5, 0), (36, 0), (45, 0), (34, 0), (23, 31), (32, 15), (48, 11), (51, 11), (26, 11), (15, 11), (12, 11), (23, 0), (41, 0), (28, 0), (23, 0), (21, 40), (24, 11), (35, 11), (31, 11), (19, 11), (13, 11), (5, 0), (30, 0), (35, 0), (24, 0), (17, 0), (11, 14), (11, 32), (14, 11), (23, 11), (23, 11), (15, 11), (5, 0), (18, 0), (29, 0), (36, 0), (13, 0), (11, 0), (11, 0), (11, 57), (33, 0), (17, 0), (8, 0), (23, 0), (37, 0), (22, 0), (11, 0), (11, 0), (11, 0), (11, 1), (11, 52), (21, 0), (32, 0), (34, 0), (26, 0), (11, 0), (11, 0), (11, 0), (11, 0), (11, 2), (11, 32), (11, 13), (11, 0), (11, 0), (11, 0), (11, 0), (11, 0), (11, 0), (11, 0), (11, 0), (11, 39), (11, 17), (14, 4), (33, 50), (1, 36), (0, 3), (0, 1), (14, 0), (33, 0), (12, 0), (11, 0), (11, 0), (11, 0), (26, 2), (21, 26), (5, 12), (0, 15), (0, 33), (0, 26), (0, 5), (29, 0), (24, 0), (11, 0), (11, 0), (11, 0), (11, 0), (45, 7), (0, 28), (16, 0), (29, 0), (20, 0), (11, 0), (11, 0), (11, 0), (11, 0), (9, 43), (0, 4), (3, 0), (27, 0), (39, 0), (11, 0), (11, 0), (11, 0), (11, 0), (11, 0), (0, 5), (17, 0), (36, 0), (38, 0), (11, 0), (11, 0), (11, 0), (11, 0), (11, 26), (0, 13), (1, 3), (11, 0), (22, 0), (47, 0), (11, 0), (11, 0), (11, 0), (11, 0), (11, 1), (11, 32), (0, 56), (4, 0), (36, 0), (38, 7), (49, 27), (20, 9), (47, 0), (27, 0), (11, 0), (11, 0), (11, 0), (11, 0), (11, 36), (11, 19), (0, 12), (0, 28), (3, 0), (5, 0), (54, 0), (56, 0), (53, 0), (2, 0), (4, 0), (44, 29), (53, 11), (36, 0), (11, 0), (11, 0), (11, 1), (11, 27), (11, 21), (0, 27), (0, 8), (4, 0), (44, 0), (1, 0), (3, 0), (5, 2), (53, 29), (46, 27), (11, 15), (11, 33), (11, 24), (0, 5), (0, 42), (0, 2), (0, 3), (0, 6), (5, 0), (42, 0), (1, 0), (4, 3), (53, 30), (11, 39), (11, 29), (0, 5), (0, 61), (0, 36), (0, 33), (0, 30), (0, 54), (0, 23), (48, 0), (17, 0), (1, 0), (2, 0), (18, 16), (33, 28), (0, 36), (0, 10), (0, 1), (0, 38), (0, 2), (47, 0), (21, 0), (49, 0), (24, 0), (0, 14), (3, 30), (40, 12), (0, 47), (0, 18), (0, 17), (44, 0), (14, 0), (45, 0), (42, 0), (49, 0), (22, 0), (0, 10), (0, 24), (0, 29), (42, 11), (0, 6), (0, 39), (0, 17), (0, 19), (26, 0), (56, 0), (36, 0), (16, 0), (36, 0), (48, 0), (31, 0), (0, 1), (0, 34), (0, 26), (0, 11), (44, 11), (0, 25), (0, 11), (16, 23), (20, 27), (38, 0), (40, 0), (26, 0), (27, 0), (42, 0), (45, 0), (12, 11), (0, 33), (0, 11), (24, 11), (51, 11), (20, 11), (0, 32), (0, 6), (33, 0), (6, 8), (23, 30), (38, 0), (34, 0), (41, 0), (43, 4), (11, 35), (0, 39), (0, 11), (20, 11), (52, 11), (43, 11), (12, 11), (0, 42), (19, 0), (27, 0), (1, 16), (20, 29), (37, 0), (38, 26), (41, 37), (0, 17), (5, 11), (12, 11), (29, 11), (40, 11), (17, 11), (12, 11), (0, 45), (1, 0), (48, 0), (11, 0), (32, 4), (34, 72), (18, 26), (18, 11), (23, 11), (35, 11), (44, 11), (29, 11), (22, 11), (12, 11), (0, 2), (20, 0), (17, 0), (11, 0), (28, 8), (19, 39), (5, 11), (2, 11), (25, 11), (37, 11), (33, 11), (24, 11), (18, 11), (23, 0), (12, 0), (22, 0), (25, 0), (28, 34), (27, 14), (17, 11), (33, 11), (33, 11), (25, 11), (39, 0), (27, 0), (31, 0), (26, 0), (24, 41), (35, 11), (28, 11), (29, 11), (33, 11), (31, 11), (12, 11), (3, 0), (8, 0), (56, 0), (23, 0), (13, 0), (11, 22), (11, 28), (32, 11), (39, 11), (32, 11), (12, 0), (52, 0), (45, 0), (11, 0), (11, 0), (11, 0), (11, 56), (22, 11), (14, 11), (33, 0), (20, 0), (23, 0), (34, 0), (33, 0), (11, 0), (11, 0), (11, 0), (11, 0), (11, 22), (11, 24), (18, 0), (22, 0), (20, 0), (13, 0), (11, 0), (11, 0), (11, 0), (11, 0), (11, 3), (11, 35), (11, 12), (2, 36), (28, 16), (42, 49), (11, 48), (9, 18), (9, 0), (46, 0), (11, 0), (11, 0), (11, 0), (0, 13), (33, 24), (13, 0), (0, 2), (0, 3), (0, 1), (1, 0), (26, 0), (19, 0), (11, 0), (11, 0), (11, 0), (46, 31), (0, 10), (2, 0), (36, 0), (41, 0), (11, 0), (11, 0), (11, 0), (14, 1), (1, 0), (10, 0), (54, 0), (14, 0), (11, 0), (11, 0), (11, 0), (2, 0), (0, 8), (0, 3), (1, 0), (7, 0), (56, 0), (50, 0), (11, 0), (11, 0), (11, 0), (0, 10), (0, 30), (5, 0), (8, 0), (58, 0), (46, 0), (16, 0), (11, 0), (11, 0), (11, 21), (0, 16), (2, 0), (6, 0), (7, 0), (20, 0), (28, 0), (32, 0), (35, 0), (39, 8), (42, 33), (37, 6), (43, 0), (58, 0), (37, 0), (11, 0), (11, 0), (11, 3), (11, 34), (0, 18), (0, 24), (0, 1), (23, 0), (33, 0), (35, 0), (18, 0), (6, 0), (2, 0), (0, 6), (0, 29), (24, 36), (56, 37), (45, 38), (15, 38), (11, 37), (11, 61), (0, 22), (0, 20), (0, 5), (0, 6), (0, 6), (0, 5), (0, 9), (0, 3), (26, 0), (9, 0), (0, 5), (0, 14), (13, 16), (55, 30), (21, 35), (12, 41), (0, 27), (0, 44), (0, 39), (0, 42), (0, 45), (0, 48), (0, 36), (25, 2), (10, 0), (0, 3), (0, 3), (52, 3), (23, 22), (14, 25), (0, 50), (0, 28), (13, 9), (30, 0), (0, 1), (29, 17), (25, 32), (12, 11), (0, 6), (0, 40), (0, 19), (0, 16), (47, 0), (0, 15), (17, 49), (26, 11), (0, 12), (0, 31), (0, 18), (0, 17), (46, 0), (3, 0), (0, 1), (0, 22), (16, 22), (28, 11), (0, 22), (0, 13), (0, 17), (0, 18), (16, 0), (43, 0), (33, 0), (39, 0), (15, 0), (0, 11), (0, 36), (0, 27), (14, 11), (29, 11), (0, 36), (0, 1), (14, 28), (22, 21), (1, 3), (6, 0), (25, 0), (26, 0), (5, 0), (0, 36), (0, 12), (0, 11), (7, 11), (30, 11), (17, 11), (0, 40), (5, 0), (36, 0), (0, 13), (0, 27), (0, 1), (13, 0), (0, 1), (0, 9), (0, 49), (0, 13), (0, 11), (0, 11), (10, 11), (31, 11), (0, 25), (0, 21), (48, 0), (3, 0), (0, 13), (0, 33), (0, 33), (0, 31), (0, 11), (0, 11), (0, 11), (7, 11), (34, 11), (31, 11), (0, 19), (22, 0), (15, 0), (0, 10), (0, 60), (0, 55), (0, 12), (0, 11), (0, 11), (0, 11), (18, 11), (29, 11), (29, 11), (15, 11), (28, 0), (6, 0), (0, 3), (0, 31), (0, 21), (0, 11), (0, 11), (0, 11), (12, 11), (24, 11), (31, 11), (34, 11), (1, 0), (36, 0), (1, 0), (0, 21), (0, 23), (0, 11), (0, 11), (0, 11), (8, 11), (25, 11), (42, 11), (20, 11), (3, 0), (36, 0), (5, 0), (26, 0), (29, 32), (4, 15), (1, 11), (0, 11), (7, 11), (18, 11), (44, 11), (16, 11), (38, 0), (25, 0), (43, 0), (43, 0), (18, 0), (57, 41), (55, 11), (15, 11), (9, 11), (15, 11), (50, 11), (43, 11), (13, 11), (6, 0), (61, 0), (37, 0), (14, 0), (13, 0), (12, 18), (11, 31), (22, 11), (53, 11), (32, 11), (47, 11), (50, 11), (17, 11), (6, 0), (9, 0), (11, 0), (18, 0), (37, 0), (38, 0), (17, 0), (13, 0), (11, 0), (11, 8), (11, 43), (14, 11), (57, 11), (55, 11), (33, 0), (32, 0), (31, 0), (25, 0), (13, 0), (11, 0), (11, 0), (11, 0), (11, 1), (11, 31), (11, 14), (12, 11), (12, 11), (17, 11), (20, 11), (0, 14), (0, 31), (5, 20), (28, 17), (48, 37), (44, 16), (14, 0), (15, 0), (30, 0), (11, 0), (11, 0), (0, 49), (29, 0), (28, 0), (15, 0), (56, 0), (33, 0), (11, 0), (11, 0), (41, 17), (4, 0), (7, 0), (44, 0), (15, 0), (11, 0), (33, 0), (49, 0), (46, 0), (18, 0), (12, 0), (8, 0), (0, 19), (0, 14), (56, 0), (25, 0), (15, 0), (0, 8), (0, 20), (3, 36), (13, 0), (16, 0), (20, 0), (19, 0), (56, 0), (40, 0), (18, 0), (16, 2), (0, 10), (4, 0), (11, 0), (14, 0), (18, 0), (21, 0), (25, 0), (28, 0), (32, 0), (32, 8), (21, 27), (18, 17), (14, 19), (31, 22), (35, 24), (23, 26), (21, 29), (11, 37), (0, 24), (0, 21), (0, 14), (0, 24), (30, 0), (23, 0), (19, 0), (16, 0), (12, 0), (9, 0), (5, 0), (2, 0), (0, 11), (0, 17), (0, 14), (13, 12), (40, 10), (33, 9), (23, 14), (15, 31), (0, 25), (0, 16), (0, 19), (0, 31), (0, 30), (0, 30), (0, 34), (1, 23), (32, 3), (3, 0), (33, 2), (41, 17), (33, 53), (23, 11), (0, 10), (0, 40), (0, 17), (0, 7), (0, 6), (0, 5), (0, 3), (0, 22), (29, 13), (6, 0), (31, 0), (38, 36), (30, 16), (19, 11), (0, 18), (0, 23), (0, 11), (24, 29), (11, 0), (28, 20), (32, 31), (17, 11), (0, 21), (0, 16), (0, 9), (20, 30), (18, 0), (25, 51), (28, 18), (0, 24), (0, 11), (0, 19), (5, 16), (41, 0), (0, 36), (23, 16), (30, 11), (0, 26), (0, 9), (0, 17), (0, 36), (11, 0), (49, 0), (22, 0), (27, 0), (8, 0), (0, 13), (0, 28), (0, 22), (20, 11), (32, 11), (0, 35), (0, 13), (0, 12), (25, 31), (2, 9), (12, 0), (9, 0), (1, 0), (0, 12), (0, 30), (0, 17), (0, 11), (43, 11), (0, 6), (0, 33), (4, 0), (37, 0), (0, 8), (0, 30), (0, 4), (0, 2), (0, 35), (0, 41), (0, 13), (0, 11), (0, 11), (13, 11), (39, 11), (0, 27), (0, 1), (13, 0), (30, 0), (0, 46), (0, 7), (0, 14), (0, 33), (0, 21), (0, 11), (0, 11), (0, 11), (1, 11), (15, 11), (39, 11), (28, 0), (7, 0), (0, 6), (0, 32), (0, 49), (0, 34), (0, 13), (0, 11), (0, 11), (0, 11), (0, 11), (17, 11), (37, 11), (18, 11), (33, 0), (1, 0), (0, 2), (0, 28), (0, 18), (0, 11), (0, 11), (0, 11), (0, 11), (3, 11), (49, 11), (22, 11), (38, 0), (11, 0), (0, 3), (0, 30), (0, 21), (0, 11), (0, 11), (0, 11), (0, 11), (4, 11), (37, 11), (54, 11), (26, 11), (57, 0), (0, 24), (0, 19), (0, 11), (0, 11), (0, 11), (0, 11), (0, 11), (44, 11), (57, 11), (24, 11), (13, 0), (36, 0), (6, 0), (33, 0), (0, 40), (0, 17), (0, 11), (0, 11), (0, 11), (0, 11), (5, 11), (57, 11), (33, 11), (29, 0), (5, 0), (13, 0), (37, 0), (38, 0), (39, 0), (43, 44), (32, 11), (3, 11), (0, 11), (0, 11), (3, 11), (44, 11), (31, 11), (12, 11), (4, 0), (12, 0), (44, 0), (33, 0), (33, 0), (31, 0), (30, 0), (22, 12), (31, 33), (43, 11), (37, 11), (0, 11), (0, 11), (49, 11), (35, 11), (16, 11), (13, 11), (9, 0), (11, 0), (13, 0), (28, 0), (44, 0), (29, 0), (15, 0), (14, 0), (12, 0), (11, 17), (21, 30), (29, 11), (31, 11), (41, 11), (37, 11), (35, 11), (47, 11), (28, 11), (15, 11), (0, 40), (0, 24), (0, 27), (3, 23), (34, 16), (51, 3), (44, 0), (33, 0), (24, 0), (41, 0), (20, 0), (0, 21), (5, 0), (32, 0), (31, 0), (13, 0), (26, 0), (31, 0), (20, 0), (40, 0), (3, 0), (0, 1), (0, 1), (22, 0), (45, 0), (39, 0), (43, 0), (3, 0), (0, 4), (0, 16), (0, 2), (21, 0), (43, 0), (38, 0), (22, 0), (0, 15), (0, 23), (0, 16), (0, 3), (0, 3), (23, 0), (23, 0), (27, 0), (38, 0), (0, 14), (2, 20), (6, 35), (9, 13), (13, 9), (19, 8), (39, 7), (10, 6), (34, 5), (35, 7), (0, 3), (0, 10), (0, 18), (27, 0), (51, 0), (35, 0), (11, 0), (15, 0), (18, 0), (22, 0), (25, 0), (31, 0), (28, 22), (24, 37), (21, 36), (20, 34), (49, 33), (26, 31), (31, 29), (33, 41), (0, 30), (0, 17), (0, 11), (0, 9), (0, 35), (0, 28), (0, 21), (12, 22), (9, 0), (1, 0), (9, 0), (22, 0), (19, 0), (15, 0), (12, 0), (8, 0), (1, 0), (24, 0), (33, 0), (29, 0), (34, 26), (0, 37), (0, 53), (0, 34), (0, 39), (0, 10), (0, 11), (53, 26), (0, 9), (17, 0), (33, 2), (28, 36), (0, 27), (0, 10), (0, 2), (5, 9), (33, 35), (9, 0), (30, 20), (0, 26), (0, 9), (28, 46), (8, 0), (13, 25), (38, 39), (40, 16), (0, 35), (23, 45), (12, 0), (0, 3), (23, 29), (25, 17), (38, 11), (0, 28), (0, 8), (0, 19), (11, 16), (33, 0), (0, 33), (21, 19), (36, 11), (0, 8), (0, 30), (0, 20), (2, 35), (45, 0), (42, 0), (15, 0), (19, 0), (6, 0), (0, 11), (0, 36), (0, 23), (18, 11), (26, 11), (0, 51), (0, 4), (0, 1), (30, 0), (6, 46), (4, 6), (18, 0), (15, 0), (3, 0), (0, 35), (0, 32), (0, 14), (0, 11), (16, 11), (28, 11), (0, 13), (0, 29), (48, 0), (2, 0), (0, 2), (0, 30), (0, 3), (0, 36), (0, 18), (0, 11), (0, 11), (0, 11), (13, 11), (30, 11), (0, 33), (28, 0), (6, 0), (0, 47), (0, 8), (0, 1), (0, 17), (0, 39), (0, 22), (0, 11), (0, 11), (0, 11), (0, 11), (19, 11), (26, 11), (0, 1), (2, 0), (32, 0), (1, 0), (0, 27), (0, 42), (0, 47), (0, 36), (0, 11), (0, 11), (0, 11), (0, 11), (0, 11), (0, 11), (54, 11), (4, 0), (28, 0), (4, 0), (0, 21), (0, 57), (0, 42), (0, 11), (0, 11), (0, 11), (0, 11), (0, 11), (0, 11), (39, 11), (12, 11), (10, 0), (30, 0), (6, 0), (0, 1), (0, 24), (0, 60), (0, 58), (0, 11), (0, 11), (0, 11), (0, 11), (0, 11), (0, 11), (29, 11), (54, 11), (14, 11), (22, 0), (22, 0), (0, 6), (0, 22), (0, 55), (0, 58), (0, 27), (0, 11), (0, 11), (7, 11), (0, 11), (0, 11), (30, 11), (44, 11), (21, 11), (18, 0), (25, 0), (0, 1), (0, 5), (0, 14), (0, 28), (0, 47), (0, 34), (0, 13), (0, 11), (0, 11), (0, 11), (18, 11), (21, 11), (42, 11), (21, 11), (17, 11), (4, 0), (30, 0), (1, 0), (2, 8), (0, 19), (0, 31), (0, 17), (0, 13), (0, 11), (0, 11), (0, 11), (20, 11), (38, 11), (19, 11), (14, 11), (12, 0), (26, 0), (4, 0), (9, 0), (18, 0), (20, 0), (28, 4), (14, 35), (0, 19), (0, 11), (0, 11), (0, 11), (0, 11), (16, 11), (37, 11), (35, 11), (15, 11), (22, 0), (26, 0), (24, 0), (40, 0), (41, 0), (42, 0), (45, 0), (36, 48), (21, 16), (14, 12), (1, 11), (0, 11), (0, 11), (1, 11), (22, 11), (33, 11), (18, 11), (0, 34), (0, 3), (0, 6), (0, 6), (0, 4), (2, 0), (21, 0), (50, 0), (46, 0), (17, 0), (30, 0), (40, 0), (0, 1), (4, 0), (34, 0), (38, 0), (35, 0), (31, 0), (20, 0), (1, 0), (8, 0), (41, 0), (35, 0), (36, 0), (5, 0), (0, 3), (0, 1), (23, 0), (12, 0), (6, 0), (3, 0), (41, 0), (0, 7), (0, 25), (0, 20), (0, 14), (14, 0), (25, 0), (2, 0), (5, 0), (27, 0), (0, 21), (0, 28), (0, 30), (0, 28), (0, 15), (0, 24), (53, 22), (2, 20), (0, 9), (0, 9), (0, 3), (0, 12), (3, 30), (6, 31), (28, 32), (12, 33), (0, 35), (0, 37), (3, 40), (0, 9), (0, 23), (0, 47), (0, 37), (2, 13), (40, 0), (58, 0), (59, 0), (20, 0), (8, 0), (12, 0), (43, 0), (19, 0), (35, 0), (34, 0), (31, 0), (28, 0), (33, 0), (10, 0), (13, 0), (0, 36), (0, 28), (0, 30), (0, 33), (0, 52), (0, 19), (0, 7), (4, 0), (0, 27), (0, 8), (17, 0), (26, 0), (22, 0), (2, 0), (15, 0), (2, 0), (48, 0), (7, 0), (10, 0), (0, 14), (0, 29), (0, 3), (1, 0), (15, 0), (27, 17), (0, 24), (42, 0), (2, 0), (0, 19), (0, 17), (0, 24), (14, 0), (34, 0), (5, 48), (16, 0), (20, 1), (2, 31), (0, 19), (0, 24), (11, 0), (30, 47), (7, 0), (31, 3), (8, 31), (0, 1), (0, 34), (0, 13), (29, 25), (7, 0), (0, 17), (50, 33), (8, 18), (0, 35), (0, 16), (23, 21), (12, 1), (0, 8), (0, 32), (16, 12), (68, 11), (0, 1), (0, 35), (1, 17), (61, 30), (45, 2), (9, 0), (12, 0), (7, 0), (0, 1), (0, 17), (0, 41), (0, 11), (34, 11), (18, 11), (0, 16), (0, 27), (28, 0), (8, 6), (5, 29), (25, 1), (22, 0), (9, 0), (0, 3), (0, 45), (0, 28), (0, 11), (2, 11), (31, 11), (14, 11), (0, 24), (0, 20), (43, 0), (6, 0), (0, 14), (0, 35), (0, 1), (0, 64), (0, 11), (0, 11), (0, 11), (7, 11), (33, 11), (0, 39), (29, 0), (5, 0), (0, 38), (0, 13), (0, 16), (0, 18), (0, 26), (0, 49), (0, 16), (0, 11), (0, 11), (0, 11), (6, 11), (33, 11), (0, 1), (26, 0), (18, 0), (0, 22), (0, 30), (0, 18), (0, 37), (0, 29), (0, 12), (0, 11), (0, 11), (0, 11), (0, 11), (7, 11), (34, 11), (49, 0), (6, 0), (0, 42), (0, 10), (0, 33), (0, 16), (0, 11), (0, 11), (0, 11), (0, 11), (0, 11), (39, 11), (18, 11), (33, 0), (4, 0), (0, 5), (0, 15), (0, 38), (0, 45), (0, 26), (0, 11), (0, 11), (0, 11), (0, 11), (0, 11), (0, 11), (46, 11), (15, 11), (7, 0), (28, 0), (0, 1), (0, 13), (0, 32), (0, 23), (0, 1), (0, 26), (0, 25), (0, 17), (0, 11), (0, 11), (0, 11), (0, 11), (5, 11), (27, 11), (33, 11), (33, 0), (3, 0), (0, 2), (0, 14), (0, 29), (0, 17), (0, 37), (0, 25), (0, 11), (0, 11), (0, 11), (0, 11), (3, 11), (30, 11), (32, 11), (26, 11), (6, 0), (29, 0), (1, 0), (25, 0), (0, 18), (0, 35), (0, 32), (0, 14), (0, 11), (0, 11), (0, 11), (4, 11), (29, 11), (31, 11), (19, 11), (6, 0), (45, 0), (14, 0), (14, 12), (0, 31), (0, 33), (0, 17), (0, 11), (0, 11), (0, 11), (0, 11), (7, 11), (37, 11), (10, 0), (28, 0), (35, 10), (0, 32), (0, 25), (0, 19), (0, 11), (0, 11), (0, 11), (0, 11), (5, 11), (30, 11), (16, 11), (22, 0), (35, 0), (23, 0), (42, 0), (11, 0), (5, 0), (22, 0), (19, 0), (6, 0), (2, 0), (36, 0), (45, 0), (41, 0), (38, 0), (20, 0), (13, 0), (10, 0), (38, 0), (30, 0), (32, 0), (8, 0), (0, 22), (0, 1), (34, 0), (2, 0), (31, 0), (16, 0), (0, 34), (0, 32), (0, 29), (0, 26), (0, 25), (0, 14), (0, 29), (57, 30), (1, 30), (0, 31), (0, 31), (19, 0), (0, 1), (0, 3), (0, 1), (0, 5), (0, 13), (0, 15), (0, 29), (20, 19), (0, 22), (0, 32), (0, 31), (0, 8), (0, 15), (0, 39), (0, 46), (3, 0), (11, 0), (1, 6), (31, 6), (4, 6), (0, 5), (0, 4), (0, 3), (0, 20), (0, 20), (0, 35), (0, 30), (0, 1), (1, 31), (19, 3), (30, 0), (50, 0), (24, 0), (1, 0), (5, 0), (8, 0), (16, 0), (41, 0), (41, 0), (38, 0), (37, 0), (32, 0), (3, 0), (0, 49), (0, 31), (0, 22), (0, 20), (0, 5), (1, 0), (0, 21), (0, 16), (26, 0), (29, 0), (25, 0), (19, 0), (2, 0), (28, 0), (7, 0), (0, 49), (0, 8), (8, 0), (20, 0), (0, 49), (35, 0), (17, 0), (0, 1), (0, 56), (1, 0), (36, 0), (3, 0), (0, 48), (2, 0), (43, 0), (0, 6), (0, 57), (31, 0), (19, 46), (20, 0), (17, 0), (0, 27), (0, 1), (0, 34), (0, 15), (36, 23), (6, 1), (32, 26), (0, 25), (0, 35), (0, 1), (23, 45), (12, 3), (3, 28), (34, 18), (2, 11), (0, 36), (3, 0), (59, 30), (56, 14), (18, 0), (5, 0), (7, 0), (1, 0), (0, 8), (0, 11), (0, 21), (0, 27), (19, 11), (42, 11), (0, 37), (12, 0), (26, 0), (9, 1), (1, 33), (22, 3), (28, 0), (20, 0), (2, 0), (0, 5), (0, 15), (0, 28), (0, 29), (0, 41), (0, 34), (0, 11), (4, 11), (54, 11), (0, 36), (0, 13), (18, 0), (22, 0), (11, 0), (0, 10), (0, 29), (0, 8), (0, 13), (0, 13), (0, 37), (0, 42), (0, 11), (0, 40), (0, 19), (0, 11), (0, 11), (19, 11), (34, 11), (0, 10), (4, 0), (29, 0), (0, 2), (0, 34), (0, 52), (0, 33), (0, 33), (0, 32), (0, 23), (0, 38), (0, 18), (0, 13), (0, 11), (0, 11), (33, 11), (12, 11), (2, 0), (55, 0), (0, 10), (0, 28), (0, 6), (0, 24), (0, 35), (0, 17), (0, 11), (0, 11), (0, 11), (3, 11), (33, 11), (12, 11), (2, 0), (29, 0), (7, 0), (0, 12), (0, 33), (0, 20), (0, 19), (0, 35), (0, 22), (0, 11), (0, 11), (0, 11), (0, 11), (6, 11), (34, 11), (12, 0), (23, 0), (0, 2), (0, 38), (0, 27), (0, 18), (0, 1), (0, 23), (0, 33), (0, 16), (0, 11), (0, 11), (0, 11), (0, 11), (32, 11), (39, 0), (6, 0), (0, 3), (0, 24), (0, 8), (0, 4), (0, 23), (0, 32), (0, 13), (0, 11), (0, 11), (0, 11), (0, 11), (0, 11), (21, 11), (27, 11), (22, 0), (19, 0), (0, 1), (0, 3), (0, 26), (0, 25), (0, 11), (0, 11), (0, 11), (0, 11), (0, 11), (2, 11), (23, 11), (25, 11), (7, 0), (29, 0), (8, 0), (26, 0), (0, 13), (0, 35), (0, 14), (0, 11), (0, 11), (0, 11), (3, 11), (10, 11), (33, 11), (25, 11), (6, 0), (30, 0), (2, 0), (16, 0), (31, 0), (0, 16), (0, 34), (0, 11), (0, 11), (0, 11), (0, 11), (0, 11), (5, 11), (51, 11), (28, 11), (6, 0), (28, 0), (7, 0), (35, 0), (0, 10), (0, 27), (0, 31), (0, 18), (0, 11), (0, 11), (0, 11), (0, 11), (6, 11), (48, 11), (18, 0), (5, 0), (53, 0), (30, 0), (26, 0), (39, 0), (3, 0), (27, 0), (9, 0), (11, 0), (52, 0), (48, 0), (45, 0), (29, 0), (35, 0), (4, 0), (7, 0), (0, 1), (3, 0), (27, 0), (37, 0), (35, 0), (29, 0), (26, 0), (0, 1), (0, 17), (0, 3), (0, 2), (0, 4), (0, 4), (0, 11), (45, 13), (7, 16), (0, 18), (0, 20), (1, 0), (24, 0), (0, 16), (0, 36), (0, 36), (0, 32), (0, 29), (0, 30), (12, 23), (37, 20), (0, 19), (0, 17), (0, 16), (17, 0), (0, 2), (0, 10), (0, 28), (0, 6), (1, 0), (31, 0), (2, 0), (0, 5), (0, 6), (0, 16), (0, 27), (0, 26), (0, 11), (0, 30), (0, 10), (4, 0), (11, 0), (24, 0), (18, 0), (0, 2), (0, 25), (0, 50), (0, 24), (0, 6), (0, 1), (0, 27), (5, 9), (9, 0), (22, 0), (2, 0), (2, 0), (43, 0), (51, 0), (48, 0), (44, 0), (46, 0), (11, 0), (0, 14), (0, 13), (0, 1), (0, 5), (0, 44), (22, 0), (36, 0), (32, 0), (6, 0), (1, 0), (29, 0), (5, 0), (0, 11), (3, 0), (5, 0), (0, 50), (11, 0), (37, 0), (0, 11), (1, 0), (34, 0), (0, 49), (13, 0), (35, 0), (0, 57), (24, 0), (22, 14), (0, 26), (37, 0), (6, 0), (0, 23), (0, 6), (0, 32), (11, 22), (31, 13), (0, 3), (9, 1), (28, 16), (0, 31), (0, 1), (0, 34), (0, 4), (24, 42), (11, 0), (0, 10), (0, 11), (0, 11), (0, 17), (13, 31), (23, 31), (0, 16), (0, 35), (23, 0), (51, 35), (41, 11), (1, 0), (0, 2), (0, 23), (0, 25), (0, 36), (0, 38), (0, 40), (4, 38), (34, 11), (1, 11), (0, 36), (7, 0), (31, 0), (0, 2), (7, 32), (38, 2), (34, 0), (9, 0), (0, 4), (0, 23), (0, 31), (0, 26), (0, 21), (0, 6), (0, 17), (0, 21), (0, 25), (25, 11), (22, 11), (0, 4), (0, 36), (15, 0), (27, 0), (0, 36), (0, 23), (0, 19), (0, 29), (0, 29), (0, 9), (0, 4), (0, 7), (0, 32), (0, 29), (0, 11), (13, 11), (44, 11), (0, 46), (20, 0), (31, 0), (0, 39), (0, 21), (0, 2), (0, 6), (0, 31), (0, 29), (0, 11), (0, 11), (7, 11), (61, 11), (1, 0), (20, 0), (24, 0), (0, 5), (0, 37), (0, 6), (0, 9), (0, 33), (0, 19), (0, 13), (0, 11), (0, 11), (16, 11), (33, 11), (10, 0), (25, 0), (0, 2), (0, 29), (0, 10), (0, 29), (0, 17), (0, 11), (0, 11), (0, 11), (1, 11), (32, 11), (13, 11), (32, 0), (11, 0), (0, 12), (0, 56), (0, 57), (0, 2), (0, 15), (0, 30), (0, 14), (0, 11), (0, 11), (0, 11), (0, 11), (31, 11), (14, 11), (12, 0), (35, 0), (0, 15), (0, 5), (0, 42), (0, 13), (0, 11), (0, 11), (0, 11), (0, 11), (3, 11), (34, 11), (12, 11), (28, 0), (20, 0), (0, 1), (0, 32), (0, 13), (0, 11), (0, 11), (0, 11), (0, 11), (0, 11), (3, 11), (37, 11), (4, 0), (28, 0), (11, 0), (23, 0), (0, 7), (0, 34), (0, 11), (0, 11), (0, 11), (0, 11), (0, 11), (0, 11), (29, 11), (23, 11), (30, 0), (10, 0), (37, 0), (0, 54), (0, 11), (0, 11), (0, 11), (0, 11), (0, 11), (0, 11), (28, 11), (18, 11), (2, 0), (39, 0), (8, 0), (36, 0), (0, 13), (0, 21), (0, 34), (0, 11), (0, 11), (0, 11), (0, 11), (0, 11), (0, 11), (47, 11), (26, 11), (15, 0), (25, 0), (47, 0), (32, 0), (7, 0), (1, 0), (35, 0), (9, 0), (2, 0), (5, 0), (9, 0), (25, 0), (44, 0), (31, 0), (2, 0), (0, 7), (0, 3), (0, 3), (0, 5), (9, 5), (28, 3), (41, 1), (18, 0), (36, 0), (32, 0), (29, 0), (25, 0), (14, 0), (0, 10), (0, 39), (0, 48), (0, 16), (0, 15), (0, 14), (0, 31), (10, 45), (42, 44), (0, 42), (0, 40), (0, 38), (5, 0), (0, 28), (0, 27), (0, 25), (5, 12), (29, 0), (1, 0), (0, 31), (0, 54), (0, 36), (0, 4), (16, 0), (22, 0), (1, 0), (0, 8), (0, 16), (0, 21), (0, 20), (0, 5), (0, 8), (0, 27), (0, 3), (50, 0), (2, 0), (0, 2), (0, 20), (0, 18), (0, 8), (0, 25), (0, 14), (1, 0), (59, 0), (58, 0), (54, 0), (60, 0), (19, 0), (2, 0), (0, 51), (17, 0), (45, 0), (42, 0), (39, 0), (18, 0), (24, 0), (1, 0), (1, 0), (3, 0), (0, 50), (24, 0), (16, 0), (3, 0), (25, 0), (0, 9), (0, 34), (46, 0), (6, 0), (0, 21), (10, 0), (46, 23), (0, 12), (41, 0), (12, 0), (1, 0), (0, 48), (0, 5), (18, 16), (26, 24), (0, 13), (0, 8), (0, 31), (25, 14), (16, 6), (0, 24), (0, 1), (0, 34), (24, 11), (11, 38), (0, 1), (0, 12), (0, 32), (0, 31), (0, 30), (0, 26), (14, 29), (21, 36), (0, 32), (0, 35), (23, 0), (45, 8), (42, 27), (12, 0), (0, 20), (0, 31), (0, 23), (0, 18), (0, 3), (0, 2), (0, 1), (12, 15), (23, 36), (0, 11), (0, 36), (1, 0), (35, 0), (4, 8), (34, 47), (20, 0), (0, 52), (0, 23), (0, 10), (0, 6), (0, 1), (12, 33), (24, 12), (0, 11), (0, 34), (0, 14), (1, 0), (22, 0), (33, 0), (0, 52), (0, 37), (0, 3), (0, 3), (0, 18), (9, 27), (28, 11), (0, 11), (45, 0), (15, 0), (0, 39), (0, 9), (0, 2), (0, 16), (0, 34), (2, 11), (34, 11), (1, 11), (1, 0), (36, 0), (0, 30), (0, 4), (0, 3), (0, 35), (0, 29), (0, 11), (0, 11), (2, 11), (68, 11), (27, 0), (13, 0), (0, 1), (0, 5), (0, 29), (0, 15), (0, 1), (0, 46), (0, 11), (0, 11), (0, 11), (0, 11), (0, 11), (58, 11), (48, 0), (0, 20), (0, 39), (0, 5), (0, 8), (0, 36), (0, 11), (0, 11), (0, 11), (0, 11), (26, 11), (19, 11), (16, 0), (29, 0), (0, 37), (0, 13), (0, 11), (0, 11), (0, 11), (0, 11), (30, 11), (15, 11), (45, 0), (5, 0), (0, 4), (0, 49), (0, 13), (0, 11), (0, 11), (0, 11), (0, 11), (3, 11), (34, 11), (12, 11), (18, 0), (17, 0), (40, 0), (0, 2), (0, 33), (0, 13), (0, 11), (0, 11), (0, 11), (0, 11), (0, 11), (2, 11), (36, 11), (12, 11), (1, 0), (2, 0), (32, 0), (6, 0), (37, 0), (0, 41), (0, 17), (0, 11), (0, 11), (0, 11), (0, 11), (0, 11), (0, 11), (31, 11), (23, 11), (26, 0), (53, 0), (4, 0), (31, 0), (0, 2), (0, 27), (0, 20), (0, 11), (0, 11), (0, 11), (0, 11), (0, 11), (1, 11), (22, 11), (26, 11), (31, 0), (51, 0), (30, 0), (60, 0), (0, 1), (0, 2), (19, 3), (42, 4), (30, 14), (0, 5), (18, 0), (2, 0), (5, 0), (9, 0), (19, 0), (17, 0), (0, 18), (0, 9), (0, 9), (0, 8), (0, 12), (0, 22), (0, 30), (45, 31), (8, 33), (13, 21), (48, 37), (15, 0), (39, 0), (25, 0), (35, 0), (32, 0), (28, 0), (25, 0), (17, 0), (0, 5), (0, 25), (0, 27), (0, 45), (0, 34), (0, 29), (3, 15), (28, 1), (6, 0), (7, 0), (0, 4), (0, 16), (0, 15), (9, 0), (26, 0), (0, 1), (0, 1), (0, 6), (0, 29), (51, 0), (1, 0), (0, 1), (0, 10), (0, 44), (0, 11), (0, 2), (0, 30), (0, 3), (9, 0), (36, 0), (18, 0), (0, 1), (0, 15), (0, 1), (0, 1), (0, 53), (48, 0), (52, 0), (55, 0), (43, 0), (39, 0), (5, 0), (0, 52), (23, 0), (46, 0), (31, 0), (17, 0), (1, 0), (1, 0), (0, 3), (0, 47), (4, 0), (31, 0), (1, 0), (3, 0), (20, 0), (0, 25), (0, 10), (17, 0), (28, 0), (0, 15), (13, 0), (38, 26), (0, 10), (0, 21), (0, 5), (51, 25), (0, 27), (0, 19), (0, 24), (25, 19), (22, 20), (0, 23), (0, 44), (0, 38), (0, 39), (34, 12), (17, 33), (0, 42), (0, 42), (0, 2), (0, 33), (25, 16), (10, 35), (0, 4), (0, 13), (0, 48), (0, 5), (0, 3), (0, 4), (7, 0), (36, 3), (0, 6), (0, 37), (0, 1), (0, 34), (24, 0), (40, 9), (35, 27), (9, 0), (0, 3), (0, 9), (0, 28), (0, 23), (13, 0), (35, 0), (0, 9), (0, 34), (0, 34), (39, 0), (37, 0), (4, 12), (29, 42), (9, 4), (0, 36), (0, 36), (0, 1), (3, 0), (17, 0), (34, 14), (0, 36), (0, 11), (0, 31), (0, 6), (1, 0), (31, 0), (10, 0), (0, 3), (0, 51), (0, 7), (5, 0), (20, 0), (34, 33), (5, 13), (0, 11), (0, 2), (38, 0), (8, 0), (0, 6), (0, 31), (0, 9), (4, 0), (21, 15), (17, 11), (0, 11), (14, 0), (57, 0), (0, 2), (0, 30), (0, 2), (0, 22), (0, 29), (3, 11), (28, 11), (1, 0), (46, 0), (0, 5), (0, 16), (0, 38), (0, 10), (0, 48), (0, 28), (0, 11), (0, 11), (6, 11), (59, 11), (39, 0), (6, 0), (0, 8), (0, 15), (0, 15), (0, 33), (0, 13), (0, 11), (0, 11), (0, 11), (55, 11), (1, 0), (45, 0), (0, 15), (0, 28), (0, 13), (0, 11), (0, 11), (0, 11), (15, 11), (34, 11), (14, 0), (23, 0), (4, 0), (0, 34), (0, 39), (0, 11), (0, 11), (0, 11), (0, 11), (0, 11), (28, 11), (16, 11), (25, 0), (11, 0), (21, 0), (12, 0), (0, 2), (0, 33), (0, 23), (0, 11), (0, 11), (0, 11), (0, 11), (0, 11), (0, 11), (29, 11), (16, 11), (11, 0), (29, 0), (14, 0), (1, 0), (37, 0), (0, 4), (0, 36), (0, 11), (0, 11), (0, 11), (0, 11), (0, 11), (0, 11), (2, 11), (36, 11), (12, 11), (32, 0), (5, 0), (0, 1), (0, 9), (12, 0), (23, 0), (0, 8), (0, 45), (0, 11), (0, 11), (0, 11), (0, 11), (0, 11), (0, 11), (1, 11), (22, 11), (26, 11), (16, 0), (46, 0), (41, 0), (53, 0), (2, 0), (0, 23), (1, 40), (58, 38), (32, 35), (35, 33), (25, 32), (11, 0), (42, 0), (2, 0), (11, 0), (27, 0), (1, 0), (10, 0), (0, 31), (0, 28), (0, 8), (0, 10), (0, 14), (0, 36), (1, 20), (31, 10), (5, 10), (2, 10), (0, 9), (17, 8), (2, 0), (11, 0), (5, 0), (42, 0), (38, 0), (35, 0), (31, 0), (26, 0), (5, 0), (0, 14), (0, 25), (0, 24), (0, 19), (0, 3), (12, 1), (23, 0), (2, 0), (0, 2), (0, 8), (40, 0), (6, 0), (0, 4), (0, 29), (0, 1), (14, 0), (34, 0), (0, 2), (0, 15), (0, 15), (0, 30), (0, 5), (16, 0), (32, 0), (0, 12), (0, 37), (42, 0), (45, 0), (49, 0), (33, 0), (32, 0), (0, 10), (0, 37), (5, 0), (44, 0), (10, 0), (43, 0), (1, 0), (0, 22), (0, 14), (30, 0), (17, 0), (4, 0), (26, 0), (0, 26), (0, 9), (0, 6), (2, 4), (31, 3), (3, 1), (0, 3), (0, 6), (0, 5), (0, 8), (1, 0), (56, 30), (3, 5), (0, 3), (0, 15), (0, 50), (0, 36), (16, 51), (29, 32), (0, 30), (0, 60), (0, 47), (0, 25), (0, 20), (4, 10), (32, 30), (0, 4), (0, 6), (0, 32), (0, 25), (0, 15), (0, 8), (39, 0), (0, 1), (0, 2), (0, 33), (25, 10), (10, 28), (0, 7), (0, 5), (0, 33), (0, 37), (19, 0), (0, 12), (0, 1), (0, 34), (33, 0), (31, 5), (32, 29), (12, 5), (0, 3), (0, 15), (0, 27), (0, 7), (7, 0), (24, 0), (0, 37), (0, 35), (46, 0), (6, 0), (5, 0), (2, 7), (19, 29), (0, 28), (0, 19), (0, 6), (6, 0), (22, 0), (0, 18), (0, 30), (0, 40), (8, 0), (33, 0), (2, 0), (0, 35), (0, 20), (3, 0), (19, 0), (0, 22), (0, 25), (0, 11), (20, 0), (27, 0), (10, 0), (0, 14), (0, 31), (21, 0), (30, 0), (21, 10), (9, 31), (0, 11), (0, 11), (13, 0), (22, 0), (0, 36), (0, 29), (4, 0), (6, 11), (32, 41), (38, 11), (9, 11), (0, 11), (12, 0), (32, 0), (0, 6), (0, 35), (0, 9), (0, 7), (0, 32), (0, 12), (26, 11), (26, 11), (14, 11), (48, 0), (0, 2), (0, 4), (0, 4), (0, 23), (0, 23), (0, 11), (0, 11), (2, 11), (69, 11), (11, 0), (29, 0), (0, 5), (0, 31), (0, 23), (0, 11), (0, 11), (0, 11), (0, 11), (56, 11), (21, 0), (14, 0), (0, 53), (0, 17), (0, 11), (0, 11), (0, 11), (0, 11), (4, 11), (49, 11), (39, 0), (2, 0), (25, 0), (0, 16), (0, 40), (0, 11), (0, 11), (0, 11), (0, 11), (0, 11), (0, 11), (29, 11), (16, 11), (13, 0), (38, 0), (0, 1), (0, 5), (0, 3), (11, 0), (23, 0), (0, 4), (0, 35), (0, 12), (0, 11), (0, 11), (0, 11), (0, 11), (0, 11), (0, 11), (28, 11), (17, 11), (22, 0), (2, 0), (0, 17), (0, 33), (0, 27), (0, 3), (0, 2), (16, 0), (20, 0), (0, 56), (0, 11), (0, 11), (0, 11), (0, 11), (0, 11), (0, 11), (0, 11), (2, 11), (38, 11), (17, 0), (37, 0), (21, 0), (28, 0), (3, 0), (0, 13), (0, 5), (0, 4), (0, 3), (0, 3), (0, 56), (0, 27), (12, 9), (50, 8), (27, 6), (29, 8), (22, 9), (14, 0), (41, 0), (18, 0), (10, 0), (25, 0), (2, 0), (27, 0), (0, 6), (0, 48), (0, 49), (0, 48), (0, 47), (8, 0), (26, 0), (7, 0), (5, 0), (18, 0), (27, 0), (45, 0), (42, 0), (38, 0), (29, 0), (3, 0), (31, 0), (11, 0), (0, 1), (0, 3), (12, 0), (36, 0), (0, 21), (0, 3), (43, 0), (0, 30), (0, 5), (9, 0), (26, 0), (19, 0), (0, 29), (0, 6), (8, 0), (21, 0), (31, 0), (27, 0), (27, 0), (16, 0), (0, 28), (0, 6), (1, 0), (8, 0), (9, 0), (26, 0), (6, 0), (0, 1), (0, 31), (0, 3), (0, 3), (9, 6), (46, 6), (0, 7), (0, 7), (0, 7), (0, 7), (0, 5), (4, 0), (12, 1), (0, 32), (0, 2), (0, 16), (0, 22), (0, 32), (35, 34), (14, 36), (1, 39), (0, 42), (0, 45), (0, 30), (0, 4), (2, 0), (49, 30), (0, 6), (0, 23), (0, 30), (0, 30), (1, 0), (22, 0), (4, 0), (0, 11), (0, 31), (0, 17), (2, 1), (33, 48), (0, 3), (0, 11), (0, 32), (0, 15), (0, 6), (6, 0), (0, 3), (0, 32), (27, 0), (9, 30), (0, 12), (0, 29), (0, 10), (2, 0), (0, 9), (0, 29), (28, 0), (35, 1), (10, 36), (4, 3), (0, 6), (0, 35), (0, 10), (1, 0), (1, 0), (0, 21), (0, 39), (0, 4), (8, 0), (40, 0), (10, 0), (3, 0), (1, 55), (0, 29), (0, 9), (0, 11), (0, 33), (8, 0), (44, 0), (1, 0), (0, 59), (0, 19), (0, 30), (0, 11), (3, 0), (19, 0), (30, 0), (0, 2), (0, 30), (0, 4), (0, 7), (0, 33), (0, 11), (0, 11), (27, 0), (17, 0), (0, 26), (0, 38), (0, 7), (8, 0), (36, 0), (43, 0), (12, 35), (0, 19), (0, 11), (0, 11), (35, 0), (14, 0), (0, 7), (0, 8), (7, 0), (7, 0), (5, 31), (32, 19), (18, 11), (10, 11), (0, 11), (48, 0), (0, 6), (0, 34), (1, 11), (16, 11), (32, 11), (2, 11), (21, 0), (13, 0), (0, 25), (0, 33), (0, 16), (0, 11), (0, 11), (0, 11), (40, 11), (27, 0), (9, 0), (0, 22), (0, 22), (0, 11), (0, 11), (0, 11), (0, 11), (0, 11), (37, 11), (38, 0), (11, 0), (2, 0), (10, 0), (0, 7), (0, 44), (0, 32), (0, 11), (0, 11), (0, 11), (0, 11), (0, 11), (3, 11), (49, 11), (29, 0), (8, 0), (0, 16), (0, 13), (0, 1), (27, 0), (9, 0), (0, 3), (0, 34), (0, 12), (0, 11), (0, 11), (0, 11), (0, 11), (0, 11), (0, 11), (25, 11), (19, 11), (13, 0), (0, 16), (0, 19), (0, 15), (0, 10), (39, 0), (6, 0), (0, 6), (0, 34), (0, 11), (0, 11), (0, 11), (0, 11), (0, 11), (0, 11), (0, 11), (27, 11), (17, 11), (19, 0), (33, 0), (29, 0), (4, 0), (0, 7), (0, 23), (0, 25), (0, 30), (0, 31), (0, 44), (0, 3), (1, 5), (25, 0), (51, 0), (37, 5), (23, 3), (9, 0), (8, 0), (32, 0), (38, 0), (1, 0), (12, 0), (23, 0), (1, 0), (1, 0), (0, 4), (0, 9), (0, 3), (0, 1), (25, 0), (15, 0), (3, 0), (11, 0), (38, 0), (1, 0), (49, 0), (48, 0), (45, 0), (33, 0), (48, 0), (40, 0), (6, 0), (0, 2), (13, 0), (24, 0), (0, 20), (0, 3), (1, 0), (8, 0), (24, 0), (12, 0), (0, 30), (0, 5), (6, 0), (23, 0), (42, 0), (1, 0), (0, 3), (0, 31), (15, 0), (22, 0), (0, 1), (0, 2), (0, 33), (0, 2), (0, 25), (40, 36), (0, 34), (0, 32), (0, 31), (0, 30), (0, 30), (0, 22), (0, 1), (0, 34), (0, 36), (0, 31), (0, 22), (0, 8), (52, 7), (2, 7), (0, 6), (0, 5), (0, 3), (0, 16), (0, 50), (13, 31), (6, 4), (0, 14), (0, 23), (0, 11), (1, 0), (7, 0), (0, 37), (0, 11), (2, 4), (25, 45), (1, 0), (0, 9), (0, 39), (0, 6), (0, 11), (0, 21), (25, 0), (8, 34), (0, 11), (0, 51), (0, 15), (0, 38), (5, 0), (28, 0), (13, 2), (0, 32), (0, 4), (0, 27), (0, 8), (0, 6), (0, 5), (17, 0), (29, 0), (6, 0), (0, 45), (0, 18), (0, 5), (0, 48), (7, 0), (27, 0), (0, 24), (0, 5), (0, 16), (0, 35), (0, 11), (4, 0), (16, 0), (36, 0), (0, 3), (0, 27), (0, 1), (0, 7), (0, 33), (0, 11), (0, 11), (34, 0), (18, 0), (0, 11), (0, 27), (0, 7), (0, 20), (0, 26), (0, 11), (0, 11), (50, 0), (0, 1), (1, 0), (30, 0), (58, 0), (36, 0), (16, 54), (7, 11), (0, 11), (0, 11), (10, 0), (32, 0), (12, 37), (21, 12), (29, 11), (34, 11), (1, 11), (23, 0), (12, 0), (0, 17), (0, 30), (0, 20), (0, 11), (0, 11), (10, 11), (47, 11), (13, 0), (26, 0), (8, 0), (0, 18), (0, 30), (0, 15), (0, 11), (0, 11), (0, 11), (0, 11), (0, 11), (18, 0), (22, 0), (9, 0), (0, 4), (0, 49), (0, 35), (0, 11), (0, 11), (0, 11), (0, 11), (0, 11), (0, 11), (31, 11), (29, 0), (14, 0), (0, 2), (0, 32), (0, 13), (0, 11), (0, 11), (0, 11), (0, 11), (0, 11), (0, 11), (6, 11), (31, 11), (2, 0), (46, 0), (0, 5), (0, 36), (0, 11), (0, 11), (0, 11), (0, 11), (0, 11), (0, 11), (0, 11), (13, 11), (35, 11), (15, 0), (26, 0), (27, 0), (7, 0), (0, 4), (0, 44), (0, 35), (0, 38), (0, 35), (0, 16), (14, 0), (21, 0), (52, 0), (48, 0), (18, 7), (10, 7), (17, 0), (32, 0), (16, 0), (10, 0), (24, 0), (8, 0), (10, 0), (0, 4), (46, 0), (1, 0), (16, 0), (28, 0), (2, 0), (2, 0), (29, 0), (55, 0), (51, 0), (38, 0), (40, 0), (5, 0), (7, 0), (35, 0), (22, 0), (13, 0), (0, 3), (0, 16), (3, 0), (37, 0), (0, 10), (0, 27), (8, 0), (43, 0), (17, 0), (0, 18), (0, 24), (1, 0), (25, 10), (13, 16), (0, 17), (0, 18), (0, 19), (0, 19), (0, 20), (0, 9), (0, 20), (0, 23), (0, 1), (0, 20), (0, 28), (10, 12), (18, 4), (0, 5), (0, 6), (0, 7), (0, 8), (0, 9), (0, 7), (0, 6), (0, 32), (0, 1), (0, 31), (0, 13), (2, 0), (46, 0), (5, 0), (0, 44), (0, 27), (3, 10), (0, 4), (0, 33), (0, 39), (0, 3), (1, 0), (6, 0), (0, 28), (0, 2), (0, 4), (4, 30), (0, 13), (0, 1), (0, 15), (0, 41), (0, 6), (0, 1), (11, 0), (4, 27), (0, 22), (0, 20), (0, 35), (0, 5), (0, 7), (2, 0), (32, 0), (0, 2), (0, 12), (0, 35), (0, 24), (14, 0), (33, 0), (0, 13), (0, 26), (47, 0), (28, 0), (0, 6), (0, 11), (0, 39), (0, 27), (2, 0), (39, 0), (0, 2), (0, 6), (0, 33), (0, 13), (0, 11), (31, 0), (8, 0), (0, 5), (0, 6), (0, 8), (0, 33), (0, 11), (0, 11), (46, 0), (1, 0), (13, 0), (52, 0), (1, 28), (0, 23), (0, 11), (0, 11), (7, 0), (36, 0), (36, 0), (32, 54), (31, 11), (15, 11), (0, 11), (23, 0), (12, 0), (0, 21), (0, 35), (0, 11), (3, 11), (32, 11), (56, 11), (6, 0), (31, 0), (0, 8), (0, 40), (0, 21), (0, 14), (0, 11), (0, 11), (0, 11), (0, 11), (22, 0), (27, 0), (0, 24), (0, 47), (0, 16), (0, 11), (0, 11), (0, 11), (0, 11), (0, 11), (0, 11), (16, 0), (3, 0), (8, 0), (1, 0), (0, 20), (0, 27), (0, 11), (0, 11), (0, 11), (0, 11), (0, 11), (0, 11), (0, 11), (5, 11), (42, 0), (2, 0), (2, 4), (0, 35), (0, 11), (0, 11), (0, 11), (0, 11), (0, 11), (0, 11), (0, 11), (0, 11), (5, 0), (8, 0), (12, 0), (33, 0), (0, 1), (0, 2), (0, 1), (20, 0), (17, 0), (4, 0), (38, 0), (10, 14), (8, 29), (6, 0), (17, 0), (28, 0), (3, 0), (27, 0), (34, 0), (31, 0), (1, 0), (4, 0), (42, 0), (21, 0), (28, 0), (4, 0), (5, 0), (58, 0), (58, 0), (51, 0), (12, 0), (39, 0), (7, 0), (22, 0), (12, 0), (35, 0), (3, 0), (0, 13), (0, 8), (27, 0), (20, 0), (0, 25), (0, 9), (4, 0), (54, 0), (0, 40), (36, 0), (15, 0), (0, 49), (0, 5), (0, 7), (0, 14), (0, 3), (33, 0), (6, 0), (0, 6), (0, 9), (0, 29), (0, 15), (0, 26), (0, 20), (20, 0), (1, 0), (10, 0), (6, 0), (0, 28), (0, 22), (0, 18), (0, 14), (0, 30), (0, 17), (0, 1), (0, 17), (0, 39), (0, 28), (0, 33), (0, 28), (0, 3), (1, 0), (9, 0), (0, 4), (0, 28), (0, 23), (0, 9), (49, 0), (1, 0), (0, 4), (0, 6), (2, 0), (29, 0), (0, 17), (31, 0), (6, 0), (0, 17), (0, 34), (34, 0), (0, 23), (0, 25), (0, 11), (22, 0), (7, 0), (0, 8), (0, 33), (0, 11), (0, 11), (41, 0), (5, 0), (11, 0), (46, 0), (0, 7), (0, 34), (0, 11), (0, 11), (5, 0), (30, 0), (43, 0), (39, 51), (24, 11), (12, 11), (0, 11), (29, 0), (7, 0), (0, 7), (0, 36), (0, 11), (9, 11), (32, 11), (58, 11), (41, 0), (11, 0), (0, 31), (0, 35), (0, 15), (0, 11), (0, 11), (0, 11), (0, 11), (29, 0), (10, 0), (1, 0), (1, 0), (0, 60), (0, 20), (0, 11), (0, 11), (0, 11), (0, 11), (0, 11), (0, 11), (6, 0), (3, 0), (6, 0), (15, 0), (0, 10), (0, 40), (0, 11), (0, 11), (0, 11), (0, 11), (0, 11), (0, 11), (0, 11), (0, 11), (5, 0), (19, 0), (27, 4), (2, 34), (0, 12), (0, 11), (0, 11), (0, 11), (0, 11), (0, 11), (0, 11), (0, 11), (0, 11), (10, 0), (8, 0), (39, 0), (38, 0), (3, 2), (8, 24), (1, 24), (0, 34), (11, 0), (15, 0), (24, 0), (24, 0), (30, 0), (1, 0), (33, 0), (15, 0), (8, 0), (27, 0), (5, 0), (25, 0), (55, 0), (59, 0), (21, 0), (9, 0), (34, 0), (2, 0), (22, 0), (12, 0), (16, 0), (26, 0), (0, 5), (53, 0), (1, 0), (0, 5), (26, 0), (13, 0), (0, 4), (10, 0), (40, 0), (0, 28), (0, 3), (0, 3), (0, 26), (0, 6), (49, 0), (4, 0), (0, 1), (0, 17), (0, 2), (0, 40), (0, 30), (0, 17), (36, 0), (1, 0), (0, 2), (0, 43), (0, 9), (0, 39), (0, 35), (0, 11), (0, 1), (0, 1), (0, 25), (0, 22), (0, 8), (0, 1), (4, 0), (0, 3), (13, 0), (1, 0), (8, 0), (7, 0), (2, 0), (0, 1), (0, 11), (0, 48), (7, 0), (0, 10), (0, 19), (0, 30), (0, 11), (3, 0), (2, 0), (3, 0), (3, 0), (0, 2), (0, 33), (0, 12), (0, 11), (21, 0), (1, 0), (1, 0), (19, 0), (35, 0), (33, 0), (2, 7), (0, 34), (0, 11), (0, 11), (1, 0), (4, 0), (11, 0), (43, 46), (22, 14), (0, 11), (16, 0), (3, 0), (0, 2), (0, 38), (0, 11), (12, 11), (27, 11), (51, 11), (27, 0), (28, 0), (1, 0), (0, 24), (0, 34), (0, 17), (0, 11), (0, 11), (0, 11), (0, 11), (10, 0), (0, 21), (0, 26), (0, 11), (0, 11), (0, 11), (0, 11), (0, 11), (0, 11), (9, 0), (7, 0), (0, 16), (0, 32), (0, 11), (0, 11), (0, 11), (0, 11), (0, 11), (0, 11), (0, 11), (7, 0), (3, 0), (44, 0), (1, 20), (0, 26), (0, 11), (0, 11), (0, 11), (0, 11), (0, 11), (0, 11), (0, 11), (12, 11), (1, 0), (31, 0), (4, 0), (27, 5), (12, 19), (1, 41), (0, 35), (0, 31), (0, 27), (0, 24), (11, 0), (5, 0), (4, 0), (20, 0), (33, 0), (28, 0), (2, 0), (47, 0), (0, 2), (0, 3), (0, 9), (8, 19), (8, 0), (31, 0), (43, 0), (22, 0), (1, 0), (23, 0), (13, 0), (2, 0), (36, 0), (1, 0), (1, 0), (17, 0), (25, 0), (21, 0), (18, 0), (1, 0), (30, 0), (5, 0), (0, 4), (0, 11), (1, 0), (29, 0), (5, 0), (0, 31), (0, 17), (1, 0), (29, 0), (6, 0), (0, 13), (0, 16), (0, 19), (0, 6), (18, 0), (5, 0), (0, 47), (0, 14), (1, 0), (0, 16), (0, 21), (0, 46), (0, 5), (0, 37), (0, 3), (0, 28), (0, 35), (0, 11), (9, 0), (8, 0), (4, 0), (0, 7), (0, 34), (0, 11), (0, 11), (3, 0), (24, 0), (32, 0), (25, 8), (0, 33), (0, 11), (0, 11), (18, 40), (43, 17), (15, 11), (0, 11), (0, 40), (0, 11), (3, 11), (19, 11), (44, 11), (8, 0), (0, 30), (0, 19), (0, 11), (0, 11), (0, 11), (0, 11), (0, 11), (0, 47), (0, 15), (0, 11), (0, 11), (0, 11), (0, 11), (0, 11), (4, 0), (3, 0), (0, 5), (0, 31), (0, 14), (0, 11), (0, 11), (0, 11), (0, 11), (0, 11), (35, 11), (1, 0), (41, 0), (0, 7), (0, 33), (0, 16), (0, 11), (0, 11), (0, 11), (0, 11), (0, 11), (9, 11), (29, 11), (7, 0), (28, 0), (0, 4), (0, 1), (0, 36), (25, 44), (8, 51), (0, 24), (0, 16), (0, 7), (0, 7), (1, 0), (4, 0), (13, 0), (19, 0), (29, 0), (9, 0), (4, 0), (44, 0), (0, 15), (0, 22), (0, 35), (0, 39), (3, 31), (2, 0), (4, 0), (15, 0), (17, 0), (4, 0), (25, 0), (10, 0), (2, 18), (35, 0), (1, 0), (3, 0), (49, 0), (1, 0), (31, 0), (3, 0), (28, 0), (16, 0), (0, 14), (17, 0), (15, 0), (18, 0), (14, 0), (5, 0), (12, 0), (8, 0), (0, 2), (0, 14), (0, 40), (0, 27), (0, 8), (0, 32), (0, 41), (0, 26), (3, 0), (23, 0), (3, 0), (1, 0), (0, 37), (0, 11), (0, 11), (5, 0), (21, 0), (22, 8), (0, 33), (0, 11), (0, 11), (0, 22), (32, 25), (14, 11), (0, 11), (0, 19), (0, 32), (1, 11), (17, 11), (47, 11), (2, 0), (0, 14), (0, 29), (0, 11), (0, 11), (0, 11), (48, 11), (1, 0), (3, 0), (0, 36), (0, 33), (0, 13), (0, 11), (0, 11), (0, 11), (50, 11), (0, 1), (19, 0), (25, 0), (4, 0), (0, 25), (0, 19), (0, 11), (0, 11), (0, 11), (0, 11), (0, 11), (56, 11), (0, 4), (4, 0), (9, 0), (36, 0), (11, 28), (0, 25), (0, 11), (0, 11), (0, 11), (0, 11), (0, 11), (30, 11), (7, 11), (2, 0), (30, 0), (2, 0), (0, 1), (0, 11), (0, 28), (0, 55), (21, 44), (0, 2), (3, 0), (14, 0), (26, 0), (13, 0), (20, 0), (13, 9), (0, 31), (0, 32), (0, 20), (0, 35), (0, 3), (4, 2), (4, 0), (16, 0), (10, 0), (27, 0), (7, 0), (0, 2), (0, 26), (0, 8), (0, 49), (2, 47), (21, 0), (23, 0), (55, 0), (2, 0), (26, 0), (2, 0), (27, 0), (3, 0), (5, 0), (4, 0), (8, 0), (15, 0), (11, 0), (0, 6), (0, 11), (0, 13), (0, 35), (0, 24), (0, 9), (0, 39), (0, 33), (0, 29), (0, 29), (0, 23), (0, 11), (6, 0), (0, 33), (0, 12), (0, 11), (0, 24), (0, 25), (17, 11), (8, 11), (0, 54), (0, 11), (0, 11), (69, 11), (7, 0), (25, 0), (5, 0), (0, 4), (0, 37), (0, 11), (0, 11), (0, 11), (53, 11), (4, 0), (20, 0), (23, 0), (0, 1), (0, 37), (0, 15), (0, 11), (0, 11), (2, 11), (54, 11), (0, 2), (0, 9), (8, 0), (22, 0), (25, 0), (10, 0), (0, 47), (0, 11), (0, 11), (0, 11), (0, 11), (26, 11), (0, 1), (0, 14), (0, 20), (11, 0), (30, 0), (24, 31), (13, 16), (0, 11), (0, 11), (0, 11), (2, 11), (30, 11), (3, 11), (27, 0), (9, 0), (0, 12), (0, 18), (0, 45), (0, 35), (29, 0), (3, 0), (11, 0), (21, 0), (18, 14), (15, 40), (0, 26), (0, 17), (4, 0), (8, 0), (9, 0), (16, 0), (5, 1), (0, 9), (0, 24), (0, 48), (0, 42), (0, 2), (0, 5), (16, 0), (9, 0), (0, 6), (0, 11), (0, 31), (0, 29), (14, 0), (7, 0), (0, 2), (0, 1), (3, 0), (10, 0), (5, 0), (32, 0), (6, 0), (3, 0), (22, 0), (0, 15), (0, 18), (0, 8), (0, 11), (0, 26), (0, 29), (0, 2), (0, 41), (0, 11), (0, 30), (0, 45), (1, 15), (0, 6), (0, 39), (0, 14), (1, 11), (0, 10), (0, 30), (0, 15), (0, 2), (0, 34), (0, 12), (10, 11), (0, 16), (0, 34), (0, 32), (0, 30), (0, 11), (0, 24), (0, 24), (0, 11), (57, 11), (0, 36), (0, 34), (0, 32), (0, 30), (0, 8), (9, 0), (31, 0), (0, 53), (0, 11), (14, 11), (38, 11), (0, 1), (0, 25), (0, 22), (0, 19), (0, 5), (3, 0), (12, 0), (26, 0), (11, 0), (0, 2), (0, 38), (0, 11), (0, 11), (3, 11), (26, 11), (0, 2), (0, 6), (13, 0), (24, 0), (25, 0), (0, 33), (0, 17), (0, 11), (0, 11), (20, 11), (24, 11), (0, 1), (0, 28), (0, 6), (17, 0), (37, 0), (13, 0), (8, 46), (0, 11), (0, 11), (0, 11), (2, 11), (31, 11), (2, 11), (0, 3), (0, 27), (0, 17), (1, 0), (4, 0), (23, 21), (28, 24), (35, 11), (0, 11), (0, 11), (7, 11), (27, 11), (0, 11), (21, 0), (6, 0), (0, 16), (0, 25), (0, 39), (0, 7), (2, 0), (9, 0), (7, 42), (2, 40), (0, 9), (0, 5), (0, 28), (0, 44), (0, 11), (0, 1), (0, 36), (0, 30), (0, 22), (0, 25), (0, 8), (0, 12), (0, 8), (6, 0), (48, 0), (2, 0), (12, 0), (0, 1), (0, 14), (0, 27), (0, 6), (0, 34), (2, 0), (0, 14), (0, 32), (0, 24), (0, 2), (3, 39), (0, 1), (0, 14), (0, 23), (0, 56), (4, 13), (0, 6), (0, 38), (0, 22), (0, 43), (0, 11), (4, 11), (0, 5), (0, 9), (0, 11), (0, 32), (0, 45), (0, 28), (0, 1), (0, 8), (0, 32), (0, 11), (43, 11), (0, 13), (0, 29), (0, 9), (0, 11), (0, 13), (0, 36), (0, 27), (2, 0), (9, 0), (0, 12), (0, 30), (0, 11), (58, 11), (0, 13), (0, 55), (0, 7), (0, 9), (0, 10), (0, 14), (0, 38), (0, 38), (8, 0), (24, 0), (39, 0), (6, 0), (0, 45), (0, 15), (36, 11), (0, 11), (0, 34), (0, 54), (0, 16), (0, 19), (0, 23), (0, 42), (0, 41), (22, 0), (51, 0), (9, 0), (0, 41), (0, 11), (0, 11), (28, 11), (14, 11), (0, 3), (0, 25), (0, 25), (0, 36), (0, 55), (0, 13), (0, 10), (0, 6), (25, 0), (41, 0), (0, 30), (0, 19), (0, 11), (0, 11), (33, 11), (1, 11), (0, 1), (0, 58), (0, 3), (48, 0), (30, 17), (2, 33), (0, 11), (0, 11), (7, 11), (28, 11), (0, 11), (0, 29), (0, 6), (0, 5), (8, 41), (41, 11), (33, 11), (0, 11), (7, 11), (29, 11), (0, 11), (5, 0), (0, 32), (0, 32), (0, 6), (0, 2), (0, 48), (0, 43), (0, 8), (0, 6), (0, 25), (0, 37), (0, 2), (0, 52), (0, 17), (0, 12), (0, 3), (0, 19), (0, 24), (0, 41), (26, 0), (4, 0), (17, 0), (0, 3), (0, 3), (0, 9), (0, 6), (0, 39), (0, 20), (34, 0), (0, 13), (0, 29), (23, 0), (0, 17), (0, 24), (0, 10), (7, 16), (0, 3), (0, 26), (0, 27), (0, 11), (0, 33), (0, 20), (0, 57), (27, 37), (0, 34), (0, 46), (0, 6), (0, 45), (0, 11), (40, 11), (0, 25), (0, 14), (1, 0), (7, 0), (0, 7), (0, 32), (0, 11), (56, 11), (0, 18), (0, 27), (0, 22), (4, 0), (34, 0), (55, 0), (12, 0), (3, 0), (0, 16), (0, 28), (24, 11), (20, 11), (0, 3), (0, 26), (0, 13), (0, 25), (1, 0), (23, 0), (32, 0), (6, 0), (0, 53), (0, 11), (36, 11), (0, 11), (0, 1), (0, 23), (0, 16), (0, 7), (0, 47), (0, 2), (35, 0), (18, 0), (2, 0), (1, 0), (0, 41), (0, 11), (0, 11), (35, 11), (0, 11), (0, 2), (0, 29), (0, 35), (0, 14), (0, 32), (0, 36), (0, 42), (0, 29), (5, 0), (18, 0), (35, 0), (23, 0), (1, 27), (0, 20), (0, 11), (1, 11), (34, 11), (1, 11), (0, 2), (0, 7), (0, 52), (0, 45), (0, 45), (0, 22), (0, 9), (0, 6), (18, 0), (22, 48), (15, 11), (1, 11), (10, 11), (26, 11), (0, 11), (0, 15), (0, 36), (0, 7), (0, 6), (0, 4), (0, 2), (0, 2), (0, 44), (14, 11), (20, 11), (46, 11), (39, 11), (3, 11), (0, 11), (0, 28), (0, 31), (0, 29), (0, 3), (0, 5), (0, 53), (0, 21), (0, 20), (0, 30), (0, 3), (0, 4), (0, 52), (0, 11), (0, 6), (0, 24), (0, 28), (0, 38), (3, 0), (24, 0), (4, 0), (2, 0), (2, 0), (0, 9), (0, 8), (0, 11), (0, 16), (0, 34), (0, 12), (30, 0), (0, 2), (0, 35), (0, 13), (40, 0), (5, 0), (0, 20), (0, 25), (51, 0), (0, 20), (0, 19), (2, 0), (52, 13), (0, 16), (0, 16), (0, 36), (0, 5), (0, 50), (54, 36), (0, 15), (0, 26), (0, 8), (0, 53), (0, 11), (55, 11), (0, 36), (0, 10), (4, 0), (25, 0), (15, 0), (8, 0), (0, 6), (0, 33), (1, 11), (55, 11), (0, 29), (0, 14), (3, 0), (27, 0), (30, 0), (29, 0), (2, 0), (0, 11), (0, 30), (25, 11), (17, 11), (0, 5), (0, 14), (0, 1), (0, 25), (0, 14), (7, 0), (14, 0), (26, 0), (17, 0), (0, 17), (0, 34), (0, 11), (37, 11), (0, 11), (0, 31), (0, 16), (0, 6), (0, 42), (0, 10), (8, 0), (28, 0), (29, 0), (16, 0), (0, 43), (0, 11), (1, 11), (34, 11), (0, 11), (0, 31), (0, 27), (0, 9), (0, 20), (0, 25), (0, 11), (13, 0), (21, 0), (19, 23), (0, 22), (0, 11), (9, 11), (26, 11), (0, 11), (0, 10), (0, 33), (0, 29), (0, 22), (0, 34), (0, 35), (0, 23), (0, 31), (24, 23), (44, 11), (12, 11), (20, 11), (18, 11), (0, 11), (0, 18), (0, 38), (0, 33), (0, 30), (0, 30), (0, 28), (0, 25), (0, 6), (0, 42), (0, 11), (4, 11), (43, 11), (15, 11), (0, 11), (0, 11), (0, 1), (0, 31), (0, 18), (0, 3), (0, 8), (0, 19), (0, 14), (0, 25), (0, 30), (0, 15), (0, 4), (0, 28), (0, 7), (0, 1), (0, 30), (0, 31), (0, 32), (0, 1), (0, 2), (6, 0), (39, 0), (7, 0), (6, 0), (0, 1), (0, 2), (0, 15), (0, 20), (3, 0), (0, 23), (0, 56), (0, 6), (4, 0), (9, 0), (17, 0), (0, 28), (0, 14), (4, 0), (18, 0), (43, 0), (27, 0), (0, 35), (0, 7), (21, 0), (20, 0), (0, 27), (0, 37), (0, 6), (6, 0), (36, 0), (0, 7), (0, 4), (0, 50), (2, 0), (40, 0), (0, 10), (0, 4), (0, 31), (0, 4), (0, 22), (0, 28), (13, 43), (39, 35), (0, 8), (0, 28), (0, 8), (0, 12), (0, 57), (0, 11), (54, 11), (0, 6), (0, 29), (5, 9), (34, 0), (33, 0), (23, 0), (22, 0), (0, 11), (0, 30), (1, 11), (51, 11), (0, 4), (0, 27), (0, 10), (2, 0), (11, 0), (16, 0), (31, 0), (2, 0), (0, 48), (0, 11), (38, 11), (0, 11), (0, 3), (0, 3), (0, 4), (0, 29), (0, 15), (15, 0), (30, 0), (21, 0), (0, 13), (0, 38), (6, 11), (30, 11), (0, 11), (0, 5), (0, 35), (0, 29), (0, 6), (1, 0), (19, 0), (29, 0), (5, 4), (0, 39), (0, 11), (8, 11), (27, 11), (0, 11), (0, 44), (0, 7), (0, 14), (0, 29), (0, 7), (16, 0), (29, 21), (26, 23), (7, 11), (10, 11), (25, 11), (0, 11), (0, 5), (0, 30), (0, 40), (0, 4), (0, 19), (0, 38), (0, 8), (0, 25), (0, 27), (14, 11), (37, 11), (35, 11), (7, 11), (0, 11), (4, 0), (4, 0), (3, 0), (0, 46), (0, 19), (0, 4), (0, 4), (0, 6), (0, 12), (0, 18), (0, 32), (0, 3), (0, 11), (0, 35), (0, 11), (0, 11), (43, 11), (6, 11), (0, 11), (0, 11), (0, 15), (0, 5), (0, 1), (0, 6), (0, 8), (0, 30), (0, 23), (0, 11), (0, 13), (0, 29), (0, 6), (0, 37), (0, 34), (0, 25), (0, 3), (0, 9), (2, 0), (39, 0), (39, 0), (0, 8), (0, 7), (3, 0), (8, 0), (0, 1), (0, 24), (0, 1), (20, 0), (0, 36), (0, 30), (0, 5), (1, 0), (4, 0), (21, 0), (31, 0), (0, 3), (0, 48), (0, 1), (6, 0), (10, 0), (21, 0), (22, 0), (26, 0), (32, 0), (29, 0), (0, 32), (0, 11), (6, 0), (40, 0), (27, 0), (5, 0), (0, 1), (0, 37), (13, 0), (27, 0), (5, 0), (0, 33), (0, 26), (0, 3), (19, 0), (16, 0), (0, 4), (0, 36), (0, 10), (0, 12), (0, 37), (8, 0), (33, 0), (0, 7), (0, 20), (0, 41), (0, 8), (0, 28), (0, 23), (42, 37), (2, 34), (0, 40), (0, 11), (25, 0), (46, 0), (2, 0), (0, 27), (0, 52), (29, 11), (18, 11), (0, 24), (0, 17), (40, 0), (39, 0), (25, 0), (18, 0), (0, 19), (0, 28), (30, 11), (16, 11), (0, 30), (0, 39), (0, 7), (9, 0), (21, 0), (57, 0), (0, 47), (11, 12), (25, 11), (0, 11), (0, 4), (0, 27), (0, 6), (32, 0), (13, 0), (0, 28), (0, 26), (12, 11), (23, 11), (0, 11), (0, 7), (0, 26), (0, 4), (0, 41), (0, 10), (1, 0), (31, 0), (59, 11), (2, 32), (0, 11), (17, 11), (19, 11), (0, 11), (0, 2), (0, 46), (0, 2), (0, 3), (0, 42), (0, 38), (0, 18), (30, 24), (8, 11), (53, 11), (17, 11), (0, 11), (0, 7), (0, 30), (0, 5), (0, 43), (0, 41), (0, 20), (0, 31), (2, 11), (58, 11), (1, 11), (15, 11), (23, 11), (15, 0), (2, 0), (1, 0), (0, 2), (0, 59), (0, 28), (0, 1), (0, 11), (0, 50), (0, 50), (0, 34), (0, 50), (0, 11), (8, 11), (31, 11), (0, 11), (0, 11), (0, 11), (0, 33), (0, 21), (0, 10), (0, 1), (0, 17), (0, 24), (0, 20), (0, 28), (0, 46), (0, 14), (0, 18), (6, 0), (0, 3), (0, 20), (0, 18), (4, 0), (0, 2), (0, 1), (35, 0), (0, 2), (0, 12), (10, 0), (34, 0), (0, 30), (0, 8), (13, 0), (33, 0), (7, 0), (0, 3), (0, 34), (14, 0), (38, 0), (24, 0), (0, 42), (0, 20), (0, 2), (3, 0), (3, 0), (8, 0), (41, 0), (22, 0), (10, 0), (0, 19), (0, 22), (5, 0), (27, 0), (29, 0), (34, 0), (26, 0), (17, 0), (4, 0), (0, 23), (0, 26), (0, 8), (1, 0), (28, 0), (17, 0), (0, 10), (0, 35), (53, 0), (3, 0), (0, 18), (0, 27), (0, 5), (3, 0), (38, 0), (3, 0), (0, 5), (0, 47), (0, 4), (0, 4), (0, 10), (0, 28), (0, 3), (18, 0), (18, 0), (0, 4), (0, 29), (0, 29), (0, 7), (1, 0), (1, 0), (0, 12), (0, 27), (0, 6), (2, 0), (41, 14), (0, 33), (0, 42), (0, 43), (33, 0), (43, 0), (29, 0), (13, 0), (0, 8), (0, 41), (6, 34), (33, 38), (0, 11), (0, 5), (0, 31), (0, 1), (16, 0), (30, 0), (35, 0), (11, 0), (5, 0), (0, 25), (17, 29), (19, 11), (0, 11), (0, 50), (0, 32), (0, 2), (3, 0), (30, 0), (37, 0), (5, 0), (7, 51), (41, 11), (0, 11), (0, 11), (0, 9), (0, 36), (0, 32), (4, 0), (27, 0), (27, 0), (4, 45), (8, 11), (40, 11), (0, 11), (0, 11), (0, 4), (0, 7), (0, 49), (0, 30), (4, 0), (7, 9), (32, 34), (13, 11), (40, 11), (0, 11), (0, 11), (0, 2), (0, 32), (0, 12), (0, 56), (0, 40), (0, 18), (12, 25), (36, 11), (37, 11), (31, 11), (0, 11), (10, 0), (0, 8), (0, 29), (0, 10), (0, 53), (0, 55), (0, 38), (0, 22), (0, 44), (18, 11), (19, 11), (0, 11), (0, 11), (23, 11), (25, 0), (0, 6), (0, 53), (0, 5), (0, 23), (0, 53), (0, 60), (0, 37), (0, 11), (27, 11), (10, 11), (0, 11), (0, 11), (0, 11), (0, 13), (0, 1), (0, 2), (0, 19), (0, 17), (0, 1), (0, 28), (0, 48), (0, 8), (0, 4), (8, 0), (0, 11), (0, 7), (0, 27), (0, 31), (0, 38), (3, 0), (0, 23), (0, 3), (23, 0), (18, 0), (0, 21), (0, 39), (39, 0), (38, 0), (1, 0), (8, 0), (0, 40), (0, 5), (33, 0), (41, 0), (7, 0), (0, 5), (0, 33), (2, 0), (1, 0), (1, 0), (21, 0), (38, 0), (41, 0), (6, 0), (1, 0), (0, 48), (0, 8), (8, 0), (46, 0), (13, 0), (55, 0), (54, 0), (0, 29), (0, 7), (39, 0), (25, 0), (0, 41), (0, 11), (0, 1), (2, 0), (31, 0), (2, 0), (0, 24), (0, 17), (21, 0), (24, 0), (0, 5), (0, 9), (0, 9), (0, 31), (0, 13), (19, 0), (29, 0), (0, 5), (0, 30), (0, 20), (0, 19), (0, 17), (0, 11), (0, 1), (0, 21), (0, 24), (35, 0), (5, 0), (0, 22), (0, 25), (0, 30), (0, 17), (2, 12), (5, 9), (5, 0), (0, 25), (0, 10), (19, 0), (51, 20), (9, 32), (0, 2), (0, 2), (0, 40), (15, 26), (27, 16), (29, 14), (40, 4), (44, 3), (15, 1), (0, 10), (0, 36), (17, 1), (39, 30), (10, 22), (0, 12), (0, 31), (0, 26), (0, 15), (0, 13), (30, 3), (34, 0), (19, 0), (4, 0), (5, 1), (21, 58), (29, 26), (0, 11), (0, 11), (0, 17), (0, 23), (0, 21), (0, 16), (5, 4), (16, 2), (27, 0), (11, 0), (33, 51), (0, 11), (0, 11), (0, 11), (0, 15), (0, 23), (0, 38), (0, 14), (0, 11), (11, 9), (30, 0), (31, 39), (32, 14), (0, 11), (0, 11), (0, 11), (0, 24), (0, 41), (0, 22), (0, 14), (6, 17), (15, 41), (58, 11), (0, 11), (0, 11), (0, 11), (0, 18), (0, 17), (0, 42), (0, 37), (0, 45), (18, 17), (26, 11), (37, 11), (21, 11), (0, 11), (0, 10), (0, 27), (0, 15), (0, 16), (0, 35), (0, 26), (32, 21), (6, 11), (0, 11), (2, 11), (0, 11), (8, 0), (0, 10), (0, 21), (0, 21), (0, 20), (3, 34), (37, 11), (0, 11), (0, 11), (0, 11), (0, 11), (0, 2), (0, 8), (0, 13), (0, 19), (0, 28), (0, 1), (0, 1), (0, 18), (2, 36), (3, 28), (0, 17), (0, 22), (0, 47), (0, 3), (1, 0), (10, 0), (19, 0), (51, 6), (33, 29), (19, 0), (0, 8), (0, 30), (0, 5), (2, 0), (12, 0), (14, 0), (50, 0), (17, 0), (3, 0), (0, 1), (0, 49), (0, 3), (18, 0), (34, 0), (45, 0), (22, 0), (0, 30), (0, 12), (8, 0), (4, 0), (24, 0), (30, 0), (20, 0), (0, 1), (0, 37), (0, 4), (7, 0), (43, 0), (30, 0), (2, 0), (0, 30), (0, 19), (44, 0), (5, 0), (0, 25), (0, 47), (0, 4), (14, 0), (24, 0), (0, 13), (0, 31), (0, 32), (0, 1), (0, 3), (0, 6), (0, 28), (0, 10), (29, 0), (11, 0), (0, 21), (0, 32), (0, 31), (0, 33), (0, 31), (0, 17), (0, 5), (0, 22), (0, 18), (6, 0), (48, 0), (0, 3), (0, 4), (0, 22), (0, 25), (0, 26), (0, 29), (0, 30), (0, 28), (0, 15), (0, 2), (0, 22), (0, 24), (29, 0), (26, 0), (8, 0), (0, 6), (0, 14), (0, 25), (0, 29), (0, 30), (4, 29), (6, 2), (9, 0), (0, 1), (0, 18), (0, 26), (9, 0), (33, 0), (38, 0), (31, 17), (41, 32), (0, 2), (6, 17), (29, 27), (30, 28), (27, 30), (25, 29), (38, 12), (34, 6), (0, 32), (18, 4), (24, 0), (0, 26), (0, 25), (1, 17), (0, 13), (0, 19), (0, 28), (0, 30), (3, 29), (9, 26), (34, 20), (15, 1), (1, 10), (38, 36), (22, 15), (0, 27), (0, 11), (0, 11), (0, 1), (0, 22), (0, 25), (0, 28), (0, 29), (6, 28), (20, 25), (36, 18), (32, 19), (4, 49), (0, 14), (0, 11), (0, 11), (0, 8), (0, 28), (0, 30), (0, 31), (9, 26), (39, 30), (3, 37), (0, 11), (0, 11), (0, 11), (0, 2), (0, 24), (0, 29), (0, 29), (28, 51), (50, 11), (30, 11), (0, 11), (0, 11), (0, 5), (0, 8), (0, 9), (0, 13), (36, 37), (2, 11), (16, 11), (26, 11), (0, 11), (0, 30), (0, 15), (0, 9), (28, 19), (18, 24), (0, 11), (0, 11), (1, 11), (0, 11), (0, 18), (0, 28), (0, 6), (54, 38), (2, 14), (0, 11), (0, 11), (0, 11), (0, 11), (0, 1), (0, 6), (0, 3), (0, 39), (0, 3), (0, 24), (0, 56), (0, 4), (0, 1), (1, 35), (5, 6), (6, 0), (5, 0), (4, 0), (0, 5), (0, 2), (11, 0), (17, 0), (28, 38), (35, 21), (15, 7), (49, 0), (20, 0), (1, 0), (0, 20), (0, 46), (8, 0), (29, 0), (33, 0), (30, 0), (2, 13), (28, 38), (0, 5), (0, 29), (0, 49), (0, 25), (0, 2), (18, 0), (29, 0), (29, 0), (0, 21), (0, 33), (0, 36), (0, 29), (24, 0), (26, 0), (11, 0), (1, 0), (0, 23), (0, 32), (0, 10), (24, 0), (41, 0), (18, 0), (0, 8), (0, 36), (1, 0), (49, 0), (4, 0), (0, 14), (0, 29), (0, 8), (50, 0), (0, 6), (0, 16), (0, 18), (0, 18), (0, 6), (0, 29), (0, 4), (25, 0), (18, 0), (0, 9), (0, 18), (0, 17), (0, 49), (0, 44), (0, 45), (0, 30), (0, 4), (0, 5), (0, 10), (0, 28), (0, 10), (6, 0), (29, 0), (1, 0), (0, 2), (0, 4), (0, 5), (0, 9), (0, 11), (0, 31), (0, 41), (0, 41), (0, 27), (0, 28), (0, 5), (0, 44), (28, 0), (10, 0), (0, 1), (0, 1), (0, 4), (0, 13), (0, 14), (0, 30), (0, 42), (0, 11), (0, 25), (26, 0), (58, 0), (44, 0), (17, 0), (8, 9), (13, 4), (15, 7), (8, 14), (7, 43), (8, 27), (5, 7), (0, 31), (0, 35), (0, 21), (4, 0), (44, 0), (10, 0), (5, 0), (19, 12), (24, 31), (23, 0), (30, 0), (28, 12), (26, 14), (29, 33), (36, 38), (32, 39), (0, 42), (47, 14), (32, 0), (1, 0), (0, 22), (0, 30), (0, 16), (0, 10), (0, 18), (10, 25), (26, 43), (57, 34), (1, 4), (0, 13), (0, 28), (0, 11), (0, 11), (0, 13), (0, 15), (14, 17), (58, 29), (0, 47), (0, 30), (0, 22), (0, 11), (0, 11), (0, 3), (0, 6), (5, 17), (33, 22), (3, 42), (0, 11), (0, 11), (0, 11), (5, 0), (34, 18), (36, 33), (43, 11), (16, 11), (0, 11), (0, 1), (0, 18), (0, 10), (7, 0), (47, 0), (0, 45), (0, 11), (0, 11), (14, 11), (0, 11), (0, 35), (0, 17), (0, 5), (1, 0), (16, 0), (27, 3), (0, 39), (0, 11), (0, 11), (0, 11), (0, 11), (0, 1), (0, 19), (0, 33), (0, 8), (2, 0), (30, 0), (3, 19), (0, 24), (0, 11), (0, 11), (0, 11), (0, 11), (0, 5), (0, 2), (0, 3), (0, 42), (0, 4), (0, 45), (0, 7), (1, 0), (8, 0), (35, 41), (14, 8), (9, 0), (6, 0), (14, 0), (0, 3), (0, 11), (5, 0), (28, 0), (28, 0), (14, 0), (20, 32), (27, 7), (42, 0), (34, 0), (2, 0), (0, 8), (0, 20), (0, 35), (35, 0), (15, 0), (0, 6), (0, 36), (0, 10), (0, 28), (0, 44), (0, 13), (0, 13), (0, 27), (0, 2), (43, 0), (30, 0), (3, 0), (0, 10), (0, 50), (0, 29), (0, 26), (0, 9), (0, 17), (0, 35), (14, 0), (24, 0), (1, 0), (0, 22), (0, 36), (0, 58), (0, 30), (0, 47), (0, 46), (0, 27), (0, 33), (0, 7), (23, 0), (15, 0), (0, 25), (0, 57), (0, 59), (0, 8), (0, 17), (0, 46), (0, 29), (11, 0), (32, 0), (0, 7), (0, 41), (0, 54), (0, 26), (0, 2), (0, 37), (0, 21), (45, 0), (3, 0), (0, 18), (0, 42), (0, 40), (0, 36), (0, 23), (0, 26), (0, 19), (0, 58), (0, 5), (51, 0), (0, 1), (0, 10), (0, 8), (0, 21), (0, 59), (0, 46), (0, 6), (0, 9), (0, 31), (0, 6), (15, 0), (25, 0), (0, 5), (0, 28), (0, 25), (0, 43), (0, 42), (0, 5), (9, 0), (42, 0), (29, 0), (1, 0), (0, 1), (0, 57), (0, 55), (0, 46), (0, 8), (14, 0), (28, 0), (4, 0), (56, 0), (18, 0), (3, 22), (29, 0), (47, 0), (50, 0), (54, 0), (57, 28), (12, 51), (4, 23), (2, 34), (15, 0), (43, 0), (21, 9), (12, 32), (25, 0), (29, 1), (34, 3), (43, 49), (13, 8), (0, 18), (0, 34), (0, 11), (5, 0), (41, 3), (0, 28), (0, 7), (0, 2), (0, 38), (0, 11), (0, 11), (18, 0), (33, 1), (0, 40), (0, 26), (0, 23), (0, 11), (0, 11), (37, 0), (19, 0), (7, 30), (2, 24), (0, 11), (0, 11), (0, 3), (6, 0), (29, 0), (27, 0), (27, 51), (29, 11), (7, 11), (0, 11), (0, 4), (0, 25), (0, 31), (30, 0), (6, 0), (0, 21), (0, 29), (0, 11), (0, 11), (0, 11), (0, 1), (0, 4), (0, 45), (0, 10), (10, 0), (25, 0), (1, 0), (0, 44), (0, 11), (0, 11), (0, 11), (0, 11), (0, 5), (0, 24), (0, 26), (13, 0), (7, 0), (36, 0), (12, 0), (0, 10), (0, 34), (0, 11), (0, 11), (0, 11), (0, 11), (0, 6), (0, 3), (0, 4), (0, 27), (0, 4), (5, 0), (32, 0), (0, 31), (0, 6), (39, 0), (49, 0), (5, 0), (46, 30), (43, 7), (7, 0), (7, 0), (2, 0), (0, 6), (0, 39), (0, 14), (1, 0), (26, 0), (11, 0), (1, 0), (2, 9), (3, 30), (27, 0), (21, 0), (2, 0), (0, 19), (0, 24), (2, 0), (34, 0), (10, 0), (0, 3), (0, 24), (0, 21), (0, 19), (27, 0), (8, 0), (0, 18), (0, 15), (0, 32), (31, 0), (4, 0), (0, 45), (0, 19), (0, 2), (0, 11), (0, 25), (0, 1), (37, 0), (0, 41), (0, 37), (0, 32), (0, 28), (0, 28), (0, 35), (0, 4), (0, 1), (22, 0), (13, 0), (0, 20), (0, 41), (0, 43), (0, 17), (0, 29), (0, 48), (0, 50), (0, 23), (0, 43), (0, 9), (4, 0), (42, 0), (0, 3), (0, 30), (0, 29), (0, 28), (0, 31), (0, 50), (0, 30), (0, 32), (0, 33), (0, 1), (11, 0), (40, 0), (0, 3), (0, 6), (0, 11), (0, 47), (0, 72), (0, 17), (0, 9), (0, 1), (51, 0), (0, 29), (0, 37), (0, 6), (4, 0), (31, 0), (45, 0), (28, 0), (20, 0), (2, 0), (5, 0), (10, 0), (12, 0), (14, 0), (0, 43), (5, 4), (26, 0), (29, 0), (6, 0), (18, 0), (52, 0), (7, 1), (18, 0), (25, 0), (24, 0), (23, 0), (51, 0), (46, 0), (34, 6), (34, 30), (28, 6), (0, 7), (21, 59), (5, 0), (13, 0), (34, 0), (15, 43), (0, 10), (0, 54), (0, 11), (13, 0), (22, 0), (0, 25), (0, 38), (0, 30), (0, 19), (0, 11), (32, 0), (10, 0), (0, 44), (0, 36), (0, 11), (0, 11), (4, 0), (50, 0), (36, 0), (0, 19), (3, 29), (1, 11), (0, 11), (2, 0), (26, 0), (12, 0), (15, 0), (34, 51), (26, 11), (5, 11), (0, 11), (0, 5), (0, 23), (0, 25), (7, 0), (28, 0), (0, 6), (0, 46), (0, 11), (0, 11), (0, 11), (0, 6), (0, 10), (0, 58), (0, 6), (1, 0), (43, 0), (4, 0), (0, 40), (0, 14), (0, 11), (0, 11), (0, 11), (0, 29), (0, 21), (4, 0), (44, 0), (5, 0), (0, 24), (0, 21), (0, 11), (0, 11), (0, 11), (0, 11), (0, 2), (0, 12), (0, 6), (0, 2), (0, 3), (2, 0), (19, 0), (28, 0), (30, 0), (31, 22), (23, 13), (0, 8), (0, 29), (0, 9), (21, 0), (18, 0), (5, 0), (3, 0), (0, 11), (19, 29), (3, 0), (23, 0), (27, 0), (0, 35), (0, 19), (0, 4), (1, 0), (22, 0), (23, 0), (0, 42), (31, 0), (18, 0), (0, 1), (0, 24), (0, 18), (0, 11), (0, 3), (21, 0), (17, 0), (0, 3), (0, 31), (0, 37), (0, 17), (0, 4), (28, 0), (18, 0), (0, 22), (0, 37), (0, 15), (0, 5), (33, 0), (17, 0), (0, 23), (0, 40), (0, 10), (7, 0), (33, 0), (0, 3), (0, 9), (0, 10), (0, 7), (0, 39), (0, 27), (0, 2), (22, 0), (13, 0), (0, 26), (0, 23), (0, 2), (0, 29), (0, 6), (6, 0), (39, 0), (0, 13), (0, 34), (0, 38), (0, 21), (0, 19), (0, 16), (0, 24), (42, 0), (5, 0), (0, 6), (0, 15), (0, 32), (0, 30), (0, 39), (0, 35), (0, 19), (0, 1), (31, 0), (45, 0), (29, 0), (1, 0), (0, 19), (0, 22), (0, 32), (0, 32), (0, 8), (31, 0), (15, 0), (15, 0), (43, 0), (19, 0), (5, 0), (4, 0), (7, 0), (11, 0), (14, 0), (15, 2), (0, 25), (0, 52), (25, 28), (18, 0), (14, 0), (41, 0), (21, 12), (16, 0), (30, 0), (27, 0), (23, 0), (20, 0), (18, 0), (47, 0), (51, 7), (12, 40), (4, 17), (0, 31), (33, 0), (18, 2), (1, 30), (0, 33), (0, 1), (0, 19), (0, 27), (20, 0), (18, 0), (0, 13), (0, 31), (0, 26), (0, 24), (0, 11), (10, 0), (27, 0), (18, 0), (0, 1), (0, 59), (0, 28), (0, 11), (0, 11), (36, 0), (16, 0), (48, 0), (48, 30), (18, 19), (0, 11), (0, 11), (13, 0), (24, 0), (1, 0), (2, 50), (3, 11), (1, 11), (0, 11), (0, 17), (0, 15), (3, 0), (31, 0), (10, 0), (0, 34), (0, 21), (0, 11), (0, 11), (0, 11), (0, 4), (0, 19), (0, 47), (0, 21), (3, 0), (36, 0), (1, 0), (0, 9), (0, 34), (0, 11), (0, 11), (0, 11), (0, 11), (0, 1), (0, 23), (0, 19), (20, 0), (36, 0), (15, 0), (0, 21), (0, 22), (0, 11), (0, 11), (0, 11), (0, 11), (1, 0), (0, 1), (0, 1), (4, 0), (6, 0), (2, 0), (11, 0), (9, 0), (4, 0), (1, 0), (0, 17), (0, 9), (0, 4), (6, 0), (18, 0), (29, 0), (21, 0), (10, 11), (25, 10), (12, 0), (32, 0), (20, 0), (0, 8), (0, 23), (0, 28), (0, 20), (0, 1), (10, 0), (20, 0), (9, 0), (2, 45), (44, 0), (29, 0), (0, 2), (0, 26), (0, 31), (0, 21), (0, 2), (9, 0), (20, 0), (0, 2), (0, 6), (0, 25), (0, 30), (0, 23), (9, 0), (15, 0), (1, 0), (0, 7), (0, 27), (0, 27), (0, 3), (33, 0), (1, 0), (0, 7), (0, 27), (0, 25), (0, 1), (48, 0), (8, 0), (0, 2), (0, 30), (0, 32), (2, 0), (35, 0), (0, 1), (0, 17), (0, 34), (23, 0), (12, 0), (0, 9), (0, 10), (0, 35), (0, 24), (21, 0), (15, 0), (0, 49), (0, 51), (0, 20), (0, 3), (0, 18), (0, 27), (46, 0), (7, 0), (0, 16), (0, 39), (0, 24), (0, 1), (1, 25), (10, 12), (29, 0), (26, 0), (39, 0), (0, 24), (0, 44), (0, 16), (6, 1), (5, 11), (54, 27), (16, 0), (49, 0), (32, 0), (9, 0), (9, 0), (18, 0), (17, 0), (14, 0), (7, 0), (11, 23), (17, 16), (48, 13), (25, 18), (0, 38), (0, 1), (9, 0), (13, 0), (2, 0), (12, 0), (24, 0), (22, 0), (23, 0), (26, 0), (23, 0), (36, 30), (19, 42), (0, 29), (0, 44), (0, 22), (0, 26), (43, 13), (9, 11), (0, 59), (0, 40), (0, 3), (0, 14), (0, 29), (5, 0), (42, 0), (0, 16), (0, 27), (0, 5), (0, 30), (0, 29), (0, 11), (12, 0), (27, 0), (14, 0), (17, 7), (5, 58), (1, 16), (0, 11), (0, 11), (14, 0), (31, 0), (20, 0), (17, 0), (37, 45), (16, 13), (0, 11), (0, 11), (49, 0), (0, 31), (0, 24), (0, 11), (0, 11), (0, 11), (0, 1), (0, 1), (3, 0), (24, 0), (17, 0), (0, 46), (0, 11), (0, 11), (0, 11), (0, 11), (0, 4), (0, 18), (0, 20), (25, 0), (13, 0), (0, 11), (0, 32), (0, 11), (0, 11), (0, 11), (0, 11), (0, 10), (0, 30), (0, 18), (0, 1), (8, 0), (38, 0), (43, 0), (4, 0), (0, 19), (0, 23), (0, 11), (0, 11), (0, 11), (0, 11), (31, 0), (6, 0), (0, 11), (0, 30), (0, 17), (0, 6), (38, 0), (11, 0), (0, 8), (0, 19), (0, 3), (0, 1), (36, 0), (22, 0), (8, 0), (0, 7), (1, 0), (8, 0), (0, 6), (0, 3), (34, 0), (31, 0), (23, 0), (7, 0), (0, 4), (0, 19), (0, 40), (0, 5), (1, 0), (4, 0), (5, 0), (0, 15), (5, 22), (31, 0), (18, 0), (10, 0), (0, 3), (0, 8), (0, 29), (0, 27), (0, 18), (1, 0), (2, 0), (1, 0), (8, 27), (5, 0), (0, 11), (0, 24), (0, 15), (13, 0), (0, 5), (0, 21), (0, 25), (0, 16), (0, 22), (0, 1), (0, 17), (0, 30), (33, 0), (0, 5), (0, 11), (26, 31), (22, 0), (0, 8), (0, 43), (26, 7), (10, 0), (0, 7), (0, 31), (0, 5), (0, 22), (22, 13), (13, 0), (0, 1), (0, 1), (0, 36), (0, 5), (0, 20), (21, 15), (24, 0), (3, 0), (3, 0), (0, 12), (0, 28), (0, 29), (6, 0), (25, 3), (27, 39), (25, 0), (31, 0), (30, 0), (36, 0), (0, 11), (0, 51), (0, 8), (18, 0), (32, 0), (37, 0), (5, 25), (0, 51), (1, 0), (43, 0), (5, 0), (8, 0), (41, 0), (54, 0), (52, 3), (31, 26), (31, 20), (29, 0), (3, 0), (0, 12), (0, 27), (0, 6), (3, 0), (15, 10), (30, 49), (27, 16), (3, 0), (0, 29), (0, 6), (0, 4), (0, 31), (0, 7), (0, 18), (14, 46), (31, 33), (0, 38), (0, 27), (0, 53), (0, 48), (0, 13), (0, 1), (0, 9), (25, 9), (25, 7), (0, 44), (0, 43), (0, 55), (0, 28), (0, 35), (0, 12), (0, 11), (16, 0), (27, 3), (7, 2), (10, 15), (11, 28), (4, 27), (0, 11), (0, 11), (40, 0), (24, 0), (27, 0), (23, 0), (16, 48), (3, 11), (0, 11), (0, 11), (25, 0), (21, 0), (0, 30), (0, 23), (0, 11), (0, 11), (0, 11), (19, 0), (19, 0), (0, 45), (0, 11), (0, 11), (0, 11), (0, 11), (0, 1), (0, 1), (26, 0), (19, 0), (1, 0), (0, 21), (0, 23), (0, 11), (0, 11), (0, 11), (0, 11), (0, 3), (0, 11), (13, 0), (56, 0), (9, 0), (0, 20), (0, 23), (0, 11), (0, 11), (0, 11), (0, 11), (13, 0), (19, 0), (1, 0), (0, 2), (0, 6), (0, 26), (0, 31), (0, 30), (0, 8), (2, 0), (30, 0), (4, 0), (0, 5), (0, 20), (0, 33), (0, 34), (0, 19), (0, 1), (1, 0), (21, 0), (16, 0), (0, 19), (0, 38), (0, 39), (0, 24), (0, 4), (0, 2), (9, 0), (20, 0), (8, 0), (0, 23), (0, 1), (0, 3), (0, 3), (0, 9), (0, 16), (0, 6), (0, 2), (0, 42), (0, 4), (0, 33), (0, 31), (0, 20), (9, 13), (0, 22), (0, 16), (0, 5), (24, 0), (0, 22), (0, 29), (0, 15), (10, 0), (0, 34), (0, 1), (0, 16), (0, 33), (30, 0), (0, 2), (33, 38), (18, 1), (0, 11), (36, 31), (0, 13), (24, 39), (13, 5), (0, 4), (0, 34), (25, 0), (30, 36), (49, 7), (22, 0), (0, 14), (0, 27), (0, 14), (23, 0), (19, 0), (12, 6), (0, 41), (21, 4), (32, 0), (29, 0), (4, 0), (10, 6), (17, 28), (0, 14), (14, 0), (31, 0), (17, 0), (1, 0), (0, 6), (0, 29), (2, 0), (4, 0), (31, 0), (5, 0), (13, 0), (18, 5), (51, 29), (57, 16), (16, 0), (8, 0), (0, 1), (0, 24), (0, 14), (0, 4), (0, 1), (0, 19), (0, 32), (36, 0), (15, 0), (0, 41), (0, 10), (0, 1), (0, 8), (0, 33), (0, 18), (0, 30), (0, 24), (27, 3), (8, 0), (0, 9), (0, 32), (0, 12), (0, 43), (0, 11), (0, 5), (0, 32), (0, 31), (0, 28), (47, 32), (4, 34), (0, 5), (0, 5), (0, 1), (0, 33), (0, 36), (0, 11), (0, 11), (0, 16), (7, 18), (48, 15), (51, 29), (47, 29), (43, 25), (22, 45), (0, 16), (0, 11), (0, 11), (12, 0), (34, 0), (3, 0), (6, 0), (6, 27), (4, 34), (0, 11), (0, 11), (0, 11), (14, 0), (24, 0), (1, 0), (0, 36), (0, 20), (0, 11), (0, 11), (0, 11), (1, 0), (36, 0), (0, 11), (0, 35), (0, 11), (0, 11), (0, 11), (0, 11), (2, 0), (52, 0), (0, 21), (0, 22), (0, 11), (0, 11), (0, 11), (0, 11), (1, 0), (53, 0), (0, 31), (0, 17), (0, 11), (0, 11), (0, 11), (0, 11), (10, 0), (1, 0), (0, 6), (0, 13), (0, 26), (0, 3), (3, 0), (23, 0), (0, 4), (0, 7), (0, 7), (0, 28), (0, 1), (1, 0), (0, 2), (0, 3), (0, 6), (0, 17), (0, 3), (0, 4), (0, 11), (0, 18), (0, 31), (0, 1), (0, 7), (0, 39), (0, 23), (0, 38), (0, 16), (0, 2), (0, 24), (0, 42), (9, 0), (0, 10), (0, 29), (0, 8), (22, 0), (0, 6), (0, 30), (10, 0), (0, 8), (0, 47), (26, 0), (0, 8), (11, 34), (21, 0), (0, 14), (36, 27), (0, 3), (10, 0), (31, 7), (23, 45), (0, 2), (0, 19), (17, 0), (24, 0), (15, 0), (17, 33), (47, 10), (15, 0), (0, 11), (0, 20), (1, 0), (2, 0), (57, 0), (28, 0), (0, 10), (1, 27), (28, 1), (19, 0), (2, 0), (3, 39), (17, 11), (33, 0), (44, 0), (32, 0), (0, 3), (0, 26), (0, 10), (2, 0), (3, 0), (1, 0), (4, 7), (18, 40), (31, 9), (19, 0), (0, 4), (0, 29), (0, 15), (0, 38), (0, 47), (2, 24), (31, 0), (16, 0), (0, 30), (0, 15), (0, 24), (0, 35), (0, 23), (0, 36), (0, 51), (0, 28), (0, 3), (17, 0), (26, 0), (0, 14), (0, 46), (0, 19), (0, 12), (0, 20), (0, 1), (0, 54), (0, 43), (0, 11), (0, 9), (20, 2), (21, 0), (1, 0), (0, 11), (0, 35), (0, 11), (0, 11), (0, 1), (0, 1), (0, 2), (0, 44), (0, 42), (0, 44), (20, 39), (57, 25), (50, 27), (50, 9), (41, 2), (3, 34), (0, 17), (0, 11), (0, 11), (7, 0), (36, 2), (0, 10), (0, 7), (0, 41), (0, 26), (0, 35), (0, 11), (0, 11), (0, 11), (31, 0), (5, 0), (0, 56), (0, 11), (0, 11), (0, 11), (0, 11), (18, 0), (27, 0), (0, 18), (0, 25), (0, 11), (0, 11), (0, 11), (0, 11), (18, 0), (25, 0), (0, 22), (0, 22), (0, 11), (0, 11), (0, 11), (0, 11), (8, 0), (44, 0), (0, 35), (0, 14), (0, 11), (1, 11), (3, 11), (0, 11), (0, 19), (0, 22), (0, 17), (0, 54), (0, 4), (0, 22), (0, 14), (0, 10), (0, 16), (0, 8), (0, 33), (0, 27), (0, 27), (0, 12), (0, 2), (0, 19), (0, 1), (0, 12), (0, 26), (0, 10), (0, 34), (0, 15), (6, 0), (0, 20), (0, 20), (13, 0), (0, 26), (0, 19), (0, 15), (0, 30), (5, 0), (0, 16), (30, 23), (2, 0), (8, 0), (37, 12), (15, 39), (13, 0), (3, 0), (20, 0), (27, 0), (30, 0), (24, 0), (15, 9), (22, 26), (18, 0), (0, 6), (0, 2), (12, 0), (33, 0), (41, 0), (6, 0), (2, 0), (0, 3), (0, 31), (13, 1), (0, 38), (7, 12), (33, 0), (23, 0), (0, 6), (0, 37), (0, 8), (0, 12), (0, 24), (0, 53), (3, 51), (25, 0), (28, 0), (0, 4), (0, 27), (0, 8), (0, 21), (0, 23), (0, 39), (0, 48), (0, 50), (0, 13), (13, 0), (41, 0), (6, 0), (0, 4), (0, 32), (0, 25), (0, 30), (0, 8), (0, 44), (0, 46), (0, 48), (0, 13), (8, 0), (29, 0), (22, 0), (0, 9), (0, 50), (0, 11), (0, 1), (0, 5), (0, 41), (0, 43), (0, 45), (0, 47), (23, 0), (16, 0), (5, 0), (6, 0), (20, 0), (14, 0), (0, 41), (0, 11), (0, 11), (0, 1), (0, 6), (0, 21), (0, 27), (0, 39), (0, 43), (0, 44), (0, 41), (0, 46), (0, 50), (0, 4), (0, 7), (50, 11), (32, 14), (33, 0), (13, 0), (6, 0), (0, 18), (0, 25), (0, 11), (0, 11), (0, 16), (0, 16), (0, 13), (0, 11), (0, 9), (0, 7), (0, 30), (24, 26), (11, 23), (0, 21), (0, 44), (0, 27), (0, 45), (0, 11), (0, 11), (0, 11), (34, 0), (3, 0), (0, 21), (0, 27), (0, 35), (0, 11), (0, 11), (0, 11), (46, 0), (5, 0), (0, 53), (0, 11), (0, 11), (0, 11), (0, 11), (1, 0), (31, 0), (4, 0), (0, 22), (0, 21), (0, 11), (0, 11), (0, 11), (0, 11), (2, 0), (25, 0), (13, 0), (0, 21), (0, 22), (2, 11), (10, 11), (28, 11), (6, 11), (0, 42), (0, 31), (0, 4), (0, 9), (0, 13), (0, 31), (0, 10), (0, 1), (0, 24), (0, 38), (0, 9), (0, 40), (0, 10), (0, 25), (0, 17), (8, 0), (0, 30), (0, 12), (0, 21), (0, 25), (2, 0), (0, 19), (12, 19), (7, 0), (18, 0), (0, 17), (15, 33), (3, 0), (1, 0), (17, 0), (29, 0), (32, 0), (28, 0), (1, 0), (0, 9), (12, 27), (20, 0), (6, 0), (2, 0), (0, 13), (0, 39), (0, 35), (0, 3), (6, 0), (25, 0), (7, 0), (0, 8), (0, 35), (0, 34), (0, 29), (2, 0), (6, 0), (46, 0), (21, 0), (0, 51), (0, 31), (21, 0), (30, 0), (18, 0), (0, 35), (0, 18), (4, 0), (27, 0), (11, 0), (7, 0), (10, 0), (13, 0), (4, 0), (0, 37), (0, 15), (0, 11), (0, 13), (0, 18), (0, 25), (0, 29), (0, 23), (0, 2), (0, 17), (0, 1), (51, 3), (27, 0), (23, 0), (19, 0), (4, 0), (0, 6), (0, 35), (0, 11), (0, 11), (0, 4), (0, 5), (0, 19), (0, 55), (0, 54), (0, 30), (0, 47), (0, 44), (0, 40), (0, 37), (21, 33), (13, 30), (0, 34), (0, 24), (0, 41), (0, 13), (0, 11), (0, 11), (13, 0), (27, 0), (0, 1), (0, 22), (0, 46), (0, 17), (0, 39), (0, 11), (0, 11), (0, 11), (20, 0), (21, 0), (1, 0), (0, 4), (0, 54), (0, 11), (0, 11), (0, 11), (0, 11), (33, 0), (29, 0), (0, 23), (0, 21), (0, 11), (0, 11), (0, 11), (0, 11), (3, 0), (30, 0), (3, 0), (0, 22), (0, 22), (0, 11), (31, 11), (55, 11), (36, 11), (0, 19), (0, 2), (0, 7), (0, 34), (0, 3), (0, 31), (0, 20), (0, 23), (0, 48), (0, 3), (0, 6), (0, 30), (0, 14), (0, 1), (0, 34), (0, 5), (0, 28), (0, 21), (0, 22), (0, 15), (0, 1), (3, 0), (11, 0), (0, 23), (0, 33), (0, 20), (4, 0), (5, 0), (6, 0), (5, 0), (1, 24), (2, 18), (0, 1), (0, 19), (0, 24), (0, 2), (0, 16), (0, 23), (0, 15), (0, 10), (3, 0), (19, 0), (0, 15), (0, 22), (0, 40), (3, 0), (12, 0), (50, 0), (18, 0), (0, 11), (0, 31), (26, 0), (23, 0), (14, 0), (0, 23), (0, 24), (10, 0), (28, 0), (7, 0), (16, 0), (52, 0), (45, 0), (10, 0), (0, 52), (0, 11), (0, 9), (0, 42), (0, 15), (0, 19), (0, 1), (0, 1), (0, 4), (9, 0), (45, 0), (25, 0), (1, 0), (2, 0), (1, 0), (0, 2), (0, 26), (0, 23), (0, 11), (0, 1), (0, 2), (0, 19), (0, 16), (0, 49), (0, 52), (0, 10), (0, 5), (0, 38), (0, 14), (0, 35), (0, 47), (0, 43), (33, 40), (2, 27), (0, 16), (0, 23), (0, 22), (0, 11), (0, 11), (0, 1), (0, 32), (0, 33), (0, 9), (0, 24), (0, 10), (1, 0), (16, 0), (25, 0), (0, 8), (0, 26), (0, 57), (0, 13), (0, 4), (0, 43), (0, 11), (0, 11), (0, 11), (1, 0), (20, 0), (20, 0), (0, 27), (0, 55), (0, 11), (0, 11), (0, 11), (0, 11), (36, 0), (21, 0), (0, 21), (0, 22), (0, 11), (4, 11), (16, 11), (15, 11), (4, 0), (30, 0), (20, 0), (0, 22), (0, 21), (0, 11), (1, 11), (1, 11), (6, 11), (0, 2), (0, 47), (0, 8), (0, 17), (0, 27), (0, 18), (0, 23), (0, 3), (0, 13), (0, 28), (0, 13), (0, 29), (0, 11), (0, 5), (0, 34), (0, 35), (0, 22), (0, 3), (0, 14), (0, 30), (0, 23), (0, 2), (0, 12), (0, 18), (0, 30), (0, 16), (0, 9), (0, 1), (0, 29), (0, 18), (0, 1), (0, 21), (0, 19), (0, 17), (0, 6), (0, 1), (0, 22), (0, 28), (0, 35), (6, 0), (0, 3), (0, 36), (8, 0), (38, 0), (16, 0), (0, 4), (0, 34), (30, 0), (24, 0), (11, 0), (0, 10), (0, 31), (12, 0), (29, 0), (50, 0), (53, 0), (57, 0), (51, 0), (11, 0), (0, 21), (0, 26), (0, 5), (0, 5), (27, 0), (8, 0), (0, 8), (0, 43), (0, 11), (0, 6), (0, 25), (0, 30), (0, 39), (0, 29), (0, 3), (0, 48), (0, 49), (31, 20), (3, 17), (0, 8), (0, 10), (0, 32), (0, 11), (0, 11), (0, 18), (0, 48), (0, 45), (0, 41), (0, 38), (0, 34), (0, 31), (0, 5), (58, 1), (0, 16), (0, 17), (0, 33), (0, 2), (0, 46), (0, 11), (0, 11), (0, 11), (3, 0), (31, 0), (1, 0), (0, 1), (0, 43), (0, 35), (0, 40), (0, 11), (0, 11), (0, 11), (0, 11), (21, 0), (18, 0), (0, 26), (0, 21), (0, 11), (0, 11), (0, 11), (2, 11), (5, 0), (30, 0), (1, 0), (0, 23), (0, 21), (0, 11), (0, 11), (0, 11), (4, 11)]\n"
     ]
    }
   ],
   "source": [
    "print(list(zip(arr_target[index_of_differences], arr_ref[index_of_differences])))"
   ]
  },
  {
   "cell_type": "code",
   "execution_count": 100,
   "metadata": {},
   "outputs": [],
   "source": [
    "def are_arrays_almost_equal(arr1, arr2, epsilon, max_number_different_pixels):\n",
    "    \"\"\"Returns True if at most max_number_different_pixels pixels of arrays arr1 and arr2 \n",
    "    differ by more than epsilon\n",
    "    \n",
    "    \"\"\"\n",
    "    difference = (abs(arr1-arr2) >= epsilon)\n",
    "    number_different_pixels = np.count_nonzero(difference)\n",
    "    return number_different_pixels <= max_number_different_pixels, number_different_pixels"
   ]
  },
  {
   "cell_type": "code",
   "execution_count": 101,
   "metadata": {},
   "outputs": [],
   "source": [
    "equal_arrays, number_different_pixels = are_arrays_almost_equal(arr_ref, arr_target, 1, 2)"
   ]
  },
  {
   "cell_type": "code",
   "execution_count": 102,
   "metadata": {},
   "outputs": [
    {
     "name": "stdout",
     "output_type": "stream",
     "text": [
      "False\n"
     ]
    }
   ],
   "source": [
    "print(equal_arrays)"
   ]
  },
  {
   "cell_type": "markdown",
   "metadata": {},
   "source": [
    "# Crops with mask and with nearest-neighbour interpolation"
   ]
  },
  {
   "cell_type": "markdown",
   "metadata": {},
   "source": [
    "## Main program"
   ]
  },
  {
   "cell_type": "code",
   "execution_count": 103,
   "metadata": {},
   "outputs": [
    {
     "name": "stdout",
     "output_type": "stream",
     "text": [
      "tgt_dir = /home/jc225751/Runs/18_test_visualization_marco/Program/deep_folding/data/target/data/nearest\n"
     ]
    }
   ],
   "source": [
    "tgt_dir_nearest = os.path.join(os.getcwd(), '../data/target/data/nearest')\n",
    "tgt_dir_nearest = os.path.abspath(tgt_dir_nearest)\n",
    "print((\"tgt_dir = \" + tgt_dir_nearest))"
   ]
  },
  {
   "cell_type": "code",
   "execution_count": 104,
   "metadata": {},
   "outputs": [
    {
     "name": "stdout",
     "output_type": "stream",
     "text": [
      "['100206']\n"
     ]
    }
   ],
   "source": [
    "interp = 'nearest'\n",
    "dataset_gen_pipe.dataset_gen_pipe(src_dir=src_dir,\n",
    "                                  tgt_dir=tgt_dir_nearest,\n",
    "                                  mask_dir=mask_dir,\n",
    "                                  cropping='mask',\n",
    "                                  list_sulci=sulcus,\n",
    "                                  side=side,\n",
    "                                  interp=interp,\n",
    "                                  number_subjects=1)"
   ]
  },
  {
   "cell_type": "markdown",
   "metadata": {},
   "source": [
    "## Result analysis"
   ]
  },
  {
   "cell_type": "markdown",
   "metadata": {},
   "source": [
    "### Analysis of the inputs"
   ]
  },
  {
   "cell_type": "code",
   "execution_count": 105,
   "metadata": {},
   "outputs": [
    {
     "name": "stdout",
     "output_type": "stream",
     "text": [
      "shape of source skeleton =  (1, 260, 311, 260)\n"
     ]
    }
   ],
   "source": [
    "# Gets source file as numpy array\n",
    "skeleton_dir = os.path.join(src_dir, \"ANALYSIS/3T_morphologist/100206/t1mri/default_acquisition/default_analysis/segmentation\")\n",
    "vol_source_file = glob.glob(skeleton_dir + '/' + side + '*.nii.gz')[0]\n",
    "vol_source = aims.read(vol_source_file)\n",
    "arr_source = vol_source.arraydata()\n",
    "print(\"shape of source skeleton = \", arr_source.shape)"
   ]
  },
  {
   "cell_type": "code",
   "execution_count": 106,
   "metadata": {},
   "outputs": [
    {
     "data": {
      "text/plain": [
       "array([ 0, 10, 11, 30, 40, 60, 80], dtype=int16)"
      ]
     },
     "execution_count": 106,
     "metadata": {},
     "output_type": "execute_result"
    }
   ],
   "source": [
    "np.unique(arr_source)"
   ]
  },
  {
   "cell_type": "code",
   "execution_count": 107,
   "metadata": {},
   "outputs": [
    {
     "data": {
      "text/plain": [
       "11    18832738\n",
       "0      2012736\n",
       "60      163069\n",
       "30        9634\n",
       "80        5330\n",
       "40          87\n",
       "10           6\n",
       "dtype: int64"
      ]
     },
     "execution_count": 107,
     "metadata": {},
     "output_type": "execute_result"
    }
   ],
   "source": [
    "pd.value_counts(np.resize(arr_source, arr_source.size))"
   ]
  },
  {
   "cell_type": "markdown",
   "metadata": {},
   "source": [
    "### Analysis of the outputs"
   ]
  },
  {
   "cell_type": "markdown",
   "metadata": {},
   "source": [
    "Prints the list of files of the target directory"
   ]
  },
  {
   "cell_type": "code",
   "execution_count": 108,
   "metadata": {},
   "outputs": [
    {
     "name": "stdout",
     "output_type": "stream",
     "text": [
      "Files in crops target directory:\n",
      "/home/jc225751/Runs/18_test_visualization_marco/Program/deep_folding/data/target/data/nearest\n",
      "100206_normalized.nii.gz\n",
      "100206_normalized.nii.gz.minf\n"
     ]
    }
   ],
   "source": [
    "print(\"Files in crops target directory:\")\n",
    "print(tgt_dir_nearest)\n",
    "print(('\\n'.join(os.listdir(tgt_dir_nearest + '/' + side + 'crops'))))"
   ]
  },
  {
   "cell_type": "code",
   "execution_count": 109,
   "metadata": {},
   "outputs": [
    {
     "name": "stdout",
     "output_type": "stream",
     "text": [
      "tgt_json_file =  /home/jc225751/Runs/18_test_visualization_marco/Program/deep_folding/data/target/data/nearest/Ldataset.json \n",
      "\n",
      "{\n",
      "    \"bbmax\": [\n",
      "        85,\n",
      "        86,\n",
      "        57,\n",
      "        1\n",
      "    ],\n",
      "    \"bbmin\": [\n",
      "        64,\n",
      "        70,\n",
      "        26,\n",
      "        0\n",
      "    ],\n",
      "    \"bbox_dir\": \"/neurospin/dico/data/deep_folding/data/bbox\",\n",
      "    \"cropped_dir\": \"/home/jc225751/Runs/18_test_visualization_marco/Program/deep_folding/data/target/data/nearest/Lcrops\",\n",
      "    \"date\": \"2021-10-15 22:07:20\",\n",
      "    \"git_sha\": \"c2104f396c5437b55ccc3799d9992de134d3f8c8\",\n",
      "    \"interp\": \"nearest\",\n",
      "    \"is_git\": true,\n",
      "    \"list_sulci\": [\n",
      "        \"S.T.s.ter.asc.ant._left\"\n",
      "    ],\n",
      "    \"mask_dir\": \"/home/jc225751/Runs/18_test_visualization_marco/Program/deep_folding/data/reference/mask\",\n",
      "    \"nb_subjects\": 1,\n",
      "    \"out_voxel_size\": [\n",
      "        1,\n",
      "        1,\n",
      "        1\n",
      "    ],\n",
      "    \"repo_working_dir\": \"/home/jc225751/Runs/18_test_visualization_marco/Program/deep_folding\",\n",
      "    \"resampling_type\": \"AimsApplyTransform\",\n",
      "    \"side\": \"L\",\n",
      "    \"src_dir\": \"/home/jc225751/Runs/18_test_visualization_marco/Program/deep_folding/data/source/unsupervised\",\n",
      "    \"tgt_dir\": \"/home/jc225751/Runs/18_test_visualization_marco/Program/deep_folding/data/target/data/nearest\",\n",
      "    \"timestamp\": 1634328440.9974542\n",
      "}\n"
     ]
    }
   ],
   "source": [
    "tgt_json_file = glob.glob(tgt_dir_nearest + '/*.json')[0]\n",
    "print(\"tgt_json_file = \", tgt_json_file, '\\n')\n",
    "with open(os.path.join(tgt_dir_nearest, tgt_json_file), 'r') as f:\n",
    "    data_tgt = json.load(f)\n",
    "    print((json.dumps(data_tgt, sort_keys=True, indent=4)))"
   ]
  },
  {
   "cell_type": "markdown",
   "metadata": {},
   "source": [
    "Obtained output (we read the cropped file from the target directory):"
   ]
  },
  {
   "cell_type": "code",
   "execution_count": 110,
   "metadata": {},
   "outputs": [
    {
     "name": "stdout",
     "output_type": "stream",
     "text": [
      "shape of target cropped image =  (1, 31, 16, 21)\n"
     ]
    }
   ],
   "source": [
    "# Gets target crop as numpy array\n",
    "cropped_target_dir = os.path.join(tgt_dir_nearest, side+'crops')\n",
    "vol_target_file = glob.glob(cropped_target_dir + '/' + '*.nii.gz')\n",
    "vol_target = aims.read(vol_target_file[0])\n",
    "arr_target = vol_target.arraydata()\n",
    "print(\"shape of target cropped image = \", arr_target.shape)"
   ]
  },
  {
   "cell_type": "code",
   "execution_count": 111,
   "metadata": {},
   "outputs": [
    {
     "data": {
      "text/plain": [
       "array([11], dtype=int16)"
      ]
     },
     "execution_count": 111,
     "metadata": {},
     "output_type": "execute_result"
    }
   ],
   "source": [
    "np.unique(arr_target)"
   ]
  },
  {
   "cell_type": "markdown",
   "metadata": {},
   "source": [
    "The scope here is to compare the different numbers present on the target array and on the source array:"
   ]
  },
  {
   "cell_type": "code",
   "execution_count": 112,
   "metadata": {},
   "outputs": [
    {
     "data": {
      "text/plain": [
       "11    100.0\n",
       "dtype: float64"
      ]
     },
     "execution_count": 112,
     "metadata": {},
     "output_type": "execute_result"
    }
   ],
   "source": [
    "np.around(pd.value_counts(np.resize(arr_target, arr_target.size))/arr_target.size*100, 1)"
   ]
  },
  {
   "cell_type": "code",
   "execution_count": 113,
   "metadata": {},
   "outputs": [
    {
     "data": {
      "text/plain": [
       "11    89.6\n",
       "0      9.6\n",
       "60     0.8\n",
       "30     0.0\n",
       "80     0.0\n",
       "40     0.0\n",
       "10     0.0\n",
       "dtype: float64"
      ]
     },
     "execution_count": 113,
     "metadata": {},
     "output_type": "execute_result"
    }
   ],
   "source": [
    "np.around(pd.value_counts(np.resize(arr_source, arr_source.size))/arr_source.size*100, 1)"
   ]
  },
  {
   "cell_type": "markdown",
   "metadata": {},
   "source": [
    "### Visualization"
   ]
  },
  {
   "cell_type": "code",
   "execution_count": 114,
   "metadata": {},
   "outputs": [
    {
     "name": "stdout",
     "output_type": "stream",
     "text": [
      "{'xvfb': <subprocess.Popen object at 0x7f016d60b978>, 'original_display': ':1', 'display': 6, 'glx': 2, 'virtualgl': None, 'headless': True, 'mesa': False, 'qtapp': None}\n"
     ]
    }
   ],
   "source": [
    "import anatomist.notebook as ana\n",
    "a = ana.Anatomist()\n",
    "print(a.headless_info.__dict__)"
   ]
  },
  {
   "cell_type": "code",
   "execution_count": 115,
   "metadata": {},
   "outputs": [],
   "source": [
    "def visualize_all_image(file_name):\n",
    "    \n",
    "    # load source skeleton data (the SliceableObject)\n",
    "    object_anat = a.loadObject(file_name)\n",
    "\n",
    "    # create an Axial window in anatomist\n",
    "    w = a.createWindow(\"Axial\", geometry=[1200, 350, 500, 500])\n",
    "    object_anat.addInWindows(w)\n",
    "\n",
    "    return object_anat, w"
   ]
  },
  {
   "cell_type": "code",
   "execution_count": 116,
   "metadata": {},
   "outputs": [
    {
     "name": "stdout",
     "output_type": "stream",
     "text": [
      "Files in crops nearest target directory:\n",
      "100206_normalized.nii.gz\n",
      "100206_normalized.nii.gz.minf\n"
     ]
    }
   ],
   "source": [
    "print(\"Files in crops nearest target directory:\")\n",
    "print(('\\n'.join(os.listdir(tgt_dir_nearest + '/' + side + 'crops'))))"
   ]
  },
  {
   "cell_type": "code",
   "execution_count": 117,
   "metadata": {},
   "outputs": [
    {
     "name": "stdout",
     "output_type": "stream",
     "text": [
      "/home/jc225751/Runs/18_test_visualization_marco/Program/deep_folding/data/target/data/nearest/Lcrops/100206_normalized.nii.gz\n"
     ]
    }
   ],
   "source": [
    "target_file_dir = tgt_dir_nearest + '/' + side + 'crops'\n",
    "target_file_nearest = glob.glob(target_file_dir + \"/*.nii.gz\")[0]\n",
    "print(target_file_nearest)"
   ]
  },
  {
   "cell_type": "code",
   "execution_count": 118,
   "metadata": {},
   "outputs": [
    {
     "data": {
      "application/vnd.jupyter.widget-view+json": {
       "model_id": "8ca8bebbc890457c9723cb5c8e72e2a4",
       "version_major": 2,
       "version_minor": 0
      },
      "text/plain": [
       "AnatomistInteractiveWidget(layout=Layout(height='auto', width='auto'), width=500)"
      ]
     },
     "metadata": {},
     "output_type": "display_data"
    },
    {
     "data": {
      "text/plain": [
       "(<anatomist.cpp.anatomist.SliceableObject object at 0x7f0133a775e8>,\n",
       " <anatomist.cpp.weak_shared_ptr_AWindow object at 0x7f0133a7ef78>)"
      ]
     },
     "execution_count": 118,
     "metadata": {},
     "output_type": "execute_result"
    }
   ],
   "source": [
    "visualize_all_image(target_file_nearest)"
   ]
  },
  {
   "cell_type": "code",
   "execution_count": 119,
   "metadata": {},
   "outputs": [
    {
     "name": "stdout",
     "output_type": "stream",
     "text": [
      "/home/jc225751/Runs/18_test_visualization_marco/Program/deep_folding/data/target/data/linear/Lcrops/100206_normalized.nii.gz\n"
     ]
    }
   ],
   "source": [
    "target_file_dir = tgt_dir + '/' + side + 'crops'\n",
    "target_file_linear = glob.glob(target_file_dir + \"/*.nii.gz\")[0]\n",
    "print(target_file_linear)"
   ]
  },
  {
   "cell_type": "code",
   "execution_count": 120,
   "metadata": {},
   "outputs": [
    {
     "data": {
      "application/vnd.jupyter.widget-view+json": {
       "model_id": "bd2182f537d245b7a7b9c3d664b1ed64",
       "version_major": 2,
       "version_minor": 0
      },
      "text/plain": [
       "AnatomistInteractiveWidget(layout=Layout(height='auto', width='auto'), width=500)"
      ]
     },
     "metadata": {},
     "output_type": "display_data"
    },
    {
     "data": {
      "text/plain": [
       "(<anatomist.cpp.anatomist.SliceableObject object at 0x7f016d54c558>,\n",
       " <anatomist.cpp.weak_shared_ptr_AWindow object at 0x7f0113fda0d8>)"
      ]
     },
     "execution_count": 120,
     "metadata": {},
     "output_type": "execute_result"
    }
   ],
   "source": [
    "visualize_all_image(target_file_linear)"
   ]
  },
  {
   "cell_type": "code",
   "execution_count": 121,
   "metadata": {},
   "outputs": [
    {
     "data": {
      "application/vnd.jupyter.widget-view+json": {
       "model_id": "e5cadbd5936d4b51b20d94517536bf0c",
       "version_major": 2,
       "version_minor": 0
      },
      "text/plain": [
       "AnatomistInteractiveWidget(layout=Layout(height='auto', width='auto'), width=500)"
      ]
     },
     "metadata": {},
     "output_type": "display_data"
    },
    {
     "data": {
      "text/plain": [
       "(<anatomist.cpp.anatomist.SliceableObject object at 0x7f0113fda948>,\n",
       " <anatomist.cpp.weak_shared_ptr_AWindow object at 0x7f0113ff3438>)"
      ]
     },
     "execution_count": 121,
     "metadata": {},
     "output_type": "execute_result"
    }
   ],
   "source": [
    "visualize_all_image(vol_source_file)"
   ]
  },
  {
   "cell_type": "code",
   "execution_count": null,
   "metadata": {},
   "outputs": [],
   "source": []
  }
 ],
 "metadata": {
  "kernelspec": {
   "display_name": "venv",
   "language": "python",
   "name": "venv"
  },
  "language_info": {
   "codemirror_mode": {
    "name": "ipython",
    "version": 3
   },
   "file_extension": ".py",
   "mimetype": "text/x-python",
   "name": "python",
   "nbconvert_exporter": "python",
   "pygments_lexer": "ipython3",
   "version": "3.6.9"
  }
 },
 "nbformat": 4,
 "nbformat_minor": 2
}
