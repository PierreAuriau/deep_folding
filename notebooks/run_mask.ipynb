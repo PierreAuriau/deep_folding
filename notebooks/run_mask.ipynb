{
 "cells": [
  {
   "cell_type": "markdown",
   "metadata": {},
   "source": [
    "# Determines bounding boxes for each sulcus"
   ]
  },
  {
   "cell_type": "markdown",
   "metadata": {},
   "source": [
    "This notebook determines bounding box around a sulcus. It uses a supervised database, in which each sulcus has been manually labelled."
   ]
  },
  {
   "cell_type": "markdown",
   "metadata": {},
   "source": [
    "# Imports"
   ]
  },
  {
   "cell_type": "code",
   "execution_count": null,
   "metadata": {},
   "outputs": [],
   "source": [
    "import sys\n",
    "import os\n",
    "import json\n",
    "import tempfile\n",
    "import colorado as cld"
   ]
  },
  {
   "cell_type": "markdown",
   "metadata": {},
   "source": [
    "The following line permits to import deep_folding even if this notebook is executed from the notebooks subfolder (and no install has been launched):\n",
    "\n",
    " /notebooks/use_transform.ipynb  \n",
    " /deep_folding/__init__.py"
   ]
  },
  {
   "cell_type": "code",
   "execution_count": null,
   "metadata": {},
   "outputs": [],
   "source": [
    "sys.path.append((os.path.abspath('../')))\n",
    "import deep_folding\n",
    "print((os.path.dirname(deep_folding.__file__)))"
   ]
  },
  {
   "cell_type": "markdown",
   "metadata": {},
   "source": [
    "# User-specific variables"
   ]
  },
  {
   "cell_type": "code",
   "execution_count": null,
   "metadata": {},
   "outputs": [],
   "source": [
    "sulcus = 'S.T.s.ter.asc.ant.'"
   ]
  },
  {
   "cell_type": "code",
   "execution_count": null,
   "metadata": {},
   "outputs": [],
   "source": [
    "side = 'L'"
   ]
  },
  {
   "cell_type": "markdown",
   "metadata": {},
   "source": [
    "We now assign path names and other user-specific variables."
   ]
  },
  {
   "cell_type": "markdown",
   "metadata": {},
   "source": [
    "The source directory is where the database lies. It contains the morphologist analysis subfolder ANALYSIS/3T_morphologist\n"
   ]
  },
  {
   "cell_type": "code",
   "execution_count": null,
   "metadata": {},
   "outputs": [],
   "source": [
    "src_dir = os.path.join(os.getcwd(), '../data/source/supervised')\n",
    "src_dir = os.path.abspath(src_dir)\n",
    "print((\"src_dir = \" + src_dir))"
   ]
  },
  {
   "cell_type": "markdown",
   "metadata": {},
   "source": [
    "The target directory tgt_dir is where the files will be saved"
   ]
  },
  {
   "cell_type": "code",
   "execution_count": null,
   "metadata": {},
   "outputs": [],
   "source": [
    "tgt_dir = os.path.join(os.getcwd(), '../data/target/bbox')\n",
    "tgt_dir = os.path.abspath(tgt_dir)\n",
    "print((\"tgt_dir = \" + tgt_dir))"
   ]
  },
  {
   "cell_type": "code",
   "execution_count": null,
   "metadata": {},
   "outputs": [],
   "source": [
    "ref_dir = os.path.join(os.getcwd(), '../data/reference/bbox')\n",
    "ref_dir = os.path.abspath(ref_dir)\n",
    "print((\"ref_dir = \" + ref_dir))"
   ]
  },
  {
   "cell_type": "code",
   "execution_count": null,
   "metadata": {},
   "outputs": [],
   "source": [
    "print((sys.argv))"
   ]
  },
  {
   "cell_type": "markdown",
   "metadata": {},
   "source": [
    "Gets the normlized SPM file to get voxel size inside the program"
   ]
  },
  {
   "cell_type": "code",
   "execution_count": null,
   "metadata": {},
   "outputs": [],
   "source": [
    "norm_dir = os.path.join(os.getcwd(), '../data/source/unsupervised')\n",
    "norm_dir = os.path.abspath(norm_dir)\n",
    "sub_dir = \"ANALYSIS/3T_morphologist/100206/t1mri/default_acquisition\""
   ]
  },
  {
   "cell_type": "markdown",
   "metadata": {},
   "source": [
    "# Illustration of main program uses"
   ]
  },
  {
   "cell_type": "markdown",
   "metadata": {},
   "source": [
    "### Using external calls"
   ]
  },
  {
   "cell_type": "code",
   "execution_count": null,
   "metadata": {},
   "outputs": [],
   "source": [
    "!python ../deep_folding/anatomist_tools/mask.py --help"
   ]
  },
  {
   "cell_type": "markdown",
   "metadata": {},
   "source": [
    "### By using the main function call"
   ]
  },
  {
   "cell_type": "code",
   "execution_count": null,
   "metadata": {},
   "outputs": [],
   "source": [
    "from deep_folding.anatomist_tools import mask\n",
    "print((mask.__file__))"
   ]
  },
  {
   "cell_type": "code",
   "execution_count": null,
   "metadata": {},
   "outputs": [],
   "source": [
    "args = \"--help\"\n",
    "argv = args.split(' ')"
   ]
  },
  {
   "cell_type": "code",
   "execution_count": null,
   "metadata": {},
   "outputs": [],
   "source": [
    "mask.main(argv)"
   ]
  },
  {
   "cell_type": "markdown",
   "metadata": {},
   "source": [
    "### By using the API function call"
   ]
  },
  {
   "cell_type": "code",
   "execution_count": null,
   "metadata": {},
   "outputs": [],
   "source": [
    "mask.bounding_box(src_dir=src_dir,\n",
    "                  tgt_dir=tgt_dir,\n",
    "                  sulcus=sulcus,\n",
    "                  side=side,\n",
    "                  number_subjects=0)"
   ]
  },
  {
   "cell_type": "markdown",
   "metadata": {},
   "source": [
    "# Test example"
   ]
  },
  {
   "cell_type": "code",
   "execution_count": null,
   "metadata": {},
   "outputs": [],
   "source": [
    "unsupervised_dir = os.path.join(os.getcwd(), '../data/source/unsupervised')\n",
    "reference_dir = os.path.join(os.getcwd(), '../data/reference')\n",
    "skeleton_file = os.path.join(unsupervised_dir,\n",
    "                            'ANALYSIS/3T_morphologist/100206/t1mri/default_acquisition/default_analysis/segmentation',\n",
    "                            'Lskeleton_100206.nii.gz')"
   ]
  },
  {
   "cell_type": "code",
   "execution_count": null,
   "metadata": {},
   "outputs": [],
   "source": [
    "_, _, vol_mask = mask.bounding_box(src_dir=src_dir,\n",
    "                                    tgt_dir=tgt_dir,\n",
    "                                    sulcus=sulcus,\n",
    "                                    side=side,\n",
    "                                    number_subjects=1,\n",
    "                                    out_voxel_size=1,\n",
    "                                    skeleton_file=skeleton_file)"
   ]
  },
  {
   "cell_type": "code",
   "execution_count": null,
   "metadata": {},
   "outputs": [],
   "source": [
    "vol_mask.shape "
   ]
  },
  {
   "cell_type": "code",
   "execution_count": null,
   "metadata": {},
   "outputs": [],
   "source": [
    "from soma import aims\n",
    "import moving_averages as ma\n",
    "\n",
    "temp_dir = tempfile.mkdtemp()\n",
    "mask_filename = f\"{temp_dir}/mask.nii.gz\"\n",
    "aims.write(vol_mask, mask_filename)\n",
    "bucket_filename = f\"{temp_dir}/mask.bck\"\n",
    "cmd = f\"AimsFileConvert -c Bucket -t VOID -e 1 -i {mask_filename} -o {bucket_filename}\"\n",
    "os.system(cmd)\n",
    "\n",
    "# Displays bucket file\n",
    "bucket, bucket_raw, dxyz, rot, tr = ma.load_bucket(bucket_filename)\n",
    "m = cld.buket_to_mesh(bucket)\n",
    "cld.draw(m)\n"
   ]
  },
  {
   "cell_type": "code",
   "execution_count": null,
   "metadata": {},
   "outputs": [],
   "source": [
    "fig = cld.new_figure()\n",
    "m = cld.buket_to_mesh(bucket)\n",
    "m_raw = cld.buket_to_mesh(bucket_raw)"
   ]
  },
  {
   "cell_type": "code",
   "execution_count": null,
   "metadata": {},
   "outputs": [],
   "source": [
    "bucket_raw"
   ]
  },
  {
   "cell_type": "code",
   "execution_count": null,
   "metadata": {},
   "outputs": [],
   "source": [
    "#cld.draw(m,fig,color=[0,255,0])\n",
    "cld.draw_numpy_bucket(bucket_raw)"
   ]
  },
  {
   "cell_type": "markdown",
   "metadata": {},
   "source": [
    "# Mask test with more than 1 subject"
   ]
  },
  {
   "cell_type": "code",
   "execution_count": null,
   "metadata": {},
   "outputs": [],
   "source": [
    "src_dir = \"/host/neurospin/dico/data/bv_databases/human/pclean/all\"\n",
    "\n",
    "_, _, vol_mask = mask.bounding_box(src_dir=src_dir,\n",
    "                                   tgt_dir=tgt_dir,\n",
    "                                   sulcus=sulcus,\n",
    "                                   side=side,\n",
    "                                   number_subjects=10,\n",
    "                                   out_voxel_size=1,\n",
    "                                   skeleton_file=skeleton_file)"
   ]
  },
  {
   "cell_type": "code",
   "execution_count": null,
   "metadata": {},
   "outputs": [],
   "source": [
    "temp_dir = tempfile.mkdtemp()\n",
    "mask_filename = f\"{temp_dir}/mask.nii.gz\"\n",
    "aims.write(vol_mask, mask_filename)\n",
    "bucket_filename = f\"{temp_dir}/mask.bck\"\n",
    "cmd = f\"AimsFileConvert -c Bucket -t VOID -e 1 -i {mask_filename} -o {bucket_filename}\"\n",
    "os.system(cmd)\n",
    "\n",
    "# Displays bucket file\n",
    "bucket, bucket_raw, dxyz, rot, tr = ma.load_bucket(bucket_filename)\n",
    "m = cld.buket_to_mesh(bucket)\n",
    "cld.draw(m)"
   ]
  },
  {
   "cell_type": "markdown",
   "metadata": {},
   "source": [
    "# Result analysis"
   ]
  },
  {
   "cell_type": "markdown",
   "metadata": {},
   "source": [
    "Prints the list of files of the target directory"
   ]
  },
  {
   "cell_type": "markdown",
   "metadata": {},
   "source": []
  },
  {
   "cell_type": "code",
   "execution_count": null,
   "metadata": {},
   "outputs": [],
   "source": [
    "import os\n",
    "tgt_dir_side = os.path.join(tgt_dir, side)\n",
    "print(('\\n'.join(os.listdir(tgt_dir_side))))"
   ]
  },
  {
   "cell_type": "markdown",
   "metadata": {},
   "source": [
    "Expected output (we read the bounding_box file from the reference directory):"
   ]
  },
  {
   "cell_type": "code",
   "execution_count": null,
   "metadata": {},
   "outputs": [],
   "source": [
    "ref_dir_side = os.path.join(ref_dir, side)\n",
    "ref_file = os.listdir(ref_dir_side)[0]\n",
    "print(\"ref_file = \", ref_file, '\\n')\n",
    "with open(os.path.join(ref_dir_side,ref_file), 'r') as f:\n",
    "    data_ref = json.load(f)\n",
    "    print((json.dumps(data_ref, sort_keys=True, indent=4)))\n",
    "    box_ref = {k: data_ref[k] for k in ['bbmin_voxel', 'bbmax_voxel']}"
   ]
  },
  {
   "cell_type": "markdown",
   "metadata": {},
   "source": [
    "Obtained output (we read the bounding_box file from the target directory):"
   ]
  },
  {
   "cell_type": "code",
   "execution_count": null,
   "metadata": {},
   "outputs": [],
   "source": [
    "tgt_file = os.listdir(tgt_dir_side)[0]\n",
    "print(\"tgt_file = \", tgt_file, '\\n')\n",
    "with open(os.path.join(tgt_dir_side,tgt_file), 'r') as f:\n",
    "    data_target = json.load(f)\n",
    "    print((json.dumps(data_target, sort_keys=True, indent=4)))\n",
    "    box_target = {k: data_ref[k] for k in ('bbmin_voxel', 'bbmax_voxel')}"
   ]
  },
  {
   "cell_type": "code",
   "execution_count": null,
   "metadata": {},
   "outputs": [],
   "source": [
    "box_target == box_ref"
   ]
  },
  {
   "cell_type": "code",
   "execution_count": null,
   "metadata": {},
   "outputs": [],
   "source": [
    "box_ref"
   ]
  },
  {
   "cell_type": "code",
   "execution_count": null,
   "metadata": {},
   "outputs": [],
   "source": []
  },
  {
   "cell_type": "code",
   "execution_count": null,
   "metadata": {},
   "outputs": [],
   "source": [
    "box_target"
   ]
  },
  {
   "cell_type": "code",
   "execution_count": null,
   "metadata": {},
   "outputs": [],
   "source": []
  }
 ],
 "metadata": {
  "kernelspec": {
   "display_name": "Python 3",
   "language": "python",
   "name": "python3"
  },
  "language_info": {
   "codemirror_mode": {
    "name": "ipython",
    "version": 3
   },
   "file_extension": ".py",
   "mimetype": "text/x-python",
   "name": "python",
   "nbconvert_exporter": "python",
   "pygments_lexer": "ipython3",
   "version": "3.6.9"
  }
 },
 "nbformat": 4,
 "nbformat_minor": 2
}