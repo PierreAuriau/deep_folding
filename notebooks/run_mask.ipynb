{
 "cells": [
  {
   "cell_type": "markdown",
   "metadata": {},
   "source": [
    "# Determines bounding boxes for each sulcus"
   ]
  },
  {
   "cell_type": "markdown",
   "metadata": {},
   "source": [
    "This notebook determines bounding box around a sulcus. It uses a supervised database, in which each sulcus has been manually labelled."
   ]
  },
  {
   "cell_type": "markdown",
   "metadata": {},
   "source": [
    "# Imports"
   ]
  },
  {
   "cell_type": "code",
   "execution_count": 1,
   "metadata": {},
   "outputs": [],
   "source": [
    "import sys\n",
    "import os\n",
    "import json"
   ]
  },
  {
   "cell_type": "markdown",
   "metadata": {},
   "source": [
    "The following line permits to import deep_folding even if this notebook is executed from the notebooks subfolder (and no install has been launched):\n",
    "\n",
    " /notebooks/use_transform.ipynb  \n",
    " /deep_folding/__init__.py"
   ]
  },
  {
   "cell_type": "code",
   "execution_count": 2,
   "metadata": {},
   "outputs": [
    {
     "name": "stdout",
     "output_type": "stream",
     "text": [
      "/host/home/jc225751/Program/deep_folding/deep_folding\n"
     ]
    }
   ],
   "source": [
    "sys.path.append((os.path.abspath('../')))\n",
    "import deep_folding\n",
    "print((os.path.dirname(deep_folding.__file__)))"
   ]
  },
  {
   "cell_type": "markdown",
   "metadata": {},
   "source": [
    "# User-specific variables"
   ]
  },
  {
   "cell_type": "code",
   "execution_count": 3,
   "metadata": {},
   "outputs": [],
   "source": [
    "sulcus = 'S.T.s.ter.asc.ant._left'"
   ]
  },
  {
   "cell_type": "code",
   "execution_count": 4,
   "metadata": {},
   "outputs": [],
   "source": [
    "side = 'L'"
   ]
  },
  {
   "cell_type": "markdown",
   "metadata": {},
   "source": [
    "We now assign path names and other user-specific variables."
   ]
  },
  {
   "cell_type": "markdown",
   "metadata": {},
   "source": [
    "The source directory is where the database lies. It contains the morphologist analysis subfolder ANALYSIS/3T_morphologist\n"
   ]
  },
  {
   "cell_type": "code",
   "execution_count": 5,
   "metadata": {},
   "outputs": [
    {
     "name": "stdout",
     "output_type": "stream",
     "text": [
      "src_dir = /host/home/jc225751/Program/deep_folding/data/source/supervised\n"
     ]
    }
   ],
   "source": [
    "src_dir = os.path.join(os.getcwd(), '../data/source/supervised')\n",
    "src_dir = os.path.abspath(src_dir)\n",
    "print((\"src_dir = \" + src_dir))"
   ]
  },
  {
   "cell_type": "markdown",
   "metadata": {},
   "source": [
    "The target directory tgt_dir is where the files will be saved"
   ]
  },
  {
   "cell_type": "code",
   "execution_count": 6,
   "metadata": {},
   "outputs": [
    {
     "name": "stdout",
     "output_type": "stream",
     "text": [
      "tgt_dir = /host/home/jc225751/Program/deep_folding/data/target/bbox\n"
     ]
    }
   ],
   "source": [
    "tgt_dir = os.path.join(os.getcwd(), '../data/target/bbox')\n",
    "tgt_dir = os.path.abspath(tgt_dir)\n",
    "print((\"tgt_dir = \" + tgt_dir))"
   ]
  },
  {
   "cell_type": "code",
   "execution_count": 7,
   "metadata": {},
   "outputs": [
    {
     "name": "stdout",
     "output_type": "stream",
     "text": [
      "ref_dir = /host/home/jc225751/Program/deep_folding/data/reference/bbox\n"
     ]
    }
   ],
   "source": [
    "ref_dir = os.path.join(os.getcwd(), '../data/reference/bbox')\n",
    "ref_dir = os.path.abspath(ref_dir)\n",
    "print((\"ref_dir = \" + ref_dir))"
   ]
  },
  {
   "cell_type": "code",
   "execution_count": 8,
   "metadata": {},
   "outputs": [
    {
     "name": "stdout",
     "output_type": "stream",
     "text": [
      "['/home/jc225751/Program/deep_folding/venv/lib/python3.6/site-packages/ipykernel_launcher.py', '-f', '/casa/home/.local/share/jupyter/runtime/kernel-6d3553da-d9d3-41cc-9e02-488bd37066ae.json']\n"
     ]
    }
   ],
   "source": [
    "print((sys.argv))"
   ]
  },
  {
   "cell_type": "markdown",
   "metadata": {},
   "source": [
    "Gets the normlized SPM file to get voxel size inside the program"
   ]
  },
  {
   "cell_type": "code",
   "execution_count": 9,
   "metadata": {},
   "outputs": [],
   "source": [
    "norm_dir = os.path.join(os.getcwd(), '../data/source/unsupervised')\n",
    "norm_dir = os.path.abspath(norm_dir)\n",
    "sub_dir = \"ANALYSIS/3T_morphologist/100206/t1mri/default_acquisition\"\n",
    "file_name = \"normalized_SPM_100206.nii\"\n",
    "image_normalized_spm = os.path.join(norm_dir, sub_dir, file_name)"
   ]
  },
  {
   "cell_type": "markdown",
   "metadata": {},
   "source": [
    "# Illustration of main program uses"
   ]
  },
  {
   "cell_type": "markdown",
   "metadata": {},
   "source": [
    "We will first use the program with no effect by using number of subjects set to 0, or by calling the help function"
   ]
  },
  {
   "cell_type": "markdown",
   "metadata": {},
   "source": [
    "### Using external calls"
   ]
  },
  {
   "cell_type": "code",
   "execution_count": 10,
   "metadata": {},
   "outputs": [],
   "source": [
    "!python ../deep_folding/anatomist_tools/bounding_box.py -n 0"
   ]
  },
  {
   "cell_type": "code",
   "execution_count": 11,
   "metadata": {},
   "outputs": [
    {
     "name": "stdout",
     "output_type": "stream",
     "text": [
      "usage: bounding_box.py [-h] [-s SRC_DIR [SRC_DIR ...]] [-t TGT_DIR]\r\n",
      "                       [-u SULCUS] [-i SIDE] [-m IMAGE_NORMALIZED_SPM]\r\n",
      "                       [-p PATH_TO_GRAPH] [-n NB_SUBJECTS]\r\n",
      "\r\n",
      "Computes bounding box around the named sulcus\r\n",
      "\r\n",
      "optional arguments:\r\n",
      "  -h, --help            show this help message and exit\r\n",
      "  -s SRC_DIR [SRC_DIR ...], --src_dir SRC_DIR [SRC_DIR ...]\r\n",
      "                        Source directory where the MRI data lies. If there are\r\n",
      "                        several directories, add all directories one after the\r\n",
      "                        other. Example: -s DIR_1 DIR_2. Default is :\r\n",
      "                        /neurospin/lnao/PClean/database_learnclean/all/\r\n",
      "  -t TGT_DIR, --tgt_dir TGT_DIR\r\n",
      "                        Target directory where to store the output\r\n",
      "                        transformation files. Default is :\r\n",
      "                        /neurospin/dico/deep_folding_data/test/bbox\r\n",
      "  -u SULCUS, --sulcus SULCUS\r\n",
      "                        Sulcus name around which we determine the bounding\r\n",
      "                        box. Default is : S.T.s.ter.asc.ant._left\r\n",
      "  -i SIDE, --side SIDE  Hemisphere side. Default is : L\r\n",
      "  -m IMAGE_NORMALIZED_SPM, --image_normalized_SPM IMAGE_NORMALIZED_SPM\r\n",
      "                        Name (with path) of normalized SPM image. It is used\r\n",
      "                        to determine voxel size. Default is : /neurospin/hcp/A\r\n",
      "                        NALYSIS/3T_morphologist/100206/t1mri/default_acquisiti\r\n",
      "                        on/normalized_SPM_100206.nii\r\n",
      "  -p PATH_TO_GRAPH, --path_to_graph PATH_TO_GRAPH\r\n",
      "                        Relative path to manually labelled graph. Default is\r\n",
      "                        t1mri/t1/default_analysis/folds/3.3/base2018_manual\r\n",
      "  -n NB_SUBJECTS, --nb_subjects NB_SUBJECTS\r\n",
      "                        Number of subjects to take into account, or 'all'. 0\r\n",
      "                        subject is allowed, for debug purpose. Default is :\r\n",
      "                        all\r\n"
     ]
    }
   ],
   "source": [
    "!python ../deep_folding/anatomist_tools/bounding_box.py --help"
   ]
  },
  {
   "cell_type": "markdown",
   "metadata": {},
   "source": [
    "### By using the main function call"
   ]
  },
  {
   "cell_type": "code",
   "execution_count": 12,
   "metadata": {},
   "outputs": [
    {
     "name": "stdout",
     "output_type": "stream",
     "text": [
      "/host/home/jc225751/Program/deep_folding/deep_folding/anatomist_tools/bounding_box.py\n"
     ]
    }
   ],
   "source": [
    "from deep_folding.anatomist_tools import bounding_box\n",
    "print((bounding_box.__file__))"
   ]
  },
  {
   "cell_type": "code",
   "execution_count": 13,
   "metadata": {},
   "outputs": [],
   "source": [
    "args = \"-n 0\"\n",
    "argv = args.split(' ')"
   ]
  },
  {
   "cell_type": "code",
   "execution_count": 14,
   "metadata": {},
   "outputs": [],
   "source": [
    "bounding_box.main(argv)"
   ]
  },
  {
   "cell_type": "code",
   "execution_count": 15,
   "metadata": {},
   "outputs": [],
   "source": [
    "args = \"--help\"\n",
    "argv = args.split(' ')"
   ]
  },
  {
   "cell_type": "code",
   "execution_count": 16,
   "metadata": {},
   "outputs": [
    {
     "name": "stdout",
     "output_type": "stream",
     "text": [
      "usage: bounding_box.py [-h] [-s SRC_DIR [SRC_DIR ...]] [-t TGT_DIR]\n",
      "                       [-u SULCUS] [-i SIDE] [-m IMAGE_NORMALIZED_SPM]\n",
      "                       [-p PATH_TO_GRAPH] [-n NB_SUBJECTS]\n",
      "\n",
      "Computes bounding box around the named sulcus\n",
      "\n",
      "optional arguments:\n",
      "  -h, --help            show this help message and exit\n",
      "  -s SRC_DIR [SRC_DIR ...], --src_dir SRC_DIR [SRC_DIR ...]\n",
      "                        Source directory where the MRI data lies. If there are\n",
      "                        several directories, add all directories one after the\n",
      "                        other. Example: -s DIR_1 DIR_2. Default is :\n",
      "                        /neurospin/lnao/PClean/database_learnclean/all/\n",
      "  -t TGT_DIR, --tgt_dir TGT_DIR\n",
      "                        Target directory where to store the output\n",
      "                        transformation files. Default is :\n",
      "                        /neurospin/dico/deep_folding_data/test/bbox\n",
      "  -u SULCUS, --sulcus SULCUS\n",
      "                        Sulcus name around which we determine the bounding\n",
      "                        box. Default is : S.T.s.ter.asc.ant._left\n",
      "  -i SIDE, --side SIDE  Hemisphere side. Default is : L\n",
      "  -m IMAGE_NORMALIZED_SPM, --image_normalized_SPM IMAGE_NORMALIZED_SPM\n",
      "                        Name (with path) of normalized SPM image. It is used\n",
      "                        to determine voxel size. Default is : /neurospin/hcp/A\n",
      "                        NALYSIS/3T_morphologist/100206/t1mri/default_acquisiti\n",
      "                        on/normalized_SPM_100206.nii\n",
      "  -p PATH_TO_GRAPH, --path_to_graph PATH_TO_GRAPH\n",
      "                        Relative path to manually labelled graph. Default is\n",
      "                        t1mri/t1/default_analysis/folds/3.3/base2018_manual\n",
      "  -n NB_SUBJECTS, --nb_subjects NB_SUBJECTS\n",
      "                        Number of subjects to take into account, or 'all'. 0\n",
      "                        subject is allowed, for debug purpose. Default is :\n",
      "                        all\n"
     ]
    }
   ],
   "source": [
    "bounding_box.main(argv)"
   ]
  },
  {
   "cell_type": "markdown",
   "metadata": {},
   "source": [
    "### By using the API function call"
   ]
  },
  {
   "cell_type": "code",
   "execution_count": 17,
   "metadata": {},
   "outputs": [
    {
     "data": {
      "text/plain": [
       "(0, 0)"
      ]
     },
     "execution_count": 17,
     "metadata": {},
     "output_type": "execute_result"
    }
   ],
   "source": [
    "bounding_box.bounding_box(src_dir=src_dir,\n",
    "                          tgt_dir=tgt_dir,\n",
    "                          sulcus=sulcus,\n",
    "                          side=side,\n",
    "                          number_subjects=0)"
   ]
  },
  {
   "cell_type": "markdown",
   "metadata": {},
   "source": [
    "# Test example"
   ]
  },
  {
   "cell_type": "code",
   "execution_count": 18,
   "metadata": {},
   "outputs": [
    {
     "name": "stdout",
     "output_type": "stream",
     "text": [
      "{'subject': 'sujet01', 'side': 'L', 'dir': '/host/home/jc225751/Program/deep_folding/data/source/supervised', 'graph_file': '%(subject)s/t1mri/t1/default_analysis/folds/3.3/base2018_manual/%(side)s%(subject)s*.arg'}\n",
      "box (AIMS Talairach) min: [ 34.22425249  58.90426809 -53.4631508 ]\n",
      "box (AIMS Talairach) max: [60.54534581 79.81092254 -5.38220568]\n",
      "box (voxel): min =  [112 129  33]\n",
      "box (voxel): max =  [137 153  78]\n"
     ]
    },
    {
     "data": {
      "text/plain": [
       "(array([112, 129,  33]), array([137, 153,  78]))"
      ]
     },
     "execution_count": 18,
     "metadata": {},
     "output_type": "execute_result"
    }
   ],
   "source": [
    "bounding_box.bounding_box(src_dir=src_dir, tgt_dir=tgt_dir,\n",
    "                          sulcus=sulcus, side=side,\n",
    "                          number_subjects=bounding_box._ALL_SUBJECTS,\n",
    "                          image_normalized_spm=image_normalized_spm)"
   ]
  },
  {
   "cell_type": "markdown",
   "metadata": {},
   "source": [
    "# Result analysis"
   ]
  },
  {
   "cell_type": "markdown",
   "metadata": {},
   "source": [
    "Prints the list of files of the target directory"
   ]
  },
  {
   "cell_type": "code",
   "execution_count": 19,
   "metadata": {},
   "outputs": [
    {
     "name": "stdout",
     "output_type": "stream",
     "text": [
      "S.T.s.ter.asc.ant._left.json\n"
     ]
    }
   ],
   "source": [
    "tgt_dir_side = os.path.join(tgt_dir, side)\n",
    "print(('\\n'.join(os.listdir(tgt_dir_side))))"
   ]
  },
  {
   "cell_type": "markdown",
   "metadata": {},
   "source": [
    "Expected output (we read the bounding_box file from the reference directory):"
   ]
  },
  {
   "cell_type": "code",
   "execution_count": 20,
   "metadata": {},
   "outputs": [
    {
     "name": "stdout",
     "output_type": "stream",
     "text": [
      "ref_file =  S.T.s.ter.asc.ant._left.json \n",
      "\n",
      "{\n",
      "    \"bbmax_AIMS_Talairach\": [\n",
      "        60.54534580957505,\n",
      "        79.8109225368388,\n",
      "        -5.382205677639462\n",
      "    ],\n",
      "    \"bbmax_voxel\": [\n",
      "        137,\n",
      "        153,\n",
      "        78\n",
      "    ],\n",
      "    \"bbmin_AIMS_Talairach\": [\n",
      "        34.22425249281275,\n",
      "        58.9042680902665,\n",
      "        -53.46315080433615\n",
      "    ],\n",
      "    \"bbmin_voxel\": [\n",
      "        112,\n",
      "        129,\n",
      "        33\n",
      "    ],\n",
      "    \"date\": \"2021-04-16 09:58:40\",\n",
      "    \"git_sha\": \"b78f71123166d5b0224cbce8f2b432603b801f7d\",\n",
      "    \"is_git\": true,\n",
      "    \"nb_subjects\": 1,\n",
      "    \"repo_working_dir\": \"/home/jc225751/Program/deep_folding\",\n",
      "    \"side\": \"L\",\n",
      "    \"src_dir\": [\n",
      "        \"/home/jc225751/Program/deep_folding/data/source/supervised\"\n",
      "    ],\n",
      "    \"sulcus\": \"S.T.s.ter.asc.ant._left\",\n",
      "    \"tgt_dir\": \"/home/jc225751/Program/deep_folding/data/target/bounding_box\",\n",
      "    \"timestamp\": 1618559920.21693\n",
      "}\n"
     ]
    }
   ],
   "source": [
    "ref_dir_side = os.path.join(ref_dir, side)\n",
    "ref_file = os.listdir(ref_dir_side)[0]\n",
    "print(\"ref_file = \", ref_file, '\\n')\n",
    "with open(os.path.join(ref_dir_side,ref_file), 'r') as f:\n",
    "    data_ref = json.load(f)\n",
    "    print((json.dumps(data_ref, sort_keys=True, indent=4)))\n",
    "    box_ref = {k: data_ref[k] for k in ['bbmin_voxel', 'bbmax_voxel', 'bbmin_AIMS_Talairach', 'bbmin_AIMS_Talairach']}"
   ]
  },
  {
   "cell_type": "markdown",
   "metadata": {},
   "source": [
    "Obtained output (we read the bounding_box file from the target directory):"
   ]
  },
  {
   "cell_type": "code",
   "execution_count": 21,
   "metadata": {},
   "outputs": [
    {
     "name": "stdout",
     "output_type": "stream",
     "text": [
      "tgt_file =  S.T.s.ter.asc.ant._left.json \n",
      "\n",
      "{\n",
      "    \"bbmax_AIMS_Talairach\": [\n",
      "        60.54534580957505,\n",
      "        79.8109225368388,\n",
      "        -5.382205677639462\n",
      "    ],\n",
      "    \"bbmax_voxel\": [\n",
      "        137,\n",
      "        153,\n",
      "        78\n",
      "    ],\n",
      "    \"bbmin_AIMS_Talairach\": [\n",
      "        34.22425249281275,\n",
      "        58.9042680902665,\n",
      "        -53.46315080433615\n",
      "    ],\n",
      "    \"bbmin_voxel\": [\n",
      "        112,\n",
      "        129,\n",
      "        33\n",
      "    ],\n",
      "    \"date\": \"2021-05-25 23:56:55\",\n",
      "    \"git_sha\": \"a77d3842e313cbc2d08f9c2732ef36d23a9e6a49\",\n",
      "    \"is_git\": true,\n",
      "    \"nb_subjects\": 1,\n",
      "    \"repo_working_dir\": \"/host/home/jc225751/Program/deep_folding\",\n",
      "    \"side\": \"L\",\n",
      "    \"src_dir\": [\n",
      "        \"/host/home/jc225751/Program/deep_folding/data/source/supervised\"\n",
      "    ],\n",
      "    \"sulcus\": \"S.T.s.ter.asc.ant._left\",\n",
      "    \"tgt_dir\": \"/host/home/jc225751/Program/deep_folding/data/target/bbox\",\n",
      "    \"timestamp\": 1621979815.655022\n",
      "}\n"
     ]
    }
   ],
   "source": [
    "tgt_file = os.listdir(tgt_dir_side)[0]\n",
    "print(\"tgt_file = \", tgt_file, '\\n')\n",
    "with open(os.path.join(tgt_dir_side,tgt_file), 'r') as f:\n",
    "    data_target = json.load(f)\n",
    "    print((json.dumps(data_target, sort_keys=True, indent=4)))\n",
    "    box_target = {k: data_ref[k] for k in ('bbmin_voxel', 'bbmax_voxel', 'bbmin_AIMS_Talairach', 'bbmin_AIMS_Talairach')}"
   ]
  },
  {
   "cell_type": "code",
   "execution_count": 22,
   "metadata": {},
   "outputs": [
    {
     "data": {
      "text/plain": [
       "True"
      ]
     },
     "execution_count": 22,
     "metadata": {},
     "output_type": "execute_result"
    }
   ],
   "source": [
    "box_target == box_ref"
   ]
  },
  {
   "cell_type": "code",
   "execution_count": null,
   "metadata": {},
   "outputs": [],
   "source": []
  },
  {
   "cell_type": "code",
   "execution_count": null,
   "metadata": {},
   "outputs": [],
   "source": []
  }
 ],
 "metadata": {
  "kernelspec": {
   "display_name": "Python 3",
   "language": "python",
   "name": "python3"
  },
  "language_info": {
   "codemirror_mode": {
    "name": "ipython",
    "version": 3
   },
   "file_extension": ".py",
   "mimetype": "text/x-python",
   "name": "python",
   "nbconvert_exporter": "python",
   "pygments_lexer": "ipython3",
   "version": "3.6.9"
  }
 },
 "nbformat": 4,
 "nbformat_minor": 2
}
