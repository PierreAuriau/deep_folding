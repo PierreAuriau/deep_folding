{
 "cells": [
  {
   "cell_type": "markdown",
   "metadata": {},
   "source": [
    "# Runs brainvisa preprocessing"
   ]
  },
  {
   "cell_type": "markdown",
   "metadata": {},
   "source": [
    "This notebook creates the whole brainvisa preprocessing pipeline to feed to deep learning algorithms.\n",
    "Note that you need brainvisa installed or you need to run the server under the brainvisa singularity."
   ]
  },
  {
   "cell_type": "markdown",
   "metadata": {},
   "source": [
    "You also need to have access to the HCP database (the HCP folder lies as subfolder of root_unsupervised) and a path to the root of the supervised folder (/neurospin for persons present at neurospin)"
   ]
  },
  {
   "cell_type": "markdown",
   "metadata": {},
   "source": [
    "# Sets root directories"
   ]
  },
  {
   "cell_type": "markdown",
   "metadata": {},
   "source": [
    "Contrary to the other notebooks, this one relies on data that are outside the deep_folding/data folder."
   ]
  },
  {
   "cell_type": "code",
   "execution_count": 1,
   "metadata": {},
   "outputs": [],
   "source": [
    "# This is the root of the HCP directory\n",
    "# Could be either /tgcc, or /nfs/tgcc, for example\n",
    "root_unsupervised = '/tgcc'  \n",
    "\n",
    "# This is the root of the supervised directory\n",
    "# Could be either /neuropsin, or /nfs/neurospin, for example\n",
    "root_supervised = '/neurospin' "
   ]
  },
  {
   "cell_type": "markdown",
   "metadata": {},
   "source": [
    "# Imports"
   ]
  },
  {
   "cell_type": "markdown",
   "metadata": {},
   "source": [
    "General imports"
   ]
  },
  {
   "cell_type": "code",
   "execution_count": 2,
   "metadata": {},
   "outputs": [],
   "source": [
    "import sys\n",
    "import os\n",
    "from os.path import join\n",
    "import glob\n",
    "import json\n",
    "import inspect"
   ]
  },
  {
   "cell_type": "markdown",
   "metadata": {},
   "source": [
    "Deep_folding imports"
   ]
  },
  {
   "cell_type": "code",
   "execution_count": 44,
   "metadata": {},
   "outputs": [
    {
     "name": "stdout",
     "output_type": "stream",
     "text": [
      "/neurospin/dico/jchavas/Runs/32_deep_folding_foldlabel_clean/Program/deep_folding/deep_folding/brainvisa/compute_bounding_box.py\n",
      "/neurospin/dico/jchavas/Runs/32_deep_folding_foldlabel_clean/Program/deep_folding/deep_folding/brainvisa/generate_crops.py\n"
     ]
    }
   ],
   "source": [
    "from deep_folding.brainvisa import generate_skeletons\n",
    "from deep_folding.brainvisa import generate_ICBM2009c_transforms\n",
    "from deep_folding.brainvisa import resample_files\n",
    "from deep_folding.brainvisa import compute_bounding_box\n",
    "from deep_folding.brainvisa import compute_mask\n",
    "from deep_folding.brainvisa import generate_crops\n",
    "print(inspect.getfile(compute_bounding_box))\n",
    "print(inspect.getfile(generate_crops))"
   ]
  },
  {
   "cell_type": "markdown",
   "metadata": {},
   "source": [
    "Constants"
   ]
  },
  {
   "cell_type": "code",
   "execution_count": 4,
   "metadata": {},
   "outputs": [],
   "source": [
    "_ALL_SUBJECTS = -1"
   ]
  },
  {
   "cell_type": "code",
   "execution_count": 5,
   "metadata": {},
   "outputs": [],
   "source": [
    "out_voxel_size = 1"
   ]
  },
  {
   "cell_type": "code",
   "execution_count": 6,
   "metadata": {},
   "outputs": [],
   "source": [
    "number_subjects_supervised = 10 # Number of subjects for which we determine the box. We can set it to _ALL_SUBJECTS"
   ]
  },
  {
   "cell_type": "code",
   "execution_count": 7,
   "metadata": {},
   "outputs": [],
   "source": [
    "number_subjects = 10 # Number of subjects for which we generate the crops. We can set it to _ALL_SUBJECTS"
   ]
  },
  {
   "cell_type": "markdown",
   "metadata": {},
   "source": [
    "# Creates useful functions"
   ]
  },
  {
   "cell_type": "code",
   "execution_count": 8,
   "metadata": {},
   "outputs": [],
   "source": [
    "def check_directory(directory_path):\n",
    "    \"\"\"Checks directory path and returns absolute path\"\"\"\n",
    "    directory_path = os.path.abspath(directory_path)\n",
    "    if os.path.isdir(directory_path):\n",
    "        print((directory_path + ' is a directory'))\n",
    "    else:\n",
    "        print((directory_path + ' does not exist or is not a directory.'))\n",
    "    return directory_path"
   ]
  },
  {
   "cell_type": "markdown",
   "metadata": {},
   "source": [
    "# Variables used by all sub-computations"
   ]
  },
  {
   "cell_type": "markdown",
   "metadata": {},
   "source": [
    "The following boolean variables decide which pprocessing to run:"
   ]
  },
  {
   "cell_type": "code",
   "execution_count": 42,
   "metadata": {},
   "outputs": [],
   "source": [
    "run_bbox = True  # If set to True, it generates new bounding boxes\n",
    "run_mask = True  # If set to True, it generates new masks\n",
    "run_crop = True  # If set to True, it generates crops"
   ]
  },
  {
   "cell_type": "markdown",
   "metadata": {},
   "source": [
    "We now assign path names and other user-specific variables."
   ]
  },
  {
   "cell_type": "markdown",
   "metadata": {},
   "source": [
    "The unsupervised source directory is where the unsupervised database lies. It contains the morphologist analysis subfolder ANALYSIS/3T_morphologist\n"
   ]
  },
  {
   "cell_type": "code",
   "execution_count": 23,
   "metadata": {},
   "outputs": [
    {
     "name": "stdout",
     "output_type": "stream",
     "text": [
      "/tgcc/hcp/ANALYSIS/3T_morphologist is a directory\n"
     ]
    }
   ],
   "source": [
    "unsupervised_src_dir = check_directory(join(root_unsupervised, 'hcp', 'ANALYSIS/3T_morphologist'))"
   ]
  },
  {
   "cell_type": "markdown",
   "metadata": {},
   "source": [
    "The supervised source directories are where lies the database that has been manually labelled. It is a list of full pathes towards the manually labelled datasets."
   ]
  },
  {
   "cell_type": "code",
   "execution_count": 11,
   "metadata": {},
   "outputs": [
    {
     "name": "stdout",
     "output_type": "stream",
     "text": [
      "/neurospin/dico/data/bv_databases/human/pclean/all is a directory\n"
     ]
    }
   ],
   "source": [
    "human_supervised_dir = join(root_supervised, 'dico/data/bv_databases/human')\n",
    "supervised_src_dir = [check_directory(join(human_supervised_dir, 'pclean/all'))\n",
    "                     ]\n",
    "path_to_graph = [\"t1mri/t1/default_analysis/folds/3.3/base2018_manual\"\n",
    "                 ]"
   ]
  },
  {
   "cell_type": "markdown",
   "metadata": {},
   "source": [
    "# Generates bounding boxes"
   ]
  },
  {
   "cell_type": "markdown",
   "metadata": {},
   "source": [
    "### User variables"
   ]
  },
  {
   "cell_type": "code",
   "execution_count": 12,
   "metadata": {},
   "outputs": [
    {
     "name": "stdout",
     "output_type": "stream",
     "text": [
      "/neurospin/dico/data/deep_folding/test/bbox is a directory\n"
     ]
    }
   ],
   "source": [
    "bbox_dir = check_directory(join(root_supervised, 'dico/data/deep_folding/test', 'bbox'))"
   ]
  },
  {
   "cell_type": "code",
   "execution_count": 13,
   "metadata": {},
   "outputs": [
    {
     "name": "stdout",
     "output_type": "stream",
     "text": [
      "/neurospin/dico/data/deep_folding/current/mask/2mm is a directory\n"
     ]
    }
   ],
   "source": [
    "mask_dir = check_directory(join(root_supervised, 'dico/data/deep_folding/current/mask/2mm'))"
   ]
  },
  {
   "cell_type": "markdown",
   "metadata": {},
   "source": [
    "Lists the sulci of the left side that we want to analyze:"
   ]
  },
  {
   "cell_type": "code",
   "execution_count": 14,
   "metadata": {},
   "outputs": [],
   "source": [
    "sulci_left = ['S.T.s.ter.asc.ant.', 'S.T.s.ter.asc.post.']"
   ]
  },
  {
   "cell_type": "markdown",
   "metadata": {},
   "source": [
    "Lists the sulci of the right side that we want to analyze:"
   ]
  },
  {
   "cell_type": "code",
   "execution_count": 15,
   "metadata": {},
   "outputs": [],
   "source": [
    "sulci_right = ['S.T.s.ter.asc.ant.', 'S.T.s.ter.asc.post.']"
   ]
  },
  {
   "cell_type": "markdown",
   "metadata": {},
   "source": [
    "### Generates bounding boxes (actual program)"
   ]
  },
  {
   "cell_type": "markdown",
   "metadata": {},
   "source": [
    "We first call crop_definition help as if called from a command line:"
   ]
  },
  {
   "cell_type": "code",
   "execution_count": 16,
   "metadata": {},
   "outputs": [
    {
     "name": "stdout",
     "output_type": "stream",
     "text": [
      "usage: compute_bounding_box.py [-h] [-s SRC_DIR [SRC_DIR ...]] [-o OUTPUT_DIR]\n",
      "                               [-u SULCUS] [-w NEW_SULCUS] [-i SIDE]\n",
      "                               [-p PATH_TO_GRAPH] [-n NB_SUBJECTS] [-v]\n",
      "                               [-x OUT_VOXEL_SIZE]\n",
      "\n",
      "Computes bounding box around the named sulcus\n",
      "\n",
      "optional arguments:\n",
      "  -h, --help            show this help message and exit\n",
      "  -s SRC_DIR [SRC_DIR ...], --src_dir SRC_DIR [SRC_DIR ...]\n",
      "                        Source directory where the MRI data lies. If there are\n",
      "                        several directories, add all directories one after the\n",
      "                        other. Example: -s DIR_1 DIR_2. Default is :\n",
      "                        /neurospin/dico/data/bv_databases/human/pclean/all\n",
      "  -o OUTPUT_DIR, --output_dir OUTPUT_DIR\n",
      "                        Output directory where to store the output bbox json\n",
      "                        files. Default is : test/bbox/1mm\n",
      "  -u SULCUS, --sulcus SULCUS\n",
      "                        Sulcus name around which we determine the bounding\n",
      "                        box. Default is : F.C.M.ant.\n",
      "  -w NEW_SULCUS, --new_sulcus NEW_SULCUS\n",
      "                        Sulcus name around which we determine the bounding\n",
      "                        box. Default is : None (same name as 'sulcus')\n",
      "  -i SIDE, --side SIDE  Hemisphere side. Default is : R\n",
      "  -p PATH_TO_GRAPH, --path_to_graph PATH_TO_GRAPH\n",
      "                        Relative path to manually labelled graph. Default is\n",
      "                        t1mri/t1/default_analysis/folds/3.3/base2018_manual\n",
      "  -n NB_SUBJECTS, --nb_subjects NB_SUBJECTS\n",
      "                        Number of subjects to take into account, or 'all'. 0\n",
      "                        subject is allowed, for debug purpose. Default is :\n",
      "                        all\n",
      "  -v, --verbose         Verbose mode: If no option is provided then\n",
      "                        logging.INFO is selected. If one option -v (or -vv) or\n",
      "                        more is provided then logging.DEBUG is selected.\n",
      "  -x OUT_VOXEL_SIZE, --out_voxel_size OUT_VOXEL_SIZE\n",
      "                        Voxel size of bounding box. Default is : None\n"
     ]
    }
   ],
   "source": [
    "args = \"--help\"\n",
    "argv = args.split(' ')\n",
    "compute_bounding_box.main(argv)"
   ]
  },
  {
   "cell_type": "code",
   "execution_count": 17,
   "metadata": {},
   "outputs": [
    {
     "name": "stdout",
     "output_type": "stream",
     "text": [
      "['S.T.s.ter.asc.ant.', 'S.T.s.ter.asc.post.'] ['S.T.s.ter.asc.ant.', 'S.T.s.ter.asc.post.']\n"
     ]
    }
   ],
   "source": [
    "print(sulci_left, sulci_right)"
   ]
  },
  {
   "cell_type": "markdown",
   "metadata": {},
   "source": [
    "We now run the actial program.\n",
    "This saves as json files in bbox_dir the bounding box characteristics:"
   ]
  },
  {
   "cell_type": "code",
   "execution_count": 18,
   "metadata": {},
   "outputs": [
    {
     "name": "stderr",
     "output_type": "stream",
     "text": [
      "INFO:compute_bounding_box.py: {'subject': 'sujet01', 'side': 'L', 'dir': '/neurospin/dico/data/bv_databases/human/pclean/all', 'graph_file': 'sujet01/t1mri/t1/default_analysis/folds/3.3/base2018_manual/Lsujet01*.arg'}\n",
      "INFO:compute_bounding_box.py: {'subject': 's12590', 'side': 'L', 'dir': '/neurospin/dico/data/bv_databases/human/pclean/all', 'graph_file': 's12590/t1mri/t1/default_analysis/folds/3.3/base2018_manual/Ls12590*.arg'}\n",
      "INFO:compute_bounding_box.py: {'subject': 'ammon', 'side': 'L', 'dir': '/neurospin/dico/data/bv_databases/human/pclean/all', 'graph_file': 'ammon/t1mri/t1/default_analysis/folds/3.3/base2018_manual/Lammon*.arg'}\n",
      "INFO:compute_bounding_box.py: {'subject': 'vayu', 'side': 'L', 'dir': '/neurospin/dico/data/bv_databases/human/pclean/all', 'graph_file': 'vayu/t1mri/t1/default_analysis/folds/3.3/base2018_manual/Lvayu*.arg'}\n",
      "INFO:compute_bounding_box.py: {'subject': 'osiris', 'side': 'L', 'dir': '/neurospin/dico/data/bv_databases/human/pclean/all', 'graph_file': 'osiris/t1mri/t1/default_analysis/folds/3.3/base2018_manual/Losiris*.arg'}\n",
      "INFO:compute_bounding_box.py: {'subject': 's12919', 'side': 'L', 'dir': '/neurospin/dico/data/bv_databases/human/pclean/all', 'graph_file': 's12919/t1mri/t1/default_analysis/folds/3.3/base2018_manual/Ls12919*.arg'}\n",
      "INFO:compute_bounding_box.py: {'subject': 'sujet02', 'side': 'L', 'dir': '/neurospin/dico/data/bv_databases/human/pclean/all', 'graph_file': 'sujet02/t1mri/t1/default_analysis/folds/3.3/base2018_manual/Lsujet02*.arg'}\n",
      "INFO:compute_bounding_box.py: {'subject': 'sujet07', 'side': 'L', 'dir': '/neurospin/dico/data/bv_databases/human/pclean/all', 'graph_file': 'sujet07/t1mri/t1/default_analysis/folds/3.3/base2018_manual/Lsujet07*.arg'}\n",
      "INFO:compute_bounding_box.py: {'subject': 'cronos', 'side': 'L', 'dir': '/neurospin/dico/data/bv_databases/human/pclean/all', 'graph_file': 'cronos/t1mri/t1/default_analysis/folds/3.3/base2018_manual/Lcronos*.arg'}\n",
      "INFO:compute_bounding_box.py: {'subject': 'beflo', 'side': 'L', 'dir': '/neurospin/dico/data/bv_databases/human/pclean/all', 'graph_file': 'beflo/t1mri/t1/default_analysis/folds/3.3/base2018_manual/Lbeflo*.arg'}\n",
      "INFO:compute_bounding_box.py: {'subject': 'sujet01', 'side': 'L', 'dir': '/neurospin/dico/data/bv_databases/human/pclean/all', 'graph_file': 'sujet01/t1mri/t1/default_analysis/folds/3.3/base2018_manual/Lsujet01*.arg'}\n",
      "INFO:compute_bounding_box.py: {'subject': 's12590', 'side': 'L', 'dir': '/neurospin/dico/data/bv_databases/human/pclean/all', 'graph_file': 's12590/t1mri/t1/default_analysis/folds/3.3/base2018_manual/Ls12590*.arg'}\n",
      "INFO:compute_bounding_box.py: {'subject': 'ammon', 'side': 'L', 'dir': '/neurospin/dico/data/bv_databases/human/pclean/all', 'graph_file': 'ammon/t1mri/t1/default_analysis/folds/3.3/base2018_manual/Lammon*.arg'}\n",
      "INFO:compute_bounding_box.py: {'subject': 'vayu', 'side': 'L', 'dir': '/neurospin/dico/data/bv_databases/human/pclean/all', 'graph_file': 'vayu/t1mri/t1/default_analysis/folds/3.3/base2018_manual/Lvayu*.arg'}\n",
      "INFO:compute_bounding_box.py: {'subject': 'osiris', 'side': 'L', 'dir': '/neurospin/dico/data/bv_databases/human/pclean/all', 'graph_file': 'osiris/t1mri/t1/default_analysis/folds/3.3/base2018_manual/Losiris*.arg'}\n",
      "INFO:compute_bounding_box.py: {'subject': 's12919', 'side': 'L', 'dir': '/neurospin/dico/data/bv_databases/human/pclean/all', 'graph_file': 's12919/t1mri/t1/default_analysis/folds/3.3/base2018_manual/Ls12919*.arg'}\n",
      "INFO:compute_bounding_box.py: {'subject': 'sujet02', 'side': 'L', 'dir': '/neurospin/dico/data/bv_databases/human/pclean/all', 'graph_file': 'sujet02/t1mri/t1/default_analysis/folds/3.3/base2018_manual/Lsujet02*.arg'}\n",
      "INFO:compute_bounding_box.py: {'subject': 'sujet07', 'side': 'L', 'dir': '/neurospin/dico/data/bv_databases/human/pclean/all', 'graph_file': 'sujet07/t1mri/t1/default_analysis/folds/3.3/base2018_manual/Lsujet07*.arg'}\n",
      "INFO:compute_bounding_box.py: {'subject': 'cronos', 'side': 'L', 'dir': '/neurospin/dico/data/bv_databases/human/pclean/all', 'graph_file': 'cronos/t1mri/t1/default_analysis/folds/3.3/base2018_manual/Lcronos*.arg'}\n",
      "INFO:compute_bounding_box.py: {'subject': 'beflo', 'side': 'L', 'dir': '/neurospin/dico/data/bv_databases/human/pclean/all', 'graph_file': 'beflo/t1mri/t1/default_analysis/folds/3.3/base2018_manual/Lbeflo*.arg'}\n",
      "INFO:compute_bounding_box.py: {'subject': 'sujet01', 'side': 'R', 'dir': '/neurospin/dico/data/bv_databases/human/pclean/all', 'graph_file': 'sujet01/t1mri/t1/default_analysis/folds/3.3/base2018_manual/Rsujet01*.arg'}\n",
      "INFO:compute_bounding_box.py: {'subject': 's12590', 'side': 'R', 'dir': '/neurospin/dico/data/bv_databases/human/pclean/all', 'graph_file': 's12590/t1mri/t1/default_analysis/folds/3.3/base2018_manual/Rs12590*.arg'}\n",
      "INFO:compute_bounding_box.py: {'subject': 'ammon', 'side': 'R', 'dir': '/neurospin/dico/data/bv_databases/human/pclean/all', 'graph_file': 'ammon/t1mri/t1/default_analysis/folds/3.3/base2018_manual/Rammon*.arg'}\n",
      "INFO:compute_bounding_box.py: {'subject': 'vayu', 'side': 'R', 'dir': '/neurospin/dico/data/bv_databases/human/pclean/all', 'graph_file': 'vayu/t1mri/t1/default_analysis/folds/3.3/base2018_manual/Rvayu*.arg'}\n",
      "INFO:compute_bounding_box.py: {'subject': 'osiris', 'side': 'R', 'dir': '/neurospin/dico/data/bv_databases/human/pclean/all', 'graph_file': 'osiris/t1mri/t1/default_analysis/folds/3.3/base2018_manual/Rosiris*.arg'}\n",
      "INFO:compute_bounding_box.py: {'subject': 's12919', 'side': 'R', 'dir': '/neurospin/dico/data/bv_databases/human/pclean/all', 'graph_file': 's12919/t1mri/t1/default_analysis/folds/3.3/base2018_manual/Rs12919*.arg'}\n",
      "INFO:compute_bounding_box.py: {'subject': 'sujet02', 'side': 'R', 'dir': '/neurospin/dico/data/bv_databases/human/pclean/all', 'graph_file': 'sujet02/t1mri/t1/default_analysis/folds/3.3/base2018_manual/Rsujet02*.arg'}\n",
      "INFO:compute_bounding_box.py: {'subject': 'sujet07', 'side': 'R', 'dir': '/neurospin/dico/data/bv_databases/human/pclean/all', 'graph_file': 'sujet07/t1mri/t1/default_analysis/folds/3.3/base2018_manual/Rsujet07*.arg'}\n",
      "INFO:compute_bounding_box.py: {'subject': 'cronos', 'side': 'R', 'dir': '/neurospin/dico/data/bv_databases/human/pclean/all', 'graph_file': 'cronos/t1mri/t1/default_analysis/folds/3.3/base2018_manual/Rcronos*.arg'}\n",
      "INFO:compute_bounding_box.py: {'subject': 'beflo', 'side': 'R', 'dir': '/neurospin/dico/data/bv_databases/human/pclean/all', 'graph_file': 'beflo/t1mri/t1/default_analysis/folds/3.3/base2018_manual/Rbeflo*.arg'}\n",
      "INFO:compute_bounding_box.py: {'subject': 'sujet01', 'side': 'R', 'dir': '/neurospin/dico/data/bv_databases/human/pclean/all', 'graph_file': 'sujet01/t1mri/t1/default_analysis/folds/3.3/base2018_manual/Rsujet01*.arg'}\n",
      "INFO:compute_bounding_box.py: {'subject': 's12590', 'side': 'R', 'dir': '/neurospin/dico/data/bv_databases/human/pclean/all', 'graph_file': 's12590/t1mri/t1/default_analysis/folds/3.3/base2018_manual/Rs12590*.arg'}\n",
      "INFO:compute_bounding_box.py: {'subject': 'ammon', 'side': 'R', 'dir': '/neurospin/dico/data/bv_databases/human/pclean/all', 'graph_file': 'ammon/t1mri/t1/default_analysis/folds/3.3/base2018_manual/Rammon*.arg'}\n",
      "INFO:compute_bounding_box.py: {'subject': 'vayu', 'side': 'R', 'dir': '/neurospin/dico/data/bv_databases/human/pclean/all', 'graph_file': 'vayu/t1mri/t1/default_analysis/folds/3.3/base2018_manual/Rvayu*.arg'}\n",
      "INFO:compute_bounding_box.py: {'subject': 'osiris', 'side': 'R', 'dir': '/neurospin/dico/data/bv_databases/human/pclean/all', 'graph_file': 'osiris/t1mri/t1/default_analysis/folds/3.3/base2018_manual/Rosiris*.arg'}\n",
      "INFO:compute_bounding_box.py: {'subject': 's12919', 'side': 'R', 'dir': '/neurospin/dico/data/bv_databases/human/pclean/all', 'graph_file': 's12919/t1mri/t1/default_analysis/folds/3.3/base2018_manual/Rs12919*.arg'}\n",
      "INFO:compute_bounding_box.py: {'subject': 'sujet02', 'side': 'R', 'dir': '/neurospin/dico/data/bv_databases/human/pclean/all', 'graph_file': 'sujet02/t1mri/t1/default_analysis/folds/3.3/base2018_manual/Rsujet02*.arg'}\n",
      "INFO:compute_bounding_box.py: {'subject': 'sujet07', 'side': 'R', 'dir': '/neurospin/dico/data/bv_databases/human/pclean/all', 'graph_file': 'sujet07/t1mri/t1/default_analysis/folds/3.3/base2018_manual/Rsujet07*.arg'}\n",
      "INFO:compute_bounding_box.py: {'subject': 'cronos', 'side': 'R', 'dir': '/neurospin/dico/data/bv_databases/human/pclean/all', 'graph_file': 'cronos/t1mri/t1/default_analysis/folds/3.3/base2018_manual/Rcronos*.arg'}\n"
     ]
    },
    {
     "name": "stderr",
     "output_type": "stream",
     "text": [
      "INFO:compute_bounding_box.py: {'subject': 'beflo', 'side': 'R', 'dir': '/neurospin/dico/data/bv_databases/human/pclean/all', 'graph_file': 'beflo/t1mri/t1/default_analysis/folds/3.3/base2018_manual/Rbeflo*.arg'}\n"
     ]
    }
   ],
   "source": [
    "if run_bbox:\n",
    "    for sulcus in sulci_left:\n",
    "        compute_bounding_box.compute_bounding_box(\n",
    "            src_dir=supervised_src_dir, \n",
    "            path_to_graph=path_to_graph,\n",
    "            bbox_dir=bbox_dir,\n",
    "            sulcus=sulcus,\n",
    "            side='L',\n",
    "            number_subjects=number_subjects_supervised,\n",
    "            out_voxel_size=out_voxel_size)\n",
    "    for sulcus in sulci_right:\n",
    "        compute_bounding_box.compute_bounding_box(\n",
    "            src_dir=supervised_src_dir, \n",
    "            path_to_graph=path_to_graph,\n",
    "            bbox_dir=bbox_dir,\n",
    "            sulcus=sulcus,\n",
    "            side='R',\n",
    "            number_subjects=number_subjects_supervised,\n",
    "            out_voxel_size=out_voxel_size)"
   ]
  },
  {
   "cell_type": "markdown",
   "metadata": {},
   "source": [
    "# Generates crops"
   ]
  },
  {
   "cell_type": "markdown",
   "metadata": {},
   "source": [
    "### User variables "
   ]
  },
  {
   "cell_type": "code",
   "execution_count": 19,
   "metadata": {},
   "outputs": [],
   "source": [
    "interp = 'nearest'"
   ]
  },
  {
   "cell_type": "code",
   "execution_count": 27,
   "metadata": {},
   "outputs": [
    {
     "name": "stdout",
     "output_type": "stream",
     "text": [
      "/neurospin/dico/data/deep_folding/test/crops is a directory\n"
     ]
    }
   ],
   "source": [
    "crop_dir = check_directory(join(root_supervised, 'dico/data/deep_folding/test', 'crops'))"
   ]
  },
  {
   "cell_type": "markdown",
   "metadata": {},
   "source": [
    "### Generates crops (actual program)"
   ]
  },
  {
   "cell_type": "markdown",
   "metadata": {},
   "source": [
    "We now save in {crop_dir}/Lcrops and {crop_dir}/Rcrops the actual crops based on bounding boxes:"
   ]
  },
  {
   "cell_type": "code",
   "execution_count": 29,
   "metadata": {},
   "outputs": [
    {
     "name": "stdout",
     "output_type": "stream",
     "text": [
      "/neurospin/dico/data/deep_folding/test/skeletons/raw does not exist or is not a directory.\n"
     ]
    }
   ],
   "source": [
    "skeleton_raw_dir = check_directory(join(root_supervised, 'dico/data/deep_folding/test', 'skeletons/raw'))"
   ]
  },
  {
   "cell_type": "code",
   "execution_count": 32,
   "metadata": {},
   "outputs": [
    {
     "name": "stdout",
     "output_type": "stream",
     "text": [
      "/neurospin/dico/data/deep_folding/test/skeletons/1mm does not exist or is not a directory.\n"
     ]
    }
   ],
   "source": [
    "skeleton_1mm_dir = check_directory(join(root_supervised, 'dico/data/deep_folding/test', 'skeletons/1mm'))"
   ]
  },
  {
   "cell_type": "code",
   "execution_count": 33,
   "metadata": {},
   "outputs": [
    {
     "name": "stdout",
     "output_type": "stream",
     "text": [
      "/neurospin/dico/data/deep_folding/test/transform is a directory\n"
     ]
    }
   ],
   "source": [
    "transform_dir = check_directory(join(root_supervised, 'dico/data/deep_folding/test', 'transform'))"
   ]
  },
  {
   "cell_type": "code",
   "execution_count": 30,
   "metadata": {},
   "outputs": [
    {
     "name": "stderr",
     "output_type": "stream",
     "text": [
      "INFO:generate_skeletons.py: list_subjects[:5] = ['585862', '586460', '727654', '210617', '123420']\n",
      "INFO:generate_skeletons.py: SERIAL MODE: subjects are scanned serially, without parallelism\n",
      "INFO:generate_skeletons.py: list_subjects[:5] = ['585862', '586460', '727654', '210617', '123420']\n",
      "INFO:generate_skeletons.py: SERIAL MODE: subjects are scanned serially, without parallelism\n"
     ]
    }
   ],
   "source": [
    "if run_crop:\n",
    "    generate_skeletons.generate_skeletons(\n",
    "        src_dir=unsupervised_src_dir,\n",
    "        skeleton_dir=skeleton_raw_dir,\n",
    "        side='L',\n",
    "        number_subjects=number_subjects)\n",
    "    generate_skeletons.generate_skeletons(\n",
    "        src_dir=unsupervised_src_dir,\n",
    "        skeleton_dir=skeleton_raw_dir,\n",
    "        side='R',\n",
    "        number_subjects=number_subjects)"
   ]
  },
  {
   "cell_type": "code",
   "execution_count": 34,
   "metadata": {},
   "outputs": [
    {
     "name": "stderr",
     "output_type": "stream",
     "text": [
      "INFO:generate_ICBM2009c_transforms.py: filenames[:5] = ['/tgcc/hcp/ANALYSIS/3T_morphologist/585862/', '/tgcc/hcp/ANALYSIS/3T_morphologist/586460/', '/tgcc/hcp/ANALYSIS/3T_morphologist/727654/', '/tgcc/hcp/ANALYSIS/3T_morphologist/210617/', '/tgcc/hcp/ANALYSIS/3T_morphologist/123420/']\n",
      "INFO:generate_ICBM2009c_transforms.py: list_subjects[:5] = ['585862', '586460', '727654', '210617', '123420']\n",
      "INFO:generate_ICBM2009c_transforms.py: SERIAL MODE: transforms are generated serially, without parallelism\n",
      "INFO:generate_ICBM2009c_transforms.py: filenames[:5] = ['/tgcc/hcp/ANALYSIS/3T_morphologist/585862/', '/tgcc/hcp/ANALYSIS/3T_morphologist/586460/', '/tgcc/hcp/ANALYSIS/3T_morphologist/727654/', '/tgcc/hcp/ANALYSIS/3T_morphologist/210617/', '/tgcc/hcp/ANALYSIS/3T_morphologist/123420/']\n",
      "INFO:generate_ICBM2009c_transforms.py: list_subjects[:5] = ['585862', '586460', '727654', '210617', '123420']\n",
      "INFO:generate_ICBM2009c_transforms.py: SERIAL MODE: transforms are generated serially, without parallelism\n"
     ]
    }
   ],
   "source": [
    "if run_crop:\n",
    "    generate_ICBM2009c_transforms.generate_ICBM2009c_transforms(\n",
    "        src_dir=unsupervised_src_dir,\n",
    "        transform_dir=transform_dir,\n",
    "        side='L',\n",
    "        number_subjects=number_subjects)\n",
    "    generate_ICBM2009c_transforms.generate_ICBM2009c_transforms(\n",
    "        src_dir=unsupervised_src_dir,\n",
    "        transform_dir=transform_dir,\n",
    "        side='R',\n",
    "        number_subjects=number_subjects)"
   ]
  },
  {
   "cell_type": "code",
   "execution_count": 35,
   "metadata": {},
   "outputs": [
    {
     "name": "stderr",
     "output_type": "stream",
     "text": [
      "INFO:resample_files.py: list_subjects[:5] = ['585862', '727654', '123420', '145127', '887373']\n",
      "INFO:resample_files.py: SERIAL MODE: subjects are scanned serially\n",
      "INFO:resample_files.py: list_subjects[:5] = ['156536', '887373', '123420', '586460', '210617']\n",
      "INFO:resample_files.py: SERIAL MODE: subjects are scanned serially\n"
     ]
    }
   ],
   "source": [
    "if run_crop:\n",
    "    resample_files.resample_files(\n",
    "        src_dir=skeleton_raw_dir,\n",
    "        input_type='skeleton',\n",
    "        resampled_dir=skeleton_1mm_dir,\n",
    "        transform_dir=transform_dir,\n",
    "        side='L',\n",
    "        number_subjects=number_subjects)\n",
    "    resample_files.resample_files(\n",
    "        src_dir=skeleton_raw_dir,\n",
    "        input_type='skeleton',\n",
    "        resampled_dir=skeleton_1mm_dir,\n",
    "        transform_dir=transform_dir,\n",
    "        side='R',\n",
    "        number_subjects=number_subjects)\n",
    "    print(\"Done\")"
   ]
  },
  {
   "cell_type": "code",
   "execution_count": 39,
   "metadata": {},
   "outputs": [
    {
     "name": "stderr",
     "output_type": "stream",
     "text": [
      "INFO:generate_crops.py: list_subjects[:5] = ['586460', '810843', '887373', '896778', '210617']\n",
      "INFO:generate_crops.py: SERIAL MODE: subjects are scanned serially\n",
      "INFO:generate_crops.py: list_subjects[:5] = ['896778', '585862', '727654', '156536', '210617']\n",
      "INFO:generate_crops.py: SERIAL MODE: subjects are scanned serially\n"
     ]
    },
    {
     "name": "stdout",
     "output_type": "stream",
     "text": [
      "Done\n"
     ]
    }
   ],
   "source": [
    "if run_crop:\n",
    "    # Runs on left hemisphere\n",
    "    generate_crops.generate_crops(\n",
    "        src_dir=skeleton_1mm_dir,\n",
    "        crop_dir=crop_dir,\n",
    "        bbox_dir=bbox_dir,\n",
    "        cropping_type='bbox',\n",
    "        list_sulci=sulci_left,\n",
    "        side='L',\n",
    "        number_subjects=number_subjects)\n",
    "    # Runs on right hemisphere\n",
    "    generate_crops.generate_crops(\n",
    "        src_dir=skeleton_1mm_dir,\n",
    "        crop_dir=crop_dir,\n",
    "        bbox_dir=bbox_dir,\n",
    "        cropping_type='bbox',\n",
    "        list_sulci=sulci_right,\n",
    "        side='R',\n",
    "        number_subjects=number_subjects)\n",
    "    print(\"Done\")"
   ]
  },
  {
   "cell_type": "markdown",
   "metadata": {},
   "source": [
    "We now sort generated files (we do it in date order; indeed, we may find older files in folder as we don't suppress files before writing new ones):"
   ]
  },
  {
   "cell_type": "code",
   "execution_count": 40,
   "metadata": {},
   "outputs": [
    {
     "name": "stdout",
     "output_type": "stream",
     "text": [
      "/neurospin/dico/data/deep_folding/test/crops/Lcrops/727654_cropped_skeleton.nii.gz\n",
      "/neurospin/dico/data/deep_folding/test/crops/Lcrops/145127_cropped_skeleton.nii.gz\n",
      "/neurospin/dico/data/deep_folding/test/crops/Lcrops/585862_cropped_skeleton.nii.gz\n",
      "/neurospin/dico/data/deep_folding/test/crops/Lcrops/156536_cropped_skeleton.nii.gz\n",
      "/neurospin/dico/data/deep_folding/test/crops/Lcrops/123420_cropped_skeleton.nii.gz\n",
      "/neurospin/dico/data/deep_folding/test/crops/Lcrops/210617_cropped_skeleton.nii.gz\n",
      "/neurospin/dico/data/deep_folding/test/crops/Lcrops/896778_cropped_skeleton.nii.gz\n",
      "/neurospin/dico/data/deep_folding/test/crops/Lcrops/887373_cropped_skeleton.nii.gz\n",
      "/neurospin/dico/data/deep_folding/test/crops/Lcrops/810843_cropped_skeleton.nii.gz\n",
      "/neurospin/dico/data/deep_folding/test/crops/Lcrops/586460_cropped_skeleton.nii.gz\n"
     ]
    }
   ],
   "source": [
    "files = glob.glob(f\"{crop_dir}/Lcrops/*.nii.gz\")\n",
    "files.sort(key=os.path.getmtime, reverse=True)\n",
    "print(\"\\n\".join(files[:number_subjects]))"
   ]
  },
  {
   "cell_type": "code",
   "execution_count": 31,
   "metadata": {},
   "outputs": [
    {
     "name": "stdout",
     "output_type": "stream",
     "text": [
      "/neurospin/dico/data/deep_folding/test/crops/Rcrops/145127_normalized.nii.gz\n",
      "/neurospin/dico/data/deep_folding/test/crops/Rcrops/810843_normalized.nii.gz\n",
      "/neurospin/dico/data/deep_folding/test/crops/Rcrops/887373_normalized.nii.gz\n",
      "/neurospin/dico/data/deep_folding/test/crops/Rcrops/896778_normalized.nii.gz\n",
      "/neurospin/dico/data/deep_folding/test/crops/Rcrops/586460_normalized.nii.gz\n",
      "/neurospin/dico/data/deep_folding/test/crops/Rcrops/210617_normalized.nii.gz\n",
      "/neurospin/dico/data/deep_folding/test/crops/Rcrops/727654_normalized.nii.gz\n",
      "/neurospin/dico/data/deep_folding/test/crops/Rcrops/585862_normalized.nii.gz\n",
      "/neurospin/dico/data/deep_folding/test/crops/Rcrops/123420_normalized.nii.gz\n",
      "/neurospin/dico/data/deep_folding/test/crops/Rcrops/156536_normalized.nii.gz\n"
     ]
    }
   ],
   "source": [
    "files = glob.glob(f\"{crop_dir}/Rcrops/*.nii.gz\")\n",
    "files.sort(key=os.path.getmtime, reverse=True)\n",
    "print(\"\\n\".join(files[:number_subjects]))"
   ]
  },
  {
   "cell_type": "markdown",
   "metadata": {},
   "source": [
    "### Generates mask-based crops"
   ]
  },
  {
   "cell_type": "code",
   "execution_count": 45,
   "metadata": {},
   "outputs": [
    {
     "name": "stderr",
     "output_type": "stream",
     "text": [
      "INFO:compute_mask.py: {'subject': 'sujet01', 'side': 'L', 'dir': '/neurospin/dico/data/bv_databases/human/pclean/all', 'graph_file': 'sujet01/t1mri/t1/default_analysis/folds/3.3/base2018_manual/Lsujet01*.arg'}\n",
      "INFO:compute_mask.py: {'subject': 's12590', 'side': 'L', 'dir': '/neurospin/dico/data/bv_databases/human/pclean/all', 'graph_file': 's12590/t1mri/t1/default_analysis/folds/3.3/base2018_manual/Ls12590*.arg'}\n",
      "INFO:compute_mask.py: {'subject': 'ammon', 'side': 'L', 'dir': '/neurospin/dico/data/bv_databases/human/pclean/all', 'graph_file': 'ammon/t1mri/t1/default_analysis/folds/3.3/base2018_manual/Lammon*.arg'}\n",
      "INFO:compute_mask.py: {'subject': 'vayu', 'side': 'L', 'dir': '/neurospin/dico/data/bv_databases/human/pclean/all', 'graph_file': 'vayu/t1mri/t1/default_analysis/folds/3.3/base2018_manual/Lvayu*.arg'}\n",
      "INFO:compute_mask.py: {'subject': 'osiris', 'side': 'L', 'dir': '/neurospin/dico/data/bv_databases/human/pclean/all', 'graph_file': 'osiris/t1mri/t1/default_analysis/folds/3.3/base2018_manual/Losiris*.arg'}\n",
      "INFO:compute_mask.py: {'subject': 's12919', 'side': 'L', 'dir': '/neurospin/dico/data/bv_databases/human/pclean/all', 'graph_file': 's12919/t1mri/t1/default_analysis/folds/3.3/base2018_manual/Ls12919*.arg'}\n",
      "INFO:compute_mask.py: {'subject': 'sujet02', 'side': 'L', 'dir': '/neurospin/dico/data/bv_databases/human/pclean/all', 'graph_file': 'sujet02/t1mri/t1/default_analysis/folds/3.3/base2018_manual/Lsujet02*.arg'}\n",
      "INFO:compute_mask.py: {'subject': 'sujet07', 'side': 'L', 'dir': '/neurospin/dico/data/bv_databases/human/pclean/all', 'graph_file': 'sujet07/t1mri/t1/default_analysis/folds/3.3/base2018_manual/Lsujet07*.arg'}\n",
      "INFO:compute_mask.py: {'subject': 'cronos', 'side': 'L', 'dir': '/neurospin/dico/data/bv_databases/human/pclean/all', 'graph_file': 'cronos/t1mri/t1/default_analysis/folds/3.3/base2018_manual/Lcronos*.arg'}\n",
      "INFO:compute_mask.py: {'subject': 'beflo', 'side': 'L', 'dir': '/neurospin/dico/data/bv_databases/human/pclean/all', 'graph_file': 'beflo/t1mri/t1/default_analysis/folds/3.3/base2018_manual/Lbeflo*.arg'}\n",
      "INFO:compute_mask.py: Final mask file: /neurospin/dico/data/deep_folding/current/mask/2mm/L/S.T.s.ter.asc.ant._left.nii.gz\n",
      "INFO:compute_mask.py: {'subject': 'sujet01', 'side': 'L', 'dir': '/neurospin/dico/data/bv_databases/human/pclean/all', 'graph_file': 'sujet01/t1mri/t1/default_analysis/folds/3.3/base2018_manual/Lsujet01*.arg'}\n",
      "INFO:compute_mask.py: {'subject': 's12590', 'side': 'L', 'dir': '/neurospin/dico/data/bv_databases/human/pclean/all', 'graph_file': 's12590/t1mri/t1/default_analysis/folds/3.3/base2018_manual/Ls12590*.arg'}\n",
      "INFO:compute_mask.py: {'subject': 'ammon', 'side': 'L', 'dir': '/neurospin/dico/data/bv_databases/human/pclean/all', 'graph_file': 'ammon/t1mri/t1/default_analysis/folds/3.3/base2018_manual/Lammon*.arg'}\n",
      "INFO:compute_mask.py: {'subject': 'vayu', 'side': 'L', 'dir': '/neurospin/dico/data/bv_databases/human/pclean/all', 'graph_file': 'vayu/t1mri/t1/default_analysis/folds/3.3/base2018_manual/Lvayu*.arg'}\n",
      "INFO:compute_mask.py: {'subject': 'osiris', 'side': 'L', 'dir': '/neurospin/dico/data/bv_databases/human/pclean/all', 'graph_file': 'osiris/t1mri/t1/default_analysis/folds/3.3/base2018_manual/Losiris*.arg'}\n",
      "INFO:compute_mask.py: {'subject': 's12919', 'side': 'L', 'dir': '/neurospin/dico/data/bv_databases/human/pclean/all', 'graph_file': 's12919/t1mri/t1/default_analysis/folds/3.3/base2018_manual/Ls12919*.arg'}\n",
      "INFO:compute_mask.py: {'subject': 'sujet02', 'side': 'L', 'dir': '/neurospin/dico/data/bv_databases/human/pclean/all', 'graph_file': 'sujet02/t1mri/t1/default_analysis/folds/3.3/base2018_manual/Lsujet02*.arg'}\n",
      "INFO:compute_mask.py: {'subject': 'sujet07', 'side': 'L', 'dir': '/neurospin/dico/data/bv_databases/human/pclean/all', 'graph_file': 'sujet07/t1mri/t1/default_analysis/folds/3.3/base2018_manual/Lsujet07*.arg'}\n",
      "INFO:compute_mask.py: {'subject': 'cronos', 'side': 'L', 'dir': '/neurospin/dico/data/bv_databases/human/pclean/all', 'graph_file': 'cronos/t1mri/t1/default_analysis/folds/3.3/base2018_manual/Lcronos*.arg'}\n",
      "INFO:compute_mask.py: {'subject': 'beflo', 'side': 'L', 'dir': '/neurospin/dico/data/bv_databases/human/pclean/all', 'graph_file': 'beflo/t1mri/t1/default_analysis/folds/3.3/base2018_manual/Lbeflo*.arg'}\n",
      "INFO:compute_mask.py: Final mask file: /neurospin/dico/data/deep_folding/current/mask/2mm/L/S.T.s.ter.asc.post._left.nii.gz\n",
      "INFO:compute_mask.py: {'subject': 'sujet01', 'side': 'R', 'dir': '/neurospin/dico/data/bv_databases/human/pclean/all', 'graph_file': 'sujet01/t1mri/t1/default_analysis/folds/3.3/base2018_manual/Rsujet01*.arg'}\n",
      "INFO:compute_mask.py: {'subject': 's12590', 'side': 'R', 'dir': '/neurospin/dico/data/bv_databases/human/pclean/all', 'graph_file': 's12590/t1mri/t1/default_analysis/folds/3.3/base2018_manual/Rs12590*.arg'}\n",
      "INFO:compute_mask.py: {'subject': 'ammon', 'side': 'R', 'dir': '/neurospin/dico/data/bv_databases/human/pclean/all', 'graph_file': 'ammon/t1mri/t1/default_analysis/folds/3.3/base2018_manual/Rammon*.arg'}\n",
      "INFO:compute_mask.py: {'subject': 'vayu', 'side': 'R', 'dir': '/neurospin/dico/data/bv_databases/human/pclean/all', 'graph_file': 'vayu/t1mri/t1/default_analysis/folds/3.3/base2018_manual/Rvayu*.arg'}\n",
      "INFO:compute_mask.py: {'subject': 'osiris', 'side': 'R', 'dir': '/neurospin/dico/data/bv_databases/human/pclean/all', 'graph_file': 'osiris/t1mri/t1/default_analysis/folds/3.3/base2018_manual/Rosiris*.arg'}\n",
      "INFO:compute_mask.py: {'subject': 's12919', 'side': 'R', 'dir': '/neurospin/dico/data/bv_databases/human/pclean/all', 'graph_file': 's12919/t1mri/t1/default_analysis/folds/3.3/base2018_manual/Rs12919*.arg'}\n",
      "INFO:compute_mask.py: {'subject': 'sujet02', 'side': 'R', 'dir': '/neurospin/dico/data/bv_databases/human/pclean/all', 'graph_file': 'sujet02/t1mri/t1/default_analysis/folds/3.3/base2018_manual/Rsujet02*.arg'}\n",
      "INFO:compute_mask.py: {'subject': 'sujet07', 'side': 'R', 'dir': '/neurospin/dico/data/bv_databases/human/pclean/all', 'graph_file': 'sujet07/t1mri/t1/default_analysis/folds/3.3/base2018_manual/Rsujet07*.arg'}\n",
      "INFO:compute_mask.py: {'subject': 'cronos', 'side': 'R', 'dir': '/neurospin/dico/data/bv_databases/human/pclean/all', 'graph_file': 'cronos/t1mri/t1/default_analysis/folds/3.3/base2018_manual/Rcronos*.arg'}\n",
      "INFO:compute_mask.py: {'subject': 'beflo', 'side': 'R', 'dir': '/neurospin/dico/data/bv_databases/human/pclean/all', 'graph_file': 'beflo/t1mri/t1/default_analysis/folds/3.3/base2018_manual/Rbeflo*.arg'}\n",
      "INFO:compute_mask.py: Final mask file: /neurospin/dico/data/deep_folding/current/mask/2mm/R/S.T.s.ter.asc.ant._right.nii.gz\n",
      "INFO:compute_mask.py: {'subject': 'sujet01', 'side': 'R', 'dir': '/neurospin/dico/data/bv_databases/human/pclean/all', 'graph_file': 'sujet01/t1mri/t1/default_analysis/folds/3.3/base2018_manual/Rsujet01*.arg'}\n",
      "INFO:compute_mask.py: {'subject': 's12590', 'side': 'R', 'dir': '/neurospin/dico/data/bv_databases/human/pclean/all', 'graph_file': 's12590/t1mri/t1/default_analysis/folds/3.3/base2018_manual/Rs12590*.arg'}\n",
      "INFO:compute_mask.py: {'subject': 'ammon', 'side': 'R', 'dir': '/neurospin/dico/data/bv_databases/human/pclean/all', 'graph_file': 'ammon/t1mri/t1/default_analysis/folds/3.3/base2018_manual/Rammon*.arg'}\n",
      "INFO:compute_mask.py: {'subject': 'vayu', 'side': 'R', 'dir': '/neurospin/dico/data/bv_databases/human/pclean/all', 'graph_file': 'vayu/t1mri/t1/default_analysis/folds/3.3/base2018_manual/Rvayu*.arg'}\n",
      "INFO:compute_mask.py: {'subject': 'osiris', 'side': 'R', 'dir': '/neurospin/dico/data/bv_databases/human/pclean/all', 'graph_file': 'osiris/t1mri/t1/default_analysis/folds/3.3/base2018_manual/Rosiris*.arg'}\n",
      "INFO:compute_mask.py: {'subject': 's12919', 'side': 'R', 'dir': '/neurospin/dico/data/bv_databases/human/pclean/all', 'graph_file': 's12919/t1mri/t1/default_analysis/folds/3.3/base2018_manual/Rs12919*.arg'}\n",
      "INFO:compute_mask.py: {'subject': 'sujet02', 'side': 'R', 'dir': '/neurospin/dico/data/bv_databases/human/pclean/all', 'graph_file': 'sujet02/t1mri/t1/default_analysis/folds/3.3/base2018_manual/Rsujet02*.arg'}\n",
      "INFO:compute_mask.py: {'subject': 'sujet07', 'side': 'R', 'dir': '/neurospin/dico/data/bv_databases/human/pclean/all', 'graph_file': 'sujet07/t1mri/t1/default_analysis/folds/3.3/base2018_manual/Rsujet07*.arg'}\n"
     ]
    },
    {
     "name": "stderr",
     "output_type": "stream",
     "text": [
      "INFO:compute_mask.py: {'subject': 'cronos', 'side': 'R', 'dir': '/neurospin/dico/data/bv_databases/human/pclean/all', 'graph_file': 'cronos/t1mri/t1/default_analysis/folds/3.3/base2018_manual/Rcronos*.arg'}\n",
      "INFO:compute_mask.py: {'subject': 'beflo', 'side': 'R', 'dir': '/neurospin/dico/data/bv_databases/human/pclean/all', 'graph_file': 'beflo/t1mri/t1/default_analysis/folds/3.3/base2018_manual/Rbeflo*.arg'}\n",
      "INFO:compute_mask.py: Final mask file: /neurospin/dico/data/deep_folding/current/mask/2mm/R/S.T.s.ter.asc.post._right.nii.gz\n"
     ]
    }
   ],
   "source": [
    "if run_mask:\n",
    "    for sulcus in sulci_left:\n",
    "        compute_mask.compute_mask(\n",
    "            src_dir=supervised_src_dir, \n",
    "            path_to_graph=path_to_graph,\n",
    "            mask_dir=mask_dir,\n",
    "            sulcus=sulcus,\n",
    "            side='L',\n",
    "            number_subjects=number_subjects_supervised,\n",
    "            out_voxel_size=out_voxel_size)\n",
    "    for sulcus in sulci_right:\n",
    "        compute_mask.compute_mask(\n",
    "            src_dir=supervised_src_dir, \n",
    "            path_to_graph=path_to_graph,\n",
    "            mask_dir=mask_dir,\n",
    "            sulcus=sulcus,\n",
    "            side='R',\n",
    "            number_subjects=number_subjects_supervised,\n",
    "            out_voxel_size=out_voxel_size)\n",
    "    print(\"Done\")"
   ]
  },
  {
   "cell_type": "code",
   "execution_count": 47,
   "metadata": {},
   "outputs": [
    {
     "name": "stderr",
     "output_type": "stream",
     "text": [
      "INFO:generate_crops.py: list_subjects[:5] = ['586460', '810843', '887373', '896778', '210617']\n",
      "INFO:generate_crops.py: SERIAL MODE: subjects are scanned serially\n",
      "INFO:generate_crops.py: list_subjects[:5] = ['896778', '585862', '727654', '156536', '210617']\n",
      "INFO:generate_crops.py: SERIAL MODE: subjects are scanned serially\n"
     ]
    },
    {
     "name": "stdout",
     "output_type": "stream",
     "text": [
      "Done\n"
     ]
    }
   ],
   "source": [
    "if run_crop:\n",
    "    # Runs on left hemisphere\n",
    "    generate_crops.generate_crops(\n",
    "        src_dir=skeleton_1mm_dir,\n",
    "        crop_dir=crop_dir,\n",
    "        mask_dir=mask_dir,\n",
    "        list_sulci=sulci_left,\n",
    "        side='L',\n",
    "        cropping_type='mask',\n",
    "        number_subjects=number_subjects)\n",
    "    # Runs on right hemisphere\n",
    "    generate_crops.generate_crops(\n",
    "        src_dir=skeleton_1mm_dir,\n",
    "        crop_dir=crop_dir,\n",
    "        mask_dir=mask_dir,\n",
    "        list_sulci=sulci_left,\n",
    "        side='R',\n",
    "        cropping_type='mask',\n",
    "        number_subjects=number_subjects)\n",
    "    print(\"Done\")"
   ]
  },
  {
   "cell_type": "code",
   "execution_count": null,
   "metadata": {},
   "outputs": [],
   "source": []
  }
 ],
 "metadata": {
  "kernelspec": {
   "display_name": "Python 3",
   "language": "python",
   "name": "python3"
  },
  "language_info": {
   "codemirror_mode": {
    "name": "ipython",
    "version": 3
   },
   "file_extension": ".py",
   "mimetype": "text/x-python",
   "name": "python",
   "nbconvert_exporter": "python",
   "pygments_lexer": "ipython3",
   "version": "3.6.9"
  }
 },
 "nbformat": 4,
 "nbformat_minor": 2
}
