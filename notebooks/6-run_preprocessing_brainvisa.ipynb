{
 "cells": [
  {
   "cell_type": "markdown",
   "metadata": {},
   "source": [
    "# Runs brainvisa preprocessing"
   ]
  },
  {
   "cell_type": "markdown",
   "metadata": {},
   "source": [
    "This notebook creates the whole brainvisa preprocessing pipeline to feed to deep learning algorithms.\n",
    "Note that you need brainvisa installed or you need to run the server under the brainvisa singularity."
   ]
  },
  {
   "cell_type": "markdown",
   "metadata": {},
   "source": [
    "You also need to have access to the HCP database (the HCP folder lies as subfolder of root_unsupervised) and a path to the root of the supervised folder (/neurospin for persons present at neurospin)"
   ]
  },
  {
   "cell_type": "markdown",
   "metadata": {},
   "source": [
    "# Sets root directories"
   ]
  },
  {
   "cell_type": "markdown",
   "metadata": {},
   "source": [
    "Contrary to the other notebooks, this one relies on data that are outside the deep_folding/data folder."
   ]
  },
  {
   "cell_type": "code",
   "execution_count": 12,
   "metadata": {},
   "outputs": [],
   "source": [
    "# This is the root of the HCP directory\n",
    "# Could be either /tgcc, or /nfs/tgcc, for example\n",
    "root_unsupervised = '/tgcc'  \n",
    "\n",
    "# This is the root of the supervised directory\n",
    "# Could be either /neuropsin, or /nfs/neurospin, for example\n",
    "root_supervised = '/neurospin' "
   ]
  },
  {
   "cell_type": "markdown",
   "metadata": {},
   "source": [
    "# Imports"
   ]
  },
  {
   "cell_type": "markdown",
   "metadata": {},
   "source": [
    "General imports"
   ]
  },
  {
   "cell_type": "code",
   "execution_count": 3,
   "metadata": {},
   "outputs": [],
   "source": [
    "import sys\n",
    "import os\n",
    "from os.path import join\n",
    "import glob\n",
    "import json\n",
    "import inspect"
   ]
  },
  {
   "cell_type": "markdown",
   "metadata": {},
   "source": [
    "Deep_folding imports"
   ]
  },
  {
   "cell_type": "code",
   "execution_count": 4,
   "metadata": {},
   "outputs": [
    {
     "name": "stdout",
     "output_type": "stream",
     "text": [
      "/neurospin/dico/lguillon/deep_folding/deep_folding/anatomist_tools/crop_definition.py\n",
      "/neurospin/dico/lguillon/deep_folding/deep_folding/anatomist_tools/dataset_gen_pipe.py\n"
     ]
    }
   ],
   "source": [
    "from deep_folding.anatomist_tools import crop_definition\n",
    "from deep_folding.anatomist_tools import dataset_gen_pipe\n",
    "print(inspect.getfile(crop_definition))\n",
    "print(inspect.getfile(dataset_gen_pipe))"
   ]
  },
  {
   "cell_type": "markdown",
   "metadata": {},
   "source": [
    "Constants"
   ]
  },
  {
   "cell_type": "code",
   "execution_count": 5,
   "metadata": {},
   "outputs": [],
   "source": [
    "_ALL_SUBJECTS = -1"
   ]
  },
  {
   "cell_type": "code",
   "execution_count": 6,
   "metadata": {},
   "outputs": [],
   "source": [
    "out_voxel_size = 1"
   ]
  },
  {
   "cell_type": "code",
   "execution_count": 7,
   "metadata": {},
   "outputs": [],
   "source": [
    "number_subjects_supervised = 10 # Number of subjects for which we determine the box. We can set it to _ALL_SUBJECTS"
   ]
  },
  {
   "cell_type": "code",
   "execution_count": 8,
   "metadata": {},
   "outputs": [],
   "source": [
    "number_subjects = 10 # Number of subjects for which we generate the crops. We can set it to _ALL_SUBJECTS"
   ]
  },
  {
   "cell_type": "markdown",
   "metadata": {},
   "source": [
    "# Creates useful functions"
   ]
  },
  {
   "cell_type": "code",
   "execution_count": 9,
   "metadata": {},
   "outputs": [],
   "source": [
    "def check_directory(directory_path):\n",
    "    \"\"\"Checks directory path and returns absolute path\"\"\"\n",
    "    directory_path = os.path.abspath(directory_path)\n",
    "    if os.path.isdir(directory_path):\n",
    "        print((directory_path + ' is a directory'))\n",
    "    else:\n",
    "        print((directory_path + ' does not exist or is not a directory.'))\n",
    "    return directory_path"
   ]
  },
  {
   "cell_type": "markdown",
   "metadata": {},
   "source": [
    "# Variables used by all sub-computations"
   ]
  },
  {
   "cell_type": "markdown",
   "metadata": {},
   "source": [
    "The following boolean variables decide which pprocessing to run:"
   ]
  },
  {
   "cell_type": "code",
   "execution_count": 10,
   "metadata": {},
   "outputs": [],
   "source": [
    "run_bbox = True  # If set to True, it generates new bounding boxes\n",
    "run_crop = True  # If set to True, it generates crops"
   ]
  },
  {
   "cell_type": "markdown",
   "metadata": {},
   "source": [
    "We now assign path names and other user-specific variables."
   ]
  },
  {
   "cell_type": "markdown",
   "metadata": {},
   "source": [
    "The unsupervised source directory is where the unsupervised database lies. It contains the morphologist analysis subfolder ANALYSIS/3T_morphologist\n"
   ]
  },
  {
   "cell_type": "code",
   "execution_count": 13,
   "metadata": {},
   "outputs": [
    {
     "name": "stdout",
     "output_type": "stream",
     "text": [
      "/mnt/n4hhcp/hcp is a directory\n"
     ]
    }
   ],
   "source": [
    "unsupervised_src_dir = check_directory(join(root_unsupervised, 'hcp'))"
   ]
  },
  {
   "cell_type": "markdown",
   "metadata": {},
   "source": [
    "The supervised source directories are where lies the database that has been manually labelled. It is a list of full pathes towards the manually labelled datasets."
   ]
  },
  {
   "cell_type": "code",
   "execution_count": 14,
   "metadata": {},
   "outputs": [
    {
     "name": "stdout",
     "output_type": "stream",
     "text": [
      "/neurospin/dico/data/bv_databases/human/pclean/all is a directory\n"
     ]
    }
   ],
   "source": [
    "human_supervised_dir = join(root_supervised, 'dico/data/bv_databases/human')\n",
    "supervised_src_dir = [check_directory(join(human_supervised_dir, 'pclean/all'))\n",
    "                     ]\n",
    "path_to_graph = [\"t1mri/t1/default_analysis/folds/3.3/base2018_manual\"\n",
    "                 ]"
   ]
  },
  {
   "cell_type": "markdown",
   "metadata": {},
   "source": [
    "# Generates bounding boxes"
   ]
  },
  {
   "cell_type": "markdown",
   "metadata": {},
   "source": [
    "### User variables"
   ]
  },
  {
   "cell_type": "code",
   "execution_count": 15,
   "metadata": {},
   "outputs": [
    {
     "name": "stdout",
     "output_type": "stream",
     "text": [
      "/neurospin/dico/data/deep_folding/test/bbox is a directory\n"
     ]
    }
   ],
   "source": [
    "bbox_dir = check_directory(join(root_supervised, 'dico/data/deep_folding/test', 'bbox'))"
   ]
  },
  {
   "cell_type": "code",
   "execution_count": 23,
   "metadata": {},
   "outputs": [
    {
     "name": "stdout",
     "output_type": "stream",
     "text": [
      "/neurospin/dico/data/deep_folding/current/mask/2mm is a directory\n"
     ]
    }
   ],
   "source": [
    "mask_dir = check_directory(join(root_supervised, 'dico/data/deep_folding/current/mask/2mm'))"
   ]
  },
  {
   "cell_type": "markdown",
   "metadata": {},
   "source": [
    "Lists the sulci of the left side that we want to analyze:"
   ]
  },
  {
   "cell_type": "code",
   "execution_count": 16,
   "metadata": {},
   "outputs": [],
   "source": [
    "sulci_left = ['S.T.s.ter.asc.ant.', 'S.T.s.ter.asc.post.']"
   ]
  },
  {
   "cell_type": "markdown",
   "metadata": {},
   "source": [
    "Lists the sulci of the right side that we want to analyze:"
   ]
  },
  {
   "cell_type": "code",
   "execution_count": 17,
   "metadata": {},
   "outputs": [],
   "source": [
    "sulci_right = ['S.T.s.ter.asc.ant.', 'S.T.s.ter.asc.post.']"
   ]
  },
  {
   "cell_type": "markdown",
   "metadata": {},
   "source": [
    "### Generates bounding boxes (actual program)"
   ]
  },
  {
   "cell_type": "markdown",
   "metadata": {},
   "source": [
    "We first call crop_definition help as if called from a command line:"
   ]
  },
  {
   "cell_type": "code",
   "execution_count": 18,
   "metadata": {},
   "outputs": [
    {
     "name": "stdout",
     "output_type": "stream",
     "text": [
      "usage: crop_definition.py [-h] [-s SRC_DIR [SRC_DIR ...]] [-t BBOX_DIR]\n",
      "                          [-m MASK_DIR] [-u SULCUS] [-i SIDE]\n",
      "                          [-p PATH_TO_GRAPH] [-n NB_SUBJECTS]\n",
      "                          [-v OUT_VOXEL_SIZE]\n",
      "\n",
      "Computes mask and bounding box around the named sulcus\n",
      "\n",
      "optional arguments:\n",
      "  -h, --help            show this help message and exit\n",
      "  -s SRC_DIR [SRC_DIR ...], --src_dir SRC_DIR [SRC_DIR ...]\n",
      "                        Source directory where the MRI data lies. If there are\n",
      "                        several directories, add all directories one after the\n",
      "                        other. Example: -s DIR_1 DIR_2. Default is :\n",
      "                        /neurospin/dico/data/bv_databases/human/pclean/all\n",
      "  -t BBOX_DIR, --bbox_dir BBOX_DIR\n",
      "                        Target directory where to store the output bbox json\n",
      "                        files. Default is :\n",
      "                        /neurospin/dico/data/deep_folding/test/bbox\n",
      "  -m MASK_DIR, --mask_dir MASK_DIR\n",
      "                        Target directory where to store the output mask files.\n",
      "                        Default is :\n",
      "                        /neurospin/dico/data/deep_folding/test/mask\n",
      "  -u SULCUS, --sulcus SULCUS\n",
      "                        Sulcus name around which we determine the bounding\n",
      "                        box. Default is : S.T.s.ter.asc.ant.\n",
      "  -i SIDE, --side SIDE  Hemisphere side. Default is : L\n",
      "  -p PATH_TO_GRAPH, --path_to_graph PATH_TO_GRAPH\n",
      "                        Relative path to manually labelled graph. Default is\n",
      "                        t1mri/t1/default_analysis/folds/3.3/base2018_manual\n",
      "  -n NB_SUBJECTS, --nb_subjects NB_SUBJECTS\n",
      "                        Number of subjects to take into account, or 'all'. 0\n",
      "                        subject is allowed, for debug purpose. Default is :\n",
      "                        all\n",
      "  -v OUT_VOXEL_SIZE, --out_voxel_size OUT_VOXEL_SIZE\n",
      "                        Voxel size of of bounding box. Default is : None\n"
     ]
    }
   ],
   "source": [
    "args = \"--help\"\n",
    "argv = args.split(' ')\n",
    "crop_definition.main(argv)"
   ]
  },
  {
   "cell_type": "code",
   "execution_count": 19,
   "metadata": {},
   "outputs": [
    {
     "name": "stdout",
     "output_type": "stream",
     "text": [
      "['S.T.s.ter.asc.ant.', 'S.T.s.ter.asc.post.'] ['S.T.s.ter.asc.ant.', 'S.T.s.ter.asc.post.']\n"
     ]
    }
   ],
   "source": [
    "print(sulci_left, sulci_right)"
   ]
  },
  {
   "cell_type": "markdown",
   "metadata": {},
   "source": [
    "We now run the actial program.\n",
    "This saves as json files in bbox_dir the bounding box characteristics:"
   ]
  },
  {
   "cell_type": "code",
   "execution_count": 20,
   "metadata": {},
   "outputs": [
    {
     "name": "stdout",
     "output_type": "stream",
     "text": [
      "{'subject': 'sujet01', 'side': 'L', 'dir': '/neurospin/dico/data/bv_databases/human/pclean/all', 'graph_file': 'sujet01/t1mri/t1/default_analysis/folds/3.3/base2018_manual/Lsujet01*.arg'}\n",
      "{'subject': 's12590', 'side': 'L', 'dir': '/neurospin/dico/data/bv_databases/human/pclean/all', 'graph_file': 's12590/t1mri/t1/default_analysis/folds/3.3/base2018_manual/Ls12590*.arg'}\n",
      "{'subject': 'ammon', 'side': 'L', 'dir': '/neurospin/dico/data/bv_databases/human/pclean/all', 'graph_file': 'ammon/t1mri/t1/default_analysis/folds/3.3/base2018_manual/Lammon*.arg'}\n",
      "{'subject': 'vayu', 'side': 'L', 'dir': '/neurospin/dico/data/bv_databases/human/pclean/all', 'graph_file': 'vayu/t1mri/t1/default_analysis/folds/3.3/base2018_manual/Lvayu*.arg'}\n",
      "{'subject': 'osiris', 'side': 'L', 'dir': '/neurospin/dico/data/bv_databases/human/pclean/all', 'graph_file': 'osiris/t1mri/t1/default_analysis/folds/3.3/base2018_manual/Losiris*.arg'}\n",
      "{'subject': 's12919', 'side': 'L', 'dir': '/neurospin/dico/data/bv_databases/human/pclean/all', 'graph_file': 's12919/t1mri/t1/default_analysis/folds/3.3/base2018_manual/Ls12919*.arg'}\n",
      "{'subject': 'sujet02', 'side': 'L', 'dir': '/neurospin/dico/data/bv_databases/human/pclean/all', 'graph_file': 'sujet02/t1mri/t1/default_analysis/folds/3.3/base2018_manual/Lsujet02*.arg'}\n",
      "{'subject': 'sujet07', 'side': 'L', 'dir': '/neurospin/dico/data/bv_databases/human/pclean/all', 'graph_file': 'sujet07/t1mri/t1/default_analysis/folds/3.3/base2018_manual/Lsujet07*.arg'}\n",
      "{'subject': 'cronos', 'side': 'L', 'dir': '/neurospin/dico/data/bv_databases/human/pclean/all', 'graph_file': 'cronos/t1mri/t1/default_analysis/folds/3.3/base2018_manual/Lcronos*.arg'}\n",
      "{'subject': 'beflo', 'side': 'L', 'dir': '/neurospin/dico/data/bv_databases/human/pclean/all', 'graph_file': 'beflo/t1mri/t1/default_analysis/folds/3.3/base2018_manual/Lbeflo*.arg'}\n",
      "/neurospin/dico/data/deep_folding/test/mask/L/S.T.s.ter.asc.ant._left.nii.gz\n",
      "{'subject': 'sujet01', 'side': 'L', 'dir': '/neurospin/dico/data/bv_databases/human/pclean/all', 'graph_file': 'sujet01/t1mri/t1/default_analysis/folds/3.3/base2018_manual/Lsujet01*.arg'}\n",
      "box (MNI 152) min: [129.86412145 151.36165187  60.7140839 ]\n",
      "box (MNI 152) max: [154.77748948 168.99963329 107.75398868]\n",
      "{'subject': 's12590', 'side': 'L', 'dir': '/neurospin/dico/data/bv_databases/human/pclean/all', 'graph_file': 's12590/t1mri/t1/default_analysis/folds/3.3/base2018_manual/Ls12590*.arg'}\n",
      "box (MNI 152) min: [140.98115012 148.24976853  66.35931646]\n",
      "box (MNI 152) max: [153.5418364  165.63963731  93.77990691]\n",
      "{'subject': 'ammon', 'side': 'L', 'dir': '/neurospin/dico/data/bv_databases/human/pclean/all', 'graph_file': 'ammon/t1mri/t1/default_analysis/folds/3.3/base2018_manual/Lammon*.arg'}\n",
      "box (MNI 152) min: [141.02551981 148.08830198  59.90619681]\n",
      "box (MNI 152) max: [152.5396859  168.13457623  81.22979769]\n",
      "{'subject': 'vayu', 'side': 'L', 'dir': '/neurospin/dico/data/bv_databases/human/pclean/all', 'graph_file': 'vayu/t1mri/t1/default_analysis/folds/3.3/base2018_manual/Lvayu*.arg'}\n",
      "box (MNI 152) min: [136.86003953 146.69598851  63.79594373]\n",
      "box (MNI 152) max: [160.7623999  164.77480365 100.18211965]\n",
      "{'subject': 'osiris', 'side': 'L', 'dir': '/neurospin/dico/data/bv_databases/human/pclean/all', 'graph_file': 'osiris/t1mri/t1/default_analysis/folds/3.3/base2018_manual/Losiris*.arg'}\n",
      "box (MNI 152) min: [135.54578143 144.15458175  57.33488841]\n",
      "box (MNI 152) max: [153.35908724 166.71932508 104.50781986]\n",
      "{'subject': 's12919', 'side': 'L', 'dir': '/neurospin/dico/data/bv_databases/human/pclean/all', 'graph_file': 's12919/t1mri/t1/default_analysis/folds/3.3/base2018_manual/Ls12919*.arg'}\n",
      "box (MNI 152) min: [130.90560249 146.57471385  59.58728626]\n",
      "box (MNI 152) max: [159.93974317 168.18510083 110.9886178 ]\n",
      "{'subject': 'sujet02', 'side': 'L', 'dir': '/neurospin/dico/data/bv_databases/human/pclean/all', 'graph_file': 'sujet02/t1mri/t1/default_analysis/folds/3.3/base2018_manual/Lsujet02*.arg'}\n",
      "box (MNI 152) min: [133.31849855 145.02842218  59.96630832]\n",
      "box (MNI 152) max: [158.64499903 165.23577777 108.85837845]\n",
      "{'subject': 'sujet07', 'side': 'L', 'dir': '/neurospin/dico/data/bv_databases/human/pclean/all', 'graph_file': 'sujet07/t1mri/t1/default_analysis/folds/3.3/base2018_manual/Lsujet07*.arg'}\n",
      "box (MNI 152) min: [140.80969474 144.54488793  71.22721164]\n",
      "box (MNI 152) max: [156.95219516 159.39854926  97.07889506]\n",
      "{'subject': 'cronos', 'side': 'L', 'dir': '/neurospin/dico/data/bv_databases/human/pclean/all', 'graph_file': 'cronos/t1mri/t1/default_analysis/folds/3.3/base2018_manual/Lcronos*.arg'}\n",
      "box (MNI 152) min: [131.01022675 148.25783277  53.91592685]\n",
      "box (MNI 152) max: [160.74876797 167.07608884  93.9651205 ]\n",
      "{'subject': 'beflo', 'side': 'L', 'dir': '/neurospin/dico/data/bv_databases/human/pclean/all', 'graph_file': 'beflo/t1mri/t1/default_analysis/folds/3.3/base2018_manual/Lbeflo*.arg'}\n",
      "box (MNI 152) min: [136.49222951 142.43008449  64.88796734]\n",
      "box (MNI 152) max: [165.44244462 167.86418915 107.59076644]\n",
      "box (AIMS Talairach) min: [33.87196663602421, 53.07901494979683, -62.584524202486776]\n",
      "box (AIMS Talairach) max: [71.68255896878776, 75.32777350464895, -1.3514890497965837]\n",
      "box (voxel): min =  [130 142  54]\n",
      "box (voxel): max =  [165 169 111]\n",
      "{'subject': 'sujet01', 'side': 'L', 'dir': '/neurospin/dico/data/bv_databases/human/pclean/all', 'graph_file': 'sujet01/t1mri/t1/default_analysis/folds/3.3/base2018_manual/Lsujet01*.arg'}\n",
      "{'subject': 's12590', 'side': 'L', 'dir': '/neurospin/dico/data/bv_databases/human/pclean/all', 'graph_file': 's12590/t1mri/t1/default_analysis/folds/3.3/base2018_manual/Ls12590*.arg'}\n",
      "{'subject': 'ammon', 'side': 'L', 'dir': '/neurospin/dico/data/bv_databases/human/pclean/all', 'graph_file': 'ammon/t1mri/t1/default_analysis/folds/3.3/base2018_manual/Lammon*.arg'}\n",
      "{'subject': 'vayu', 'side': 'L', 'dir': '/neurospin/dico/data/bv_databases/human/pclean/all', 'graph_file': 'vayu/t1mri/t1/default_analysis/folds/3.3/base2018_manual/Lvayu*.arg'}\n",
      "{'subject': 'osiris', 'side': 'L', 'dir': '/neurospin/dico/data/bv_databases/human/pclean/all', 'graph_file': 'osiris/t1mri/t1/default_analysis/folds/3.3/base2018_manual/Losiris*.arg'}\n",
      "{'subject': 's12919', 'side': 'L', 'dir': '/neurospin/dico/data/bv_databases/human/pclean/all', 'graph_file': 's12919/t1mri/t1/default_analysis/folds/3.3/base2018_manual/Ls12919*.arg'}\n",
      "{'subject': 'sujet02', 'side': 'L', 'dir': '/neurospin/dico/data/bv_databases/human/pclean/all', 'graph_file': 'sujet02/t1mri/t1/default_analysis/folds/3.3/base2018_manual/Lsujet02*.arg'}\n",
      "{'subject': 'sujet07', 'side': 'L', 'dir': '/neurospin/dico/data/bv_databases/human/pclean/all', 'graph_file': 'sujet07/t1mri/t1/default_analysis/folds/3.3/base2018_manual/Lsujet07*.arg'}\n",
      "{'subject': 'cronos', 'side': 'L', 'dir': '/neurospin/dico/data/bv_databases/human/pclean/all', 'graph_file': 'cronos/t1mri/t1/default_analysis/folds/3.3/base2018_manual/Lcronos*.arg'}\n",
      "{'subject': 'beflo', 'side': 'L', 'dir': '/neurospin/dico/data/bv_databases/human/pclean/all', 'graph_file': 'beflo/t1mri/t1/default_analysis/folds/3.3/base2018_manual/Lbeflo*.arg'}\n",
      "/neurospin/dico/data/deep_folding/test/mask/L/S.T.s.ter.asc.post._left.nii.gz\n",
      "{'subject': 'sujet01', 'side': 'L', 'dir': '/neurospin/dico/data/bv_databases/human/pclean/all', 'graph_file': 'sujet01/t1mri/t1/default_analysis/folds/3.3/base2018_manual/Lsujet01*.arg'}\n",
      "box (MNI 152) min: [130.59001184 140.30418849  88.13850991]\n",
      "box (MNI 152) max: [164.60336411 179.53969178 124.77528012]\n",
      "{'subject': 's12590', 'side': 'L', 'dir': '/neurospin/dico/data/bv_databases/human/pclean/all', 'graph_file': 's12590/t1mri/t1/default_analysis/folds/3.3/base2018_manual/Ls12590*.arg'}\n",
      "box (MNI 152) min: [125.25069186 146.6320102   72.37596855]\n",
      "box (MNI 152) max: [159.68824887 180.53325349 109.38027905]\n",
      "{'subject': 'ammon', 'side': 'L', 'dir': '/neurospin/dico/data/bv_databases/human/pclean/all', 'graph_file': 'ammon/t1mri/t1/default_analysis/folds/3.3/base2018_manual/Lammon*.arg'}\n",
      "box (MNI 152) min: [126.88254966 154.60097723  71.11779686]\n",
      "box (MNI 152) max: [144.52884832 184.61543467  91.94920191]\n",
      "{'subject': 'vayu', 'side': 'L', 'dir': '/neurospin/dico/data/bv_databases/human/pclean/all', 'graph_file': 'vayu/t1mri/t1/default_analysis/folds/3.3/base2018_manual/Lvayu*.arg'}\n"
     ]
    },
    {
     "name": "stdout",
     "output_type": "stream",
     "text": [
      "box (MNI 152) min: [136.58125347 156.5948479   85.3791845 ]\n",
      "box (MNI 152) max: [156.86153672 179.19052237  95.47051659]\n",
      "{'subject': 'osiris', 'side': 'L', 'dir': '/neurospin/dico/data/bv_databases/human/pclean/all', 'graph_file': 'osiris/t1mri/t1/default_analysis/folds/3.3/base2018_manual/Losiris*.arg'}\n",
      "box (MNI 152) min: [125.3764355  156.56988032  71.37490211]\n",
      "box (MNI 152) max: [150.40756988 180.00372698 104.96537452]\n",
      "{'subject': 's12919', 'side': 'L', 'dir': '/neurospin/dico/data/bv_databases/human/pclean/all', 'graph_file': 's12919/t1mri/t1/default_analysis/folds/3.3/base2018_manual/Ls12919*.arg'}\n",
      "box (MNI 152) min: [131.13273095 157.90875336  82.57131003]\n",
      "box (MNI 152) max: [150.20448099 181.92393347  92.84743663]\n",
      "{'subject': 'sujet02', 'side': 'L', 'dir': '/neurospin/dico/data/bv_databases/human/pclean/all', 'graph_file': 'sujet02/t1mri/t1/default_analysis/folds/3.3/base2018_manual/Lsujet02*.arg'}\n",
      "box (MNI 152) min: [131.60826326 156.1889721   86.38205793]\n",
      "box (MNI 152) max: [156.94049304 182.18153094 118.05793203]\n",
      "{'subject': 'sujet07', 'side': 'L', 'dir': '/neurospin/dico/data/bv_databases/human/pclean/all', 'graph_file': 'sujet07/t1mri/t1/default_analysis/folds/3.3/base2018_manual/Lsujet07*.arg'}\n",
      "box (MNI 152) min: [132.17347585 153.44557467  68.21897015]\n",
      "box (MNI 152) max: [156.97614748 171.15026796 102.84016608]\n",
      "{'subject': 'cronos', 'side': 'L', 'dir': '/neurospin/dico/data/bv_databases/human/pclean/all', 'graph_file': 'cronos/t1mri/t1/default_analysis/folds/3.3/base2018_manual/Lcronos*.arg'}\n",
      "box (MNI 152) min: [135.82174927 163.12003777  73.21803024]\n",
      "box (MNI 152) max: [154.51343027 173.2958315  104.49658119]\n",
      "{'subject': 'beflo', 'side': 'L', 'dir': '/neurospin/dico/data/bv_databases/human/pclean/all', 'graph_file': 'beflo/t1mri/t1/default_analysis/folds/3.3/base2018_manual/Lbeflo*.arg'}\n",
      "box (MNI 152) min: [133.28865375 158.37613876  84.70146856]\n",
      "box (MNI 152) max: [152.46362901 181.19466363 107.04449007]\n",
      "box (AIMS Talairach) min: [29.380142989125716, 49.73108876293904, -47.754490128990184]\n",
      "box (AIMS Talairach) max: [71.18962475579514, 90.31025455654935, 14.27137291050471]\n",
      "box (voxel): min =  [125 140  68]\n",
      "box (voxel): max =  [165 185 125]\n",
      "{'subject': 'sujet01', 'side': 'R', 'dir': '/neurospin/dico/data/bv_databases/human/pclean/all', 'graph_file': 'sujet01/t1mri/t1/default_analysis/folds/3.3/base2018_manual/Rsujet01*.arg'}\n",
      "{'subject': 's12590', 'side': 'R', 'dir': '/neurospin/dico/data/bv_databases/human/pclean/all', 'graph_file': 's12590/t1mri/t1/default_analysis/folds/3.3/base2018_manual/Rs12590*.arg'}\n",
      "{'subject': 'ammon', 'side': 'R', 'dir': '/neurospin/dico/data/bv_databases/human/pclean/all', 'graph_file': 'ammon/t1mri/t1/default_analysis/folds/3.3/base2018_manual/Rammon*.arg'}\n",
      "{'subject': 'vayu', 'side': 'R', 'dir': '/neurospin/dico/data/bv_databases/human/pclean/all', 'graph_file': 'vayu/t1mri/t1/default_analysis/folds/3.3/base2018_manual/Rvayu*.arg'}\n",
      "{'subject': 'osiris', 'side': 'R', 'dir': '/neurospin/dico/data/bv_databases/human/pclean/all', 'graph_file': 'osiris/t1mri/t1/default_analysis/folds/3.3/base2018_manual/Rosiris*.arg'}\n",
      "{'subject': 's12919', 'side': 'R', 'dir': '/neurospin/dico/data/bv_databases/human/pclean/all', 'graph_file': 's12919/t1mri/t1/default_analysis/folds/3.3/base2018_manual/Rs12919*.arg'}\n",
      "{'subject': 'sujet02', 'side': 'R', 'dir': '/neurospin/dico/data/bv_databases/human/pclean/all', 'graph_file': 'sujet02/t1mri/t1/default_analysis/folds/3.3/base2018_manual/Rsujet02*.arg'}\n",
      "{'subject': 'sujet07', 'side': 'R', 'dir': '/neurospin/dico/data/bv_databases/human/pclean/all', 'graph_file': 'sujet07/t1mri/t1/default_analysis/folds/3.3/base2018_manual/Rsujet07*.arg'}\n",
      "{'subject': 'cronos', 'side': 'R', 'dir': '/neurospin/dico/data/bv_databases/human/pclean/all', 'graph_file': 'cronos/t1mri/t1/default_analysis/folds/3.3/base2018_manual/Rcronos*.arg'}\n",
      "{'subject': 'beflo', 'side': 'R', 'dir': '/neurospin/dico/data/bv_databases/human/pclean/all', 'graph_file': 'beflo/t1mri/t1/default_analysis/folds/3.3/base2018_manual/Rbeflo*.arg'}\n",
      "/neurospin/dico/data/deep_folding/test/mask/R/S.T.s.ter.asc.ant._right.nii.gz\n",
      "{'subject': 'sujet01', 'side': 'R', 'dir': '/neurospin/dico/data/bv_databases/human/pclean/all', 'graph_file': 'sujet01/t1mri/t1/default_analysis/folds/3.3/base2018_manual/Rsujet01*.arg'}\n",
      "box (MNI 152) min: [ 27.9090692  133.74247588  52.70122948]\n",
      "box (MNI 152) max: [ 49.95153488 148.67896891  89.86650051]\n",
      "{'subject': 's12590', 'side': 'R', 'dir': '/neurospin/dico/data/bv_databases/human/pclean/all', 'graph_file': 's12590/t1mri/t1/default_analysis/folds/3.3/base2018_manual/Rs12590*.arg'}\n",
      "box (MNI 152) min: [ 26.52084851 133.96152553  67.34476271]\n",
      "box (MNI 152) max: [ 47.75131664 156.73118382 103.94951844]\n",
      "{'subject': 'ammon', 'side': 'R', 'dir': '/neurospin/dico/data/bv_databases/human/pclean/all', 'graph_file': 'ammon/t1mri/t1/default_analysis/folds/3.3/base2018_manual/Rammon*.arg'}\n",
      "box (MNI 152) min: [ 30.2153891  129.27136748  55.23532531]\n",
      "box (MNI 152) max: [ 48.62341045 149.98854498  85.18883593]\n",
      "{'subject': 'vayu', 'side': 'R', 'dir': '/neurospin/dico/data/bv_databases/human/pclean/all', 'graph_file': 'vayu/t1mri/t1/default_analysis/folds/3.3/base2018_manual/Rvayu*.arg'}\n",
      "box (MNI 152) min: [ 29.96121285 136.78060755  76.21120856]\n",
      "box (MNI 152) max: [ 49.99024156 148.94741873 103.8007492 ]\n",
      "{'subject': 'osiris', 'side': 'R', 'dir': '/neurospin/dico/data/bv_databases/human/pclean/all', 'graph_file': 'osiris/t1mri/t1/default_analysis/folds/3.3/base2018_manual/Rosiris*.arg'}\n",
      "box (MNI 152) min: [ 29.55371722 137.62371148  55.67284312]\n",
      "box (MNI 152) max: [ 50.32677009 155.14606467 100.83073499]\n",
      "{'subject': 's12919', 'side': 'R', 'dir': '/neurospin/dico/data/bv_databases/human/pclean/all', 'graph_file': 's12919/t1mri/t1/default_analysis/folds/3.3/base2018_manual/Rs12919*.arg'}\n",
      "box (MNI 152) min: [ 32.71735855 140.8674667   52.54152067]\n",
      "box (MNI 152) max: [ 58.18646833 154.67756012 104.60979915]\n",
      "{'subject': 'sujet02', 'side': 'R', 'dir': '/neurospin/dico/data/bv_databases/human/pclean/all', 'graph_file': 'sujet02/t1mri/t1/default_analysis/folds/3.3/base2018_manual/Rsujet02*.arg'}\n",
      "box (MNI 152) min: [ 33.36766085 135.60796715  57.53730682]\n",
      "box (MNI 152) max: [ 54.18954969 153.61220765 105.6455182 ]\n",
      "{'subject': 'sujet07', 'side': 'R', 'dir': '/neurospin/dico/data/bv_databases/human/pclean/all', 'graph_file': 'sujet07/t1mri/t1/default_analysis/folds/3.3/base2018_manual/Rsujet07*.arg'}\n",
      "box (MNI 152) min: [ 24.66292587 121.25539466  73.82755843]\n",
      "box (MNI 152) max: [ 53.4753186  154.55537444 107.48276787]\n",
      "{'subject': 'cronos', 'side': 'R', 'dir': '/neurospin/dico/data/bv_databases/human/pclean/all', 'graph_file': 'cronos/t1mri/t1/default_analysis/folds/3.3/base2018_manual/Rcronos*.arg'}\n",
      "box (MNI 152) min: [ 28.79933848 140.35059013  58.3044378 ]\n",
      "box (MNI 152) max: [ 49.67472662 153.38703787  95.61771427]\n",
      "{'subject': 'beflo', 'side': 'R', 'dir': '/neurospin/dico/data/bv_databases/human/pclean/all', 'graph_file': 'beflo/t1mri/t1/default_analysis/folds/3.3/base2018_manual/Rbeflo*.arg'}\n",
      "box (MNI 152) min: [ 31.16636007 139.45765265  66.04038229]\n",
      "box (MNI 152) max: [ 51.35945102 154.74275611  93.84535694]\n",
      "box (AIMS Talairach) min: [-74.41392425535156, 32.498575441981444, -64.36680387046803]\n",
      "box (AIMS Talairach) max: [-38.68905275173621, 64.15091683863986, -4.642392414225355]\n",
      "box (voxel): min =  [ 25 121  53]\n",
      "box (voxel): max =  [ 58 157 107]\n",
      "{'subject': 'sujet01', 'side': 'R', 'dir': '/neurospin/dico/data/bv_databases/human/pclean/all', 'graph_file': 'sujet01/t1mri/t1/default_analysis/folds/3.3/base2018_manual/Rsujet01*.arg'}\n",
      "{'subject': 's12590', 'side': 'R', 'dir': '/neurospin/dico/data/bv_databases/human/pclean/all', 'graph_file': 's12590/t1mri/t1/default_analysis/folds/3.3/base2018_manual/Rs12590*.arg'}\n",
      "{'subject': 'ammon', 'side': 'R', 'dir': '/neurospin/dico/data/bv_databases/human/pclean/all', 'graph_file': 'ammon/t1mri/t1/default_analysis/folds/3.3/base2018_manual/Rammon*.arg'}\n",
      "{'subject': 'vayu', 'side': 'R', 'dir': '/neurospin/dico/data/bv_databases/human/pclean/all', 'graph_file': 'vayu/t1mri/t1/default_analysis/folds/3.3/base2018_manual/Rvayu*.arg'}\n",
      "{'subject': 'osiris', 'side': 'R', 'dir': '/neurospin/dico/data/bv_databases/human/pclean/all', 'graph_file': 'osiris/t1mri/t1/default_analysis/folds/3.3/base2018_manual/Rosiris*.arg'}\n"
     ]
    },
    {
     "name": "stdout",
     "output_type": "stream",
     "text": [
      "{'subject': 's12919', 'side': 'R', 'dir': '/neurospin/dico/data/bv_databases/human/pclean/all', 'graph_file': 's12919/t1mri/t1/default_analysis/folds/3.3/base2018_manual/Rs12919*.arg'}\n",
      "{'subject': 'sujet02', 'side': 'R', 'dir': '/neurospin/dico/data/bv_databases/human/pclean/all', 'graph_file': 'sujet02/t1mri/t1/default_analysis/folds/3.3/base2018_manual/Rsujet02*.arg'}\n",
      "{'subject': 'sujet07', 'side': 'R', 'dir': '/neurospin/dico/data/bv_databases/human/pclean/all', 'graph_file': 'sujet07/t1mri/t1/default_analysis/folds/3.3/base2018_manual/Rsujet07*.arg'}\n",
      "{'subject': 'cronos', 'side': 'R', 'dir': '/neurospin/dico/data/bv_databases/human/pclean/all', 'graph_file': 'cronos/t1mri/t1/default_analysis/folds/3.3/base2018_manual/Rcronos*.arg'}\n",
      "{'subject': 'beflo', 'side': 'R', 'dir': '/neurospin/dico/data/bv_databases/human/pclean/all', 'graph_file': 'beflo/t1mri/t1/default_analysis/folds/3.3/base2018_manual/Rbeflo*.arg'}\n",
      "/neurospin/dico/data/deep_folding/test/mask/R/S.T.s.ter.asc.post._right.nii.gz\n",
      "{'subject': 'sujet01', 'side': 'R', 'dir': '/neurospin/dico/data/bv_databases/human/pclean/all', 'graph_file': 'sujet01/t1mri/t1/default_analysis/folds/3.3/base2018_manual/Rsujet01*.arg'}\n",
      "box (MNI 152) min: [ 41.02432753 153.54964676  59.50405186]\n",
      "box (MNI 152) max: [ 63.92587322 167.85919339  92.03367445]\n",
      "{'subject': 's12590', 'side': 'R', 'dir': '/neurospin/dico/data/bv_databases/human/pclean/all', 'graph_file': 's12590/t1mri/t1/default_analysis/folds/3.3/base2018_manual/Rs12590*.arg'}\n",
      "box (MNI 152) min: [ 29.59087444 143.29269379  74.22791765]\n",
      "box (MNI 152) max: [ 60.27827618 179.47184801 105.92760282]\n",
      "{'subject': 'ammon', 'side': 'R', 'dir': '/neurospin/dico/data/bv_databases/human/pclean/all', 'graph_file': 'ammon/t1mri/t1/default_analysis/folds/3.3/base2018_manual/Rammon*.arg'}\n",
      "box (MNI 152) min: [ 40.16851148 148.81473272  66.10282203]\n",
      "box (MNI 152) max: [ 59.25561566 174.48416626  98.99361485]\n",
      "{'subject': 'vayu', 'side': 'R', 'dir': '/neurospin/dico/data/bv_databases/human/pclean/all', 'graph_file': 'vayu/t1mri/t1/default_analysis/folds/3.3/base2018_manual/Rvayu*.arg'}\n",
      "box (MNI 152) min: [ 27.5726731  138.51450755  88.14188773]\n",
      "box (MNI 152) max: [ 51.97507045 170.43630023 116.9650304 ]\n",
      "{'subject': 'osiris', 'side': 'R', 'dir': '/neurospin/dico/data/bv_databases/human/pclean/all', 'graph_file': 'osiris/t1mri/t1/default_analysis/folds/3.3/base2018_manual/Rosiris*.arg'}\n",
      "box (MNI 152) min: [ 27.81056753 133.63473966  56.80764921]\n",
      "box (MNI 152) max: [ 61.39640564 164.95402598 119.08249986]\n",
      "{'subject': 's12919', 'side': 'R', 'dir': '/neurospin/dico/data/bv_databases/human/pclean/all', 'graph_file': 's12919/t1mri/t1/default_analysis/folds/3.3/base2018_manual/Rs12919*.arg'}\n",
      "box (MNI 152) min: [ 36.19414084 148.07089591  68.35876172]\n",
      "box (MNI 152) max: [ 62.45460506 179.2072694  103.40153177]\n",
      "{'subject': 'sujet02', 'side': 'R', 'dir': '/neurospin/dico/data/bv_databases/human/pclean/all', 'graph_file': 'sujet02/t1mri/t1/default_analysis/folds/3.3/base2018_manual/Rsujet02*.arg'}\n",
      "box (MNI 152) min: [ 35.56873229 147.03955397  70.92351557]\n",
      "box (MNI 152) max: [ 61.05607071 172.68219952  95.91835375]\n",
      "{'subject': 'sujet07', 'side': 'R', 'dir': '/neurospin/dico/data/bv_databases/human/pclean/all', 'graph_file': 'sujet07/t1mri/t1/default_analysis/folds/3.3/base2018_manual/Rsujet07*.arg'}\n",
      "box (MNI 152) min: [ 31.53731334 143.59793301  62.84244975]\n",
      "box (MNI 152) max: [ 55.22922927 161.28288328 102.57439368]\n",
      "{'subject': 'cronos', 'side': 'R', 'dir': '/neurospin/dico/data/bv_databases/human/pclean/all', 'graph_file': 'cronos/t1mri/t1/default_analysis/folds/3.3/base2018_manual/Rcronos*.arg'}\n",
      "box (MNI 152) min: [ 28.19058691 146.34355959  72.96124751]\n",
      "box (MNI 152) max: [ 52.52892816 170.32567638 108.52881094]\n",
      "{'subject': 'beflo', 'side': 'R', 'dir': '/neurospin/dico/data/bv_databases/human/pclean/all', 'graph_file': 'beflo/t1mri/t1/default_analysis/folds/3.3/base2018_manual/Rbeflo*.arg'}\n",
      "box (MNI 152) min: [ 37.19698224 154.29492758  66.30027586]\n",
      "box (MNI 152) max: [ 56.10626272 169.06866619 121.60589775]\n",
      "box (AIMS Talairach) min: [-71.2543137898583, 44.89635962887428, -58.985103219940555]\n",
      "box (AIMS Talairach) max: [-32.36350518012965, 86.39214201184467, 11.804355500492335]\n",
      "box (voxel): min =  [ 28 134  57]\n",
      "box (voxel): max =  [ 64 179 122]\n"
     ]
    }
   ],
   "source": [
    "if run_bbox:\n",
    "    for sulcus in sulci_left:\n",
    "        crop_definition.bounding_box(src_dir=supervised_src_dir, \n",
    "                                  path_to_graph=path_to_graph,\n",
    "                                  bbox_dir=bbox_dir,\n",
    "                                  sulcus=sulcus,\n",
    "                                  side='L',\n",
    "                                  number_subjects=number_subjects_supervised,\n",
    "                                  out_voxel_size=out_voxel_size)\n",
    "    for sulcus in sulci_right:\n",
    "        crop_definition.bounding_box(src_dir=supervised_src_dir, \n",
    "                                  path_to_graph=path_to_graph,\n",
    "                                  bbox_dir=bbox_dir,\n",
    "                                  sulcus=sulcus,\n",
    "                                  side='R',\n",
    "                                  number_subjects=number_subjects_supervised,\n",
    "                                  out_voxel_size=out_voxel_size)"
   ]
  },
  {
   "cell_type": "markdown",
   "metadata": {},
   "source": [
    "# Generates crops"
   ]
  },
  {
   "cell_type": "markdown",
   "metadata": {},
   "source": [
    "### User variables "
   ]
  },
  {
   "cell_type": "code",
   "execution_count": 18,
   "metadata": {},
   "outputs": [],
   "source": [
    "interp = 'nearest'"
   ]
  },
  {
   "cell_type": "code",
   "execution_count": 24,
   "metadata": {},
   "outputs": [
    {
     "name": "stdout",
     "output_type": "stream",
     "text": [
      "/neurospin/dico/data/deep_folding/test/crops is a directory\n"
     ]
    }
   ],
   "source": [
    "crop_dir = check_directory(join(root_supervised, 'dico/data/deep_folding/test', 'crops'))"
   ]
  },
  {
   "cell_type": "markdown",
   "metadata": {},
   "source": [
    "### Generates crops (actual program)"
   ]
  },
  {
   "cell_type": "markdown",
   "metadata": {},
   "source": [
    "We now save in {crop_dir}/Lcrops and {crop_dir}/Rcrops the actial crops based on bounding boxes:"
   ]
  },
  {
   "cell_type": "code",
   "execution_count": 29,
   "metadata": {},
   "outputs": [
    {
     "name": "stdout",
     "output_type": "stream",
     "text": [
      "list_subjects =  ['585862', '586460', '727654', '210617', '123420', '145127', '156536', '887373', '810843', '896778']\n"
     ]
    },
    {
     "data": {
      "application/vnd.jupyter.widget-view+json": {
       "model_id": "5c5d3c54b52f4edcb234244c644a2f1e",
       "version_major": 2,
       "version_minor": 0
      },
      "text/plain": [
       "SUBMITTING | :   0%|          | 0/10 [00:00<?, ?it/s]"
      ]
     },
     "metadata": {},
     "output_type": "display_data"
    },
    {
     "data": {
      "application/vnd.jupyter.widget-view+json": {
       "model_id": "32167f6586a14b26ab189db8a2b5bd0d",
       "version_major": 2,
       "version_minor": 0
      },
      "text/plain": [
       "PROCESSING | :   0%|          | 0/10 [00:00<?, ?it/s]"
      ]
     },
     "metadata": {},
     "output_type": "display_data"
    },
    {
     "data": {
      "application/vnd.jupyter.widget-view+json": {
       "model_id": "b2f5668d6b18423d9884ac5e42b6ab9c",
       "version_major": 2,
       "version_minor": 0
      },
      "text/plain": [
       "COLLECTING | :   0%|          | 0/10 [00:00<?, ?it/s]"
      ]
     },
     "metadata": {},
     "output_type": "display_data"
    },
    {
     "name": "stdout",
     "output_type": "stream",
     "text": [
      "list_subjects =  ['585862', '586460', '727654', '210617', '123420', '145127', '156536', '887373', '810843', '896778']\n"
     ]
    },
    {
     "data": {
      "application/vnd.jupyter.widget-view+json": {
       "model_id": "c95adc47a0fa414ebe22d03f47fd39ff",
       "version_major": 2,
       "version_minor": 0
      },
      "text/plain": [
       "SUBMITTING | :   0%|          | 0/10 [00:00<?, ?it/s]"
      ]
     },
     "metadata": {},
     "output_type": "display_data"
    },
    {
     "data": {
      "application/vnd.jupyter.widget-view+json": {
       "model_id": "339b06abe9c74f188261521373f89df9",
       "version_major": 2,
       "version_minor": 0
      },
      "text/plain": [
       "PROCESSING | :   0%|          | 0/10 [00:00<?, ?it/s]"
      ]
     },
     "metadata": {},
     "output_type": "display_data"
    },
    {
     "data": {
      "application/vnd.jupyter.widget-view+json": {
       "model_id": "a43ff4b576e5499b91200aeaaf78e0fe",
       "version_major": 2,
       "version_minor": 0
      },
      "text/plain": [
       "COLLECTING | :   0%|          | 0/10 [00:00<?, ?it/s]"
      ]
     },
     "metadata": {},
     "output_type": "display_data"
    },
    {
     "name": "stdout",
     "output_type": "stream",
     "text": [
      "Done\n"
     ]
    }
   ],
   "source": [
    "if run_crop:\n",
    "    # Runs on left hemisphere\n",
    "    dataset_gen_pipe.dataset_gen_pipe(src_dir=unsupervised_src_dir,\n",
    "                                      tgt_dir=crop_dir,\n",
    "                                      bbox_dir=bbox_dir,\n",
    "                                      cropping='bbox',\n",
    "                                      list_sulci=sulci_left,\n",
    "                                      side='L',\n",
    "                                      number_subjects=number_subjects)\n",
    "    # Runs on right hemisphere\n",
    "    dataset_gen_pipe.dataset_gen_pipe(src_dir=unsupervised_src_dir,\n",
    "                                      tgt_dir=crop_dir,\n",
    "                                      bbox_dir=bbox_dir,\n",
    "                                      cropping='bbox',\n",
    "                                      list_sulci=sulci_right,\n",
    "                                      side='R',\n",
    "                                      number_subjects=number_subjects)\n",
    "    print(\"Done\")"
   ]
  },
  {
   "cell_type": "markdown",
   "metadata": {},
   "source": [
    "We now sort generated files (we do it in date order; indeed, we may find older files in folder as we don't suppress files before writing new ones):"
   ]
  },
  {
   "cell_type": "code",
   "execution_count": 30,
   "metadata": {},
   "outputs": [
    {
     "name": "stdout",
     "output_type": "stream",
     "text": [
      "/neurospin/dico/data/deep_folding/test/crops/Lcrops/887373_normalized.nii.gz\n",
      "/neurospin/dico/data/deep_folding/test/crops/Lcrops/210617_normalized.nii.gz\n",
      "/neurospin/dico/data/deep_folding/test/crops/Lcrops/145127_normalized.nii.gz\n",
      "/neurospin/dico/data/deep_folding/test/crops/Lcrops/810843_normalized.nii.gz\n",
      "/neurospin/dico/data/deep_folding/test/crops/Lcrops/727654_normalized.nii.gz\n",
      "/neurospin/dico/data/deep_folding/test/crops/Lcrops/585862_normalized.nii.gz\n",
      "/neurospin/dico/data/deep_folding/test/crops/Lcrops/123420_normalized.nii.gz\n",
      "/neurospin/dico/data/deep_folding/test/crops/Lcrops/896778_normalized.nii.gz\n",
      "/neurospin/dico/data/deep_folding/test/crops/Lcrops/586460_normalized.nii.gz\n",
      "/neurospin/dico/data/deep_folding/test/crops/Lcrops/156536_normalized.nii.gz\n"
     ]
    }
   ],
   "source": [
    "files = glob.glob(f\"{crop_dir}/Lcrops/*.nii.gz\")\n",
    "files.sort(key=os.path.getmtime, reverse=True)\n",
    "print(\"\\n\".join(files[:number_subjects]))"
   ]
  },
  {
   "cell_type": "code",
   "execution_count": 31,
   "metadata": {},
   "outputs": [
    {
     "name": "stdout",
     "output_type": "stream",
     "text": [
      "/neurospin/dico/data/deep_folding/test/crops/Rcrops/145127_normalized.nii.gz\n",
      "/neurospin/dico/data/deep_folding/test/crops/Rcrops/810843_normalized.nii.gz\n",
      "/neurospin/dico/data/deep_folding/test/crops/Rcrops/887373_normalized.nii.gz\n",
      "/neurospin/dico/data/deep_folding/test/crops/Rcrops/896778_normalized.nii.gz\n",
      "/neurospin/dico/data/deep_folding/test/crops/Rcrops/586460_normalized.nii.gz\n",
      "/neurospin/dico/data/deep_folding/test/crops/Rcrops/210617_normalized.nii.gz\n",
      "/neurospin/dico/data/deep_folding/test/crops/Rcrops/727654_normalized.nii.gz\n",
      "/neurospin/dico/data/deep_folding/test/crops/Rcrops/585862_normalized.nii.gz\n",
      "/neurospin/dico/data/deep_folding/test/crops/Rcrops/123420_normalized.nii.gz\n",
      "/neurospin/dico/data/deep_folding/test/crops/Rcrops/156536_normalized.nii.gz\n"
     ]
    }
   ],
   "source": [
    "files = glob.glob(f\"{crop_dir}/Rcrops/*.nii.gz\")\n",
    "files.sort(key=os.path.getmtime, reverse=True)\n",
    "print(\"\\n\".join(files[:number_subjects]))"
   ]
  },
  {
   "cell_type": "markdown",
   "metadata": {},
   "source": [
    "### Generates mask-based crops"
   ]
  },
  {
   "cell_type": "code",
   "execution_count": 36,
   "metadata": {},
   "outputs": [],
   "source": [
    "sulci_left = ['paracingular.', 'F.C.M.ant.']\n",
    "sulci_right = ['S.T.s.ter.asc.ant.', 'S.T.s.ter.asc.post.']"
   ]
  },
  {
   "cell_type": "code",
   "execution_count": 39,
   "metadata": {},
   "outputs": [
    {
     "name": "stdout",
     "output_type": "stream",
     "text": [
      "list_subjects =  ['585862', '586460', '727654', '210617', '123420', '145127', '156536', '887373', '810843', '896778']\n"
     ]
    },
    {
     "data": {
      "application/vnd.jupyter.widget-view+json": {
       "model_id": "b49b757947324a1ab6335f52492bbcd1",
       "version_major": 2,
       "version_minor": 0
      },
      "text/plain": [
       "SUBMITTING | :   0%|          | 0/10 [00:00<?, ?it/s]"
      ]
     },
     "metadata": {},
     "output_type": "display_data"
    },
    {
     "data": {
      "application/vnd.jupyter.widget-view+json": {
       "model_id": "69e5903bfcfd4a0ca4b3d2f0e0469340",
       "version_major": 2,
       "version_minor": 0
      },
      "text/plain": [
       "PROCESSING | :   0%|          | 0/10 [00:00<?, ?it/s]"
      ]
     },
     "metadata": {},
     "output_type": "display_data"
    },
    {
     "data": {
      "application/vnd.jupyter.widget-view+json": {
       "model_id": "8684fd68297349d9934f44a18bc51454",
       "version_major": 2,
       "version_minor": 0
      },
      "text/plain": [
       "COLLECTING | :   0%|          | 0/10 [00:00<?, ?it/s]"
      ]
     },
     "metadata": {},
     "output_type": "display_data"
    },
    {
     "name": "stdout",
     "output_type": "stream",
     "text": [
      "list_subjects =  ['585862', '586460', '727654', '210617', '123420', '145127', '156536', '887373', '810843', '896778']\n"
     ]
    },
    {
     "data": {
      "application/vnd.jupyter.widget-view+json": {
       "model_id": "9de83885c1e246e1bd41801d4b56a18a",
       "version_major": 2,
       "version_minor": 0
      },
      "text/plain": [
       "SUBMITTING | :   0%|          | 0/10 [00:00<?, ?it/s]"
      ]
     },
     "metadata": {},
     "output_type": "display_data"
    },
    {
     "data": {
      "application/vnd.jupyter.widget-view+json": {
       "model_id": "694b457d29ff48f099417872854b87ee",
       "version_major": 2,
       "version_minor": 0
      },
      "text/plain": [
       "PROCESSING | :   0%|          | 0/10 [00:00<?, ?it/s]"
      ]
     },
     "metadata": {},
     "output_type": "display_data"
    },
    {
     "data": {
      "application/vnd.jupyter.widget-view+json": {
       "model_id": "b834d54c4f2b4d30b04d35bcf0b7f03a",
       "version_major": 2,
       "version_minor": 0
      },
      "text/plain": [
       "COLLECTING | :   0%|          | 0/10 [00:00<?, ?it/s]"
      ]
     },
     "metadata": {},
     "output_type": "display_data"
    },
    {
     "name": "stdout",
     "output_type": "stream",
     "text": [
      "Done\n"
     ]
    }
   ],
   "source": [
    "if run_crop:\n",
    "    # Runs on left hemisphere\n",
    "    dataset_gen_pipe.dataset_gen_pipe(src_dir=unsupervised_src_dir,\n",
    "                                      tgt_dir=crop_dir,\n",
    "                                      mask_dir=mask_dir,\n",
    "                                      list_sulci=sulci_left,\n",
    "                                      side='L',\n",
    "                                      number_subjects=number_subjects)\n",
    "    # Runs on right hemisphere\n",
    "    dataset_gen_pipe.dataset_gen_pipe(src_dir=unsupervised_src_dir,\n",
    "                                      tgt_dir=crop_dir,\n",
    "                                      mask_dir=mask_dir,\n",
    "                                      list_sulci=sulci_right,\n",
    "                                      side='R',\n",
    "                                      number_subjects=number_subjects)\n",
    "    print(\"Done\")"
   ]
  }
 ],
 "metadata": {
  "kernelspec": {
   "display_name": "Python 3",
   "language": "python",
   "name": "python3"
  },
  "language_info": {
   "codemirror_mode": {
    "name": "ipython",
    "version": 3
   },
   "file_extension": ".py",
   "mimetype": "text/x-python",
   "name": "python",
   "nbconvert_exporter": "python",
   "pygments_lexer": "ipython3",
   "version": "3.6.9"
  }
 },
 "nbformat": 4,
 "nbformat_minor": 2
}
