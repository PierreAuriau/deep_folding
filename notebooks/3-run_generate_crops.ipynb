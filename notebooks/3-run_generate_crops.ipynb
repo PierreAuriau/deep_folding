{
 "cells": [
  {
   "cell_type": "markdown",
   "metadata": {},
   "source": [
    "# Generates crops ad pickle file using generate_crops"
   ]
  },
  {
   "cell_type": "markdown",
   "metadata": {},
   "source": [
    "This notebook crops images according to bounding box coordinates (one per sulcus)"
   ]
  },
  {
   "cell_type": "markdown",
   "metadata": {},
   "source": [
    "# Imports"
   ]
  },
  {
   "cell_type": "code",
   "execution_count": 1,
   "metadata": {},
   "outputs": [
    {
     "name": "stdout",
     "output_type": "stream",
     "text": [
      "3.6.9 (default, Dec  8 2021, 21:08:43) \n",
      "[GCC 8.4.0]\n"
     ]
    }
   ],
   "source": [
    "import sys\n",
    "import os\n",
    "import glob\n",
    "import json\n",
    "import inspect\n",
    "import numpy as np\n",
    "import pandas as pd\n",
    "import matplotlib.pyplot as plt\n",
    "\n",
    "# Import the aims module\n",
    "from soma import aims\n",
    "# the brainplot package\n",
    "import colorado as cld\n",
    "\n",
    "print((sys.version))"
   ]
  },
  {
   "cell_type": "code",
   "execution_count": 2,
   "metadata": {},
   "outputs": [
    {
     "name": "stdout",
     "output_type": "stream",
     "text": [
      "global modules: /casa/host/build/share/anatomist-5.1/python_plugins\n",
      "home   modules: /casa/home/.anatomist/python_plugins\n",
      "loading module meshsplit\n",
      "loading module palettecontrols\n",
      "loading module volumepalettes\n",
      "loading module save_resampled\n",
      "loading module profilewindow\n",
      "loading module anacontrolmenu\n",
      "loading module foldsplit\n",
      "loading module simple_controls\n",
      "Anatomist started.\n",
      "loading module histogram\n",
      "loading module ana_image_math\n",
      "loading module modelGraphs\n",
      "loading module paletteViewer\n",
      "loading module bsa_proba\n",
      "loading module gradientpalette\n",
      "loading module selection\n",
      "all python modules loaded\n",
      "Anatomist started.\n",
      "{'xvfb': <subprocess.Popen object at 0x7fa0183bf7f0>, 'original_display': ':1', 'display': 24, 'glx': 2, 'virtualgl': None, 'headless': True, 'mesa': False, 'qtapp': 'QtGui'}\n"
     ]
    }
   ],
   "source": [
    "import anatomist.notebook as ana\n",
    "a = ana.Anatomist()\n",
    "print(a.headless_info.__dict__)\n"
   ]
  },
  {
   "cell_type": "code",
   "execution_count": 3,
   "metadata": {},
   "outputs": [
    {
     "name": "stdout",
     "output_type": "stream",
     "text": [
      "/neurospin/dico/jchavas/Runs/32_deep_folding_foldlabel_clean/Program/deep_folding/deep_folding/__init__.py\n"
     ]
    }
   ],
   "source": [
    "# Uncomment the following line if you have not installed deep_folding with pip install -e .\n",
    "# sys.path.append((os.path.abspath('../')))\n",
    "import deep_folding\n",
    "from deep_folding.brainvisa.utils.constants import _ALL_SUBJECTS\n",
    "print(inspect.getfile(deep_folding))"
   ]
  },
  {
   "cell_type": "markdown",
   "metadata": {},
   "source": [
    "# User-specific variables"
   ]
  },
  {
   "cell_type": "code",
   "execution_count": 4,
   "metadata": {},
   "outputs": [],
   "source": [
    "sulcus = 'S.T.s.ter.asc.ant.'"
   ]
  },
  {
   "cell_type": "code",
   "execution_count": 5,
   "metadata": {},
   "outputs": [],
   "source": [
    "side = 'L'"
   ]
  },
  {
   "cell_type": "markdown",
   "metadata": {},
   "source": [
    "We now assign path names and other user-specific variables."
   ]
  },
  {
   "cell_type": "markdown",
   "metadata": {},
   "source": [
    "The source directory is where the database lies. It contains the morphologist analysis subfolder ANALYSIS/3T_morphologist\n"
   ]
  },
  {
   "cell_type": "code",
   "execution_count": 6,
   "metadata": {},
   "outputs": [
    {
     "name": "stdout",
     "output_type": "stream",
     "text": [
      "src_dir = /neurospin/dico/jchavas/Runs/32_deep_folding_foldlabel_clean/Program/deep_folding/data/source/unsupervised\n"
     ]
    }
   ],
   "source": [
    "src_dir = os.path.join(os.getcwd(), '../data/source/unsupervised')\n",
    "src_dir = os.path.abspath(src_dir)\n",
    "print((\"src_dir = \" + src_dir))"
   ]
  },
  {
   "cell_type": "markdown",
   "metadata": {},
   "source": [
    "The target directory tgt_dir is where the files will be saved"
   ]
  },
  {
   "cell_type": "code",
   "execution_count": 7,
   "metadata": {},
   "outputs": [
    {
     "name": "stdout",
     "output_type": "stream",
     "text": [
      "tgt_dir = /neurospin/dico/jchavas/Runs/32_deep_folding_foldlabel_clean/Program/deep_folding/data/target\n"
     ]
    }
   ],
   "source": [
    "tgt_dir = os.path.join(os.getcwd(), '../data/target')\n",
    "tgt_dir = os.path.abspath(tgt_dir)\n",
    "print((\"tgt_dir = \" + tgt_dir))"
   ]
  },
  {
   "cell_type": "code",
   "execution_count": 8,
   "metadata": {},
   "outputs": [
    {
     "name": "stdout",
     "output_type": "stream",
     "text": [
      "bbox_dir = /neurospin/dico/jchavas/Runs/32_deep_folding_foldlabel_clean/Program/deep_folding/data/reference/bbox\n"
     ]
    }
   ],
   "source": [
    "bbox_dir = os.path.join(os.getcwd(), '../data/reference/bbox')\n",
    "bbox_dir = os.path.abspath(bbox_dir)\n",
    "print((\"bbox_dir = \" + bbox_dir))"
   ]
  },
  {
   "cell_type": "code",
   "execution_count": 9,
   "metadata": {},
   "outputs": [
    {
     "name": "stdout",
     "output_type": "stream",
     "text": [
      "mask_dir = /neurospin/dico/jchavas/Runs/32_deep_folding_foldlabel_clean/Program/deep_folding/data/reference/mask\n"
     ]
    }
   ],
   "source": [
    "mask_dir = os.path.join(os.getcwd(), '../data/reference/mask')\n",
    "mask_dir = os.path.abspath(mask_dir)\n",
    "print((\"mask_dir = \" + mask_dir))"
   ]
  },
  {
   "cell_type": "code",
   "execution_count": 10,
   "metadata": {},
   "outputs": [
    {
     "name": "stdout",
     "output_type": "stream",
     "text": [
      "['/usr/local/lib/python3.6/dist-packages/ipykernel_launcher.py', '-f', '/casa/home/.local/share/jupyter/runtime/kernel-e3f4b010-da37-42e2-99ce-7afde8dcec72.json']\n"
     ]
    }
   ],
   "source": [
    "print((sys.argv))"
   ]
  },
  {
   "cell_type": "markdown",
   "metadata": {},
   "source": [
    "# Illustration of main program uses"
   ]
  },
  {
   "cell_type": "markdown",
   "metadata": {},
   "source": [
    "We will first use the program with no effect by using number of subjects set to 0, or by calling the help function"
   ]
  },
  {
   "cell_type": "markdown",
   "metadata": {},
   "source": [
    "### Using external calls"
   ]
  },
  {
   "cell_type": "code",
   "execution_count": 11,
   "metadata": {},
   "outputs": [
    {
     "name": "stdout",
     "output_type": "stream",
     "text": [
      "usage: generate_crops.py [-h] [-s SRC_DIR] [-y INPUT_TYPE] [-o OUTPUT_DIR]\r\n",
      "                         [-k MASK_DIR] [-b BBOX_DIR] [-u SULCUS [SULCUS ...]]\r\n",
      "                         [-i SIDE] [-a] [-n NB_SUBJECTS] [-c CROPPING_TYPE]\r\n",
      "                         [-m COMBINE_TYPE] [-v]\r\n",
      "generate_crops.py: error: unrecognized arguments: -t tgt_local_dir\r\n"
     ]
    }
   ],
   "source": [
    "!python ../deep_folding/brainvisa/generate_crops.py -n 0 -t tgt_local_dir"
   ]
  },
  {
   "cell_type": "code",
   "execution_count": 12,
   "metadata": {},
   "outputs": [],
   "source": [
    "# Clean\n",
    "!rm -rf tgt_local_dir"
   ]
  },
  {
   "cell_type": "code",
   "execution_count": 13,
   "metadata": {},
   "outputs": [
    {
     "name": "stdout",
     "output_type": "stream",
     "text": [
      "usage: compute_bounding_box.py [-h] [-s SRC_DIR [SRC_DIR ...]] [-o OUTPUT_DIR]\r\n",
      "                               [-u SULCUS] [-w NEW_SULCUS] [-i SIDE]\r\n",
      "                               [-p PATH_TO_GRAPH] [-n NB_SUBJECTS] [-v]\r\n",
      "                               [-x OUT_VOXEL_SIZE]\r\n",
      "\r\n",
      "Computes bounding box around the named sulcus\r\n",
      "\r\n",
      "optional arguments:\r\n",
      "  -h, --help            show this help message and exit\r\n",
      "  -s SRC_DIR [SRC_DIR ...], --src_dir SRC_DIR [SRC_DIR ...]\r\n",
      "                        Source directory where the MRI data lies. If there are\r\n",
      "                        several directories, add all directories one after the\r\n",
      "                        other. Example: -s DIR_1 DIR_2. Default is :\r\n",
      "                        /neurospin/dico/data/bv_databases/human/pclean/all\r\n",
      "  -o OUTPUT_DIR, --output_dir OUTPUT_DIR\r\n",
      "                        Output directory where to store the output bbox json\r\n",
      "                        files. Default is : test/bbox/1mm\r\n",
      "  -u SULCUS, --sulcus SULCUS\r\n",
      "                        Sulcus name around which we determine the bounding\r\n",
      "                        box. Default is : F.C.M.ant.\r\n",
      "  -w NEW_SULCUS, --new_sulcus NEW_SULCUS\r\n",
      "                        Sulcus name around which we determine the bounding\r\n",
      "                        box. Default is : None (same name as 'sulcus')\r\n",
      "  -i SIDE, --side SIDE  Hemisphere side. Default is : R\r\n",
      "  -p PATH_TO_GRAPH, --path_to_graph PATH_TO_GRAPH\r\n",
      "                        Relative path to manually labelled graph. Default is\r\n",
      "                        t1mri/t1/default_analysis/folds/3.3/base2018_manual\r\n",
      "  -n NB_SUBJECTS, --nb_subjects NB_SUBJECTS\r\n",
      "                        Number of subjects to take into account, or 'all'. 0\r\n",
      "                        subject is allowed, for debug purpose. Default is :\r\n",
      "                        all\r\n",
      "  -v, --verbose         Verbose mode: If no option is provided then\r\n",
      "                        logging.INFO is selected. If one option -v (or -vv) or\r\n",
      "                        more is provided then logging.DEBUG is selected.\r\n",
      "  -x OUT_VOXEL_SIZE, --out_voxel_size OUT_VOXEL_SIZE\r\n",
      "                        Voxel size of bounding box. Default is : None\r\n"
     ]
    }
   ],
   "source": [
    "!python ../deep_folding/brainvisa/compute_bounding_box.py --help"
   ]
  },
  {
   "cell_type": "markdown",
   "metadata": {},
   "source": [
    "### By using the main function call"
   ]
  },
  {
   "cell_type": "code",
   "execution_count": 14,
   "metadata": {},
   "outputs": [
    {
     "name": "stdout",
     "output_type": "stream",
     "text": [
      "/neurospin/dico/jchavas/Runs/32_deep_folding_foldlabel_clean/Program/deep_folding/deep_folding/brainvisa/generate_crops.py\n"
     ]
    }
   ],
   "source": [
    "from deep_folding.brainvisa import generate_crops\n",
    "print((generate_crops.__file__))"
   ]
  },
  {
   "cell_type": "code",
   "execution_count": 15,
   "metadata": {},
   "outputs": [],
   "source": [
    "args = \"-n 0 -o \" + tgt_dir\n",
    "argv = args.split(' ')"
   ]
  },
  {
   "cell_type": "code",
   "execution_count": 16,
   "metadata": {},
   "outputs": [
    {
     "name": "stderr",
     "output_type": "stream",
     "text": [
      "\n",
      "Log written to:\n",
      "/neurospin/dico/jchavas/Runs/32_deep_folding_foldlabel_clean/Program/deep_folding/data/target/log_right.log\n",
      "\n",
      "\n",
      "Bash command:\n",
      "$ python3 generate_crops.py --src_dir test/datasets/hcp/skeletons/1mm --input_type skeleton --output_dir /neurospin/dico/jchavas/Runs/32_deep_folding_foldlabel_clean/Program/deep_folding/data/target --mask_dir test/mask/1mm --bbox_dir test/bbox/1mm --sulcus F.C.M.ant. --side R --nb_subjects 0 --cropping_type mask\n",
      "\n"
     ]
    }
   ],
   "source": [
    "generate_crops.main(argv)"
   ]
  },
  {
   "cell_type": "code",
   "execution_count": 17,
   "metadata": {},
   "outputs": [],
   "source": [
    "args = \"--help\"\n",
    "argv = args.split(' ')"
   ]
  },
  {
   "cell_type": "code",
   "execution_count": 18,
   "metadata": {},
   "outputs": [
    {
     "name": "stdout",
     "output_type": "stream",
     "text": [
      "usage: generate_crops.py [-h] [-s SRC_DIR] [-y INPUT_TYPE] [-o OUTPUT_DIR]\n",
      "                         [-k MASK_DIR] [-b BBOX_DIR] [-u SULCUS [SULCUS ...]]\n",
      "                         [-i SIDE] [-a] [-n NB_SUBJECTS] [-c CROPPING_TYPE]\n",
      "                         [-m COMBINE_TYPE] [-v]\n",
      "\n",
      "Generates cropped and pickle files\n",
      "\n",
      "optional arguments:\n",
      "  -h, --help            show this help message and exit\n",
      "  -s SRC_DIR, --src_dir SRC_DIR\n",
      "                        Source directory where input files lie. Input files\n",
      "                        are not cropped and represent a full hemisphere. They\n",
      "                        can be skeletons, labels, distance maps,... Default is\n",
      "                        : test/datasets/hcp/skeletons/1mm\n",
      "  -y INPUT_TYPE, --input_type INPUT_TYPE\n",
      "                        Input type: 'skeleton', 'foldlabel' Default is :\n",
      "                        skeleton\n",
      "  -o OUTPUT_DIR, --output_dir OUTPUT_DIR\n",
      "                        Output directory where to store the cropped files.\n",
      "                        Default is :\n",
      "                        test/datasets/hcp/crops/CINGULATE/mask/1mm\n",
      "  -k MASK_DIR, --mask_dir MASK_DIR\n",
      "                        masking directory where mask has been stored. Default\n",
      "                        is : test/mask/1mm\n",
      "  -b BBOX_DIR, --bbox_dir BBOX_DIR\n",
      "                        Bounding box directory where json files containing\n",
      "                        bounding box coordinates have been stored. Default is\n",
      "                        : test/bbox/1mm\n",
      "  -u SULCUS [SULCUS ...], --sulcus SULCUS [SULCUS ...]\n",
      "                        Sulcus name around which we determine the bounding\n",
      "                        box. If there are several sulci, add all sulci one\n",
      "                        after the other. Example: -u sulcus_1 sulcus_2 Default\n",
      "                        is : F.C.M.ant.\n",
      "  -i SIDE, --side SIDE  Hemisphere side (either L or R). Default is : R\n",
      "  -a, --parallel        if set (-a), launches computation in parallel\n",
      "  -n NB_SUBJECTS, --nb_subjects NB_SUBJECTS\n",
      "                        Number of subjects to take into account, or 'all'. 0\n",
      "                        subject is allowed, for debug purpose.Default is : all\n",
      "  -c CROPPING_TYPE, --cropping_type CROPPING_TYPE\n",
      "                        Method to select and crop the image. Type of cropping:\n",
      "                        bbox: for bounding box croppingmask: selection based\n",
      "                        on a maskDefault is : mask\n",
      "  -m COMBINE_TYPE, --combine_type COMBINE_TYPE\n",
      "                        Whether use specific combination of masks or not\n",
      "  -v, --verbose         Verbose mode: If no option is provided then\n",
      "                        logging.INFO is selected. If one option -v (or -vv) or\n",
      "                        more is provided then logging.DEBUG is selected.\n"
     ]
    }
   ],
   "source": [
    "generate_crops.main(argv)"
   ]
  },
  {
   "cell_type": "markdown",
   "metadata": {},
   "source": [
    "### By using the API function call"
   ]
  },
  {
   "cell_type": "code",
   "execution_count": 19,
   "metadata": {},
   "outputs": [
    {
     "name": "stdout",
     "output_type": "stream",
     "text": [
      "/neurospin/dico/jchavas/Runs/32_deep_folding_foldlabel_clean/Program/deep_folding/data/source/unsupervised\n"
     ]
    }
   ],
   "source": [
    "src_dir_subject = f\"{src_dir}/ANALYSIS/3T_morphologist\"\n",
    "skeleton_raw_dir = f\"{tgt_dir}/skeletons/raw\"\n",
    "transform_dir = f\"{tgt_dir}/transforms\"\n",
    "skeleton_1mm_dir = f\"{tgt_dir}/skeletons/1mm\"\n",
    "src_dir_supervised  = os.path.join(os.getcwd(), '../data/source/supervised')\n",
    "bbox_dir = f\"{tgt_dir}/bbox\"\n",
    "print(src_dir)"
   ]
  },
  {
   "cell_type": "code",
   "execution_count": 20,
   "metadata": {},
   "outputs": [],
   "source": [
    "def are_arrays_almost_equal(arr1, arr2, epsilon, max_number_different_pixels):\n",
    "    \"\"\"Returns True if at most max_number_different_pixels pixels of arrays arr1 and arr2 \n",
    "    differ by more than epsilon\n",
    "    \n",
    "    \"\"\"\n",
    "    difference = (abs(arr1-arr2) >= epsilon)\n",
    "    number_different_pixels = np.count_nonzero(difference)\n",
    "    return number_different_pixels <= max_number_different_pixels, number_different_pixels"
   ]
  },
  {
   "cell_type": "markdown",
   "metadata": {},
   "source": [
    "# First generate hemisphere skeletons and bounding box"
   ]
  },
  {
   "cell_type": "code",
   "execution_count": 21,
   "metadata": {},
   "outputs": [],
   "source": [
    "from deep_folding.brainvisa import generate_skeletons\n",
    "from deep_folding.brainvisa import generate_ICBM2009c_transforms\n",
    "from deep_folding.brainvisa import resample_files\n",
    "from deep_folding.brainvisa import compute_bounding_box"
   ]
  },
  {
   "cell_type": "code",
   "execution_count": 22,
   "metadata": {},
   "outputs": [
    {
     "name": "stderr",
     "output_type": "stream",
     "text": [
      "INFO:generate_skeletons.py: list_subjects[:5] = ['100307', '100206']\n",
      "INFO:generate_skeletons.py: SERIAL MODE: subjects are scanned serially, without parallelism\n"
     ]
    }
   ],
   "source": [
    "generate_skeletons.generate_skeletons(\n",
    "    src_dir=src_dir_subject,\n",
    "    skeleton_dir=skeleton_raw_dir,\n",
    "    side=side,\n",
    "    number_subjects=_ALL_SUBJECTS)"
   ]
  },
  {
   "cell_type": "code",
   "execution_count": 23,
   "metadata": {},
   "outputs": [
    {
     "name": "stderr",
     "output_type": "stream",
     "text": [
      "INFO:generate_ICBM2009c_transforms.py: filenames[:5] = ['/neurospin/dico/jchavas/Runs/32_deep_folding_foldlabel_clean/Program/deep_folding/data/source/unsupervised/ANALYSIS/3T_morphologist/100307/', '/neurospin/dico/jchavas/Runs/32_deep_folding_foldlabel_clean/Program/deep_folding/data/source/unsupervised/ANALYSIS/3T_morphologist/100206/']\n",
      "INFO:generate_ICBM2009c_transforms.py: list_subjects[:5] = ['100307', '100206']\n",
      "INFO:generate_ICBM2009c_transforms.py: SERIAL MODE: transforms are generated serially, without parallelism\n"
     ]
    }
   ],
   "source": [
    "generate_ICBM2009c_transforms.generate_ICBM2009c_transforms(\n",
    "    src_dir=src_dir_subject,\n",
    "    transform_dir=transform_dir,\n",
    "    side=side)"
   ]
  },
  {
   "cell_type": "code",
   "execution_count": 24,
   "metadata": {},
   "outputs": [
    {
     "name": "stderr",
     "output_type": "stream",
     "text": [
      "INFO:resample_files.py: list_subjects[:5] = ['100307', '100206']\n",
      "INFO:resample_files.py: SERIAL MODE: subjects are scanned serially\n"
     ]
    }
   ],
   "source": [
    "resample_files.resample_files(\n",
    "    src_dir=skeleton_raw_dir,\n",
    "    input_type='skeleton',\n",
    "    resampled_dir=skeleton_1mm_dir,\n",
    "    transform_dir=transform_dir,\n",
    "    side=side)"
   ]
  },
  {
   "cell_type": "code",
   "execution_count": 25,
   "metadata": {},
   "outputs": [
    {
     "name": "stderr",
     "output_type": "stream",
     "text": [
      "INFO:compute_bounding_box.py: {'subject': 'sujet01', 'side': 'L', 'dir': '/neurospin/dico/jchavas/Runs/32_deep_folding_foldlabel_clean/Program/deep_folding/notebooks/../data/source/supervised', 'graph_file': 'sujet01/t1mri/t1/default_analysis/folds/3.3/base2018_manual/Lsujet01*.arg'}\n"
     ]
    },
    {
     "data": {
      "text/plain": [
       "(array([130, 151,  61]), array([155, 169, 108]))"
      ]
     },
     "execution_count": 25,
     "metadata": {},
     "output_type": "execute_result"
    }
   ],
   "source": [
    "compute_bounding_box.compute_bounding_box(\n",
    "    src_dir=src_dir_supervised,\n",
    "    bbox_dir=bbox_dir,\n",
    "    sulcus=sulcus,\n",
    "    side=side,\n",
    "    out_voxel_size=1.)\n"
   ]
  },
  {
   "cell_type": "markdown",
   "metadata": {},
   "source": [
    "# Crops with mask and with nearest-neighbour interpolation"
   ]
  },
  {
   "cell_type": "markdown",
   "metadata": {},
   "source": [
    "## Main program"
   ]
  },
  {
   "cell_type": "code",
   "execution_count": 26,
   "metadata": {
    "scrolled": true
   },
   "outputs": [
    {
     "name": "stdout",
     "output_type": "stream",
     "text": [
      "tgt_dir = /neurospin/dico/jchavas/Runs/32_deep_folding_foldlabel_clean/Program/deep_folding/data/target/crops/nearest\n"
     ]
    }
   ],
   "source": [
    "tgt_dir_nearest = os.path.join(os.getcwd(), '../data/target/crops/nearest')\n",
    "tgt_dir_nearest = os.path.abspath(tgt_dir_nearest)\n",
    "print((\"tgt_dir = \" + tgt_dir_nearest))"
   ]
  },
  {
   "cell_type": "markdown",
   "metadata": {},
   "source": [
    "Just to warp up, with number of subjects to 0"
   ]
  },
  {
   "cell_type": "code",
   "execution_count": 27,
   "metadata": {},
   "outputs": [],
   "source": [
    "generate_crops.generate_crops(\n",
    "    src_dir=skeleton_1mm_dir,\n",
    "    crop_dir=tgt_dir_nearest,\n",
    "    bbox_dir=bbox_dir,\n",
    "    cropping_type='bbox',\n",
    "    list_sulci=sulcus,\n",
    "    side=side,\n",
    "    number_subjects=0)"
   ]
  },
  {
   "cell_type": "code",
   "execution_count": 28,
   "metadata": {},
   "outputs": [
    {
     "data": {
      "text/plain": [
       "'/neurospin/dico/jchavas/Runs/32_deep_folding_foldlabel_clean/Program/deep_folding/data/target/skeletons/1mm'"
      ]
     },
     "execution_count": 28,
     "metadata": {},
     "output_type": "execute_result"
    }
   ],
   "source": [
    "skeleton_1mm_dir"
   ]
  },
  {
   "cell_type": "code",
   "execution_count": 29,
   "metadata": {},
   "outputs": [
    {
     "name": "stderr",
     "output_type": "stream",
     "text": [
      "INFO:generate_crops.py: list_subjects[:5] = ['100307', '100206']\n",
      "INFO:generate_crops.py: SERIAL MODE: subjects are scanned serially\n"
     ]
    }
   ],
   "source": [
    "generate_crops.generate_crops(\n",
    "    src_dir=skeleton_1mm_dir,\n",
    "    crop_dir=tgt_dir_nearest,\n",
    "    bbox_dir=bbox_dir,\n",
    "    cropping_type=\"bbox\",\n",
    "    list_sulci=sulcus,\n",
    "    side=side)"
   ]
  },
  {
   "cell_type": "markdown",
   "metadata": {},
   "source": [
    "## Result analysis"
   ]
  },
  {
   "cell_type": "markdown",
   "metadata": {},
   "source": [
    "### Analysis of the inputs"
   ]
  },
  {
   "cell_type": "code",
   "execution_count": 30,
   "metadata": {},
   "outputs": [
    {
     "name": "stdout",
     "output_type": "stream",
     "text": [
      "shape of source skeleton =  (1, 260, 311, 260)\n"
     ]
    }
   ],
   "source": [
    "# Gets source file as numpy array\n",
    "skeleton_dir = os.path.join(src_dir, \"ANALYSIS/3T_morphologist/100206/t1mri/default_acquisition/default_analysis/segmentation\")\n",
    "vol_source_file = glob.glob(skeleton_dir + '/' + side + '*.nii.gz')[0]\n",
    "vol_source = aims.read(vol_source_file)\n",
    "arr_source = vol_source.arraydata()\n",
    "print(\"shape of source skeleton = \", arr_source.shape)"
   ]
  },
  {
   "cell_type": "code",
   "execution_count": 31,
   "metadata": {},
   "outputs": [
    {
     "data": {
      "text/plain": [
       "array([ 0, 10, 11, 30, 40, 60, 80], dtype=int16)"
      ]
     },
     "execution_count": 31,
     "metadata": {},
     "output_type": "execute_result"
    }
   ],
   "source": [
    "np.unique(arr_source)"
   ]
  },
  {
   "cell_type": "code",
   "execution_count": 32,
   "metadata": {
    "scrolled": true
   },
   "outputs": [
    {
     "data": {
      "text/plain": [
       "11    18832738\n",
       "0      2012736\n",
       "60      163069\n",
       "30        9634\n",
       "80        5330\n",
       "40          87\n",
       "10           6\n",
       "dtype: int64"
      ]
     },
     "execution_count": 32,
     "metadata": {},
     "output_type": "execute_result"
    }
   ],
   "source": [
    "pd.value_counts(np.resize(arr_source, arr_source.size))"
   ]
  },
  {
   "cell_type": "code",
   "execution_count": 33,
   "metadata": {},
   "outputs": [
    {
     "name": "stdout",
     "output_type": "stream",
     "text": [
      "shape of mask =  (1, 193, 229, 193)\n"
     ]
    }
   ],
   "source": [
    "mask_file = glob.glob(mask_dir + '/' + side + '/*.nii.gz')[0]\n",
    "vol_mask = aims.read(mask_file)\n",
    "arr_mask = vol_mask.arraydata()\n",
    "print(\"shape of mask = \", arr_mask.shape)"
   ]
  },
  {
   "cell_type": "code",
   "execution_count": 34,
   "metadata": {},
   "outputs": [
    {
     "data": {
      "text/plain": [
       "array([0., 1., 2.], dtype=float32)"
      ]
     },
     "execution_count": 34,
     "metadata": {},
     "output_type": "execute_result"
    }
   ],
   "source": [
    "np.unique(arr_mask)"
   ]
  },
  {
   "cell_type": "markdown",
   "metadata": {},
   "source": [
    "### Analysis of the outputs"
   ]
  },
  {
   "cell_type": "markdown",
   "metadata": {},
   "source": [
    "Prints the list of files of the target directory"
   ]
  },
  {
   "cell_type": "code",
   "execution_count": 35,
   "metadata": {},
   "outputs": [
    {
     "name": "stdout",
     "output_type": "stream",
     "text": [
      "Files in crops target directory:\n",
      "/neurospin/dico/jchavas/Runs/32_deep_folding_foldlabel_clean/Program/deep_folding/data/target/crops/nearest\n",
      "100307_cropped_skeleton.nii.gz.minf\n",
      "100206_cropped_skeleton.nii.gz.minf\n",
      "100307_cropped_skeleton.nii.gz\n",
      "100206_cropped_skeleton.nii.gz\n"
     ]
    }
   ],
   "source": [
    "print(\"Files in crops target directory:\")\n",
    "print(tgt_dir_nearest)\n",
    "print(('\\n'.join(os.listdir(tgt_dir_nearest + '/' + side + 'crops'))))"
   ]
  },
  {
   "cell_type": "code",
   "execution_count": 36,
   "metadata": {},
   "outputs": [
    {
     "name": "stdout",
     "output_type": "stream",
     "text": [
      "tgt_json_file =  /neurospin/dico/jchavas/Runs/32_deep_folding_foldlabel_clean/Program/deep_folding/data/target/crops/nearest/Lskeleton.json \n",
      "\n",
      "{\n",
      "    \"bbmax\": [\n",
      "        155,\n",
      "        169,\n",
      "        108\n",
      "    ],\n",
      "    \"bbmin\": [\n",
      "        130,\n",
      "        151,\n",
      "        61\n",
      "    ],\n",
      "    \"bbox_dir\": \"/neurospin/dico/jchavas/Runs/32_deep_folding_foldlabel_clean/Program/deep_folding/data/target/bbox\",\n",
      "    \"combine_type\": false,\n",
      "    \"crop_dir\": \"/neurospin/dico/jchavas/Runs/32_deep_folding_foldlabel_clean/Program/deep_folding/data/target/crops/nearest\",\n",
      "    \"cropped_skeleton_dir\": \"/neurospin/dico/jchavas/Runs/32_deep_folding_foldlabel_clean/Program/deep_folding/data/target/crops/nearest/Lcrops\",\n",
      "    \"cropping_type\": \"bbox\",\n",
      "    \"date\": \"2022-03-16 11:43:39\",\n",
      "    \"git_sha\": \"3466ae4877119fc6f44e19feb131e6ef5197b3de\",\n",
      "    \"is_git\": true,\n",
      "    \"list_sulci\": [\n",
      "        \"S.T.s.ter.asc.ant._left\"\n",
      "    ],\n",
      "    \"mask_dir\": \"test/mask/1mm\",\n",
      "    \"nb_subjects\": 2,\n",
      "    \"repo_working_dir\": \"/neurospin/dico/jchavas/Runs/32_deep_folding_foldlabel_clean/Program/deep_folding\",\n",
      "    \"side\": \"L\",\n",
      "    \"src_dir\": \"/neurospin/dico/jchavas/Runs/32_deep_folding_foldlabel_clean/Program/deep_folding/data/target/skeletons/1mm/L\",\n",
      "    \"timestamp\": 1647427419.4574049\n",
      "}\n"
     ]
    }
   ],
   "source": [
    "tgt_json_file = glob.glob(tgt_dir_nearest + '/*.json')[0]\n",
    "print(\"tgt_json_file = \", tgt_json_file, '\\n')\n",
    "with open(os.path.join(tgt_dir_nearest, tgt_json_file), 'r') as f:\n",
    "    data_tgt = json.load(f)\n",
    "    print((json.dumps(data_tgt, sort_keys=True, indent=4)))"
   ]
  },
  {
   "cell_type": "markdown",
   "metadata": {},
   "source": [
    "Obtained output (we read the cropped file from the target directory):"
   ]
  },
  {
   "cell_type": "code",
   "execution_count": 37,
   "metadata": {},
   "outputs": [
    {
     "name": "stdout",
     "output_type": "stream",
     "text": [
      "shape of target cropped image =  (1, 47, 18, 25)\n"
     ]
    }
   ],
   "source": [
    "# Gets target crop as numpy array\n",
    "cropped_target_dir = os.path.join(tgt_dir_nearest, side+'crops')\n",
    "vol_target_file = glob.glob(cropped_target_dir + '/' + '*.nii.gz')\n",
    "vol_target = aims.read(vol_target_file[0])\n",
    "arr_target = vol_target.arraydata()\n",
    "print(\"shape of target cropped image = \", arr_target.shape)"
   ]
  },
  {
   "cell_type": "code",
   "execution_count": 38,
   "metadata": {},
   "outputs": [
    {
     "data": {
      "text/plain": [
       "array([  0,  30,  60, 100, 110], dtype=int16)"
      ]
     },
     "execution_count": 38,
     "metadata": {},
     "output_type": "execute_result"
    }
   ],
   "source": [
    "np.unique(arr_target)"
   ]
  },
  {
   "cell_type": "markdown",
   "metadata": {},
   "source": [
    "The scope here is to compare the different numbers present on the target array and on the source array:"
   ]
  },
  {
   "cell_type": "code",
   "execution_count": 39,
   "metadata": {},
   "outputs": [
    {
     "data": {
      "text/plain": [
       "0      92.3\n",
       "60      6.7\n",
       "30      0.7\n",
       "110     0.2\n",
       "100     0.0\n",
       "dtype: float64"
      ]
     },
     "execution_count": 39,
     "metadata": {},
     "output_type": "execute_result"
    }
   ],
   "source": [
    "np.around(pd.value_counts(np.resize(arr_target, arr_target.size))/arr_target.size*100, 1)"
   ]
  },
  {
   "cell_type": "code",
   "execution_count": 40,
   "metadata": {},
   "outputs": [
    {
     "data": {
      "text/plain": [
       "11    89.6\n",
       "0      9.6\n",
       "60     0.8\n",
       "30     0.0\n",
       "80     0.0\n",
       "40     0.0\n",
       "10     0.0\n",
       "dtype: float64"
      ]
     },
     "execution_count": 40,
     "metadata": {},
     "output_type": "execute_result"
    }
   ],
   "source": [
    "np.around(pd.value_counts(np.resize(arr_source, arr_source.size))/arr_source.size*100, 1)"
   ]
  },
  {
   "cell_type": "markdown",
   "metadata": {},
   "source": [
    "### Visualization"
   ]
  },
  {
   "cell_type": "code",
   "execution_count": 41,
   "metadata": {},
   "outputs": [
    {
     "name": "stdout",
     "output_type": "stream",
     "text": [
      "Files in crops nearest target directory:\n",
      "100307_cropped_skeleton.nii.gz.minf\n",
      "100206_cropped_skeleton.nii.gz.minf\n",
      "100307_cropped_skeleton.nii.gz\n",
      "100206_cropped_skeleton.nii.gz\n"
     ]
    }
   ],
   "source": [
    "print(\"Files in crops nearest target directory:\")\n",
    "print(('\\n'.join(os.listdir(tgt_dir_nearest + '/' + side + 'crops'))))"
   ]
  },
  {
   "cell_type": "code",
   "execution_count": 42,
   "metadata": {},
   "outputs": [
    {
     "name": "stdout",
     "output_type": "stream",
     "text": [
      "/neurospin/dico/jchavas/Runs/32_deep_folding_foldlabel_clean/Program/deep_folding/data/target/crops/nearest/Lcrops/100307_cropped_skeleton.nii.gz\n"
     ]
    }
   ],
   "source": [
    "target_file_dir = tgt_dir_nearest + '/' + side + 'crops'\n",
    "target_file_nearest = glob.glob(target_file_dir + \"/*.nii.gz\")[0]\n",
    "print(target_file_nearest)"
   ]
  },
  {
   "cell_type": "code",
   "execution_count": 43,
   "metadata": {
    "scrolled": true
   },
   "outputs": [
    {
     "data": {
      "application/vnd.jupyter.widget-view+json": {
       "model_id": "4b4f3975f3434a4a88da9820f3bf46da",
       "version_major": 2,
       "version_minor": 0
      },
      "text/plain": [
       "AnatomistInteractiveWidget(height=479, layout=Layout(height='auto', width='auto'), width=424)"
      ]
     },
     "metadata": {},
     "output_type": "display_data"
    }
   ],
   "source": [
    "# load source skeleton data (the SliceableObject)\n",
    "object_anat = a.loadObject(target_file_nearest)\n",
    "\n",
    "# create an Axial window in anatomist\n",
    "w = a.createWindow('Axial')\n",
    "w.addObjects(object_anat)"
   ]
  },
  {
   "cell_type": "code",
   "execution_count": 44,
   "metadata": {},
   "outputs": [
    {
     "name": "stdout",
     "output_type": "stream",
     "text": [
      "/neurospin/dico/jchavas/Runs/32_deep_folding_foldlabel_clean/Program/deep_folding/data/source/unsupervised/ANALYSIS/3T_morphologist/100206/t1mri/default_acquisition/default_analysis/segmentation/Lskeleton_100206.nii.gz\n",
      "<anatomist.cpp.anatomist.SliceableObject object at 0x7f9fcf174798>\n"
     ]
    },
    {
     "data": {
      "application/vnd.jupyter.widget-view+json": {
       "model_id": "0ec3a9143bf649baa62a0226b74d7f6f",
       "version_major": 2,
       "version_minor": 0
      },
      "text/plain": [
       "AnatomistInteractiveWidget(height=479, layout=Layout(height='auto', width='auto'), width=424)"
      ]
     },
     "metadata": {},
     "output_type": "display_data"
    }
   ],
   "source": [
    "print(vol_source_file)\n",
    "# load source skeleton data (the SliceableObject)\n",
    "a_source = a.loadObject(vol_source_file)\n",
    "print(a_source)\n",
    "# create an Axial window in anatomist\n",
    "w1 = a.createWindow(\"Axial\")\n",
    "w1.addObjects(a_source)"
   ]
  },
  {
   "cell_type": "code",
   "execution_count": null,
   "metadata": {},
   "outputs": [],
   "source": []
  },
  {
   "cell_type": "code",
   "execution_count": null,
   "metadata": {},
   "outputs": [],
   "source": []
  }
 ],
 "metadata": {
  "kernelspec": {
   "display_name": "Python 3",
   "language": "python",
   "name": "python3"
  },
  "language_info": {
   "codemirror_mode": {
    "name": "ipython",
    "version": 3
   },
   "file_extension": ".py",
   "mimetype": "text/x-python",
   "name": "python",
   "nbconvert_exporter": "python",
   "pygments_lexer": "ipython3",
   "version": "3.6.9"
  }
 },
 "nbformat": 4,
 "nbformat_minor": 2
}
