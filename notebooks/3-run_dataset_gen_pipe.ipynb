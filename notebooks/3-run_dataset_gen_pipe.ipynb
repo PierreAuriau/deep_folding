{
 "cells": [
  {
   "cell_type": "markdown",
   "metadata": {},
   "source": [
    "# Generates crops ad pickle file using dataset_gen_pipe"
   ]
  },
  {
   "cell_type": "markdown",
   "metadata": {},
   "source": [
    "This notebook crops images according to bounding box coordinates (one per sulcus)"
   ]
  },
  {
   "cell_type": "markdown",
   "metadata": {},
   "source": [
    "# Imports"
   ]
  },
  {
   "cell_type": "code",
   "execution_count": 36,
   "metadata": {},
   "outputs": [
    {
     "name": "stdout",
     "output_type": "stream",
     "text": [
      "3.6.9 (default, Jan 26 2021, 15:33:00) \n",
      "[GCC 8.4.0]\n"
     ]
    }
   ],
   "source": [
    "import sys\n",
    "import os\n",
    "import glob\n",
    "import json\n",
    "import inspect\n",
    "import numpy as np\n",
    "import pandas as pd\n",
    "import matplotlib.pyplot as plt\n",
    "\n",
    "# Import the aims module\n",
    "from soma import aims\n",
    "# the brainplot package\n",
    "import colorado as cld\n",
    "\n",
    "print((sys.version))"
   ]
  },
  {
   "cell_type": "code",
   "execution_count": 37,
   "metadata": {},
   "outputs": [
    {
     "name": "stdout",
     "output_type": "stream",
     "text": [
      "{'xvfb': <subprocess.Popen object at 0x7f15fc0bcc50>, 'original_display': ':1', 'display': 17, 'glx': 2, 'virtualgl': None, 'headless': True, 'mesa': False, 'qtapp': None}\n"
     ]
    }
   ],
   "source": [
    "import anatomist.notebook as ana\n",
    "a = ana.Anatomist()\n",
    "print(a.headless_info.__dict__)\n"
   ]
  },
  {
   "cell_type": "code",
   "execution_count": 38,
   "metadata": {},
   "outputs": [
    {
     "name": "stdout",
     "output_type": "stream",
     "text": [
      "/host/volatile/jc225751/Runs/30_clean_deep_folding/Program/deep_folding/deep_folding/__init__.py\n"
     ]
    }
   ],
   "source": [
    "# Uncomment the following line if you have not installed deep_folding with pip install -e .\n",
    "# sys.path.append((os.path.abspath('../')))\n",
    "import deep_folding\n",
    "print(inspect.getfile(deep_folding))"
   ]
  },
  {
   "cell_type": "code",
   "execution_count": 39,
   "metadata": {},
   "outputs": [],
   "source": [
    "_ALL_SUBJECTS = -1"
   ]
  },
  {
   "cell_type": "markdown",
   "metadata": {},
   "source": [
    "# User-specific variables"
   ]
  },
  {
   "cell_type": "code",
   "execution_count": 40,
   "metadata": {},
   "outputs": [],
   "source": [
    "sulcus = 'S.T.s.ter.asc.ant.'"
   ]
  },
  {
   "cell_type": "code",
   "execution_count": 41,
   "metadata": {},
   "outputs": [],
   "source": [
    "side = 'L'"
   ]
  },
  {
   "cell_type": "markdown",
   "metadata": {},
   "source": [
    "We now assign path names and other user-specific variables."
   ]
  },
  {
   "cell_type": "markdown",
   "metadata": {},
   "source": [
    "The source directory is where the database lies. It contains the morphologist analysis subfolder ANALYSIS/3T_morphologist\n"
   ]
  },
  {
   "cell_type": "code",
   "execution_count": 42,
   "metadata": {},
   "outputs": [
    {
     "name": "stdout",
     "output_type": "stream",
     "text": [
      "src_dir = /host/volatile/jc225751/Runs/30_clean_deep_folding/Program/deep_folding/data/source/unsupervised\n"
     ]
    }
   ],
   "source": [
    "src_dir = os.path.join(os.getcwd(), '../data/source/unsupervised')\n",
    "src_dir = os.path.abspath(src_dir)\n",
    "print((\"src_dir = \" + src_dir))"
   ]
  },
  {
   "cell_type": "markdown",
   "metadata": {},
   "source": [
    "The target directory tgt_dir is where the files will be saved"
   ]
  },
  {
   "cell_type": "code",
   "execution_count": 43,
   "metadata": {},
   "outputs": [
    {
     "name": "stdout",
     "output_type": "stream",
     "text": [
      "tgt_dir = /host/volatile/jc225751/Runs/30_clean_deep_folding/Program/deep_folding/data/target\n"
     ]
    }
   ],
   "source": [
    "tgt_dir = os.path.join(os.getcwd(), '../data/target')\n",
    "tgt_dir = os.path.abspath(tgt_dir)\n",
    "print((\"tgt_dir = \" + tgt_dir))"
   ]
  },
  {
   "cell_type": "code",
   "execution_count": 44,
   "metadata": {},
   "outputs": [
    {
     "name": "stdout",
     "output_type": "stream",
     "text": [
      "bbox_dir = /host/volatile/jc225751/Runs/30_clean_deep_folding/Program/deep_folding/data/reference/bbox\n"
     ]
    }
   ],
   "source": [
    "bbox_dir = os.path.join(os.getcwd(), '../data/reference/bbox')\n",
    "bbox_dir = os.path.abspath(bbox_dir)\n",
    "print((\"bbox_dir = \" + bbox_dir))"
   ]
  },
  {
   "cell_type": "code",
   "execution_count": 45,
   "metadata": {},
   "outputs": [
    {
     "name": "stdout",
     "output_type": "stream",
     "text": [
      "mask_dir = /host/volatile/jc225751/Runs/30_clean_deep_folding/Program/deep_folding/data/reference/mask\n"
     ]
    }
   ],
   "source": [
    "mask_dir = os.path.join(os.getcwd(), '../data/reference/mask')\n",
    "mask_dir = os.path.abspath(mask_dir)\n",
    "print((\"mask_dir = \" + mask_dir))"
   ]
  },
  {
   "cell_type": "code",
   "execution_count": 46,
   "metadata": {},
   "outputs": [
    {
     "name": "stdout",
     "output_type": "stream",
     "text": [
      "['/usr/local/lib/python3.6/dist-packages/ipykernel_launcher.py', '-f', '/casa/home/.local/share/jupyter/runtime/kernel-5c466a5c-c25a-493a-9804-9b9f2dbf5287.json']\n"
     ]
    }
   ],
   "source": [
    "print((sys.argv))"
   ]
  },
  {
   "cell_type": "markdown",
   "metadata": {},
   "source": [
    "# Illustration of main program uses"
   ]
  },
  {
   "cell_type": "markdown",
   "metadata": {},
   "source": [
    "We will first use the program with no effect by using number of subjects set to 0, or by calling the help function"
   ]
  },
  {
   "cell_type": "markdown",
   "metadata": {},
   "source": [
    "### Using external calls"
   ]
  },
  {
   "cell_type": "code",
   "execution_count": 47,
   "metadata": {},
   "outputs": [],
   "source": [
    "!python ../deep_folding/anatomist_tools/dataset_gen_pipe.py -n 0 -t tgt_local_dir"
   ]
  },
  {
   "cell_type": "code",
   "execution_count": 48,
   "metadata": {},
   "outputs": [],
   "source": [
    "# Clean\n",
    "!rm -rf tgt_local_dir"
   ]
  },
  {
   "cell_type": "code",
   "execution_count": 49,
   "metadata": {},
   "outputs": [
    {
     "name": "stdout",
     "output_type": "stream",
     "text": [
      "usage: mask.py [-h] [-s SRC_DIR [SRC_DIR ...]] [-t BBOX_DIR] [-m MASK_DIR]\r\n",
      "               [-u SULCUS] [-i SIDE] [-p PATH_TO_GRAPH] [-n NB_SUBJECTS]\r\n",
      "               [-v OUT_VOXEL_SIZE]\r\n",
      "\r\n",
      "Computes mask and bounding box around the named sulcus\r\n",
      "\r\n",
      "optional arguments:\r\n",
      "  -h, --help            show this help message and exit\r\n",
      "  -s SRC_DIR [SRC_DIR ...], --src_dir SRC_DIR [SRC_DIR ...]\r\n",
      "                        Source directory where the MRI data lies. If there are\r\n",
      "                        several directories, add all directories one after the\r\n",
      "                        other. Example: -s DIR_1 DIR_2. Default is :\r\n",
      "                        /neurospin/dico/data/bv_databases/human/pclean/all\r\n",
      "  -t BBOX_DIR, --bbox_dir BBOX_DIR\r\n",
      "                        Target directory where to store the output bbox json\r\n",
      "                        files. Default is :\r\n",
      "                        /neurospin/dico/data/deep_folding/test/bbox\r\n",
      "  -m MASK_DIR, --mask_dir MASK_DIR\r\n",
      "                        Target directory where to store the output mask files.\r\n",
      "                        Default is :\r\n",
      "                        /neurospin/dico/data/deep_folding/test/mask\r\n",
      "  -u SULCUS, --sulcus SULCUS\r\n",
      "                        Sulcus name around which we determine the bounding\r\n",
      "                        box. Default is : S.T.s.ter.asc.ant.\r\n",
      "  -i SIDE, --side SIDE  Hemisphere side. Default is : L\r\n",
      "  -p PATH_TO_GRAPH, --path_to_graph PATH_TO_GRAPH\r\n",
      "                        Relative path to manually labelled graph. Default is\r\n",
      "                        t1mri/t1/default_analysis/folds/3.3/base2018_manual\r\n",
      "  -n NB_SUBJECTS, --nb_subjects NB_SUBJECTS\r\n",
      "                        Number of subjects to take into account, or 'all'. 0\r\n",
      "                        subject is allowed, for debug purpose. Default is :\r\n",
      "                        all\r\n",
      "  -v OUT_VOXEL_SIZE, --out_voxel_size OUT_VOXEL_SIZE\r\n",
      "                        Voxel size of of bounding box. Default is : None\r\n"
     ]
    }
   ],
   "source": [
    "!python ../deep_folding/anatomist_tools/crop_definition.py --help"
   ]
  },
  {
   "cell_type": "markdown",
   "metadata": {},
   "source": [
    "### By using the main function call"
   ]
  },
  {
   "cell_type": "code",
   "execution_count": 50,
   "metadata": {},
   "outputs": [
    {
     "name": "stdout",
     "output_type": "stream",
     "text": [
      "/host/volatile/jc225751/Runs/30_clean_deep_folding/Program/deep_folding/deep_folding/anatomist_tools/dataset_gen_pipe.py\n"
     ]
    }
   ],
   "source": [
    "from deep_folding.anatomist_tools import dataset_gen_pipe\n",
    "print((dataset_gen_pipe.__file__))"
   ]
  },
  {
   "cell_type": "code",
   "execution_count": 51,
   "metadata": {},
   "outputs": [],
   "source": [
    "args = \"-n 0 -t \" + tgt_dir\n",
    "argv = args.split(' ')"
   ]
  },
  {
   "cell_type": "code",
   "execution_count": 52,
   "metadata": {},
   "outputs": [],
   "source": [
    "dataset_gen_pipe.main(argv)"
   ]
  },
  {
   "cell_type": "code",
   "execution_count": 53,
   "metadata": {},
   "outputs": [],
   "source": [
    "args = \"--help\"\n",
    "argv = args.split(' ')"
   ]
  },
  {
   "cell_type": "code",
   "execution_count": 54,
   "metadata": {},
   "outputs": [
    {
     "name": "stdout",
     "output_type": "stream",
     "text": [
      "usage: dataset_gen_pipe.py [-h] [-s SRC_DIR] [-t TGT_DIR] [-a MASK_DIR]\n",
      "                           [-b BBOX_DIR] [-m MORPHOLOGIST_DIR]\n",
      "                           [-u SULCUS [SULCUS ...]] [-i SIDE] [-n NB_SUBJECTS]\n",
      "                           [-e INTERP] [-p RESAMPLING] [-c CROPPING]\n",
      "                           [-v OUT_VOXEL_SIZE [OUT_VOXEL_SIZE ...]]\n",
      "                           [-o COMBINE_TYPE]\n",
      "\n",
      "Generates cropped and pickle files\n",
      "\n",
      "optional arguments:\n",
      "  -h, --help            show this help message and exit\n",
      "  -s SRC_DIR, --src_dir SRC_DIR\n",
      "                        Source directory where the MRI data lies. Default is :\n",
      "                        /neurospin/hcp\n",
      "  -t TGT_DIR, --tgt_dir TGT_DIR\n",
      "                        Target directory where to store the cropped and pickle\n",
      "                        files. Default is :\n",
      "                        /neurospin/dico/data/deep_folding/test\n",
      "  -a MASK_DIR, --mask_dir MASK_DIR\n",
      "                        masking directory where mask has been stored. Default\n",
      "                        is : /neurospin/dico/data/deep_folding/current/mask\n",
      "  -b BBOX_DIR, --bbox_dir BBOX_DIR\n",
      "                        Bounding box directory where json files containing\n",
      "                        bounding box coordinates have been stored. Default is\n",
      "                        : /neurospin/dico/data/deep_folding/current/bbox\n",
      "  -m MORPHOLOGIST_DIR, --morphologist_dir MORPHOLOGIST_DIR\n",
      "                        Directory where subjects to be processed are stored\n",
      "  -u SULCUS [SULCUS ...], --sulcus SULCUS [SULCUS ...]\n",
      "                        Sulcus name around which we determine the bounding\n",
      "                        box. If there are several sulci, add all sulci one\n",
      "                        after the other. Example: -u sulcus_1 sulcus_2 Default\n",
      "                        is : S.T.s.ter.asc.ant.\n",
      "  -i SIDE, --side SIDE  Hemisphere side (either L or R). Default is : L\n",
      "  -n NB_SUBJECTS, --nb_subjects NB_SUBJECTS\n",
      "                        Number of subjects to take into account, or 'all'. 0\n",
      "                        subject is allowed, for debug purpose.Default is : all\n",
      "  -e INTERP, --interp INTERP\n",
      "                        Same interpolation type as for AimsApplyTransform.\n",
      "                        Type of interpolation used for Volumes: n[earest],\n",
      "                        l[inear], q[uadratic], c[cubic], quartic, quintic,\n",
      "                        six[thorder], seven[thorder]. Modes may also be\n",
      "                        specified as order number: 0=nearest, 1=linear...\n",
      "  -p RESAMPLING, --resampling RESAMPLING\n",
      "                        Method of resampling to perform. Type of resampling:\n",
      "                        s[ulcus] for sulcus-based methodIf None,\n",
      "                        AimsApplyTransform is used.Default is : None\n",
      "  -c CROPPING, --cropping CROPPING\n",
      "                        Method of to select and crop the image. Type of\n",
      "                        cropping: bbox: for bounding box croppingmask:\n",
      "                        selection based on a maskDefault is : bbox\n",
      "  -v OUT_VOXEL_SIZE [OUT_VOXEL_SIZE ...], --out_voxel_size OUT_VOXEL_SIZE [OUT_VOXEL_SIZE ...]\n",
      "                        Voxel size of output imagesDefault is : 1 1 1\n",
      "  -o COMBINE_TYPE, --combine_type COMBINE_TYPE\n",
      "                        Whether use specific combination of masks or not\n"
     ]
    }
   ],
   "source": [
    "dataset_gen_pipe.main(argv)"
   ]
  },
  {
   "cell_type": "markdown",
   "metadata": {},
   "source": [
    "### By using the API function call"
   ]
  },
  {
   "cell_type": "code",
   "execution_count": 55,
   "metadata": {},
   "outputs": [],
   "source": [
    "dataset_gen_pipe.dataset_gen_pipe(src_dir=src_dir,\n",
    "                                  tgt_dir=tgt_dir,\n",
    "                                  bbox_dir=bbox_dir,\n",
    "                                  cropping='bbox',\n",
    "                                  list_sulci=sulcus,\n",
    "                                  side=side,\n",
    "                                  number_subjects=0)"
   ]
  },
  {
   "cell_type": "code",
   "execution_count": 56,
   "metadata": {},
   "outputs": [],
   "source": [
    "def are_arrays_almost_equal(arr1, arr2, epsilon, max_number_different_pixels):\n",
    "    \"\"\"Returns True if at most max_number_different_pixels pixels of arrays arr1 and arr2 \n",
    "    differ by more than epsilon\n",
    "    \n",
    "    \"\"\"\n",
    "    difference = (abs(arr1-arr2) >= epsilon)\n",
    "    number_different_pixels = np.count_nonzero(difference)\n",
    "    return number_different_pixels <= max_number_different_pixels, number_different_pixels"
   ]
  },
  {
   "cell_type": "markdown",
   "metadata": {},
   "source": [
    "# Crops with mask and with nearest-neighbour interpolation"
   ]
  },
  {
   "cell_type": "markdown",
   "metadata": {},
   "source": [
    "## Main program"
   ]
  },
  {
   "cell_type": "code",
   "execution_count": 57,
   "metadata": {},
   "outputs": [
    {
     "name": "stdout",
     "output_type": "stream",
     "text": [
      "tgt_dir = /host/volatile/jc225751/Runs/30_clean_deep_folding/Program/deep_folding/data/target/crops/nearest\n"
     ]
    }
   ],
   "source": [
    "tgt_dir_nearest = os.path.join(os.getcwd(), '../data/target/crops/nearest')\n",
    "tgt_dir_nearest = os.path.abspath(tgt_dir_nearest)\n",
    "print((\"tgt_dir = \" + tgt_dir_nearest))"
   ]
  },
  {
   "cell_type": "code",
   "execution_count": 58,
   "metadata": {},
   "outputs": [
    {
     "data": {
      "text/plain": [
       "'/host/volatile/jc225751/Runs/30_clean_deep_folding/Program/deep_folding/data/source/unsupervised'"
      ]
     },
     "execution_count": 58,
     "metadata": {},
     "output_type": "execute_result"
    }
   ],
   "source": [
    "src_dir"
   ]
  },
  {
   "cell_type": "code",
   "execution_count": 59,
   "metadata": {},
   "outputs": [
    {
     "name": "stdout",
     "output_type": "stream",
     "text": [
      "list_subjects =  ['100206']\n"
     ]
    }
   ],
   "source": [
    "interp = 'nearest'\n",
    "dataset_gen_pipe.dataset_gen_pipe(src_dir=src_dir,\n",
    "                                  tgt_dir=tgt_dir_nearest,\n",
    "                                  mask_dir=mask_dir,\n",
    "                                  cropping=\"mask\",\n",
    "                                  list_sulci=sulcus,\n",
    "                                  side=side,\n",
    "                                  interp=interp,\n",
    "                                  number_subjects=1)"
   ]
  },
  {
   "cell_type": "markdown",
   "metadata": {},
   "source": [
    "## Result analysis"
   ]
  },
  {
   "cell_type": "markdown",
   "metadata": {},
   "source": [
    "### Analysis of the inputs"
   ]
  },
  {
   "cell_type": "code",
   "execution_count": 60,
   "metadata": {},
   "outputs": [
    {
     "name": "stdout",
     "output_type": "stream",
     "text": [
      "shape of source skeleton =  (1, 260, 311, 260)\n"
     ]
    }
   ],
   "source": [
    "# Gets source file as numpy array\n",
    "skeleton_dir = os.path.join(src_dir, \"ANALYSIS/3T_morphologist/100206/t1mri/default_acquisition/default_analysis/segmentation\")\n",
    "vol_source_file = glob.glob(skeleton_dir + '/' + side + '*.nii.gz')[0]\n",
    "vol_source = aims.read(vol_source_file)\n",
    "arr_source = vol_source.arraydata()\n",
    "print(\"shape of source skeleton = \", arr_source.shape)"
   ]
  },
  {
   "cell_type": "code",
   "execution_count": 61,
   "metadata": {},
   "outputs": [
    {
     "data": {
      "text/plain": [
       "array([ 0, 10, 11, 30, 40, 60, 80], dtype=int16)"
      ]
     },
     "execution_count": 61,
     "metadata": {},
     "output_type": "execute_result"
    }
   ],
   "source": [
    "np.unique(arr_source)"
   ]
  },
  {
   "cell_type": "code",
   "execution_count": 62,
   "metadata": {
    "scrolled": true
   },
   "outputs": [
    {
     "data": {
      "text/plain": [
       "11    18832738\n",
       "0      2012736\n",
       "60      163069\n",
       "30        9634\n",
       "80        5330\n",
       "40          87\n",
       "10           6\n",
       "dtype: int64"
      ]
     },
     "execution_count": 62,
     "metadata": {},
     "output_type": "execute_result"
    }
   ],
   "source": [
    "pd.value_counts(np.resize(arr_source, arr_source.size))"
   ]
  },
  {
   "cell_type": "code",
   "execution_count": 63,
   "metadata": {},
   "outputs": [
    {
     "name": "stdout",
     "output_type": "stream",
     "text": [
      "shape of mask =  (1, 193, 229, 193)\n"
     ]
    }
   ],
   "source": [
    "mask_file = glob.glob(mask_dir + '/' + side + '/*.nii.gz')[0]\n",
    "vol_mask = aims.read(mask_file)\n",
    "arr_mask = vol_mask.arraydata()\n",
    "print(\"shape of mask = \", arr_mask.shape)"
   ]
  },
  {
   "cell_type": "code",
   "execution_count": 64,
   "metadata": {},
   "outputs": [
    {
     "data": {
      "text/plain": [
       "array([0., 1., 2.], dtype=float32)"
      ]
     },
     "execution_count": 64,
     "metadata": {},
     "output_type": "execute_result"
    }
   ],
   "source": [
    "np.unique(arr_mask)"
   ]
  },
  {
   "cell_type": "markdown",
   "metadata": {},
   "source": [
    "### Analysis of the outputs"
   ]
  },
  {
   "cell_type": "markdown",
   "metadata": {},
   "source": [
    "Prints the list of files of the target directory"
   ]
  },
  {
   "cell_type": "code",
   "execution_count": 65,
   "metadata": {},
   "outputs": [
    {
     "name": "stdout",
     "output_type": "stream",
     "text": [
      "Files in crops target directory:\n",
      "/host/volatile/jc225751/Runs/30_clean_deep_folding/Program/deep_folding/data/target/crops/nearest\n",
      "100206_normalized.nii.gz\n",
      "100206_normalized.nii.gz.minf\n"
     ]
    }
   ],
   "source": [
    "print(\"Files in crops target directory:\")\n",
    "print(tgt_dir_nearest)\n",
    "print(('\\n'.join(os.listdir(tgt_dir_nearest + '/' + side + 'crops'))))"
   ]
  },
  {
   "cell_type": "code",
   "execution_count": 66,
   "metadata": {},
   "outputs": [
    {
     "name": "stdout",
     "output_type": "stream",
     "text": [
      "tgt_json_file =  /host/volatile/jc225751/Runs/30_clean_deep_folding/Program/deep_folding/data/target/crops/nearest/Ldataset.json \n",
      "\n",
      "{\n",
      "    \"bbmax\": [\n",
      "        156,\n",
      "        170,\n",
      "        109,\n",
      "        1\n",
      "    ],\n",
      "    \"bbmin\": [\n",
      "        130,\n",
      "        151,\n",
      "        61,\n",
      "        0\n",
      "    ],\n",
      "    \"bbox_dir\": \"/neurospin/dico/data/deep_folding/current/bbox\",\n",
      "    \"combine_type\": false,\n",
      "    \"cropped_dir\": \"/host/volatile/jc225751/Runs/30_clean_deep_folding/Program/deep_folding/data/target/crops/nearest/Lcrops\",\n",
      "    \"date\": \"2022-01-12 15:39:25\",\n",
      "    \"git_sha\": \"9ffedd2c4ad4d6c51ff726d7bf9940fa22e2d321\",\n",
      "    \"interp\": \"nearest\",\n",
      "    \"is_git\": true,\n",
      "    \"list_sulci\": [\n",
      "        \"S.T.s.ter.asc.ant._left\"\n",
      "    ],\n",
      "    \"mask_dir\": \"/host/volatile/jc225751/Runs/30_clean_deep_folding/Program/deep_folding/data/reference/mask\",\n",
      "    \"nb_subjects\": 1,\n",
      "    \"out_voxel_size\": [\n",
      "        1,\n",
      "        1,\n",
      "        1\n",
      "    ],\n",
      "    \"repo_working_dir\": \"/host/volatile/jc225751/Runs/30_clean_deep_folding/Program/deep_folding\",\n",
      "    \"resampling_type\": \"AimsApplyTransform\",\n",
      "    \"side\": \"L\",\n",
      "    \"src_dir\": \"/host/volatile/jc225751/Runs/30_clean_deep_folding/Program/deep_folding/data/source/unsupervised\",\n",
      "    \"tgt_dir\": \"/host/volatile/jc225751/Runs/30_clean_deep_folding/Program/deep_folding/data/target/crops/nearest\",\n",
      "    \"timestamp\": 1641998365.6432238\n",
      "}\n"
     ]
    }
   ],
   "source": [
    "tgt_json_file = glob.glob(tgt_dir_nearest + '/*.json')[0]\n",
    "print(\"tgt_json_file = \", tgt_json_file, '\\n')\n",
    "with open(os.path.join(tgt_dir_nearest, tgt_json_file), 'r') as f:\n",
    "    data_tgt = json.load(f)\n",
    "    print((json.dumps(data_tgt, sort_keys=True, indent=4)))"
   ]
  },
  {
   "cell_type": "markdown",
   "metadata": {},
   "source": [
    "Obtained output (we read the cropped file from the target directory):"
   ]
  },
  {
   "cell_type": "code",
   "execution_count": 67,
   "metadata": {},
   "outputs": [
    {
     "name": "stdout",
     "output_type": "stream",
     "text": [
      "shape of target cropped image =  (1, 49, 20, 27)\n"
     ]
    }
   ],
   "source": [
    "# Gets target crop as numpy array\n",
    "cropped_target_dir = os.path.join(tgt_dir_nearest, side+'crops')\n",
    "vol_target_file = glob.glob(cropped_target_dir + '/' + '*.nii.gz')\n",
    "vol_target = aims.read(vol_target_file[0])\n",
    "arr_target = vol_target.arraydata()\n",
    "print(\"shape of target cropped image = \", arr_target.shape)"
   ]
  },
  {
   "cell_type": "code",
   "execution_count": 68,
   "metadata": {},
   "outputs": [
    {
     "data": {
      "text/plain": [
       "array([ 0, 30, 60], dtype=int16)"
      ]
     },
     "execution_count": 68,
     "metadata": {},
     "output_type": "execute_result"
    }
   ],
   "source": [
    "np.unique(arr_target)"
   ]
  },
  {
   "cell_type": "markdown",
   "metadata": {},
   "source": [
    "The scope here is to compare the different numbers present on the target array and on the source array:"
   ]
  },
  {
   "cell_type": "code",
   "execution_count": 69,
   "metadata": {},
   "outputs": [
    {
     "data": {
      "text/plain": [
       "0     99.9\n",
       "60     0.1\n",
       "30     0.0\n",
       "dtype: float64"
      ]
     },
     "execution_count": 69,
     "metadata": {},
     "output_type": "execute_result"
    }
   ],
   "source": [
    "np.around(pd.value_counts(np.resize(arr_target, arr_target.size))/arr_target.size*100, 1)"
   ]
  },
  {
   "cell_type": "code",
   "execution_count": 70,
   "metadata": {},
   "outputs": [
    {
     "data": {
      "text/plain": [
       "11    89.6\n",
       "0      9.6\n",
       "60     0.8\n",
       "30     0.0\n",
       "80     0.0\n",
       "40     0.0\n",
       "10     0.0\n",
       "dtype: float64"
      ]
     },
     "execution_count": 70,
     "metadata": {},
     "output_type": "execute_result"
    }
   ],
   "source": [
    "np.around(pd.value_counts(np.resize(arr_source, arr_source.size))/arr_source.size*100, 1)"
   ]
  },
  {
   "cell_type": "markdown",
   "metadata": {},
   "source": [
    "### Visualization"
   ]
  },
  {
   "cell_type": "code",
   "execution_count": 71,
   "metadata": {},
   "outputs": [
    {
     "name": "stdout",
     "output_type": "stream",
     "text": [
      "Files in crops nearest target directory:\n",
      "100206_normalized.nii.gz\n",
      "100206_normalized.nii.gz.minf\n"
     ]
    }
   ],
   "source": [
    "print(\"Files in crops nearest target directory:\")\n",
    "print(('\\n'.join(os.listdir(tgt_dir_nearest + '/' + side + 'crops'))))"
   ]
  },
  {
   "cell_type": "code",
   "execution_count": 72,
   "metadata": {},
   "outputs": [
    {
     "name": "stdout",
     "output_type": "stream",
     "text": [
      "/host/volatile/jc225751/Runs/30_clean_deep_folding/Program/deep_folding/data/target/crops/nearest/Lcrops/100206_normalized.nii.gz\n"
     ]
    }
   ],
   "source": [
    "target_file_dir = tgt_dir_nearest + '/' + side + 'crops'\n",
    "target_file_nearest = glob.glob(target_file_dir + \"/*.nii.gz\")[0]\n",
    "print(target_file_nearest)"
   ]
  },
  {
   "cell_type": "code",
   "execution_count": 73,
   "metadata": {},
   "outputs": [
    {
     "data": {
      "application/vnd.jupyter.widget-view+json": {
       "model_id": "5c93f59336824dc08d6f686a97bd2f6b",
       "version_major": 2,
       "version_minor": 0
      },
      "text/plain": [
       "AnatomistInteractiveWidget(height=479, layout=Layout(height='auto', width='auto'), width=424)"
      ]
     },
     "metadata": {},
     "output_type": "display_data"
    }
   ],
   "source": [
    "# load source skeleton data (the SliceableObject)\n",
    "object_anat = a.loadObject(target_file_nearest)\n",
    "\n",
    "# create an Axial window in anatomist\n",
    "w = a.createWindow('Axial')\n",
    "w.addObjects(object_anat)"
   ]
  },
  {
   "cell_type": "code",
   "execution_count": 75,
   "metadata": {},
   "outputs": [
    {
     "name": "stdout",
     "output_type": "stream",
     "text": [
      "/host/volatile/jc225751/Runs/30_clean_deep_folding/Program/deep_folding/data/source/unsupervised/ANALYSIS/3T_morphologist/100206/t1mri/default_acquisition/default_analysis/segmentation/Lskeleton_100206.nii.gz\n",
      "<anatomist.cpp.anatomist.SliceableObject object at 0x7f142785d798>\n"
     ]
    },
    {
     "data": {
      "application/vnd.jupyter.widget-view+json": {
       "model_id": "067fd09265c34fa0a3341d4f0c791bc8",
       "version_major": 2,
       "version_minor": 0
      },
      "text/plain": [
       "AnatomistInteractiveWidget(height=479, layout=Layout(height='auto', width='auto'), width=424)"
      ]
     },
     "metadata": {},
     "output_type": "display_data"
    }
   ],
   "source": [
    "print(vol_source_file)\n",
    "# load source skeleton data (the SliceableObject)\n",
    "a_source = a.loadObject(vol_source_file)\n",
    "print(a_source)\n",
    "# create an Axial window in anatomist\n",
    "w1 = a.createWindow(\"Axial\")\n",
    "w1.addObjects(a_source)"
   ]
  },
  {
   "cell_type": "code",
   "execution_count": null,
   "metadata": {},
   "outputs": [],
   "source": []
  },
  {
   "cell_type": "code",
   "execution_count": null,
   "metadata": {},
   "outputs": [],
   "source": []
  }
 ],
 "metadata": {
  "kernelspec": {
   "display_name": "Run_30_python3",
   "language": "python",
   "name": "run_30_python3"
  },
  "language_info": {
   "codemirror_mode": {
    "name": "ipython",
    "version": 3
   },
   "file_extension": ".py",
   "mimetype": "text/x-python",
   "name": "python",
   "nbconvert_exporter": "python",
   "pygments_lexer": "ipython3",
   "version": "3.6.9"
  }
 },
 "nbformat": 4,
 "nbformat_minor": 2
}
