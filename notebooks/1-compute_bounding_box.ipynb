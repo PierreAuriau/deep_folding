{
 "cells": [
  {
   "cell_type": "markdown",
   "metadata": {},
   "source": [
    "# Determines bounding boxes for each sulcus"
   ]
  },
  {
   "cell_type": "markdown",
   "metadata": {},
   "source": [
    "This notebook determines bounding box around a sulcus. It uses a supervised database, in which each sulcus has been manually labelled.\n",
    "\n",
    "The notebook illustrates the different ways in which the program can be called:"
   ]
  },
  {
   "cell_type": "markdown",
   "metadata": {},
   "source": [
    "# Imports"
   ]
  },
  {
   "cell_type": "code",
   "execution_count": 11,
   "metadata": {},
   "outputs": [],
   "source": [
    "import sys\n",
    "import os\n",
    "import json\n",
    "import inspect"
   ]
  },
  {
   "cell_type": "markdown",
   "metadata": {},
   "source": [
    "The following line permits to import deep_folding even if this notebook is executed from the notebooks subfolder (and no install has been launched):\n",
    "\n",
    " /deep_folding/__init__.py"
   ]
  },
  {
   "cell_type": "code",
   "execution_count": 12,
   "metadata": {},
   "outputs": [
    {
     "name": "stdout",
     "output_type": "stream",
     "text": [
      "/neurospin/dico/jchavas/Runs/32_deep_folding_foldlabel_clean/Program/deep_folding/deep_folding/__init__.py\n"
     ]
    }
   ],
   "source": [
    "# Adds this in case you have not launched pip install -e . (not recommended)\n",
    "# sys.path.append((os.path.abspath('../')))\n",
    "import deep_folding\n",
    "print(inspect.getfile(deep_folding))\n",
    "\n",
    "from deep_folding.brainvisa.utils.constants import _ALL_SUBJECTS"
   ]
  },
  {
   "cell_type": "markdown",
   "metadata": {},
   "source": [
    "# User-specific variables"
   ]
  },
  {
   "cell_type": "code",
   "execution_count": 13,
   "metadata": {},
   "outputs": [],
   "source": [
    "sulcus = 'S.T.s.ter.asc.ant.'"
   ]
  },
  {
   "cell_type": "code",
   "execution_count": 14,
   "metadata": {},
   "outputs": [],
   "source": [
    "side = 'L'"
   ]
  },
  {
   "cell_type": "code",
   "execution_count": 15,
   "metadata": {},
   "outputs": [],
   "source": [
    "out_voxel_size = 1"
   ]
  },
  {
   "cell_type": "markdown",
   "metadata": {},
   "source": [
    "We now assign path names and other user-specific variables."
   ]
  },
  {
   "cell_type": "markdown",
   "metadata": {},
   "source": [
    "The source directory is where the database lies. It contains the morphologist analysis subfolder ANALYSIS/3T_morphologist\n"
   ]
  },
  {
   "cell_type": "code",
   "execution_count": 16,
   "metadata": {},
   "outputs": [
    {
     "name": "stdout",
     "output_type": "stream",
     "text": [
      "src_dir = /neurospin/dico/jchavas/Runs/32_deep_folding_foldlabel_clean/Program/deep_folding/data/source/supervised\n"
     ]
    }
   ],
   "source": [
    "src_dir = os.path.join(os.getcwd(), '../data/source/supervised')\n",
    "src_dir = os.path.abspath(src_dir)\n",
    "print((\"src_dir = \" + src_dir))"
   ]
  },
  {
   "cell_type": "markdown",
   "metadata": {},
   "source": [
    "The target directory bbox_dir is where the files will be saved"
   ]
  },
  {
   "cell_type": "code",
   "execution_count": 17,
   "metadata": {},
   "outputs": [
    {
     "name": "stdout",
     "output_type": "stream",
     "text": [
      "bbox_dir = /neurospin/dico/jchavas/Runs/32_deep_folding_foldlabel_clean/Program/deep_folding/data/target/bbox\n"
     ]
    }
   ],
   "source": [
    "bbox_dir = os.path.join(os.getcwd(), '../data/target/bbox')\n",
    "bbox_dir = os.path.abspath(bbox_dir)\n",
    "print((\"bbox_dir = \" + bbox_dir))"
   ]
  },
  {
   "cell_type": "code",
   "execution_count": 18,
   "metadata": {},
   "outputs": [
    {
     "name": "stdout",
     "output_type": "stream",
     "text": [
      "ref_dir = /neurospin/dico/jchavas/Runs/32_deep_folding_foldlabel_clean/Program/deep_folding/data/reference/bbox\n"
     ]
    }
   ],
   "source": [
    "ref_dir = os.path.join(os.getcwd(), '../data/reference/bbox')\n",
    "ref_dir = os.path.abspath(ref_dir)\n",
    "print((\"ref_dir = \" + ref_dir))"
   ]
  },
  {
   "cell_type": "code",
   "execution_count": 19,
   "metadata": {},
   "outputs": [
    {
     "name": "stdout",
     "output_type": "stream",
     "text": [
      "['/usr/local/lib/python3.6/dist-packages/ipykernel_launcher.py', '-f', '/casa/home/.local/share/jupyter/runtime/kernel-7b1fce56-ab7b-45d7-9231-fd0507309386.json']\n"
     ]
    }
   ],
   "source": [
    "print((sys.argv))"
   ]
  },
  {
   "cell_type": "markdown",
   "metadata": {},
   "source": [
    "# Illustration of main program uses"
   ]
  },
  {
   "cell_type": "markdown",
   "metadata": {},
   "source": [
    "We will first use the program with no effect by using number of subjects set to 0, or by calling the help function"
   ]
  },
  {
   "cell_type": "markdown",
   "metadata": {},
   "source": [
    "### Using external calls"
   ]
  },
  {
   "cell_type": "code",
   "execution_count": 20,
   "metadata": {},
   "outputs": [
    {
     "name": "stdout",
     "output_type": "stream",
     "text": [
      "\r\n",
      "Log written to:\r\n",
      "test/bbox/1mm/R/log_F.C.M.ant._right.log\r\n",
      "\r\n",
      "\r\n",
      "Bash command:\r\n",
      "$ python3 compute_bounding_box.py --src_dir /neurospin/dico/data/bv_databases/human/pclean/all --output_dir test/bbox/1mm --sulcus F.C.M.ant. --side R --path_to_graph t1mri/t1/default_analysis/folds/3.3/base2018_manual --nb_subjects 0 --out_voxel_size 1.0\r\n",
      "\r\n"
     ]
    }
   ],
   "source": [
    "!python3 ../deep_folding/brainvisa/compute_bounding_box.py -n 0"
   ]
  },
  {
   "cell_type": "code",
   "execution_count": 21,
   "metadata": {},
   "outputs": [
    {
     "name": "stdout",
     "output_type": "stream",
     "text": [
      "usage: compute_bounding_box.py [-h] [-s SRC_DIR [SRC_DIR ...]] [-o OUTPUT_DIR]\r\n",
      "                               [-u SULCUS] [-w NEW_SULCUS] [-i SIDE]\r\n",
      "                               [-p PATH_TO_GRAPH] [-n NB_SUBJECTS] [-v]\r\n",
      "                               [-x OUT_VOXEL_SIZE]\r\n",
      "\r\n",
      "Computes bounding box around the named sulcus\r\n",
      "\r\n",
      "optional arguments:\r\n",
      "  -h, --help            show this help message and exit\r\n",
      "  -s SRC_DIR [SRC_DIR ...], --src_dir SRC_DIR [SRC_DIR ...]\r\n",
      "                        Source directory where the MRI data lies. If there are\r\n",
      "                        several directories, add all directories one after the\r\n",
      "                        other. Example: -s DIR_1 DIR_2. Default is :\r\n",
      "                        /neurospin/dico/data/bv_databases/human/pclean/all\r\n",
      "  -o OUTPUT_DIR, --output_dir OUTPUT_DIR\r\n",
      "                        Output directory where to store the output bbox json\r\n",
      "                        files. Default is : test/bbox/1mm\r\n",
      "  -u SULCUS, --sulcus SULCUS\r\n",
      "                        Sulcus name around which we determine the bounding\r\n",
      "                        box. Default is : F.C.M.ant.\r\n",
      "  -w NEW_SULCUS, --new_sulcus NEW_SULCUS\r\n",
      "                        Sulcus name around which we determine the bounding\r\n",
      "                        box. Default is : None (same name as 'sulcus')\r\n",
      "  -i SIDE, --side SIDE  Hemisphere side. Default is : R\r\n",
      "  -p PATH_TO_GRAPH, --path_to_graph PATH_TO_GRAPH\r\n",
      "                        Relative path to manually labelled graph. Default is\r\n",
      "                        t1mri/t1/default_analysis/folds/3.3/base2018_manual\r\n",
      "  -n NB_SUBJECTS, --nb_subjects NB_SUBJECTS\r\n",
      "                        Number of subjects to take into account, or 'all'. 0\r\n",
      "                        subject is allowed, for debug purpose. Default is :\r\n",
      "                        all\r\n",
      "  -v, --verbose         Verbose mode: If no option is provided then\r\n",
      "                        logging.INFO is selected. If one option -v (or -vv) or\r\n",
      "                        more is provided then logging.DEBUG is selected.\r\n",
      "  -x OUT_VOXEL_SIZE, --out_voxel_size OUT_VOXEL_SIZE\r\n",
      "                        Voxel size of bounding box. Default is : None\r\n"
     ]
    }
   ],
   "source": [
    "!python3 ../deep_folding/brainvisa/compute_bounding_box.py --help"
   ]
  },
  {
   "cell_type": "markdown",
   "metadata": {},
   "source": [
    "### By using the main function call"
   ]
  },
  {
   "cell_type": "code",
   "execution_count": 22,
   "metadata": {},
   "outputs": [
    {
     "name": "stdout",
     "output_type": "stream",
     "text": [
      "/neurospin/dico/jchavas/Runs/32_deep_folding_foldlabel_clean/Program/deep_folding/deep_folding/brainvisa/compute_bounding_box.py\n"
     ]
    }
   ],
   "source": [
    "from deep_folding.brainvisa import compute_bounding_box\n",
    "print(inspect.getfile(compute_bounding_box))"
   ]
  },
  {
   "cell_type": "code",
   "execution_count": 23,
   "metadata": {},
   "outputs": [],
   "source": [
    "args = \"-n 0\"\n",
    "argv = args.split(' ')"
   ]
  },
  {
   "cell_type": "code",
   "execution_count": 24,
   "metadata": {},
   "outputs": [
    {
     "name": "stderr",
     "output_type": "stream",
     "text": [
      "\n",
      "Log written to:\n",
      "test/bbox/1mm/R/log_F.C.M.ant._right.log\n",
      "\n",
      "\n",
      "Bash command:\n",
      "$ python3 compute_bounding_box.py --src_dir /neurospin/dico/data/bv_databases/human/pclean/all --output_dir test/bbox/1mm --sulcus F.C.M.ant. --side R --path_to_graph t1mri/t1/default_analysis/folds/3.3/base2018_manual --nb_subjects 0 --out_voxel_size 1.0\n",
      "\n"
     ]
    }
   ],
   "source": [
    "compute_bounding_box.main(argv)"
   ]
  },
  {
   "cell_type": "code",
   "execution_count": 25,
   "metadata": {},
   "outputs": [],
   "source": [
    "args = \"--help\"\n",
    "argv = args.split(' ')"
   ]
  },
  {
   "cell_type": "code",
   "execution_count": 26,
   "metadata": {},
   "outputs": [
    {
     "name": "stdout",
     "output_type": "stream",
     "text": [
      "usage: compute_bounding_box.py [-h] [-s SRC_DIR [SRC_DIR ...]] [-o OUTPUT_DIR]\n",
      "                               [-u SULCUS] [-w NEW_SULCUS] [-i SIDE]\n",
      "                               [-p PATH_TO_GRAPH] [-n NB_SUBJECTS] [-v]\n",
      "                               [-x OUT_VOXEL_SIZE]\n",
      "\n",
      "Computes bounding box around the named sulcus\n",
      "\n",
      "optional arguments:\n",
      "  -h, --help            show this help message and exit\n",
      "  -s SRC_DIR [SRC_DIR ...], --src_dir SRC_DIR [SRC_DIR ...]\n",
      "                        Source directory where the MRI data lies. If there are\n",
      "                        several directories, add all directories one after the\n",
      "                        other. Example: -s DIR_1 DIR_2. Default is :\n",
      "                        /neurospin/dico/data/bv_databases/human/pclean/all\n",
      "  -o OUTPUT_DIR, --output_dir OUTPUT_DIR\n",
      "                        Output directory where to store the output bbox json\n",
      "                        files. Default is : test/bbox/1mm\n",
      "  -u SULCUS, --sulcus SULCUS\n",
      "                        Sulcus name around which we determine the bounding\n",
      "                        box. Default is : F.C.M.ant.\n",
      "  -w NEW_SULCUS, --new_sulcus NEW_SULCUS\n",
      "                        Sulcus name around which we determine the bounding\n",
      "                        box. Default is : None (same name as 'sulcus')\n",
      "  -i SIDE, --side SIDE  Hemisphere side. Default is : R\n",
      "  -p PATH_TO_GRAPH, --path_to_graph PATH_TO_GRAPH\n",
      "                        Relative path to manually labelled graph. Default is\n",
      "                        t1mri/t1/default_analysis/folds/3.3/base2018_manual\n",
      "  -n NB_SUBJECTS, --nb_subjects NB_SUBJECTS\n",
      "                        Number of subjects to take into account, or 'all'. 0\n",
      "                        subject is allowed, for debug purpose. Default is :\n",
      "                        all\n",
      "  -v, --verbose         Verbose mode: If no option is provided then\n",
      "                        logging.INFO is selected. If one option -v (or -vv) or\n",
      "                        more is provided then logging.DEBUG is selected.\n",
      "  -x OUT_VOXEL_SIZE, --out_voxel_size OUT_VOXEL_SIZE\n",
      "                        Voxel size of bounding box. Default is : None\n"
     ]
    }
   ],
   "source": [
    "compute_bounding_box.main(argv)"
   ]
  },
  {
   "cell_type": "markdown",
   "metadata": {},
   "source": [
    "### By using the API function call"
   ]
  },
  {
   "cell_type": "code",
   "execution_count": 27,
   "metadata": {},
   "outputs": [
    {
     "data": {
      "text/plain": [
       "(0, 0)"
      ]
     },
     "execution_count": 27,
     "metadata": {},
     "output_type": "execute_result"
    }
   ],
   "source": [
    "compute_bounding_box.compute_bounding_box(src_dir=src_dir,\n",
    "                                          bbox_dir=bbox_dir,\n",
    "                                          sulcus=sulcus,\n",
    "                                          side=side,\n",
    "                                          out_voxel_size=out_voxel_size,\n",
    "                                          number_subjects=0)\n"
   ]
  },
  {
   "cell_type": "markdown",
   "metadata": {},
   "source": [
    "# Test example"
   ]
  },
  {
   "cell_type": "code",
   "execution_count": 28,
   "metadata": {},
   "outputs": [
    {
     "name": "stderr",
     "output_type": "stream",
     "text": [
      "INFO:compute_bounding_box.py: {'subject': 'sujet01', 'side': 'L', 'dir': '/neurospin/dico/jchavas/Runs/32_deep_folding_foldlabel_clean/Program/deep_folding/data/source/supervised', 'graph_file': 'sujet01/t1mri/t1/default_analysis/folds/3.3/base2018_manual/Lsujet01*.arg'}\n"
     ]
    },
    {
     "data": {
      "text/plain": [
       "(array([130, 151,  61]), array([155, 169, 108]))"
      ]
     },
     "execution_count": 28,
     "metadata": {},
     "output_type": "execute_result"
    }
   ],
   "source": [
    "compute_bounding_box.compute_bounding_box(src_dir=src_dir,\n",
    "                                          bbox_dir=bbox_dir,\n",
    "                                          sulcus=sulcus,\n",
    "                                          side=side,\n",
    "                                          number_subjects=_ALL_SUBJECTS,\n",
    "                                          out_voxel_size=out_voxel_size)\n"
   ]
  },
  {
   "cell_type": "markdown",
   "metadata": {},
   "source": [
    "# Result analysis"
   ]
  },
  {
   "cell_type": "markdown",
   "metadata": {},
   "source": [
    "Prints the list of files of the target directory"
   ]
  },
  {
   "cell_type": "code",
   "execution_count": 29,
   "metadata": {},
   "outputs": [
    {
     "name": "stdout",
     "output_type": "stream",
     "text": [
      "S.T.s.ter.asc.ant._left.json\n"
     ]
    }
   ],
   "source": [
    "bbox_dir_side = os.path.join(bbox_dir, side)\n",
    "print(('\\n'.join(os.listdir(bbox_dir_side))))"
   ]
  },
  {
   "cell_type": "markdown",
   "metadata": {},
   "source": [
    "Expected output (we read the bounding_box file from the reference directory):"
   ]
  },
  {
   "cell_type": "code",
   "execution_count": 30,
   "metadata": {},
   "outputs": [
    {
     "name": "stdout",
     "output_type": "stream",
     "text": [
      "ref_file =  S.T.s.ter.asc.ant._left.json \n",
      "\n",
      "{\n",
      "    \"bbmax_AIMS_Talairach\": [\n",
      "        60.66335687670315,\n",
      "        75.71952983264742,\n",
      "        -4.598121985840422\n",
      "    ],\n",
      "    \"bbmax_MNI152\": [\n",
      "        154.77748948253384,\n",
      "        168.99963329321318,\n",
      "        107.75398867525428\n",
      "    ],\n",
      "    \"bbmax_voxel\": [\n",
      "        155,\n",
      "        169,\n",
      "        108\n",
      "    ],\n",
      "    \"bbmin_AIMS_Talairach\": [\n",
      "        34.063088432523074,\n",
      "        61.7344393738619,\n",
      "        -54.79035146878189\n",
      "    ],\n",
      "    \"bbmin_MNI152\": [\n",
      "        129.86412144733617,\n",
      "        151.3616518724251,\n",
      "        60.714083900903006\n",
      "    ],\n",
      "    \"bbmin_voxel\": [\n",
      "        130,\n",
      "        151,\n",
      "        61\n",
      "    ],\n",
      "    \"bbox_dir\": \"/host/volatile/jc225751/Runs/30_clean_deep_folding/Program/deep_folding/data/target/bbox\",\n",
      "    \"date\": \"2022-01-12 11:11:54\",\n",
      "    \"git_sha\": \"d6adf051fa8eab17cc2be3942ad05e4e15341cb8\",\n",
      "    \"is_git\": true,\n",
      "    \"nb_subjects\": 1,\n",
      "    \"out_voxel_size\": 1,\n",
      "    \"repo_working_dir\": \"/host/volatile/jc225751/Runs/30_clean_deep_folding/Program/deep_folding\",\n",
      "    \"side\": \"L\",\n",
      "    \"src_dir\": [\n",
      "        \"/host/volatile/jc225751/Runs/30_clean_deep_folding/Program/deep_folding/data/source/supervised\"\n",
      "    ],\n",
      "    \"sulcus\": \"S.T.s.ter.asc.ant._left\",\n",
      "    \"timestamp\": 1641982314.3755722\n",
      "}\n"
     ]
    }
   ],
   "source": [
    "ref_dir_side = os.path.join(ref_dir, side)\n",
    "ref_file = os.listdir(ref_dir_side)[0]\n",
    "print(\"ref_file = \", ref_file, '\\n')\n",
    "with open(os.path.join(ref_dir_side,ref_file), 'r') as f:\n",
    "    data_ref = json.load(f)\n",
    "    print((json.dumps(data_ref, sort_keys=True, indent=4)))\n",
    "    box_ref = {k: data_ref[k] for k in ('bbmin_voxel', 'bbmax_voxel', 'bbmin_MNI152', 'bbmax_MNI152', 'bbmin_AIMS_Talairach', 'bbmax_AIMS_Talairach')}"
   ]
  },
  {
   "cell_type": "markdown",
   "metadata": {},
   "source": [
    "Obtained output (we read the bounding_box file from the target directory):"
   ]
  },
  {
   "cell_type": "code",
   "execution_count": 31,
   "metadata": {
    "scrolled": true
   },
   "outputs": [
    {
     "name": "stdout",
     "output_type": "stream",
     "text": [
      "bbox_file =  S.T.s.ter.asc.ant._left.json \n",
      "\n",
      "{\n",
      "    \"bbmax_AIMS_Talairach\": [\n",
      "        60.66335687670315,\n",
      "        75.71952983264742,\n",
      "        -4.598121985840422\n",
      "    ],\n",
      "    \"bbmax_MNI152\": [\n",
      "        154.77748948253384,\n",
      "        168.99963329321318,\n",
      "        107.75398867525428\n",
      "    ],\n",
      "    \"bbmax_voxel\": [\n",
      "        155,\n",
      "        169,\n",
      "        108\n",
      "    ],\n",
      "    \"bbmin_AIMS_Talairach\": [\n",
      "        34.063088432523074,\n",
      "        61.7344393738619,\n",
      "        -54.79035146878189\n",
      "    ],\n",
      "    \"bbmin_MNI152\": [\n",
      "        129.86412144733617,\n",
      "        151.3616518724251,\n",
      "        60.714083900903006\n",
      "    ],\n",
      "    \"bbmin_voxel\": [\n",
      "        130,\n",
      "        151,\n",
      "        61\n",
      "    ],\n",
      "    \"bbox_dir\": \"/neurospin/dico/jchavas/Runs/32_deep_folding_foldlabel_clean/Program/deep_folding/data/target/bbox\",\n",
      "    \"date\": \"2022-03-16 08:55:37\",\n",
      "    \"git_sha\": \"3466ae4877119fc6f44e19feb131e6ef5197b3de\",\n",
      "    \"is_git\": true,\n",
      "    \"nb_subjects\": 1,\n",
      "    \"new_sulcus\": \"S.T.s.ter.asc.ant._left\",\n",
      "    \"out_voxel_size\": 1,\n",
      "    \"repo_working_dir\": \"/neurospin/dico/jchavas/Runs/32_deep_folding_foldlabel_clean/Program/deep_folding\",\n",
      "    \"side\": \"L\",\n",
      "    \"src_dir\": [\n",
      "        \"/neurospin/dico/jchavas/Runs/32_deep_folding_foldlabel_clean/Program/deep_folding/data/source/supervised\"\n",
      "    ],\n",
      "    \"sulcus\": \"S.T.s.ter.asc.ant._left\",\n",
      "    \"timestamp\": 1647417337.9099438\n",
      "}\n"
     ]
    }
   ],
   "source": [
    "bbox_file = os.listdir(bbox_dir_side)[0]\n",
    "print(\"bbox_file = \", bbox_file, '\\n')\n",
    "with open(os.path.join(bbox_dir_side,bbox_file), 'r') as f:\n",
    "    data_target = json.load(f)\n",
    "    print((json.dumps(data_target, sort_keys=True, indent=4)))\n",
    "    box_target = {k: data_target[k] for k in ('bbmin_voxel', 'bbmax_voxel', 'bbmin_MNI152', 'bbmax_MNI152', 'bbmin_AIMS_Talairach', 'bbmax_AIMS_Talairach')}"
   ]
  },
  {
   "cell_type": "code",
   "execution_count": 32,
   "metadata": {},
   "outputs": [
    {
     "data": {
      "text/plain": [
       "{'bbmin_voxel': [130, 151, 61],\n",
       " 'bbmax_voxel': [155, 169, 108],\n",
       " 'bbmin_MNI152': [129.86412144733617, 151.3616518724251, 60.714083900903006],\n",
       " 'bbmax_MNI152': [154.77748948253384, 168.99963329321318, 107.75398867525428],\n",
       " 'bbmin_AIMS_Talairach': [34.063088432523074,\n",
       "  61.7344393738619,\n",
       "  -54.79035146878189],\n",
       " 'bbmax_AIMS_Talairach': [60.66335687670315,\n",
       "  75.71952983264742,\n",
       "  -4.598121985840422]}"
      ]
     },
     "execution_count": 32,
     "metadata": {},
     "output_type": "execute_result"
    }
   ],
   "source": [
    "box_ref"
   ]
  },
  {
   "cell_type": "code",
   "execution_count": 33,
   "metadata": {},
   "outputs": [
    {
     "data": {
      "text/plain": [
       "{'bbmin_voxel': [130, 151, 61],\n",
       " 'bbmax_voxel': [155, 169, 108],\n",
       " 'bbmin_MNI152': [129.86412144733617, 151.3616518724251, 60.714083900903006],\n",
       " 'bbmax_MNI152': [154.77748948253384, 168.99963329321318, 107.75398867525428],\n",
       " 'bbmin_AIMS_Talairach': [34.063088432523074,\n",
       "  61.7344393738619,\n",
       "  -54.79035146878189],\n",
       " 'bbmax_AIMS_Talairach': [60.66335687670315,\n",
       "  75.71952983264742,\n",
       "  -4.598121985840422]}"
      ]
     },
     "execution_count": 33,
     "metadata": {},
     "output_type": "execute_result"
    }
   ],
   "source": [
    "box_target"
   ]
  },
  {
   "cell_type": "code",
   "execution_count": 34,
   "metadata": {},
   "outputs": [
    {
     "data": {
      "text/plain": [
       "True"
      ]
     },
     "execution_count": 34,
     "metadata": {},
     "output_type": "execute_result"
    }
   ],
   "source": [
    "box_target == box_ref"
   ]
  },
  {
   "cell_type": "code",
   "execution_count": null,
   "metadata": {},
   "outputs": [],
   "source": []
  },
  {
   "cell_type": "code",
   "execution_count": null,
   "metadata": {},
   "outputs": [],
   "source": []
  }
 ],
 "metadata": {
  "interpreter": {
   "hash": "1102f31c5d7a0ed2fee9a7d4d83b0f1eec82b71260377814a15563cd3d3f7ccf"
  },
  "kernelspec": {
   "display_name": "Python 3",
   "language": "python",
   "name": "python3"
  },
  "language_info": {
   "codemirror_mode": {
    "name": "ipython",
    "version": 3
   },
   "file_extension": ".py",
   "mimetype": "text/x-python",
   "name": "python",
   "nbconvert_exporter": "python",
   "pygments_lexer": "ipython3",
   "version": "3.6.9"
  },
  "metadata": {
   "interpreter": {
    "hash": "48b4ceb43fcd227fa9631603fe4213f72a454aacd235a8d4a85c8c2d31727ea2"
   }
  }
 },
 "nbformat": 4,
 "nbformat_minor": 2
}
